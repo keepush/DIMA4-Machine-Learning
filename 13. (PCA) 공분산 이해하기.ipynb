{
 "cells": [
  {
   "cell_type": "markdown",
   "id": "2f0f0e6c-1bae-49f5-84a0-62670c4407b7",
   "metadata": {},
   "source": [
    "# 육상선수 종목별 기록 데이터"
   ]
  },
  {
   "cell_type": "code",
   "execution_count": 1,
   "id": "352be3b9-0587-4223-b7a2-f0db2f1e3437",
   "metadata": {},
   "outputs": [],
   "source": [
    "import numpy as np\n",
    "\n",
    "A = np.array([\n",
    "              [3.73, 1.86, 15.8, 4.05, 7.27, 45.66, 34.92 ],\n",
    "              [3.57, 1.80, 16.23, 2.96, 6.71, 42.56, 37.31],\n",
    "              [3.22, 1.83, 14.20, 3.51, 6.68, 44.54, 39.23],\n",
    "              [2.81, 1.80, 15.23, 2.69, 6.25, 42.78, 31.19],\n",
    "              [2.91, 1.74, 14.76, 2.68, 6.32, 47.46, 35.53],\n",
    "              [2.67, 1.83, 13.50, 1.96, 6.33, 42.82, 37.64]\n",
    "])"
   ]
  },
  {
   "cell_type": "markdown",
   "id": "acf39750-5df9-4889-9974-ccd112772056",
   "metadata": {},
   "source": [
    "# 허들 종목(0번 컬럼) 기록 데이터 통계지표"
   ]
  },
  {
   "cell_type": "code",
   "execution_count": 5,
   "id": "eff2b04e-26aa-41bd-a9a7-e3cebf390701",
   "metadata": {},
   "outputs": [
    {
     "name": "stdout",
     "output_type": "stream",
     "text": [
      "허들 종목 기록 데이터\n",
      "[3.73 3.57 3.22 2.81 2.91 2.67]\n",
      "평균:3.152\n",
      "분산:0.184\n",
      "표준편차:0.392\n"
     ]
    }
   ],
   "source": [
    "print('허들 종목 기록 데이터')\n",
    "hurdles = A[:,0]\n",
    "print(hurdles)\n",
    "print(f'평균:{np.mean(hurdles):.3f}')\n",
    "print(f'분산:{np.var(hurdles, ddof=1):.3f}')   # ddof = 자유도\n",
    "print(f'표준편차:{np.std(hurdles):.3f}')"
   ]
  },
  {
   "cell_type": "markdown",
   "id": "ef8e7f36-ea76-4598-8cef-423a63e8cca2",
   "metadata": {},
   "source": [
    "# 공분산 행렬"
   ]
  },
  {
   "cell_type": "code",
   "execution_count": 7,
   "id": "bac630d0-cc08-4b9a-afc2-f7514d5ed362",
   "metadata": {},
   "outputs": [],
   "source": [
    "np.set_printoptions(precision=3, suppress=True)  # np 출력 형식 지정"
   ]
  },
  {
   "cell_type": "code",
   "execution_count": 10,
   "id": "f58b03a3-9ecf-427b-a6b9-c1dd4ba203cb",
   "metadata": {},
   "outputs": [
    {
     "name": "stdout",
     "output_type": "stream",
     "text": [
      "[Covarlance Matrix]\n",
      "[[ 0.184  0.007  0.325  0.262  0.151  0.109  0.222]\n",
      " [ 0.007  0.002 -0.001  0.014  0.01  -0.029  0.022]\n",
      " [ 0.325 -0.001  1.028  0.388  0.199 -0.026 -1.06 ]\n",
      " [ 0.262  0.014  0.388  0.528  0.244  0.524  0.078]\n",
      " [ 0.151  0.01   0.199  0.244  0.148  0.157  0.21 ]\n",
      " [ 0.109 -0.029 -0.026  0.524  0.157  3.884  0.085]\n",
      " [ 0.222  0.022 -1.06   0.078  0.21   0.085  7.871]]\n"
     ]
    }
   ],
   "source": [
    "print('[Covarlance Matrix]')\n",
    "# rowvar: True(기본값)인 경우, 행이 변수를 나타내며, 열은 각 변수의 관측치를 나타낸다.\n",
    "B = np.cov(A, rowvar=False)\n",
    "# print(np.round(B, 2))\n",
    "print(B)\n",
    "# 대각행렬 기준으로 좌우가 똑같음"
   ]
  },
  {
   "cell_type": "code",
   "execution_count": 11,
   "id": "b3b60742-9c79-41e4-bfb1-173aaff18a88",
   "metadata": {},
   "outputs": [
    {
     "name": "stdout",
     "output_type": "stream",
     "text": [
      "[[ 0.184  0.007  0.325  0.262  0.151  0.109  0.222]\n",
      " [ 0.007  0.002 -0.001  0.014  0.01  -0.029  0.022]\n",
      " [ 0.325 -0.001  1.028  0.388  0.199 -0.026 -1.06 ]\n",
      " [ 0.262  0.014  0.388  0.528  0.244  0.524  0.078]\n",
      " [ 0.151  0.01   0.199  0.244  0.148  0.157  0.21 ]\n",
      " [ 0.109 -0.029 -0.026  0.524  0.157  3.884  0.085]\n",
      " [ 0.222  0.022 -1.06   0.078  0.21   0.085  7.871]]\n"
     ]
    }
   ],
   "source": [
    "col_mean = np.mean(A, axis=0)\n",
    "A = A - col_mean\n",
    "cov = np.matmul(A.T, A) / (len(A) - 1)\n",
    "print(cov)"
   ]
  }
 ],
 "metadata": {
  "kernelspec": {
   "display_name": "Python 3 (ipykernel)",
   "language": "python",
   "name": "python3"
  },
  "language_info": {
   "codemirror_mode": {
    "name": "ipython",
    "version": 3
   },
   "file_extension": ".py",
   "mimetype": "text/x-python",
   "name": "python",
   "nbconvert_exporter": "python",
   "pygments_lexer": "ipython3",
   "version": "3.11.7"
  }
 },
 "nbformat": 4,
 "nbformat_minor": 5
}
