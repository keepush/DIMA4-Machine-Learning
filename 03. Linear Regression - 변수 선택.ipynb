{
 "cells": [
  {
   "cell_type": "markdown",
   "id": "29f5d9ea-15fb-4513-8bf6-8947c14ae473",
   "metadata": {},
   "source": [
    "# 캘리포니아 집값 예측"
   ]
  },
  {
   "cell_type": "markdown",
   "id": "b5bd18fa-9829-4e10-bfe9-1de7b935c3dc",
   "metadata": {},
   "source": [
    "## 패키지 로딩"
   ]
  },
  {
   "cell_type": "code",
   "execution_count": 1,
   "id": "cebaa3c3-7386-43b2-8941-1223ff2fdfa6",
   "metadata": {},
   "outputs": [],
   "source": [
    "from sklearn.datasets import fetch_california_housing\n",
    "from sklearn.model_selection import train_test_split\n",
    "from sklearn.linear_model import LinearRegression\n",
    "from sklearn.preprocessing import StandardScaler\n",
    "\n",
    "import numpy as np\n",
    "import pandas as pd\n",
    "import seaborn as sns\n",
    "import matplotlib.pyplot as plt"
   ]
  },
  {
   "cell_type": "markdown",
   "id": "239c2f1b-5aba-47b3-b6e8-ff0a00061641",
   "metadata": {},
   "source": [
    "## 데이터 로드 및 확인"
   ]
  },
  {
   "cell_type": "code",
   "execution_count": 2,
   "id": "6811d006-5c6d-4c57-bf34-cbb57088c451",
   "metadata": {},
   "outputs": [],
   "source": [
    "import warnings\n",
    "warnings.filterwarnings(action='ignore')"
   ]
  },
  {
   "cell_type": "code",
   "execution_count": 43,
   "id": "26e8a089-4b33-4392-8b16-fee5ab387c41",
   "metadata": {},
   "outputs": [
    {
     "data": {
      "text/html": [
       "<div>\n",
       "<style scoped>\n",
       "    .dataframe tbody tr th:only-of-type {\n",
       "        vertical-align: middle;\n",
       "    }\n",
       "\n",
       "    .dataframe tbody tr th {\n",
       "        vertical-align: top;\n",
       "    }\n",
       "\n",
       "    .dataframe thead th {\n",
       "        text-align: right;\n",
       "    }\n",
       "</style>\n",
       "<table border=\"1\" class=\"dataframe\">\n",
       "  <thead>\n",
       "    <tr style=\"text-align: right;\">\n",
       "      <th></th>\n",
       "      <th>MedInc</th>\n",
       "      <th>HouseAge</th>\n",
       "      <th>AveRooms</th>\n",
       "      <th>AveBedrms</th>\n",
       "      <th>Population</th>\n",
       "      <th>AveOccup</th>\n",
       "      <th>Latitude</th>\n",
       "      <th>Longitude</th>\n",
       "    </tr>\n",
       "  </thead>\n",
       "  <tbody>\n",
       "    <tr>\n",
       "      <th>0</th>\n",
       "      <td>8.3252</td>\n",
       "      <td>41.0</td>\n",
       "      <td>6.984127</td>\n",
       "      <td>1.023810</td>\n",
       "      <td>322.0</td>\n",
       "      <td>2.555556</td>\n",
       "      <td>37.88</td>\n",
       "      <td>-122.23</td>\n",
       "    </tr>\n",
       "    <tr>\n",
       "      <th>1</th>\n",
       "      <td>8.3014</td>\n",
       "      <td>21.0</td>\n",
       "      <td>6.238137</td>\n",
       "      <td>0.971880</td>\n",
       "      <td>2401.0</td>\n",
       "      <td>2.109842</td>\n",
       "      <td>37.86</td>\n",
       "      <td>-122.22</td>\n",
       "    </tr>\n",
       "    <tr>\n",
       "      <th>2</th>\n",
       "      <td>7.2574</td>\n",
       "      <td>52.0</td>\n",
       "      <td>8.288136</td>\n",
       "      <td>1.073446</td>\n",
       "      <td>496.0</td>\n",
       "      <td>2.802260</td>\n",
       "      <td>37.85</td>\n",
       "      <td>-122.24</td>\n",
       "    </tr>\n",
       "    <tr>\n",
       "      <th>3</th>\n",
       "      <td>5.6431</td>\n",
       "      <td>52.0</td>\n",
       "      <td>5.817352</td>\n",
       "      <td>1.073059</td>\n",
       "      <td>558.0</td>\n",
       "      <td>2.547945</td>\n",
       "      <td>37.85</td>\n",
       "      <td>-122.25</td>\n",
       "    </tr>\n",
       "    <tr>\n",
       "      <th>4</th>\n",
       "      <td>3.8462</td>\n",
       "      <td>52.0</td>\n",
       "      <td>6.281853</td>\n",
       "      <td>1.081081</td>\n",
       "      <td>565.0</td>\n",
       "      <td>2.181467</td>\n",
       "      <td>37.85</td>\n",
       "      <td>-122.25</td>\n",
       "    </tr>\n",
       "  </tbody>\n",
       "</table>\n",
       "</div>"
      ],
      "text/plain": [
       "   MedInc  HouseAge  AveRooms  AveBedrms  Population  AveOccup  Latitude  \\\n",
       "0  8.3252      41.0  6.984127   1.023810       322.0  2.555556     37.88   \n",
       "1  8.3014      21.0  6.238137   0.971880      2401.0  2.109842     37.86   \n",
       "2  7.2574      52.0  8.288136   1.073446       496.0  2.802260     37.85   \n",
       "3  5.6431      52.0  5.817352   1.073059       558.0  2.547945     37.85   \n",
       "4  3.8462      52.0  6.281853   1.081081       565.0  2.181467     37.85   \n",
       "\n",
       "   Longitude  \n",
       "0    -122.23  \n",
       "1    -122.22  \n",
       "2    -122.24  \n",
       "3    -122.25  \n",
       "4    -122.25  "
      ]
     },
     "metadata": {},
     "output_type": "display_data"
    }
   ],
   "source": [
    "data = fetch_california_housing()\n",
    "df = pd.DataFrame(data.data, columns=data.feature_names)\n",
    "display(df.head())\n",
    "\n",
    "x = df.drop(['Latitude','Longitude'], axis=1)\n",
    "y = data.target"
   ]
  },
  {
   "cell_type": "markdown",
   "id": "88fb715c-4502-41e1-9dea-cb509e99fb78",
   "metadata": {},
   "source": [
    "## 데이터 스케일링"
   ]
  },
  {
   "cell_type": "code",
   "execution_count": 4,
   "id": "64de8698-3873-4acc-ac7c-8e5d50468670",
   "metadata": {},
   "outputs": [
    {
     "data": {
      "text/html": [
       "<div>\n",
       "<style scoped>\n",
       "    .dataframe tbody tr th:only-of-type {\n",
       "        vertical-align: middle;\n",
       "    }\n",
       "\n",
       "    .dataframe tbody tr th {\n",
       "        vertical-align: top;\n",
       "    }\n",
       "\n",
       "    .dataframe thead th {\n",
       "        text-align: right;\n",
       "    }\n",
       "</style>\n",
       "<table border=\"1\" class=\"dataframe\">\n",
       "  <thead>\n",
       "    <tr style=\"text-align: right;\">\n",
       "      <th></th>\n",
       "      <th>MedInc</th>\n",
       "      <th>HouseAge</th>\n",
       "      <th>AveRooms</th>\n",
       "      <th>AveBedrms</th>\n",
       "      <th>Population</th>\n",
       "      <th>AveOccup</th>\n",
       "    </tr>\n",
       "  </thead>\n",
       "  <tbody>\n",
       "    <tr>\n",
       "      <th>0</th>\n",
       "      <td>2.344766</td>\n",
       "      <td>0.982143</td>\n",
       "      <td>0.628559</td>\n",
       "      <td>-0.153758</td>\n",
       "      <td>-0.974429</td>\n",
       "      <td>-0.049597</td>\n",
       "    </tr>\n",
       "    <tr>\n",
       "      <th>1</th>\n",
       "      <td>2.332238</td>\n",
       "      <td>-0.607019</td>\n",
       "      <td>0.327041</td>\n",
       "      <td>-0.263336</td>\n",
       "      <td>0.861439</td>\n",
       "      <td>-0.092512</td>\n",
       "    </tr>\n",
       "    <tr>\n",
       "      <th>2</th>\n",
       "      <td>1.782699</td>\n",
       "      <td>1.856182</td>\n",
       "      <td>1.155620</td>\n",
       "      <td>-0.049016</td>\n",
       "      <td>-0.820777</td>\n",
       "      <td>-0.025843</td>\n",
       "    </tr>\n",
       "    <tr>\n",
       "      <th>3</th>\n",
       "      <td>0.932968</td>\n",
       "      <td>1.856182</td>\n",
       "      <td>0.156966</td>\n",
       "      <td>-0.049833</td>\n",
       "      <td>-0.766028</td>\n",
       "      <td>-0.050329</td>\n",
       "    </tr>\n",
       "    <tr>\n",
       "      <th>4</th>\n",
       "      <td>-0.012881</td>\n",
       "      <td>1.856182</td>\n",
       "      <td>0.344711</td>\n",
       "      <td>-0.032906</td>\n",
       "      <td>-0.759847</td>\n",
       "      <td>-0.085616</td>\n",
       "    </tr>\n",
       "  </tbody>\n",
       "</table>\n",
       "</div>"
      ],
      "text/plain": [
       "     MedInc  HouseAge  AveRooms  AveBedrms  Population  AveOccup\n",
       "0  2.344766  0.982143  0.628559  -0.153758   -0.974429 -0.049597\n",
       "1  2.332238 -0.607019  0.327041  -0.263336    0.861439 -0.092512\n",
       "2  1.782699  1.856182  1.155620  -0.049016   -0.820777 -0.025843\n",
       "3  0.932968  1.856182  0.156966  -0.049833   -0.766028 -0.050329\n",
       "4 -0.012881  1.856182  0.344711  -0.032906   -0.759847 -0.085616"
      ]
     },
     "metadata": {},
     "output_type": "display_data"
    },
    {
     "name": "stdout",
     "output_type": "stream",
     "text": [
      "             MedInc      HouseAge      AveRooms     AveBedrms    Population  \\\n",
      "count  2.064000e+04  2.064000e+04  2.064000e+04  2.064000e+04  2.064000e+04   \n",
      "mean   6.609700e-17  5.508083e-18  6.609700e-17 -1.060306e-16 -1.101617e-17   \n",
      "std    1.000024e+00  1.000024e+00  1.000024e+00  1.000024e+00  1.000024e+00   \n",
      "min   -1.774299e+00 -2.196180e+00 -1.852319e+00 -1.610768e+00 -1.256123e+00   \n",
      "25%   -6.881186e-01 -8.453931e-01 -3.994496e-01 -1.911716e-01 -5.638089e-01   \n",
      "50%   -1.767951e-01  2.864572e-02 -8.078489e-02 -1.010650e-01 -2.291318e-01   \n",
      "75%    4.593063e-01  6.643103e-01  2.519615e-01  6.015869e-03  2.644949e-01   \n",
      "max    5.858286e+00  1.856182e+00  5.516324e+01  6.957171e+01  3.025033e+01   \n",
      "\n",
      "           AveOccup  \n",
      "count  2.064000e+04  \n",
      "mean   3.442552e-18  \n",
      "std    1.000024e+00  \n",
      "min   -2.290000e-01  \n",
      "25%   -6.171062e-02  \n",
      "50%   -2.431585e-02  \n",
      "75%    2.037453e-02  \n",
      "max    1.194191e+02  \n"
     ]
    }
   ],
   "source": [
    "scaled_data = StandardScaler().fit_transform(x)    # 평가 데이터에는 fit 하지 않고 transform만\n",
    "scaled_data_df = pd.DataFrame(scaled_data, columns=data.feature_names[:6])\n",
    "display(scaled_data_df.head())\n",
    "print(scaled_data_df.describe())"
   ]
  },
  {
   "cell_type": "markdown",
   "id": "02a6b86f-afe3-4ba1-aaf3-57e7eea9620b",
   "metadata": {},
   "source": [
    "## 변수간 상관관계 시각화"
   ]
  },
  {
   "cell_type": "code",
   "execution_count": 5,
   "id": "6220db18-00b1-4fdb-a25a-e171d96a0b97",
   "metadata": {},
   "outputs": [
    {
     "name": "stdout",
     "output_type": "stream",
     "text": [
      "              MedInc  HouseAge  AveRooms  AveBedrms  Population  AveOccup\n",
      "MedInc      1.000000 -0.119034  0.326895  -0.062040    0.004834  0.018766\n",
      "HouseAge   -0.119034  1.000000 -0.153277  -0.077747   -0.296244  0.013191\n",
      "AveRooms    0.326895 -0.153277  1.000000   0.847621   -0.072213 -0.004852\n",
      "AveBedrms  -0.062040 -0.077747  0.847621   1.000000   -0.066197 -0.006181\n",
      "Population  0.004834 -0.296244 -0.072213  -0.066197    1.000000  0.069863\n",
      "AveOccup    0.018766  0.013191 -0.004852  -0.006181    0.069863  1.000000\n"
     ]
    },
    {
     "data": {
      "image/png": "[encoded data removed]",
      "text/plain": [
       "<Figure size 640x480 with 2 Axes>"
      ]
     },
     "metadata": {},
     "output_type": "display_data"
    }
   ],
   "source": [
    "corr = scaled_data_df.corr()  # 변수간 상관관계 값 산출\n",
    "print(corr)\n",
    "cmap = sns.light_palette('black')\n",
    "sns.heatmap(corr, annot=True, fmt='3.1f', cmap=cmap)\n",
    "plt.show()"
   ]
  },
  {
   "cell_type": "markdown",
   "id": "d4bafa80-f6ea-47e7-8fed-a4dee25ef9ba",
   "metadata": {},
   "source": [
    "## 학습/평가 데이터 분할"
   ]
  },
  {
   "cell_type": "markdown",
   "id": "11a09979-2473-4e72-a385-a51bf111b1a0",
   "metadata": {},
   "source": [
    "### 표준화된 데이터 분할"
   ]
  },
  {
   "cell_type": "code",
   "execution_count": 6,
   "id": "0d97e394-117b-4b91-adeb-428fb24da6a2",
   "metadata": {},
   "outputs": [],
   "source": [
    "x_train, x_test, y_train, y_test = train_test_split(scaled_data, y, test_size=0.3, random_state=10)"
   ]
  },
  {
   "cell_type": "markdown",
   "id": "df43a13a-5866-4986-ba34-bac2fb46d13f",
   "metadata": {},
   "source": [
    "### 표준화하지 않은 데이터 분할"
   ]
  },
  {
   "cell_type": "code",
   "execution_count": 7,
   "id": "43f60cf9-979e-41a1-968a-7b0786331b05",
   "metadata": {},
   "outputs": [],
   "source": [
    "x_train, x_test, y_train, y_test = train_test_split(x, y, test_size=0.3, random_state=10)"
   ]
  },
  {
   "cell_type": "markdown",
   "id": "bbeaddea-efe4-43cf-a02b-d04c642ce79d",
   "metadata": {},
   "source": [
    "## 희귀모델 생성 및 학습"
   ]
  },
  {
   "cell_type": "code",
   "execution_count": 8,
   "id": "6113ea02-2747-46af-9573-e312e57e61b2",
   "metadata": {},
   "outputs": [
    {
     "data": {
      "text/html": [
       "<style>#sk-container-id-1 {color: black;background-color: white;}#sk-container-id-1 pre{padding: 0;}#sk-container-id-1 div.sk-toggleable {background-color: white;}#sk-container-id-1 label.sk-toggleable__label {cursor: pointer;display: block;width: 100%;margin-bottom: 0;padding: 0.3em;box-sizing: border-box;text-align: center;}#sk-container-id-1 label.sk-toggleable__label-arrow:before {content: \"▸\";float: left;margin-right: 0.25em;color: #696969;}#sk-container-id-1 label.sk-toggleable__label-arrow:hover:before {color: black;}#sk-container-id-1 div.sk-estimator:hover label.sk-toggleable__label-arrow:before {color: black;}#sk-container-id-1 div.sk-toggleable__content {max-height: 0;max-width: 0;overflow: hidden;text-align: left;background-color: #f0f8ff;}#sk-container-id-1 div.sk-toggleable__content pre {margin: 0.2em;color: black;border-radius: 0.25em;background-color: #f0f8ff;}#sk-container-id-1 input.sk-toggleable__control:checked~div.sk-toggleable__content {max-height: 200px;max-width: 100%;overflow: auto;}#sk-container-id-1 input.sk-toggleable__control:checked~label.sk-toggleable__label-arrow:before {content: \"▾\";}#sk-container-id-1 div.sk-estimator input.sk-toggleable__control:checked~label.sk-toggleable__label {background-color: #d4ebff;}#sk-container-id-1 div.sk-label input.sk-toggleable__control:checked~label.sk-toggleable__label {background-color: #d4ebff;}#sk-container-id-1 input.sk-hidden--visually {border: 0;clip: rect(1px 1px 1px 1px);clip: rect(1px, 1px, 1px, 1px);height: 1px;margin: -1px;overflow: hidden;padding: 0;position: absolute;width: 1px;}#sk-container-id-1 div.sk-estimator {font-family: monospace;background-color: #f0f8ff;border: 1px dotted black;border-radius: 0.25em;box-sizing: border-box;margin-bottom: 0.5em;}#sk-container-id-1 div.sk-estimator:hover {background-color: #d4ebff;}#sk-container-id-1 div.sk-parallel-item::after {content: \"\";width: 100%;border-bottom: 1px solid gray;flex-grow: 1;}#sk-container-id-1 div.sk-label:hover label.sk-toggleable__label {background-color: #d4ebff;}#sk-container-id-1 div.sk-serial::before {content: \"\";position: absolute;border-left: 1px solid gray;box-sizing: border-box;top: 0;bottom: 0;left: 50%;z-index: 0;}#sk-container-id-1 div.sk-serial {display: flex;flex-direction: column;align-items: center;background-color: white;padding-right: 0.2em;padding-left: 0.2em;position: relative;}#sk-container-id-1 div.sk-item {position: relative;z-index: 1;}#sk-container-id-1 div.sk-parallel {display: flex;align-items: stretch;justify-content: center;background-color: white;position: relative;}#sk-container-id-1 div.sk-item::before, #sk-container-id-1 div.sk-parallel-item::before {content: \"\";position: absolute;border-left: 1px solid gray;box-sizing: border-box;top: 0;bottom: 0;left: 50%;z-index: -1;}#sk-container-id-1 div.sk-parallel-item {display: flex;flex-direction: column;z-index: 1;position: relative;background-color: white;}#sk-container-id-1 div.sk-parallel-item:first-child::after {align-self: flex-end;width: 50%;}#sk-container-id-1 div.sk-parallel-item:last-child::after {align-self: flex-start;width: 50%;}#sk-container-id-1 div.sk-parallel-item:only-child::after {width: 0;}#sk-container-id-1 div.sk-dashed-wrapped {border: 1px dashed gray;margin: 0 0.4em 0.5em 0.4em;box-sizing: border-box;padding-bottom: 0.4em;background-color: white;}#sk-container-id-1 div.sk-label label {font-family: monospace;font-weight: bold;display: inline-block;line-height: 1.2em;}#sk-container-id-1 div.sk-label-container {text-align: center;}#sk-container-id-1 div.sk-container {/* jupyter's `normalize.less` sets `[hidden] { display: none; }` but bootstrap.min.css set `[hidden] { display: none !important; }` so we also need the `!important` here to be able to override the default hidden behavior on the sphinx rendered scikit-learn.org. See: https://github.com/scikit-learn/scikit-learn/issues/21755 */display: inline-block !important;position: relative;}#sk-container-id-1 div.sk-text-repr-fallback {display: none;}</style><div id=\"sk-container-id-1\" class=\"sk-top-container\"><div class=\"sk-text-repr-fallback\"><pre>LinearRegression()</pre><b>In a Jupyter environment, please rerun this cell to show the HTML representation or trust the notebook. <br />On GitHub, the HTML representation is unable to render, please try loading this page with nbviewer.org.</b></div><div class=\"sk-container\" hidden><div class=\"sk-item\"><div class=\"sk-estimator sk-toggleable\"><input class=\"sk-toggleable__control sk-hidden--visually\" id=\"sk-estimator-id-1\" type=\"checkbox\" checked><label for=\"sk-estimator-id-1\" class=\"sk-toggleable__label sk-toggleable__label-arrow\">LinearRegression</label><div class=\"sk-toggleable__content\"><pre>LinearRegression()</pre></div></div></div></div></div>"
      ],
      "text/plain": [
       "LinearRegression()"
      ]
     },
     "execution_count": 8,
     "metadata": {},
     "output_type": "execute_result"
    }
   ],
   "source": [
    "model = LinearRegression() \n",
    "model.fit(x_train, y_train)"
   ]
  },
  {
   "cell_type": "markdown",
   "id": "c13e8957-59ff-4f76-a00e-91e287d4dbcb",
   "metadata": {},
   "source": [
    "## 모델 예측 및 검증"
   ]
  },
  {
   "cell_type": "code",
   "execution_count": 9,
   "id": "f6cbf15d-78c8-4e38-b3a1-5a46c8d641c5",
   "metadata": {},
   "outputs": [
    {
     "name": "stdout",
     "output_type": "stream",
     "text": [
      "MSE:0.634\n",
      "RMSE:0.796\n",
      "결정계수:0.532\n"
     ]
    }
   ],
   "source": [
    "from sklearn.metrics import mean_squared_error, r2_score\n",
    "\n",
    "y_hat = model.predict(x_test)\n",
    "mse = mean_squared_error(y_test, y_hat)\n",
    "print(f'MSE:{mse:.3f}')\n",
    "print(f'RMSE:{np.sqrt(mse):.3f}')\n",
    "print(f'결정계수:{r2_score(y_test, y_hat):.3f}')"
   ]
  },
  {
   "cell_type": "code",
   "execution_count": 10,
   "id": "e80c9131-4045-4728-a4ed-eddb8d2891e8",
   "metadata": {},
   "outputs": [
    {
     "data": {
      "image/png": "[encoded data removed]",
      "text/plain": [
       "<Figure size 640x480 with 1 Axes>"
      ]
     },
     "metadata": {},
     "output_type": "display_data"
    }
   ],
   "source": [
    "plt.scatter(np.arange(15), y_hat[:15], marker='v', color='r', label='y_hat')\n",
    "plt.scatter(np.arange(15), y_test[:15], marker='o', color='b', label='y')\n",
    "plt.legend()\n",
    "plt.show()"
   ]
  },
  {
   "cell_type": "code",
   "execution_count": 11,
   "id": "3a560d73-d246-47e7-8de8-309b44f214b0",
   "metadata": {},
   "outputs": [
    {
     "name": "stdout",
     "output_type": "stream",
     "text": [
      "추정계수(가중치)\n",
      "AveBedrms     1.103587\n",
      "MedInc        0.542363\n",
      "HouseAge      0.016855\n",
      "Population    0.000027\n",
      "AveOccup     -0.005831\n",
      "AveRooms     -0.216814\n",
      "dtype: float64\n"
     ]
    }
   ],
   "source": [
    "weight = { f:w for f, w in zip(x.columns, model.coef_) }\n",
    "print('추정계수(가중치)')\n",
    "print(pd.Series(weight).sort_values(ascending=False))"
   ]
  },
  {
   "cell_type": "markdown",
   "id": "9e76b4f8-75a7-4126-a7da-bdd4984fa942",
   "metadata": {},
   "source": [
    "# 학습곡선 시각화"
   ]
  },
  {
   "cell_type": "code",
   "execution_count": 12,
   "id": "95c6d418-09f2-439d-8d29-807f158dad81",
   "metadata": {},
   "outputs": [],
   "source": [
    "# 학습 데이터의 크기 변화에 따른 학습과 평가의 오차변화 시각화\n",
    "from sklearn.metrics import mean_squared_error\n",
    "\n",
    "def plot_learning_curve(model, x, y):\n",
    "    x_train, x_test, y_train, y_test = train_test_split(x, y, test_size=0.3, random_state=10)\n",
    "    train_error = []\n",
    "    test_error = []\n",
    "    for n in range(1, len(x)+1):                 # 데이터 1개부터 양 늘리며 예측 시작\n",
    "        model.fit(x_train[:n], y_train[:n]) \n",
    "        y_train_hat = model.predict(x_train[:n])  # 학습 때 사용한 y train의 예측 값  -> 오차 적음\n",
    "        y_test_hat = model.predict(x_test[:n])   # 한 번도 사용하지 않은 y test의 예측 값  -> 오차 큼 (해 보지 않음)\n",
    "        train_error.append(mean_squared_error(y_train[:n], y_train_hat))   # 정답(y_train[:n])과 예측값\n",
    "        test_error.append(mean_squared_error(y_test[:n], y_test_hat))  # 정답(y_test[:n])과 예측값\n",
    "\n",
    "    plt.plot(np.sqrt(train_error), 'r', label='train')   # RMSE 만들기 위해 sqrt 사용 , () 안의 값 = y 값\n",
    "    plt.plot(np.sqrt(test_error), 'b', label='test')  # x 값 생략되어 하나씩 증가하는 값이 x가 됨\n",
    "    plt.xlabel('Training set size')\n",
    "    plt.ylabel('RMSE')\n",
    "    plt.show()"
   ]
  },
  {
   "cell_type": "code",
   "execution_count": 14,
   "id": "0cfbe0a4-14da-4ad9-a21f-033b401b83cf",
   "metadata": {},
   "outputs": [
    {
     "data": {
      "image/png": "[encoded data removed]",
      "text/plain": [
       "<Figure size 640x480 with 1 Axes>"
      ]
     },
     "metadata": {},
     "output_type": "display_data"
    }
   ],
   "source": [
    "model = LinearRegression()\n",
    "plot_learning_curve(model, x, y)"
   ]
  },
  {
   "cell_type": "code",
   "execution_count": 13,
   "id": "f0fbb241-6c93-48d0-8fab-f99b5227cba3",
   "metadata": {},
   "outputs": [
    {
     "data": {
      "image/png": "[encoded data removed]",
      "text/plain": [
       "<Figure size 640x480 with 1 Axes>"
      ]
     },
     "metadata": {},
     "output_type": "display_data"
    }
   ],
   "source": [
    "plt.scatter(np.arange(15), y_hat[:15], marker='v', color='r', label='y_hat')\n",
    "plt.scatter(np.arange(15), y_test[:15], marker='o', color='b', label='y')\n",
    "plt.legend()\n",
    "plt.show()"
   ]
  },
  {
   "cell_type": "markdown",
   "id": "c5bda353-4553-418d-a064-a01ba2a8a9e1",
   "metadata": {},
   "source": [
    "# 다중공선성 및 변수선택 후 학습\n",
    "- VIF 값 확인 (분산팽창지수)"
   ]
  },
  {
   "cell_type": "code",
   "execution_count": 16,
   "id": "b532e8d5-fa4b-4e8c-b354-9bee5c798409",
   "metadata": {},
   "outputs": [
    {
     "name": "stdout",
     "output_type": "stream",
     "text": [
      "Requirement already satisfied: statsmodels in c:\\users\\user\\anaconda3\\lib\\site-packages (0.14.0)\n",
      "Requirement already satisfied: numpy>=1.18 in c:\\users\\user\\anaconda3\\lib\\site-packages (from statsmodels) (1.26.4)\n",
      "Requirement already satisfied: scipy!=1.9.2,>=1.4 in c:\\users\\user\\anaconda3\\lib\\site-packages (from statsmodels) (1.11.4)\n",
      "Requirement already satisfied: pandas>=1.0 in c:\\users\\user\\anaconda3\\lib\\site-packages (from statsmodels) (2.1.4)\n",
      "Requirement already satisfied: patsy>=0.5.2 in c:\\users\\user\\anaconda3\\lib\\site-packages (from statsmodels) (0.5.3)\n",
      "Requirement already satisfied: packaging>=21.3 in c:\\users\\user\\anaconda3\\lib\\site-packages (from statsmodels) (23.1)\n",
      "Requirement already satisfied: python-dateutil>=2.8.2 in c:\\users\\user\\anaconda3\\lib\\site-packages (from pandas>=1.0->statsmodels) (2.8.2)\n",
      "Requirement already satisfied: pytz>=2020.1 in c:\\users\\user\\anaconda3\\lib\\site-packages (from pandas>=1.0->statsmodels) (2023.3.post1)\n",
      "Requirement already satisfied: tzdata>=2022.1 in c:\\users\\user\\anaconda3\\lib\\site-packages (from pandas>=1.0->statsmodels) (2023.3)\n",
      "Requirement already satisfied: six in c:\\users\\user\\anaconda3\\lib\\site-packages (from patsy>=0.5.2->statsmodels) (1.16.0)\n"
     ]
    }
   ],
   "source": [
    "!pip install statsmodels"
   ]
  },
  {
   "cell_type": "code",
   "execution_count": 16,
   "id": "571ddf8d-bcf3-4510-94c6-0ff42c137628",
   "metadata": {},
   "outputs": [
    {
     "name": "stdout",
     "output_type": "stream",
     "text": [
      "   VIF Factor    features\n",
      "0    1.094793    AveOccup\n",
      "1    2.322315  Population\n",
      "2    4.309941    HouseAge\n",
      "3    7.766787      MedInc\n",
      "4   34.118257   AveBedrms\n",
      "5   41.111592    AveRooms\n"
     ]
    }
   ],
   "source": [
    "from statsmodels.stats.outliers_influence import variance_inflation_factor\n",
    "\n",
    "vif = pd.DataFrame()\n",
    "vif['VIF Factor'] = [variance_inflation_factor(x, i)  for i in range(x.shape[1])]\n",
    "vif['features'] = x.columns\n",
    "vif = vif.sort_values('VIF Factor').reset_index(drop=True)\n",
    "print(vif)"
   ]
  },
  {
   "cell_type": "code",
   "execution_count": 18,
   "id": "fa0ab8cf-032d-4eae-b011-9b2ba4172697",
   "metadata": {},
   "outputs": [],
   "source": [
    "# 분산팽창지수가 높은 변수 삭제\n",
    "x = x.drop('AveBedrms', axis=1)"
   ]
  },
  {
   "cell_type": "code",
   "execution_count": 21,
   "id": "28635b37-3c1f-4a5f-87e1-d17a01d4e311",
   "metadata": {},
   "outputs": [],
   "source": [
    "scaled_data = StandardScaler().fit_transform(x)  # 원 데이터 표준화\n",
    "x_train, x_test, y_train, y_test = train_test_split(scaled_data, y, test_size=0.3, random_state=10)  # 데이터 스케일링"
   ]
  },
  {
   "cell_type": "code",
   "execution_count": 22,
   "id": "0e350ccc-7c2a-4f1a-89c1-fb091a3c3d97",
   "metadata": {},
   "outputs": [
    {
     "data": {
      "text/html": [
       "<style>#sk-container-id-3 {color: black;background-color: white;}#sk-container-id-3 pre{padding: 0;}#sk-container-id-3 div.sk-toggleable {background-color: white;}#sk-container-id-3 label.sk-toggleable__label {cursor: pointer;display: block;width: 100%;margin-bottom: 0;padding: 0.3em;box-sizing: border-box;text-align: center;}#sk-container-id-3 label.sk-toggleable__label-arrow:before {content: \"▸\";float: left;margin-right: 0.25em;color: #696969;}#sk-container-id-3 label.sk-toggleable__label-arrow:hover:before {color: black;}#sk-container-id-3 div.sk-estimator:hover label.sk-toggleable__label-arrow:before {color: black;}#sk-container-id-3 div.sk-toggleable__content {max-height: 0;max-width: 0;overflow: hidden;text-align: left;background-color: #f0f8ff;}#sk-container-id-3 div.sk-toggleable__content pre {margin: 0.2em;color: black;border-radius: 0.25em;background-color: #f0f8ff;}#sk-container-id-3 input.sk-toggleable__control:checked~div.sk-toggleable__content {max-height: 200px;max-width: 100%;overflow: auto;}#sk-container-id-3 input.sk-toggleable__control:checked~label.sk-toggleable__label-arrow:before {content: \"▾\";}#sk-container-id-3 div.sk-estimator input.sk-toggleable__control:checked~label.sk-toggleable__label {background-color: #d4ebff;}#sk-container-id-3 div.sk-label input.sk-toggleable__control:checked~label.sk-toggleable__label {background-color: #d4ebff;}#sk-container-id-3 input.sk-hidden--visually {border: 0;clip: rect(1px 1px 1px 1px);clip: rect(1px, 1px, 1px, 1px);height: 1px;margin: -1px;overflow: hidden;padding: 0;position: absolute;width: 1px;}#sk-container-id-3 div.sk-estimator {font-family: monospace;background-color: #f0f8ff;border: 1px dotted black;border-radius: 0.25em;box-sizing: border-box;margin-bottom: 0.5em;}#sk-container-id-3 div.sk-estimator:hover {background-color: #d4ebff;}#sk-container-id-3 div.sk-parallel-item::after {content: \"\";width: 100%;border-bottom: 1px solid gray;flex-grow: 1;}#sk-container-id-3 div.sk-label:hover label.sk-toggleable__label {background-color: #d4ebff;}#sk-container-id-3 div.sk-serial::before {content: \"\";position: absolute;border-left: 1px solid gray;box-sizing: border-box;top: 0;bottom: 0;left: 50%;z-index: 0;}#sk-container-id-3 div.sk-serial {display: flex;flex-direction: column;align-items: center;background-color: white;padding-right: 0.2em;padding-left: 0.2em;position: relative;}#sk-container-id-3 div.sk-item {position: relative;z-index: 1;}#sk-container-id-3 div.sk-parallel {display: flex;align-items: stretch;justify-content: center;background-color: white;position: relative;}#sk-container-id-3 div.sk-item::before, #sk-container-id-3 div.sk-parallel-item::before {content: \"\";position: absolute;border-left: 1px solid gray;box-sizing: border-box;top: 0;bottom: 0;left: 50%;z-index: -1;}#sk-container-id-3 div.sk-parallel-item {display: flex;flex-direction: column;z-index: 1;position: relative;background-color: white;}#sk-container-id-3 div.sk-parallel-item:first-child::after {align-self: flex-end;width: 50%;}#sk-container-id-3 div.sk-parallel-item:last-child::after {align-self: flex-start;width: 50%;}#sk-container-id-3 div.sk-parallel-item:only-child::after {width: 0;}#sk-container-id-3 div.sk-dashed-wrapped {border: 1px dashed gray;margin: 0 0.4em 0.5em 0.4em;box-sizing: border-box;padding-bottom: 0.4em;background-color: white;}#sk-container-id-3 div.sk-label label {font-family: monospace;font-weight: bold;display: inline-block;line-height: 1.2em;}#sk-container-id-3 div.sk-label-container {text-align: center;}#sk-container-id-3 div.sk-container {/* jupyter's `normalize.less` sets `[hidden] { display: none; }` but bootstrap.min.css set `[hidden] { display: none !important; }` so we also need the `!important` here to be able to override the default hidden behavior on the sphinx rendered scikit-learn.org. See: https://github.com/scikit-learn/scikit-learn/issues/21755 */display: inline-block !important;position: relative;}#sk-container-id-3 div.sk-text-repr-fallback {display: none;}</style><div id=\"sk-container-id-3\" class=\"sk-top-container\"><div class=\"sk-text-repr-fallback\"><pre>LinearRegression()</pre><b>In a Jupyter environment, please rerun this cell to show the HTML representation or trust the notebook. <br />On GitHub, the HTML representation is unable to render, please try loading this page with nbviewer.org.</b></div><div class=\"sk-container\" hidden><div class=\"sk-item\"><div class=\"sk-estimator sk-toggleable\"><input class=\"sk-toggleable__control sk-hidden--visually\" id=\"sk-estimator-id-3\" type=\"checkbox\" checked><label for=\"sk-estimator-id-3\" class=\"sk-toggleable__label sk-toggleable__label-arrow\">LinearRegression</label><div class=\"sk-toggleable__content\"><pre>LinearRegression()</pre></div></div></div></div></div>"
      ],
      "text/plain": [
       "LinearRegression()"
      ]
     },
     "execution_count": 22,
     "metadata": {},
     "output_type": "execute_result"
    }
   ],
   "source": [
    "model = LinearRegression()\n",
    "model.fit(x_train, y_train)"
   ]
  },
  {
   "cell_type": "code",
   "execution_count": 23,
   "id": "69b8930e-2ac7-45a5-a165-5ec3e1649338",
   "metadata": {},
   "outputs": [
    {
     "name": "stdout",
     "output_type": "stream",
     "text": [
      "결정계수:0.52\n"
     ]
    }
   ],
   "source": [
    "r_square = model.score(x_test, y_test)\n",
    "print(f'결정계수:{r_square:.2f}')"
   ]
  },
  {
   "cell_type": "markdown",
   "id": "d69e3d2d-9205-4bd5-aa6a-4a877cf34f0b",
   "metadata": {},
   "source": [
    "# [문제] 강남역 전철 출근 시간(07-08시) 승하차 인원 예측\n",
    "- 패키지 로딩\n",
    "- 데이터 로딩 및 확인\n",
    "- 데이터 전처리\n",
    ">- 'Date' 컬럼 삭제\n",
    ">- 'Type' 컬럼 인코딩 (범주형 데이터 변환)\n",
    ">- 'DoW': 컬럼 인코딩\n",
    "- 독립변수와 종속변수 분리 (종속변수 = 출근 시간 승하차 인원)\n",
    "- 학습 데이터, 평가 데이터 분리\n",
    "- 모델 생성 및 예측\n",
    "- 모델 평가 (R2, MSE, RMSE)"
   ]
  },
  {
   "cell_type": "code",
   "execution_count": 48,
   "id": "dde094c6-47f3-4537-beec-3586a878393e",
   "metadata": {},
   "outputs": [],
   "source": [
    "from sklearn.datasets import fetch_california_housing\n",
    "from sklearn.model_selection import train_test_split\n",
    "from sklearn.linear_model import LinearRegression\n",
    "from sklearn.preprocessing import StandardScaler\n",
    "from sklearn.metrics import mean_squared_error\n",
    "\n",
    "import numpy as np\n",
    "import pandas as pd\n",
    "import seaborn as sns\n",
    "import matplotlib.pyplot as plt\n",
    "\n",
    "import warnings\n",
    "warnings.filterwarnings(action='ignore')"
   ]
  },
  {
   "cell_type": "markdown",
   "id": "5bf8c087-f48d-4b32-b89e-3a0cb82c3753",
   "metadata": {},
   "source": [
    "## 데이터 로딩 및 확인"
   ]
  },
  {
   "cell_type": "code",
   "execution_count": 52,
   "id": "42f91bef-b38d-4e27-9b37-659799dc1e12",
   "metadata": {},
   "outputs": [
    {
     "name": "stdout",
     "output_type": "stream",
     "text": [
      "<class 'pandas.core.frame.DataFrame'>\n",
      "RangeIndex: 610 entries, 0 to 609\n",
      "Data columns (total 24 columns):\n",
      " #   Column   Non-Null Count  Dtype \n",
      "---  ------   --------------  ----- \n",
      " 0   Date     610 non-null    object\n",
      " 1   Type     610 non-null    object\n",
      " 2   DoW      610 non-null    object\n",
      " 3   05 ~ 06  610 non-null    int64 \n",
      " 4   06 ~ 07  610 non-null    int64 \n",
      " 5   07 ~ 08  610 non-null    int64 \n",
      " 6   08 ~ 09  610 non-null    int64 \n",
      " 7   09 ~ 10  610 non-null    int64 \n",
      " 8   10 ~ 11  610 non-null    int64 \n",
      " 9   11 ~ 12  610 non-null    int64 \n",
      " 10  12 ~ 13  610 non-null    int64 \n",
      " 11  13 ~ 14  610 non-null    int64 \n",
      " 12  14 ~ 15  610 non-null    int64 \n",
      " 13  15 ~ 16  610 non-null    int64 \n",
      " 14  16 ~ 17  610 non-null    int64 \n",
      " 15  17 ~ 18  610 non-null    int64 \n",
      " 16  18 ~ 19  610 non-null    int64 \n",
      " 17  19 ~ 20  610 non-null    int64 \n",
      " 18  20 ~ 21  610 non-null    int64 \n",
      " 19  21 ~ 22  610 non-null    int64 \n",
      " 20  22 ~ 23  610 non-null    int64 \n",
      " 21  23 ~ 24  610 non-null    int64 \n",
      " 22  00 ~ 01  610 non-null    int64 \n",
      " 23  01 ~ 02  610 non-null    int64 \n",
      "dtypes: int64(21), object(3)\n",
      "memory usage: 114.5+ KB\n"
     ]
    }
   ],
   "source": [
    "df = pd.read_csv('GangnamTrainData.csv')\n",
    "df.info()"
   ]
  },
  {
   "cell_type": "code",
   "execution_count": 53,
   "id": "ab9d3d29-bbc4-4d41-a27c-b017e66e1007",
   "metadata": {},
   "outputs": [
    {
     "data": {
      "text/html": [
       "<div>\n",
       "<style scoped>\n",
       "    .dataframe tbody tr th:only-of-type {\n",
       "        vertical-align: middle;\n",
       "    }\n",
       "\n",
       "    .dataframe tbody tr th {\n",
       "        vertical-align: top;\n",
       "    }\n",
       "\n",
       "    .dataframe thead th {\n",
       "        text-align: right;\n",
       "    }\n",
       "</style>\n",
       "<table border=\"1\" class=\"dataframe\">\n",
       "  <thead>\n",
       "    <tr style=\"text-align: right;\">\n",
       "      <th></th>\n",
       "      <th>Date</th>\n",
       "      <th>Type</th>\n",
       "      <th>DoW</th>\n",
       "      <th>05 ~ 06</th>\n",
       "      <th>06 ~ 07</th>\n",
       "      <th>07 ~ 08</th>\n",
       "      <th>08 ~ 09</th>\n",
       "      <th>09 ~ 10</th>\n",
       "      <th>10 ~ 11</th>\n",
       "      <th>11 ~ 12</th>\n",
       "      <th>...</th>\n",
       "      <th>16 ~ 17</th>\n",
       "      <th>17 ~ 18</th>\n",
       "      <th>18 ~ 19</th>\n",
       "      <th>19 ~ 20</th>\n",
       "      <th>20 ~ 21</th>\n",
       "      <th>21 ~ 22</th>\n",
       "      <th>22 ~ 23</th>\n",
       "      <th>23 ~ 24</th>\n",
       "      <th>00 ~ 01</th>\n",
       "      <th>01 ~ 02</th>\n",
       "    </tr>\n",
       "  </thead>\n",
       "  <tbody>\n",
       "    <tr>\n",
       "      <th>0</th>\n",
       "      <td>2016.1.1</td>\n",
       "      <td>on</td>\n",
       "      <td>Fri</td>\n",
       "      <td>1187</td>\n",
       "      <td>909</td>\n",
       "      <td>562</td>\n",
       "      <td>568</td>\n",
       "      <td>604</td>\n",
       "      <td>777</td>\n",
       "      <td>858</td>\n",
       "      <td>...</td>\n",
       "      <td>2268</td>\n",
       "      <td>2549</td>\n",
       "      <td>2524</td>\n",
       "      <td>2386</td>\n",
       "      <td>2486</td>\n",
       "      <td>3333</td>\n",
       "      <td>3481</td>\n",
       "      <td>2054</td>\n",
       "      <td>0</td>\n",
       "      <td>0</td>\n",
       "    </tr>\n",
       "    <tr>\n",
       "      <th>1</th>\n",
       "      <td>2016.1.1</td>\n",
       "      <td>off</td>\n",
       "      <td>Fri</td>\n",
       "      <td>110</td>\n",
       "      <td>551</td>\n",
       "      <td>635</td>\n",
       "      <td>1066</td>\n",
       "      <td>1809</td>\n",
       "      <td>1506</td>\n",
       "      <td>1553</td>\n",
       "      <td>...</td>\n",
       "      <td>2861</td>\n",
       "      <td>3259</td>\n",
       "      <td>3202</td>\n",
       "      <td>2529</td>\n",
       "      <td>1925</td>\n",
       "      <td>1610</td>\n",
       "      <td>1351</td>\n",
       "      <td>913</td>\n",
       "      <td>2</td>\n",
       "      <td>0</td>\n",
       "    </tr>\n",
       "    <tr>\n",
       "      <th>2</th>\n",
       "      <td>2016.1.2</td>\n",
       "      <td>on</td>\n",
       "      <td>Sat</td>\n",
       "      <td>402</td>\n",
       "      <td>509</td>\n",
       "      <td>515</td>\n",
       "      <td>747</td>\n",
       "      <td>1056</td>\n",
       "      <td>1368</td>\n",
       "      <td>1808</td>\n",
       "      <td>...</td>\n",
       "      <td>4928</td>\n",
       "      <td>5544</td>\n",
       "      <td>4643</td>\n",
       "      <td>3537</td>\n",
       "      <td>3754</td>\n",
       "      <td>4982</td>\n",
       "      <td>5591</td>\n",
       "      <td>3423</td>\n",
       "      <td>0</td>\n",
       "      <td>0</td>\n",
       "    </tr>\n",
       "    <tr>\n",
       "      <th>3</th>\n",
       "      <td>2016.1.2</td>\n",
       "      <td>off</td>\n",
       "      <td>Sat</td>\n",
       "      <td>118</td>\n",
       "      <td>548</td>\n",
       "      <td>889</td>\n",
       "      <td>2372</td>\n",
       "      <td>4396</td>\n",
       "      <td>3613</td>\n",
       "      <td>3314</td>\n",
       "      <td>...</td>\n",
       "      <td>4544</td>\n",
       "      <td>5552</td>\n",
       "      <td>5689</td>\n",
       "      <td>3703</td>\n",
       "      <td>2622</td>\n",
       "      <td>2354</td>\n",
       "      <td>1764</td>\n",
       "      <td>1534</td>\n",
       "      <td>5</td>\n",
       "      <td>0</td>\n",
       "    </tr>\n",
       "    <tr>\n",
       "      <th>4</th>\n",
       "      <td>2016.1.3</td>\n",
       "      <td>on</td>\n",
       "      <td>Sun</td>\n",
       "      <td>646</td>\n",
       "      <td>547</td>\n",
       "      <td>473</td>\n",
       "      <td>600</td>\n",
       "      <td>895</td>\n",
       "      <td>917</td>\n",
       "      <td>1245</td>\n",
       "      <td>...</td>\n",
       "      <td>3370</td>\n",
       "      <td>3642</td>\n",
       "      <td>3526</td>\n",
       "      <td>3084</td>\n",
       "      <td>3493</td>\n",
       "      <td>4327</td>\n",
       "      <td>3835</td>\n",
       "      <td>1812</td>\n",
       "      <td>0</td>\n",
       "      <td>0</td>\n",
       "    </tr>\n",
       "  </tbody>\n",
       "</table>\n",
       "<p>5 rows × 24 columns</p>\n",
       "</div>"
      ],
      "text/plain": [
       "       Date Type  DoW  05 ~ 06  06 ~ 07  07 ~ 08  08 ~ 09  09 ~ 10  10 ~ 11  \\\n",
       "0  2016.1.1   on  Fri     1187      909      562      568      604      777   \n",
       "1  2016.1.1  off  Fri      110      551      635     1066     1809     1506   \n",
       "2  2016.1.2   on  Sat      402      509      515      747     1056     1368   \n",
       "3  2016.1.2  off  Sat      118      548      889     2372     4396     3613   \n",
       "4  2016.1.3   on  Sun      646      547      473      600      895      917   \n",
       "\n",
       "   11 ~ 12  ...  16 ~ 17  17 ~ 18  18 ~ 19  19 ~ 20  20 ~ 21  21 ~ 22  \\\n",
       "0      858  ...     2268     2549     2524     2386     2486     3333   \n",
       "1     1553  ...     2861     3259     3202     2529     1925     1610   \n",
       "2     1808  ...     4928     5544     4643     3537     3754     4982   \n",
       "3     3314  ...     4544     5552     5689     3703     2622     2354   \n",
       "4     1245  ...     3370     3642     3526     3084     3493     4327   \n",
       "\n",
       "   22 ~ 23  23 ~ 24  00 ~ 01  01 ~ 02  \n",
       "0     3481     2054        0        0  \n",
       "1     1351      913        2        0  \n",
       "2     5591     3423        0        0  \n",
       "3     1764     1534        5        0  \n",
       "4     3835     1812        0        0  \n",
       "\n",
       "[5 rows x 24 columns]"
      ]
     },
     "metadata": {},
     "output_type": "display_data"
    }
   ],
   "source": [
    "display(df.head())"
   ]
  },
  {
   "cell_type": "markdown",
   "id": "97dcd9d7-bde3-452f-98fe-199eb1b8a52c",
   "metadata": {},
   "source": [
    "## 데이터 전처리\n",
    ">- 'Date' 컬럼 삭제\n",
    ">- 'Type' 컬럼 인코딩 (범주형 데이터 변환)\n",
    ">- 'DoW': 컬럼 인코딩"
   ]
  },
  {
   "cell_type": "code",
   "execution_count": 54,
   "id": "72a4480c-2190-42ee-a611-29088ac72979",
   "metadata": {},
   "outputs": [
    {
     "name": "stdout",
     "output_type": "stream",
     "text": [
      "Index(['Date', 'Type', 'DoW', '05 ~ 06', '06 ~ 07', '07 ~ 08', '08 ~ 09',\n",
      "       '09 ~ 10', '10 ~ 11', '11 ~ 12', '12 ~ 13', '13 ~ 14', '14 ~ 15',\n",
      "       '15 ~ 16', '16 ~ 17', '17 ~ 18', '18 ~ 19', '19 ~ 20', '20 ~ 21',\n",
      "       '21 ~ 22', '22 ~ 23', '23 ~ 24', '00 ~ 01', '01 ~ 02'],\n",
      "      dtype='object')\n"
     ]
    },
    {
     "data": {
      "text/html": [
       "<div>\n",
       "<style scoped>\n",
       "    .dataframe tbody tr th:only-of-type {\n",
       "        vertical-align: middle;\n",
       "    }\n",
       "\n",
       "    .dataframe tbody tr th {\n",
       "        vertical-align: top;\n",
       "    }\n",
       "\n",
       "    .dataframe thead th {\n",
       "        text-align: right;\n",
       "    }\n",
       "</style>\n",
       "<table border=\"1\" class=\"dataframe\">\n",
       "  <thead>\n",
       "    <tr style=\"text-align: right;\">\n",
       "      <th></th>\n",
       "      <th>Type</th>\n",
       "      <th>DoW</th>\n",
       "      <th>05 ~ 06</th>\n",
       "      <th>06 ~ 07</th>\n",
       "      <th>07 ~ 08</th>\n",
       "      <th>08 ~ 09</th>\n",
       "      <th>09 ~ 10</th>\n",
       "      <th>10 ~ 11</th>\n",
       "      <th>11 ~ 12</th>\n",
       "      <th>12 ~ 13</th>\n",
       "      <th>...</th>\n",
       "      <th>16 ~ 17</th>\n",
       "      <th>17 ~ 18</th>\n",
       "      <th>18 ~ 19</th>\n",
       "      <th>19 ~ 20</th>\n",
       "      <th>20 ~ 21</th>\n",
       "      <th>21 ~ 22</th>\n",
       "      <th>22 ~ 23</th>\n",
       "      <th>23 ~ 24</th>\n",
       "      <th>00 ~ 01</th>\n",
       "      <th>01 ~ 02</th>\n",
       "    </tr>\n",
       "  </thead>\n",
       "  <tbody>\n",
       "    <tr>\n",
       "      <th>0</th>\n",
       "      <td>on</td>\n",
       "      <td>Fri</td>\n",
       "      <td>1187</td>\n",
       "      <td>909</td>\n",
       "      <td>562</td>\n",
       "      <td>568</td>\n",
       "      <td>604</td>\n",
       "      <td>777</td>\n",
       "      <td>858</td>\n",
       "      <td>1183</td>\n",
       "      <td>...</td>\n",
       "      <td>2268</td>\n",
       "      <td>2549</td>\n",
       "      <td>2524</td>\n",
       "      <td>2386</td>\n",
       "      <td>2486</td>\n",
       "      <td>3333</td>\n",
       "      <td>3481</td>\n",
       "      <td>2054</td>\n",
       "      <td>0</td>\n",
       "      <td>0</td>\n",
       "    </tr>\n",
       "    <tr>\n",
       "      <th>1</th>\n",
       "      <td>off</td>\n",
       "      <td>Fri</td>\n",
       "      <td>110</td>\n",
       "      <td>551</td>\n",
       "      <td>635</td>\n",
       "      <td>1066</td>\n",
       "      <td>1809</td>\n",
       "      <td>1506</td>\n",
       "      <td>1553</td>\n",
       "      <td>2123</td>\n",
       "      <td>...</td>\n",
       "      <td>2861</td>\n",
       "      <td>3259</td>\n",
       "      <td>3202</td>\n",
       "      <td>2529</td>\n",
       "      <td>1925</td>\n",
       "      <td>1610</td>\n",
       "      <td>1351</td>\n",
       "      <td>913</td>\n",
       "      <td>2</td>\n",
       "      <td>0</td>\n",
       "    </tr>\n",
       "    <tr>\n",
       "      <th>2</th>\n",
       "      <td>on</td>\n",
       "      <td>Sat</td>\n",
       "      <td>402</td>\n",
       "      <td>509</td>\n",
       "      <td>515</td>\n",
       "      <td>747</td>\n",
       "      <td>1056</td>\n",
       "      <td>1368</td>\n",
       "      <td>1808</td>\n",
       "      <td>2492</td>\n",
       "      <td>...</td>\n",
       "      <td>4928</td>\n",
       "      <td>5544</td>\n",
       "      <td>4643</td>\n",
       "      <td>3537</td>\n",
       "      <td>3754</td>\n",
       "      <td>4982</td>\n",
       "      <td>5591</td>\n",
       "      <td>3423</td>\n",
       "      <td>0</td>\n",
       "      <td>0</td>\n",
       "    </tr>\n",
       "    <tr>\n",
       "      <th>3</th>\n",
       "      <td>off</td>\n",
       "      <td>Sat</td>\n",
       "      <td>118</td>\n",
       "      <td>548</td>\n",
       "      <td>889</td>\n",
       "      <td>2372</td>\n",
       "      <td>4396</td>\n",
       "      <td>3613</td>\n",
       "      <td>3314</td>\n",
       "      <td>4357</td>\n",
       "      <td>...</td>\n",
       "      <td>4544</td>\n",
       "      <td>5552</td>\n",
       "      <td>5689</td>\n",
       "      <td>3703</td>\n",
       "      <td>2622</td>\n",
       "      <td>2354</td>\n",
       "      <td>1764</td>\n",
       "      <td>1534</td>\n",
       "      <td>5</td>\n",
       "      <td>0</td>\n",
       "    </tr>\n",
       "    <tr>\n",
       "      <th>4</th>\n",
       "      <td>on</td>\n",
       "      <td>Sun</td>\n",
       "      <td>646</td>\n",
       "      <td>547</td>\n",
       "      <td>473</td>\n",
       "      <td>600</td>\n",
       "      <td>895</td>\n",
       "      <td>917</td>\n",
       "      <td>1245</td>\n",
       "      <td>1707</td>\n",
       "      <td>...</td>\n",
       "      <td>3370</td>\n",
       "      <td>3642</td>\n",
       "      <td>3526</td>\n",
       "      <td>3084</td>\n",
       "      <td>3493</td>\n",
       "      <td>4327</td>\n",
       "      <td>3835</td>\n",
       "      <td>1812</td>\n",
       "      <td>0</td>\n",
       "      <td>0</td>\n",
       "    </tr>\n",
       "  </tbody>\n",
       "</table>\n",
       "<p>5 rows × 23 columns</p>\n",
       "</div>"
      ],
      "text/plain": [
       "  Type  DoW  05 ~ 06  06 ~ 07  07 ~ 08  08 ~ 09  09 ~ 10  10 ~ 11  11 ~ 12  \\\n",
       "0   on  Fri     1187      909      562      568      604      777      858   \n",
       "1  off  Fri      110      551      635     1066     1809     1506     1553   \n",
       "2   on  Sat      402      509      515      747     1056     1368     1808   \n",
       "3  off  Sat      118      548      889     2372     4396     3613     3314   \n",
       "4   on  Sun      646      547      473      600      895      917     1245   \n",
       "\n",
       "   12 ~ 13  ...  16 ~ 17  17 ~ 18  18 ~ 19  19 ~ 20  20 ~ 21  21 ~ 22  \\\n",
       "0     1183  ...     2268     2549     2524     2386     2486     3333   \n",
       "1     2123  ...     2861     3259     3202     2529     1925     1610   \n",
       "2     2492  ...     4928     5544     4643     3537     3754     4982   \n",
       "3     4357  ...     4544     5552     5689     3703     2622     2354   \n",
       "4     1707  ...     3370     3642     3526     3084     3493     4327   \n",
       "\n",
       "   22 ~ 23  23 ~ 24  00 ~ 01  01 ~ 02  \n",
       "0     3481     2054        0        0  \n",
       "1     1351      913        2        0  \n",
       "2     5591     3423        0        0  \n",
       "3     1764     1534        5        0  \n",
       "4     3835     1812        0        0  \n",
       "\n",
       "[5 rows x 23 columns]"
      ]
     },
     "metadata": {},
     "output_type": "display_data"
    }
   ],
   "source": [
    "print(df.columns)\n",
    "df = df.drop('Date', axis=1)\n",
    "display(df.head())"
   ]
  },
  {
   "cell_type": "code",
   "execution_count": 55,
   "id": "14d3efc8-5df3-4198-99ff-8b5d7ed5dc62",
   "metadata": {},
   "outputs": [
    {
     "data": {
      "text/html": [
       "<div>\n",
       "<style scoped>\n",
       "    .dataframe tbody tr th:only-of-type {\n",
       "        vertical-align: middle;\n",
       "    }\n",
       "\n",
       "    .dataframe tbody tr th {\n",
       "        vertical-align: top;\n",
       "    }\n",
       "\n",
       "    .dataframe thead th {\n",
       "        text-align: right;\n",
       "    }\n",
       "</style>\n",
       "<table border=\"1\" class=\"dataframe\">\n",
       "  <thead>\n",
       "    <tr style=\"text-align: right;\">\n",
       "      <th></th>\n",
       "      <th>DoW</th>\n",
       "      <th>05 ~ 06</th>\n",
       "      <th>06 ~ 07</th>\n",
       "      <th>07 ~ 08</th>\n",
       "      <th>08 ~ 09</th>\n",
       "      <th>09 ~ 10</th>\n",
       "      <th>10 ~ 11</th>\n",
       "      <th>11 ~ 12</th>\n",
       "      <th>12 ~ 13</th>\n",
       "      <th>13 ~ 14</th>\n",
       "      <th>...</th>\n",
       "      <th>18 ~ 19</th>\n",
       "      <th>19 ~ 20</th>\n",
       "      <th>20 ~ 21</th>\n",
       "      <th>21 ~ 22</th>\n",
       "      <th>22 ~ 23</th>\n",
       "      <th>23 ~ 24</th>\n",
       "      <th>00 ~ 01</th>\n",
       "      <th>01 ~ 02</th>\n",
       "      <th>Type_off</th>\n",
       "      <th>Type_on</th>\n",
       "    </tr>\n",
       "  </thead>\n",
       "  <tbody>\n",
       "    <tr>\n",
       "      <th>0</th>\n",
       "      <td>Fri</td>\n",
       "      <td>1187</td>\n",
       "      <td>909</td>\n",
       "      <td>562</td>\n",
       "      <td>568</td>\n",
       "      <td>604</td>\n",
       "      <td>777</td>\n",
       "      <td>858</td>\n",
       "      <td>1183</td>\n",
       "      <td>1425</td>\n",
       "      <td>...</td>\n",
       "      <td>2524</td>\n",
       "      <td>2386</td>\n",
       "      <td>2486</td>\n",
       "      <td>3333</td>\n",
       "      <td>3481</td>\n",
       "      <td>2054</td>\n",
       "      <td>0</td>\n",
       "      <td>0</td>\n",
       "      <td>False</td>\n",
       "      <td>True</td>\n",
       "    </tr>\n",
       "    <tr>\n",
       "      <th>1</th>\n",
       "      <td>Fri</td>\n",
       "      <td>110</td>\n",
       "      <td>551</td>\n",
       "      <td>635</td>\n",
       "      <td>1066</td>\n",
       "      <td>1809</td>\n",
       "      <td>1506</td>\n",
       "      <td>1553</td>\n",
       "      <td>2123</td>\n",
       "      <td>2366</td>\n",
       "      <td>...</td>\n",
       "      <td>3202</td>\n",
       "      <td>2529</td>\n",
       "      <td>1925</td>\n",
       "      <td>1610</td>\n",
       "      <td>1351</td>\n",
       "      <td>913</td>\n",
       "      <td>2</td>\n",
       "      <td>0</td>\n",
       "      <td>True</td>\n",
       "      <td>False</td>\n",
       "    </tr>\n",
       "    <tr>\n",
       "      <th>2</th>\n",
       "      <td>Sat</td>\n",
       "      <td>402</td>\n",
       "      <td>509</td>\n",
       "      <td>515</td>\n",
       "      <td>747</td>\n",
       "      <td>1056</td>\n",
       "      <td>1368</td>\n",
       "      <td>1808</td>\n",
       "      <td>2492</td>\n",
       "      <td>3075</td>\n",
       "      <td>...</td>\n",
       "      <td>4643</td>\n",
       "      <td>3537</td>\n",
       "      <td>3754</td>\n",
       "      <td>4982</td>\n",
       "      <td>5591</td>\n",
       "      <td>3423</td>\n",
       "      <td>0</td>\n",
       "      <td>0</td>\n",
       "      <td>False</td>\n",
       "      <td>True</td>\n",
       "    </tr>\n",
       "    <tr>\n",
       "      <th>3</th>\n",
       "      <td>Sat</td>\n",
       "      <td>118</td>\n",
       "      <td>548</td>\n",
       "      <td>889</td>\n",
       "      <td>2372</td>\n",
       "      <td>4396</td>\n",
       "      <td>3613</td>\n",
       "      <td>3314</td>\n",
       "      <td>4357</td>\n",
       "      <td>5205</td>\n",
       "      <td>...</td>\n",
       "      <td>5689</td>\n",
       "      <td>3703</td>\n",
       "      <td>2622</td>\n",
       "      <td>2354</td>\n",
       "      <td>1764</td>\n",
       "      <td>1534</td>\n",
       "      <td>5</td>\n",
       "      <td>0</td>\n",
       "      <td>True</td>\n",
       "      <td>False</td>\n",
       "    </tr>\n",
       "    <tr>\n",
       "      <th>4</th>\n",
       "      <td>Sun</td>\n",
       "      <td>646</td>\n",
       "      <td>547</td>\n",
       "      <td>473</td>\n",
       "      <td>600</td>\n",
       "      <td>895</td>\n",
       "      <td>917</td>\n",
       "      <td>1245</td>\n",
       "      <td>1707</td>\n",
       "      <td>1983</td>\n",
       "      <td>...</td>\n",
       "      <td>3526</td>\n",
       "      <td>3084</td>\n",
       "      <td>3493</td>\n",
       "      <td>4327</td>\n",
       "      <td>3835</td>\n",
       "      <td>1812</td>\n",
       "      <td>0</td>\n",
       "      <td>0</td>\n",
       "      <td>False</td>\n",
       "      <td>True</td>\n",
       "    </tr>\n",
       "    <tr>\n",
       "      <th>...</th>\n",
       "      <td>...</td>\n",
       "      <td>...</td>\n",
       "      <td>...</td>\n",
       "      <td>...</td>\n",
       "      <td>...</td>\n",
       "      <td>...</td>\n",
       "      <td>...</td>\n",
       "      <td>...</td>\n",
       "      <td>...</td>\n",
       "      <td>...</td>\n",
       "      <td>...</td>\n",
       "      <td>...</td>\n",
       "      <td>...</td>\n",
       "      <td>...</td>\n",
       "      <td>...</td>\n",
       "      <td>...</td>\n",
       "      <td>...</td>\n",
       "      <td>...</td>\n",
       "      <td>...</td>\n",
       "      <td>...</td>\n",
       "      <td>...</td>\n",
       "    </tr>\n",
       "    <tr>\n",
       "      <th>605</th>\n",
       "      <td>Sat</td>\n",
       "      <td>412</td>\n",
       "      <td>1352</td>\n",
       "      <td>1749</td>\n",
       "      <td>3857</td>\n",
       "      <td>7142</td>\n",
       "      <td>5895</td>\n",
       "      <td>5885</td>\n",
       "      <td>6557</td>\n",
       "      <td>7882</td>\n",
       "      <td>...</td>\n",
       "      <td>8226</td>\n",
       "      <td>5988</td>\n",
       "      <td>4070</td>\n",
       "      <td>3666</td>\n",
       "      <td>2763</td>\n",
       "      <td>2190</td>\n",
       "      <td>337</td>\n",
       "      <td>0</td>\n",
       "      <td>True</td>\n",
       "      <td>False</td>\n",
       "    </tr>\n",
       "    <tr>\n",
       "      <th>606</th>\n",
       "      <td>Sun</td>\n",
       "      <td>852</td>\n",
       "      <td>955</td>\n",
       "      <td>803</td>\n",
       "      <td>969</td>\n",
       "      <td>1327</td>\n",
       "      <td>1356</td>\n",
       "      <td>1734</td>\n",
       "      <td>2689</td>\n",
       "      <td>3604</td>\n",
       "      <td>...</td>\n",
       "      <td>4988</td>\n",
       "      <td>4162</td>\n",
       "      <td>4243</td>\n",
       "      <td>4961</td>\n",
       "      <td>4740</td>\n",
       "      <td>1694</td>\n",
       "      <td>0</td>\n",
       "      <td>0</td>\n",
       "      <td>False</td>\n",
       "      <td>True</td>\n",
       "    </tr>\n",
       "    <tr>\n",
       "      <th>607</th>\n",
       "      <td>Sun</td>\n",
       "      <td>158</td>\n",
       "      <td>723</td>\n",
       "      <td>979</td>\n",
       "      <td>1780</td>\n",
       "      <td>3154</td>\n",
       "      <td>2966</td>\n",
       "      <td>3384</td>\n",
       "      <td>4555</td>\n",
       "      <td>5208</td>\n",
       "      <td>...</td>\n",
       "      <td>4638</td>\n",
       "      <td>2972</td>\n",
       "      <td>2258</td>\n",
       "      <td>1841</td>\n",
       "      <td>1411</td>\n",
       "      <td>869</td>\n",
       "      <td>1</td>\n",
       "      <td>0</td>\n",
       "      <td>True</td>\n",
       "      <td>False</td>\n",
       "    </tr>\n",
       "    <tr>\n",
       "      <th>608</th>\n",
       "      <td>Mon</td>\n",
       "      <td>345</td>\n",
       "      <td>824</td>\n",
       "      <td>1919</td>\n",
       "      <td>3252</td>\n",
       "      <td>2561</td>\n",
       "      <td>2182</td>\n",
       "      <td>2708</td>\n",
       "      <td>3088</td>\n",
       "      <td>4145</td>\n",
       "      <td>...</td>\n",
       "      <td>13663</td>\n",
       "      <td>10517</td>\n",
       "      <td>7874</td>\n",
       "      <td>9496</td>\n",
       "      <td>9026</td>\n",
       "      <td>3403</td>\n",
       "      <td>686</td>\n",
       "      <td>3</td>\n",
       "      <td>False</td>\n",
       "      <td>True</td>\n",
       "    </tr>\n",
       "    <tr>\n",
       "      <th>609</th>\n",
       "      <td>Mon</td>\n",
       "      <td>538</td>\n",
       "      <td>2374</td>\n",
       "      <td>7484</td>\n",
       "      <td>14992</td>\n",
       "      <td>12921</td>\n",
       "      <td>5799</td>\n",
       "      <td>4334</td>\n",
       "      <td>4051</td>\n",
       "      <td>4971</td>\n",
       "      <td>...</td>\n",
       "      <td>8124</td>\n",
       "      <td>6655</td>\n",
       "      <td>3084</td>\n",
       "      <td>2011</td>\n",
       "      <td>1988</td>\n",
       "      <td>932</td>\n",
       "      <td>342</td>\n",
       "      <td>29</td>\n",
       "      <td>True</td>\n",
       "      <td>False</td>\n",
       "    </tr>\n",
       "  </tbody>\n",
       "</table>\n",
       "<p>610 rows × 24 columns</p>\n",
       "</div>"
      ],
      "text/plain": [
       "     DoW  05 ~ 06  06 ~ 07  07 ~ 08  08 ~ 09  09 ~ 10  10 ~ 11  11 ~ 12  \\\n",
       "0    Fri     1187      909      562      568      604      777      858   \n",
       "1    Fri      110      551      635     1066     1809     1506     1553   \n",
       "2    Sat      402      509      515      747     1056     1368     1808   \n",
       "3    Sat      118      548      889     2372     4396     3613     3314   \n",
       "4    Sun      646      547      473      600      895      917     1245   \n",
       "..   ...      ...      ...      ...      ...      ...      ...      ...   \n",
       "605  Sat      412     1352     1749     3857     7142     5895     5885   \n",
       "606  Sun      852      955      803      969     1327     1356     1734   \n",
       "607  Sun      158      723      979     1780     3154     2966     3384   \n",
       "608  Mon      345      824     1919     3252     2561     2182     2708   \n",
       "609  Mon      538     2374     7484    14992    12921     5799     4334   \n",
       "\n",
       "     12 ~ 13  13 ~ 14  ...  18 ~ 19  19 ~ 20  20 ~ 21  21 ~ 22  22 ~ 23  \\\n",
       "0       1183     1425  ...     2524     2386     2486     3333     3481   \n",
       "1       2123     2366  ...     3202     2529     1925     1610     1351   \n",
       "2       2492     3075  ...     4643     3537     3754     4982     5591   \n",
       "3       4357     5205  ...     5689     3703     2622     2354     1764   \n",
       "4       1707     1983  ...     3526     3084     3493     4327     3835   \n",
       "..       ...      ...  ...      ...      ...      ...      ...      ...   \n",
       "605     6557     7882  ...     8226     5988     4070     3666     2763   \n",
       "606     2689     3604  ...     4988     4162     4243     4961     4740   \n",
       "607     4555     5208  ...     4638     2972     2258     1841     1411   \n",
       "608     3088     4145  ...    13663    10517     7874     9496     9026   \n",
       "609     4051     4971  ...     8124     6655     3084     2011     1988   \n",
       "\n",
       "     23 ~ 24  00 ~ 01  01 ~ 02  Type_off  Type_on  \n",
       "0       2054        0        0     False     True  \n",
       "1        913        2        0      True    False  \n",
       "2       3423        0        0     False     True  \n",
       "3       1534        5        0      True    False  \n",
       "4       1812        0        0     False     True  \n",
       "..       ...      ...      ...       ...      ...  \n",
       "605     2190      337        0      True    False  \n",
       "606     1694        0        0     False     True  \n",
       "607      869        1        0      True    False  \n",
       "608     3403      686        3     False     True  \n",
       "609      932      342       29      True    False  \n",
       "\n",
       "[610 rows x 24 columns]"
      ]
     },
     "metadata": {},
     "output_type": "display_data"
    }
   ],
   "source": [
    "# Type 칼럼 원-핫 인코딩\n",
    "df_train = pd.get_dummies(df, columns=['Type'])\n",
    "display(df_train)"
   ]
  },
  {
   "cell_type": "code",
   "execution_count": 39,
   "id": "28a9e797-09b3-49b8-87c4-d2d53c6ebaeb",
   "metadata": {},
   "outputs": [],
   "source": [
    "# df['Type'] = df['Type'].map({'on':0, 'off':1})"
   ]
  },
  {
   "cell_type": "code",
   "execution_count": 58,
   "id": "3bcac1ea-5a06-47b8-bdf9-52d53eef759f",
   "metadata": {},
   "outputs": [
    {
     "name": "stdout",
     "output_type": "stream",
     "text": [
      "['Fri' 'Sat' 'Sun' 'Mon' 'Tue' 'Wed' 'Thu']\n"
     ]
    },
    {
     "data": {
      "text/html": [
       "<div>\n",
       "<style scoped>\n",
       "    .dataframe tbody tr th:only-of-type {\n",
       "        vertical-align: middle;\n",
       "    }\n",
       "\n",
       "    .dataframe tbody tr th {\n",
       "        vertical-align: top;\n",
       "    }\n",
       "\n",
       "    .dataframe thead th {\n",
       "        text-align: right;\n",
       "    }\n",
       "</style>\n",
       "<table border=\"1\" class=\"dataframe\">\n",
       "  <thead>\n",
       "    <tr style=\"text-align: right;\">\n",
       "      <th></th>\n",
       "      <th>DoW</th>\n",
       "      <th>05 ~ 06</th>\n",
       "      <th>06 ~ 07</th>\n",
       "      <th>07 ~ 08</th>\n",
       "      <th>08 ~ 09</th>\n",
       "      <th>09 ~ 10</th>\n",
       "      <th>10 ~ 11</th>\n",
       "      <th>11 ~ 12</th>\n",
       "      <th>12 ~ 13</th>\n",
       "      <th>13 ~ 14</th>\n",
       "      <th>...</th>\n",
       "      <th>18 ~ 19</th>\n",
       "      <th>19 ~ 20</th>\n",
       "      <th>20 ~ 21</th>\n",
       "      <th>21 ~ 22</th>\n",
       "      <th>22 ~ 23</th>\n",
       "      <th>23 ~ 24</th>\n",
       "      <th>00 ~ 01</th>\n",
       "      <th>01 ~ 02</th>\n",
       "      <th>Type_off</th>\n",
       "      <th>Type_on</th>\n",
       "    </tr>\n",
       "  </thead>\n",
       "  <tbody>\n",
       "    <tr>\n",
       "      <th>0</th>\n",
       "      <td>0</td>\n",
       "      <td>1187</td>\n",
       "      <td>909</td>\n",
       "      <td>562</td>\n",
       "      <td>568</td>\n",
       "      <td>604</td>\n",
       "      <td>777</td>\n",
       "      <td>858</td>\n",
       "      <td>1183</td>\n",
       "      <td>1425</td>\n",
       "      <td>...</td>\n",
       "      <td>2524</td>\n",
       "      <td>2386</td>\n",
       "      <td>2486</td>\n",
       "      <td>3333</td>\n",
       "      <td>3481</td>\n",
       "      <td>2054</td>\n",
       "      <td>0</td>\n",
       "      <td>0</td>\n",
       "      <td>False</td>\n",
       "      <td>True</td>\n",
       "    </tr>\n",
       "    <tr>\n",
       "      <th>1</th>\n",
       "      <td>0</td>\n",
       "      <td>110</td>\n",
       "      <td>551</td>\n",
       "      <td>635</td>\n",
       "      <td>1066</td>\n",
       "      <td>1809</td>\n",
       "      <td>1506</td>\n",
       "      <td>1553</td>\n",
       "      <td>2123</td>\n",
       "      <td>2366</td>\n",
       "      <td>...</td>\n",
       "      <td>3202</td>\n",
       "      <td>2529</td>\n",
       "      <td>1925</td>\n",
       "      <td>1610</td>\n",
       "      <td>1351</td>\n",
       "      <td>913</td>\n",
       "      <td>2</td>\n",
       "      <td>0</td>\n",
       "      <td>True</td>\n",
       "      <td>False</td>\n",
       "    </tr>\n",
       "    <tr>\n",
       "      <th>2</th>\n",
       "      <td>1</td>\n",
       "      <td>402</td>\n",
       "      <td>509</td>\n",
       "      <td>515</td>\n",
       "      <td>747</td>\n",
       "      <td>1056</td>\n",
       "      <td>1368</td>\n",
       "      <td>1808</td>\n",
       "      <td>2492</td>\n",
       "      <td>3075</td>\n",
       "      <td>...</td>\n",
       "      <td>4643</td>\n",
       "      <td>3537</td>\n",
       "      <td>3754</td>\n",
       "      <td>4982</td>\n",
       "      <td>5591</td>\n",
       "      <td>3423</td>\n",
       "      <td>0</td>\n",
       "      <td>0</td>\n",
       "      <td>False</td>\n",
       "      <td>True</td>\n",
       "    </tr>\n",
       "    <tr>\n",
       "      <th>3</th>\n",
       "      <td>1</td>\n",
       "      <td>118</td>\n",
       "      <td>548</td>\n",
       "      <td>889</td>\n",
       "      <td>2372</td>\n",
       "      <td>4396</td>\n",
       "      <td>3613</td>\n",
       "      <td>3314</td>\n",
       "      <td>4357</td>\n",
       "      <td>5205</td>\n",
       "      <td>...</td>\n",
       "      <td>5689</td>\n",
       "      <td>3703</td>\n",
       "      <td>2622</td>\n",
       "      <td>2354</td>\n",
       "      <td>1764</td>\n",
       "      <td>1534</td>\n",
       "      <td>5</td>\n",
       "      <td>0</td>\n",
       "      <td>True</td>\n",
       "      <td>False</td>\n",
       "    </tr>\n",
       "    <tr>\n",
       "      <th>4</th>\n",
       "      <td>2</td>\n",
       "      <td>646</td>\n",
       "      <td>547</td>\n",
       "      <td>473</td>\n",
       "      <td>600</td>\n",
       "      <td>895</td>\n",
       "      <td>917</td>\n",
       "      <td>1245</td>\n",
       "      <td>1707</td>\n",
       "      <td>1983</td>\n",
       "      <td>...</td>\n",
       "      <td>3526</td>\n",
       "      <td>3084</td>\n",
       "      <td>3493</td>\n",
       "      <td>4327</td>\n",
       "      <td>3835</td>\n",
       "      <td>1812</td>\n",
       "      <td>0</td>\n",
       "      <td>0</td>\n",
       "      <td>False</td>\n",
       "      <td>True</td>\n",
       "    </tr>\n",
       "  </tbody>\n",
       "</table>\n",
       "<p>5 rows × 24 columns</p>\n",
       "</div>"
      ],
      "text/plain": [
       "   DoW  05 ~ 06  06 ~ 07  07 ~ 08  08 ~ 09  09 ~ 10  10 ~ 11  11 ~ 12  \\\n",
       "0    0     1187      909      562      568      604      777      858   \n",
       "1    0      110      551      635     1066     1809     1506     1553   \n",
       "2    1      402      509      515      747     1056     1368     1808   \n",
       "3    1      118      548      889     2372     4396     3613     3314   \n",
       "4    2      646      547      473      600      895      917     1245   \n",
       "\n",
       "   12 ~ 13  13 ~ 14  ...  18 ~ 19  19 ~ 20  20 ~ 21  21 ~ 22  22 ~ 23  \\\n",
       "0     1183     1425  ...     2524     2386     2486     3333     3481   \n",
       "1     2123     2366  ...     3202     2529     1925     1610     1351   \n",
       "2     2492     3075  ...     4643     3537     3754     4982     5591   \n",
       "3     4357     5205  ...     5689     3703     2622     2354     1764   \n",
       "4     1707     1983  ...     3526     3084     3493     4327     3835   \n",
       "\n",
       "   23 ~ 24  00 ~ 01  01 ~ 02  Type_off  Type_on  \n",
       "0     2054        0        0     False     True  \n",
       "1      913        2        0      True    False  \n",
       "2     3423        0        0     False     True  \n",
       "3     1534        5        0      True    False  \n",
       "4     1812        0        0     False     True  \n",
       "\n",
       "[5 rows x 24 columns]"
      ]
     },
     "metadata": {},
     "output_type": "display_data"
    }
   ],
   "source": [
    "# DoW 컬럼 라벨링\n",
    "week = df_train['DoW'].unique()\n",
    "print(week)\n",
    "df_train['DoW'] = df_train['DoW'].map({ w:i for i, w in enumerate(week)})\n",
    "display(df_train.head())"
   ]
  },
  {
   "cell_type": "code",
   "execution_count": 57,
   "id": "0c715328-952b-4e0b-8e9a-e2112f49d0c7",
   "metadata": {},
   "outputs": [],
   "source": [
    "# dayofweek = {'Mon': 0, 'Tue': 1, 'Wed':2, 'Thu':3, 'Fri':4, 'Sat':5, 'Sun':6}\n",
    "# df['DoW'] = df['DoW'].map(dayofweek)\n",
    "# display(df.head(3))"
   ]
  },
  {
   "cell_type": "markdown",
   "id": "456d959a-59d0-4b12-ae60-050b79b01f6b",
   "metadata": {},
   "source": [
    "## 독립변수와 종속변수 분리 (종속변수 = 출근 시간(07-08) 승하차 인원)"
   ]
  },
  {
   "cell_type": "code",
   "execution_count": 59,
   "id": "830e6163-9b9e-49d0-8de6-ec6f27f9382c",
   "metadata": {},
   "outputs": [],
   "source": [
    "x = df_train.drop('07 ~ 08', axis=1)\n",
    "y = df_train['07 ~ 08']"
   ]
  },
  {
   "cell_type": "markdown",
   "id": "acbbc314-7d07-4c64-9705-b5b43d309d25",
   "metadata": {},
   "source": [
    "## 학습 데이터, 평가 데이터 분리"
   ]
  },
  {
   "cell_type": "code",
   "execution_count": 60,
   "id": "65fc529d-1db6-4d9a-8dac-6bede83d4d15",
   "metadata": {},
   "outputs": [],
   "source": [
    "x_train, x_test, y_train, y_test = train_test_split(x, y, train_size=0.7)"
   ]
  },
  {
   "cell_type": "markdown",
   "id": "516211ad-4f0c-4016-b7f2-8b206ce3f325",
   "metadata": {},
   "source": [
    "## 학습 및 평가"
   ]
  },
  {
   "cell_type": "code",
   "execution_count": 64,
   "id": "a6122e91-984b-4c3b-b1cf-5e816eb718fe",
   "metadata": {},
   "outputs": [
    {
     "data": {
      "text/html": [
       "<style>#sk-container-id-5 {color: black;background-color: white;}#sk-container-id-5 pre{padding: 0;}#sk-container-id-5 div.sk-toggleable {background-color: white;}#sk-container-id-5 label.sk-toggleable__label {cursor: pointer;display: block;width: 100%;margin-bottom: 0;padding: 0.3em;box-sizing: border-box;text-align: center;}#sk-container-id-5 label.sk-toggleable__label-arrow:before {content: \"▸\";float: left;margin-right: 0.25em;color: #696969;}#sk-container-id-5 label.sk-toggleable__label-arrow:hover:before {color: black;}#sk-container-id-5 div.sk-estimator:hover label.sk-toggleable__label-arrow:before {color: black;}#sk-container-id-5 div.sk-toggleable__content {max-height: 0;max-width: 0;overflow: hidden;text-align: left;background-color: #f0f8ff;}#sk-container-id-5 div.sk-toggleable__content pre {margin: 0.2em;color: black;border-radius: 0.25em;background-color: #f0f8ff;}#sk-container-id-5 input.sk-toggleable__control:checked~div.sk-toggleable__content {max-height: 200px;max-width: 100%;overflow: auto;}#sk-container-id-5 input.sk-toggleable__control:checked~label.sk-toggleable__label-arrow:before {content: \"▾\";}#sk-container-id-5 div.sk-estimator input.sk-toggleable__control:checked~label.sk-toggleable__label {background-color: #d4ebff;}#sk-container-id-5 div.sk-label input.sk-toggleable__control:checked~label.sk-toggleable__label {background-color: #d4ebff;}#sk-container-id-5 input.sk-hidden--visually {border: 0;clip: rect(1px 1px 1px 1px);clip: rect(1px, 1px, 1px, 1px);height: 1px;margin: -1px;overflow: hidden;padding: 0;position: absolute;width: 1px;}#sk-container-id-5 div.sk-estimator {font-family: monospace;background-color: #f0f8ff;border: 1px dotted black;border-radius: 0.25em;box-sizing: border-box;margin-bottom: 0.5em;}#sk-container-id-5 div.sk-estimator:hover {background-color: #d4ebff;}#sk-container-id-5 div.sk-parallel-item::after {content: \"\";width: 100%;border-bottom: 1px solid gray;flex-grow: 1;}#sk-container-id-5 div.sk-label:hover label.sk-toggleable__label {background-color: #d4ebff;}#sk-container-id-5 div.sk-serial::before {content: \"\";position: absolute;border-left: 1px solid gray;box-sizing: border-box;top: 0;bottom: 0;left: 50%;z-index: 0;}#sk-container-id-5 div.sk-serial {display: flex;flex-direction: column;align-items: center;background-color: white;padding-right: 0.2em;padding-left: 0.2em;position: relative;}#sk-container-id-5 div.sk-item {position: relative;z-index: 1;}#sk-container-id-5 div.sk-parallel {display: flex;align-items: stretch;justify-content: center;background-color: white;position: relative;}#sk-container-id-5 div.sk-item::before, #sk-container-id-5 div.sk-parallel-item::before {content: \"\";position: absolute;border-left: 1px solid gray;box-sizing: border-box;top: 0;bottom: 0;left: 50%;z-index: -1;}#sk-container-id-5 div.sk-parallel-item {display: flex;flex-direction: column;z-index: 1;position: relative;background-color: white;}#sk-container-id-5 div.sk-parallel-item:first-child::after {align-self: flex-end;width: 50%;}#sk-container-id-5 div.sk-parallel-item:last-child::after {align-self: flex-start;width: 50%;}#sk-container-id-5 div.sk-parallel-item:only-child::after {width: 0;}#sk-container-id-5 div.sk-dashed-wrapped {border: 1px dashed gray;margin: 0 0.4em 0.5em 0.4em;box-sizing: border-box;padding-bottom: 0.4em;background-color: white;}#sk-container-id-5 div.sk-label label {font-family: monospace;font-weight: bold;display: inline-block;line-height: 1.2em;}#sk-container-id-5 div.sk-label-container {text-align: center;}#sk-container-id-5 div.sk-container {/* jupyter's `normalize.less` sets `[hidden] { display: none; }` but bootstrap.min.css set `[hidden] { display: none !important; }` so we also need the `!important` here to be able to override the default hidden behavior on the sphinx rendered scikit-learn.org. See: https://github.com/scikit-learn/scikit-learn/issues/21755 */display: inline-block !important;position: relative;}#sk-container-id-5 div.sk-text-repr-fallback {display: none;}</style><div id=\"sk-container-id-5\" class=\"sk-top-container\"><div class=\"sk-text-repr-fallback\"><pre>LinearRegression()</pre><b>In a Jupyter environment, please rerun this cell to show the HTML representation or trust the notebook. <br />On GitHub, the HTML representation is unable to render, please try loading this page with nbviewer.org.</b></div><div class=\"sk-container\" hidden><div class=\"sk-item\"><div class=\"sk-estimator sk-toggleable\"><input class=\"sk-toggleable__control sk-hidden--visually\" id=\"sk-estimator-id-5\" type=\"checkbox\" checked><label for=\"sk-estimator-id-5\" class=\"sk-toggleable__label sk-toggleable__label-arrow\">LinearRegression</label><div class=\"sk-toggleable__content\"><pre>LinearRegression()</pre></div></div></div></div></div>"
      ],
      "text/plain": [
       "LinearRegression()"
      ]
     },
     "execution_count": 64,
     "metadata": {},
     "output_type": "execute_result"
    }
   ],
   "source": [
    "# 학습 시킴\n",
    "\n",
    "model = LinearRegression()\n",
    "model.fit(x_train, y_train)"
   ]
  },
  {
   "cell_type": "code",
   "execution_count": 68,
   "id": "4ab76adf-ede0-45a7-bcab-dc794a29d9c4",
   "metadata": {},
   "outputs": [
    {
     "name": "stdout",
     "output_type": "stream",
     "text": [
      "결정계수: 0.99\n",
      "RMSE:288.61\n",
      "07-08시 평균 승하차 인원:3645.36\n"
     ]
    }
   ],
   "source": [
    "y_hat = model.predict(x_test)\n",
    "\n",
    "r_square = model.score(x_test, y_test)\n",
    "print(f'결정계수: {r_square:.2f}')\n",
    "print(f'RMSE:{np.sqrt(mean_squared_error(y_test, y_hat)):.2f}')   # MSE = np.sqrt(~~)\n",
    "print(f'07-08시 평균 승하차 인원:{np.mean(y):.2f}')"
   ]
  },
  {
   "cell_type": "markdown",
   "id": "21fcdecd-961f-4a52-9659-4f17f8d8fd85",
   "metadata": {},
   "source": [
    "## 시각화"
   ]
  },
  {
   "cell_type": "code",
   "execution_count": 70,
   "id": "90db0f97-622b-4105-af1c-327a3c360a49",
   "metadata": {},
   "outputs": [
    {
     "data": {
      "image/png": "[encoded data removed]",
      "text/plain": [
       "<Figure size 640x480 with 1 Axes>"
      ]
     },
     "metadata": {},
     "output_type": "display_data"
    }
   ],
   "source": [
    "# 평균밀도\n",
    "sns.kdeplot(x=y_test, fill=True, label='y')\n",
    "sns.kdeplot(x=y_hat, fill=True, label='y_hat')\n",
    "plt.legend()\n",
    "plt.show()"
   ]
  }
 ],
 "metadata": {
  "kernelspec": {
   "display_name": "Python 3 (ipykernel)",
   "language": "python",
   "name": "python3"
  },
  "language_info": {
   "codemirror_mode": {
    "name": "ipython",
    "version": 3
   },
   "file_extension": ".py",
   "mimetype": "text/x-python",
   "name": "python",
   "nbconvert_exporter": "python",
   "pygments_lexer": "ipython3",
   "version": "3.11.7"
  }
 },
 "nbformat": 4,
 "nbformat_minor": 5
}
