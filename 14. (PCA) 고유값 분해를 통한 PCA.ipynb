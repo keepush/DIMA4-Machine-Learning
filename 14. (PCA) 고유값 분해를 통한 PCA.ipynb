{
 "cells": [
  {
   "cell_type": "markdown",
   "id": "757c7ff8-fbd0-4577-8a83-0292c7865e0f",
   "metadata": {},
   "source": [
    "# 공분산 행렬 구하기"
   ]
  },
  {
   "cell_type": "code",
   "execution_count": 6,
   "id": "e82256ba-3243-4fac-9444-ea7c3f8e8f9b",
   "metadata": {},
   "outputs": [],
   "source": [
    "import numpy as np\n",
    "np.set_printoptions(precision=3, suppress=True)  # precision=3 : 소수점 이하 3자리"
   ]
  },
  {
   "cell_type": "code",
   "execution_count": 12,
   "id": "54c7543c-c3b1-4c8f-8ffe-e06340b817fd",
   "metadata": {},
   "outputs": [
    {
     "name": "stdout",
     "output_type": "stream",
     "text": [
      "키 컬럼 분산:38.749\n",
      "열 평균:[170.63  59.03  90.02]\n",
      "[[  7.07   9.07   1.78]\n",
      " [ -2.63   1.17  -0.72]\n",
      " [ -5.33  -9.93  -5.12]\n",
      " [-11.53 -17.03  -3.72]\n",
      " [  5.77  14.27   3.78]\n",
      " [  5.37  -1.83   2.48]\n",
      " [ -0.63   0.77  -0.22]\n",
      " [ -6.03  -7.43  -1.52]\n",
      " [  3.77  11.17   1.68]\n",
      " [  4.17  -0.23   1.58]]\n",
      "------------------------------\n",
      "공분산 행렬\n",
      "[[38.749 52.035 15.779]\n",
      " [52.035 95.54  23.158]\n",
      " [15.779 23.158  7.984]]\n"
     ]
    }
   ],
   "source": [
    "x = [[177.7, 68.1, 91.8], \n",
    "     [168, 60.2, 89.3], \n",
    "     [165.3, 49.1, 84.9], \n",
    "     [159.1, 42, 86.3], \n",
    "     [176.4, 73.3, 93.8],\n",
    "     [176, 57.2, 92.5], \n",
    "     [170, 59.8, 89.8], \n",
    "     [164.6, 51.6, 88.5], \n",
    "     [174.4, 70.2, 91.7], \n",
    "     [174.8, 58.8, 91.6]]\n",
    "x = np.array(x)\n",
    "print(f'키 컬럼 분산:{np.var(x[:,0], ddof=1):.3f}')\n",
    "print(f'열 평균:{np.mean(x, axis=0)}')\n",
    "# 데이터 분포의 중심을 중심축으로 이동시키기 위해 각 열들의 평균 값을 0으로 맞춘다.\n",
    "x = x - np.mean(x, axis=0)\n",
    "print(x)\n",
    "print('-'*30)\n",
    "print('공분산 행렬')\n",
    "cov = (x.T@x) / (len(x)-1)\n",
    "print(cov)"
   ]
  },
  {
   "cell_type": "markdown",
   "id": "259fa701-7619-4d57-9e9f-25247f40953e",
   "metadata": {},
   "source": [
    "# np.cov 함수와 결과 비교"
   ]
  },
  {
   "cell_type": "code",
   "execution_count": 13,
   "id": "514af6e6-efe2-489b-8d9d-12e2d8153cb4",
   "metadata": {},
   "outputs": [
    {
     "name": "stdout",
     "output_type": "stream",
     "text": [
      "[[38.749 52.035 15.779]\n",
      " [52.035 95.54  23.158]\n",
      " [15.779 23.158  7.984]]\n"
     ]
    }
   ],
   "source": [
    "print(np.cov(x, rowvar=False))  # rowvar: True(기본값)인 경우, 행이 변수를 나타내며, 열은 각 변수의 관측치를 나타낸다."
   ]
  },
  {
   "cell_type": "markdown",
   "id": "cee20fb2-bbcb-4d69-906f-d63651c8b7e4",
   "metadata": {},
   "source": [
    "# 고유값, 고유벡터 행렬 구하기"
   ]
  },
  {
   "cell_type": "code",
   "execution_count": 24,
   "id": "7f981fed-754f-49ea-bc76-d0e3551b4702",
   "metadata": {},
   "outputs": [
    {
     "name": "stdout",
     "output_type": "stream",
     "text": [
      "고유값: [132.696   8.307   1.27 ]\n",
      "\n",
      "고유벡터:\n",
      "[[-0.501 -0.803 -0.323]\n",
      " [-0.838  0.544 -0.054]\n",
      " [-0.219 -0.244  0.945]]\n",
      "\n",
      "고유값 대각행렬:\n",
      "[[132.696   0.      0.   ]\n",
      " [  0.      8.307   0.   ]\n",
      " [  0.      0.      1.27 ]]\n",
      "\n",
      "첫 번째 고유벡터와 두 번째 고유벡터와의 내적\n",
      "0.0\n",
      "첫 번째 고유벡터와 세 번째 고유벡터와의 내적\n",
      "0.0\n",
      "두 번째 고유벡터와 세 번째 고유벡터와의 내적\n",
      "0.0\n"
     ]
    }
   ],
   "source": [
    "eigenvalue, eigenvector = np.linalg.eig(cov)\n",
    "print('고유값:', eigenvalue)\n",
    "print()\n",
    "print('고유벡터:')\n",
    "print(eigenvector)\n",
    "print()\n",
    "print('고유값 대각행렬:')\n",
    "eig_matrix = np.identity(3) * eigenvalue\n",
    "print(eig_matrix)\n",
    "print()\n",
    "print('첫 번째 고유벡터와 두 번째 고유벡터와의 내적')\n",
    "# 두 벡터가 서로 직교하면 내적 값이 0이 된다.\n",
    "# PC2는 원점을 통과해서 PC1과 직교하는 벡터가 된다.\n",
    "a = eigenvector[:,0].T.dot(eigenvector[:,1])\n",
    "print(np.round(a,3))\n",
    "\n",
    "print('첫 번째 고유벡터와 세 번째 고유벡터와의 내적')\n",
    "a = eigenvector[:,0].T.dot(eigenvector[:,2])\n",
    "print(np.round(a,3))\n",
    "\n",
    "print('두 번째 고유벡터와 세 번째 고유벡터와의 내적')\n",
    "# 두 벡터가 서로 직교하면 내적 값이 0이 된다.\n",
    "# PC2는 원점을 통과해서 PC3과 직교하는 벡터가 된다.\n",
    "a = eigenvector[:,1].T.dot(eigenvector[:,2])\n",
    "print(np.round(a,3))"
   ]
  },
  {
   "cell_type": "code",
   "execution_count": 25,
   "id": "3216e647-9160-47dd-b15e-c3f2a48baee8",
   "metadata": {},
   "outputs": [
    {
     "name": "stdout",
     "output_type": "stream",
     "text": [
      "공분산 행렬\n",
      "[[38.749 52.035 15.779]\n",
      " [52.035 95.54  23.158]\n",
      " [15.779 23.158  7.984]]\n",
      "\n",
      "고유값 분해를 통한 공분산 행렬\n",
      "고유벡터 행렬@고유값 대각행렬@고유벡터 행렬의 역행렬\n",
      "[[38.749 52.035 15.779]\n",
      " [52.035 95.54  23.158]\n",
      " [15.779 23.158  7.984]]\n"
     ]
    }
   ],
   "source": [
    "print('공분산 행렬')\n",
    "print(cov)\n",
    "print()\n",
    "print('고유값 분해를 통한 공분산 행렬')\n",
    "print('고유벡터 행렬@고유값 대각행렬@고유벡터 행렬의 역행렬')\n",
    "print(eigenvector@eig_matrix@np.linalg.inv(eigenvector))"
   ]
  },
  {
   "cell_type": "markdown",
   "id": "9e9cb217-d094-431f-8577-bcad31fbc807",
   "metadata": {},
   "source": [
    "# 첫 번째 주성분(PC1) 구하기\n",
    "- 가장 큰 분산을 나타내는 가장 큰 고유값으로 만든 고유벡터에 정규화된 관측치를 내적하여 만든다."
   ]
  },
  {
   "cell_type": "code",
   "execution_count": 30,
   "id": "33e41d0f-80b7-4e79-94f8-8323c94281d7",
   "metadata": {},
   "outputs": [
    {
     "name": "stdout",
     "output_type": "stream",
     "text": [
      "[-11.526   0.494  12.106  20.85  -15.668  -1.699  -0.281   9.574 -11.61\n",
      "  -2.241]\n"
     ]
    }
   ],
   "source": [
    "# print(x)\n",
    "PC1 = eigenvector[:,0].dot(x.T)\n",
    "print(np.round(PC1,3))"
   ]
  },
  {
   "cell_type": "markdown",
   "id": "5f2d4f87-6bb5-4a44-ab24-ae7991327efd",
   "metadata": {},
   "source": [
    "# 공분산을 이용한 주성분 분석"
   ]
  },
  {
   "cell_type": "code",
   "execution_count": 33,
   "id": "28ddc48f-5eb6-4d5d-b9f1-71f6f757e1ce",
   "metadata": {},
   "outputs": [
    {
     "name": "stdout",
     "output_type": "stream",
     "text": [
      "PCA를 이용한 차원 축소 (3차원->2차원)\n",
      "고유벡터 VT - 주성분 2개 선택\n",
      "[[-0.501 -0.838 -0.219]\n",
      " [-0.803  0.544 -0.244]]\n",
      "\n",
      "고유벡터 VT와 원본 데이터 XT의 내적\n",
      "[[-11.526  -1.18 ]\n",
      " [  0.494   2.924]\n",
      " [ 12.106   0.129]\n",
      " [ 20.85    0.906]\n",
      " [-15.668   2.204]\n",
      " [ -1.699  -5.912]\n",
      " [ -0.281   0.978]\n",
      " [  9.574   1.173]\n",
      " [-11.61    2.637]\n",
      " [ -2.241  -3.859]]\n"
     ]
    }
   ],
   "source": [
    "print('PCA를 이용한 차원 축소 (3차원->2차원)')\n",
    "VT = np.array([eigenvector[:,0], eigenvector[:,1]])\n",
    "print('고유벡터 VT - 주성분 2개 선택')\n",
    "print(VT)\n",
    "print()\n",
    "print('고유벡터 VT와 원본 데이터 XT의 내적')\n",
    "Z = VT.dot(x.T)\n",
    "print(Z.T)"
   ]
  },
  {
   "cell_type": "markdown",
   "id": "b8afe679-5b2d-4c4c-9eac-769937179b9b",
   "metadata": {},
   "source": [
    "# PCA 클래스와 결과 비교"
   ]
  },
  {
   "cell_type": "code",
   "execution_count": 35,
   "id": "0cddf1cb-a258-4cd4-a172-58d7747441a1",
   "metadata": {},
   "outputs": [
    {
     "name": "stdout",
     "output_type": "stream",
     "text": [
      "(10, 2)\n",
      "[[-11.526   1.18 ]\n",
      " [  0.494  -2.924]\n",
      " [ 12.106  -0.129]\n",
      " [ 20.85   -0.906]\n",
      " [-15.668  -2.204]\n",
      " [ -1.699   5.912]\n",
      " [ -0.281  -0.978]\n",
      " [  9.574  -1.173]\n",
      " [-11.61   -2.637]\n",
      " [ -2.241   3.859]]\n"
     ]
    }
   ],
   "source": [
    "from sklearn.decomposition import PCA\n",
    "\n",
    "model = PCA(n_components=2)\n",
    "pca = model.fit_transform(x)\n",
    "print(pca.shape)\n",
    "print(pca)"
   ]
  },
  {
   "cell_type": "markdown",
   "id": "4ef03abe-15a7-4418-9453-26b3e5a0d8da",
   "metadata": {},
   "source": [
    "# PC가 차지하는 분산 비율 구하기"
   ]
  },
  {
   "cell_type": "code",
   "execution_count": 38,
   "id": "c2944d23-5dd9-409c-b5a6-392abab6f398",
   "metadata": {},
   "outputs": [
    {
     "name": "stdout",
     "output_type": "stream",
     "text": [
      "[0.933 0.058]\n",
      "분산 합계: 0.99%\n"
     ]
    }
   ],
   "source": [
    "print(model.explained_variance_ratio_)\n",
    "print(f'분산 합계: {np.sum(model.explained_variance_ratio_):.2f}%')"
   ]
  },
  {
   "cell_type": "markdown",
   "id": "12b564e3-6af4-4ac2-8361-b5bed31431e6",
   "metadata": {},
   "source": [
    "# 고유 벡터 행렬"
   ]
  },
  {
   "cell_type": "code",
   "execution_count": 40,
   "id": "784fe865-4c4b-40fa-bd9c-06bcd73b49da",
   "metadata": {},
   "outputs": [
    {
     "name": "stdout",
     "output_type": "stream",
     "text": [
      "[[-0.501 -0.838 -0.219]\n",
      " [ 0.803 -0.544  0.244]]\n"
     ]
    }
   ],
   "source": [
    "print(model.components_)"
   ]
  },
  {
   "cell_type": "code",
   "execution_count": 42,
   "id": "f1485831-623d-429e-b2d2-15410c6493e4",
   "metadata": {},
   "outputs": [
    {
     "name": "stdout",
     "output_type": "stream",
     "text": [
      "[132.696   8.307]\n"
     ]
    }
   ],
   "source": [
    "# 고유값\n",
    "print(model.explained_variance_)"
   ]
  }
 ],
 "metadata": {
  "kernelspec": {
   "display_name": "Python 3 (ipykernel)",
   "language": "python",
   "name": "python3"
  },
  "language_info": {
   "codemirror_mode": {
    "name": "ipython",
    "version": 3
   },
   "file_extension": ".py",
   "mimetype": "text/x-python",
   "name": "python",
   "nbconvert_exporter": "python",
   "pygments_lexer": "ipython3",
   "version": "3.11.7"
  }
 },
 "nbformat": 4,
 "nbformat_minor": 5
}
