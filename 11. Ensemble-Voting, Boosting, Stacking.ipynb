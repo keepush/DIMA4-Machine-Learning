{
 "cells": [
  {
   "cell_type": "markdown",
   "id": "89fad5e7-3dee-4121-a08d-185d6e478334",
   "metadata": {},
   "source": [
    "# 앙상블 회귀"
   ]
  },
  {
   "cell_type": "markdown",
   "id": "4881990f-2abd-44c9-abdc-f33b9a072f87",
   "metadata": {},
   "source": [
    "## (공통) 데이터 로딩 및 분할"
   ]
  },
  {
   "cell_type": "code",
   "execution_count": 2,
   "id": "d9b131e5-56e8-4ff7-84eb-30a4080061d4",
   "metadata": {},
   "outputs": [],
   "source": [
    "import pandas as pd\n",
    "import numpy as np\n",
    "from sklearn.model_selection import train_test_split\n",
    "from sklearn.metrics import mean_squared_error, r2_score\n",
    "from sklearn.preprocessing import StandardScaler\n",
    "import warnings\n",
    "warnings.filterwarnings(action='ignore')\n",
    "\n",
    "df = pd.read_csv('./dataset/HousingData.csv')"
   ]
  },
  {
   "cell_type": "code",
   "execution_count": 3,
   "id": "cf0b5387-dea5-435f-be63-d01e9639a0d0",
   "metadata": {},
   "outputs": [],
   "source": [
    "df = df.ffill()  # 바로 앞 데이터로 결측치 제거"
   ]
  },
  {
   "cell_type": "code",
   "execution_count": 4,
   "id": "eb01b754-45bd-41ae-a300-ae1981738760",
   "metadata": {},
   "outputs": [],
   "source": [
    "x = df.drop('MEDV', axis=1)\n",
    "y = df['MEDV']\n",
    "\n",
    "x = StandardScaler().fit_transform(x)\n",
    "x_train, x_test, y_train, y_test = train_test_split(x, y, train_size=0.8, random_state=1)"
   ]
  },
  {
   "cell_type": "markdown",
   "id": "16c4fbdf-738f-4cae-b68f-a6cf3b9058aa",
   "metadata": {},
   "source": [
    "## Voting\n",
    "- 동일 데이터셋에 대해 서로 다른 회귀 모형 알고리즘을 사용하여 각 모델의 예측 결과의 평균값을 반환한다."
   ]
  },
  {
   "cell_type": "markdown",
   "id": "696ccef0-3843-4b41-836b-ac224c2d9eac",
   "metadata": {},
   "source": [
    "### 패키지 로딩"
   ]
  },
  {
   "cell_type": "code",
   "execution_count": 5,
   "id": "c30ef169-1c78-499f-84fe-3316e8d90f12",
   "metadata": {},
   "outputs": [],
   "source": [
    "from sklearn.linear_model import LinearRegression, Lasso, Ridge\n",
    "from sklearn.ensemble import VotingRegressor"
   ]
  },
  {
   "cell_type": "markdown",
   "id": "e8e92da5-4567-4e48-b27d-d2771030c025",
   "metadata": {},
   "source": [
    "### 모델 생성"
   ]
  },
  {
   "cell_type": "code",
   "execution_count": 6,
   "id": "4de6c18c-8800-492c-b3e4-ff8499c2635e",
   "metadata": {},
   "outputs": [],
   "source": [
    "lasso = Lasso(alpha=0.05)\n",
    "ridge = Ridge(alpha=1)\n",
    "linear = LinearRegression()\n",
    "vo_r = VotingRegressor(estimators=[('Lasso', lasso), ('Ridge', ridge), ('Linear', linear)])"
   ]
  },
  {
   "cell_type": "markdown",
   "id": "02ae3d38-4daf-4905-a946-f1f8a02b3a67",
   "metadata": {},
   "source": [
    "### 학습 및 평가"
   ]
  },
  {
   "cell_type": "code",
   "execution_count": 7,
   "id": "b80890df-68c0-4ad5-b354-11215b24351a",
   "metadata": {},
   "outputs": [
    {
     "name": "stdout",
     "output_type": "stream",
     "text": [
      "RMSE:4.988\n",
      "R2 Score:0.748\n"
     ]
    }
   ],
   "source": [
    "vo_r.fit(x_train, y_train)\n",
    "y_hat = vo_r.predict(x_test)\n",
    "print(f'RMSE:{np.sqrt(mean_squared_error(y_test, y_hat)):.3f}')\n",
    "print(f'R2 Score:{r2_score(y_test, y_hat):.3f}')"
   ]
  },
  {
   "cell_type": "markdown",
   "id": "9ea5720e-3f00-4f32-b12b-8d98803a2cff",
   "metadata": {},
   "source": [
    "### 개별 회귀모형 학습 결과 비교"
   ]
  },
  {
   "cell_type": "code",
   "execution_count": 8,
   "id": "090dd185-bce2-41cf-96ec-2765b20113bb",
   "metadata": {},
   "outputs": [
    {
     "name": "stdout",
     "output_type": "stream",
     "text": [
      "Lasso 모델 RMSE:5.021\n",
      "Lasso 모델 R2 Score:0.745\n",
      "==============================\n",
      "Ridge 모델 RMSE:4.978\n",
      "Ridge 모델 R2 Score:0.749\n",
      "==============================\n",
      "Linear 모델 RMSE:4.976\n",
      "Linear 모델 R2 Score:0.749\n",
      "==============================\n"
     ]
    }
   ],
   "source": [
    "estimators = [('Lasso', lasso), ('Ridge', ridge), ('Linear', linear)]\n",
    "for name, model in estimators:\n",
    "    model.fit(x_train, y_train)\n",
    "    y_hat = model.predict(x_test)\n",
    "    print(f'{name} 모델 RMSE:{np.sqrt(mean_squared_error(y_test, y_hat)):.3f}')\n",
    "    print(f'{name} 모델 R2 Score:{r2_score(y_test, y_hat):.3f}')\n",
    "    print('='*30)"
   ]
  },
  {
   "cell_type": "markdown",
   "id": "77e09e50-2e79-4b3c-b648-ee22aea7820c",
   "metadata": {},
   "source": [
    "## Boosting"
   ]
  },
  {
   "cell_type": "markdown",
   "id": "3d4261f1-bdec-4644-bd19-a612aa571e78",
   "metadata": {},
   "source": [
    "### AdaBoost"
   ]
  },
  {
   "cell_type": "markdown",
   "id": "e4137d35-5bbd-434a-8121-98be8bb53e15",
   "metadata": {},
   "source": [
    "#### 패키지 로딩"
   ]
  },
  {
   "cell_type": "code",
   "execution_count": 9,
   "id": "3d557090-3aa5-409d-b1dc-753e9855900a",
   "metadata": {},
   "outputs": [],
   "source": [
    "from sklearn.ensemble import AdaBoostRegressor\n",
    "from sklearn.tree import DecisionTreeRegressor"
   ]
  },
  {
   "cell_type": "markdown",
   "id": "614e07ec-96da-4b61-bb84-631917e965a4",
   "metadata": {},
   "source": [
    "#### 모델 생성"
   ]
  },
  {
   "cell_type": "code",
   "execution_count": 10,
   "id": "593b2a14-94c3-4749-9ff6-258414b5821a",
   "metadata": {},
   "outputs": [],
   "source": [
    "ada_r = AdaBoostRegressor(base_estimator=DecisionTreeRegressor(max_depth=4), n_estimators=300, random_state=0)"
   ]
  },
  {
   "cell_type": "markdown",
   "id": "a575c658-fa60-45c6-9e8e-ae3ec1a0fa6f",
   "metadata": {},
   "source": [
    "#### 학습 및 평가"
   ]
  },
  {
   "cell_type": "code",
   "execution_count": 11,
   "id": "96ce9f42-ac16-4b30-af78-00e948b3a437",
   "metadata": {},
   "outputs": [
    {
     "name": "stdout",
     "output_type": "stream",
     "text": [
      "RMSE:3.606\n",
      "R2 Score:0.868\n"
     ]
    }
   ],
   "source": [
    "ada_r.fit(x_train, y_train)\n",
    "y_hat = ada_r.predict(x_test)\n",
    "print(f'RMSE:{np.sqrt(mean_squared_error(y_test, y_hat)):.3f}')\n",
    "print(f'R2 Score:{r2_score(y_test, y_hat):.3f}')"
   ]
  },
  {
   "cell_type": "markdown",
   "id": "cf7bb15e-edce-4d18-8489-4e0dc0208222",
   "metadata": {},
   "source": [
    "### GradientBoost"
   ]
  },
  {
   "cell_type": "markdown",
   "id": "0526fdb6-ca20-4bae-9143-30e08d8028d0",
   "metadata": {},
   "source": [
    "#### DecisionTreeRegressor를 활용한 GradientBoosting 원리 이해"
   ]
  },
  {
   "cell_type": "code",
   "execution_count": 12,
   "id": "6935c719-cefb-428f-b3db-f78d144b31a7",
   "metadata": {},
   "outputs": [],
   "source": [
    "from sklearn.tree import DecisionTreeRegressor\n",
    "\n",
    "np.random.seed(10)\n",
    "x_ = np.random.rand(100, 1) - 0.5  # [-0.5, 0.5) 범위 데이터 100x1 모양으로 생성\n",
    "y_ = 3 * x_[:,0]**2 + 0.05*np.random.randn(100)  # y = 3x^2 + noise"
   ]
  },
  {
   "cell_type": "code",
   "execution_count": 13,
   "id": "482c368d-ea13-4bfc-b622-055c315da740",
   "metadata": {},
   "outputs": [
    {
     "data": {
      "text/plain": [
       "array([0.27623009, 0.70126328, 0.05048995])"
      ]
     },
     "execution_count": 13,
     "metadata": {},
     "output_type": "execute_result"
    }
   ],
   "source": [
    "y_[:3]"
   ]
  },
  {
   "cell_type": "code",
   "execution_count": 14,
   "id": "2ae7b3a9-bc28-4091-b5b1-ab6175b8fffb",
   "metadata": {},
   "outputs": [
    {
     "data": {
      "text/html": [
       "<style>#sk-container-id-1 {color: black;background-color: white;}#sk-container-id-1 pre{padding: 0;}#sk-container-id-1 div.sk-toggleable {background-color: white;}#sk-container-id-1 label.sk-toggleable__label {cursor: pointer;display: block;width: 100%;margin-bottom: 0;padding: 0.3em;box-sizing: border-box;text-align: center;}#sk-container-id-1 label.sk-toggleable__label-arrow:before {content: \"▸\";float: left;margin-right: 0.25em;color: #696969;}#sk-container-id-1 label.sk-toggleable__label-arrow:hover:before {color: black;}#sk-container-id-1 div.sk-estimator:hover label.sk-toggleable__label-arrow:before {color: black;}#sk-container-id-1 div.sk-toggleable__content {max-height: 0;max-width: 0;overflow: hidden;text-align: left;background-color: #f0f8ff;}#sk-container-id-1 div.sk-toggleable__content pre {margin: 0.2em;color: black;border-radius: 0.25em;background-color: #f0f8ff;}#sk-container-id-1 input.sk-toggleable__control:checked~div.sk-toggleable__content {max-height: 200px;max-width: 100%;overflow: auto;}#sk-container-id-1 input.sk-toggleable__control:checked~label.sk-toggleable__label-arrow:before {content: \"▾\";}#sk-container-id-1 div.sk-estimator input.sk-toggleable__control:checked~label.sk-toggleable__label {background-color: #d4ebff;}#sk-container-id-1 div.sk-label input.sk-toggleable__control:checked~label.sk-toggleable__label {background-color: #d4ebff;}#sk-container-id-1 input.sk-hidden--visually {border: 0;clip: rect(1px 1px 1px 1px);clip: rect(1px, 1px, 1px, 1px);height: 1px;margin: -1px;overflow: hidden;padding: 0;position: absolute;width: 1px;}#sk-container-id-1 div.sk-estimator {font-family: monospace;background-color: #f0f8ff;border: 1px dotted black;border-radius: 0.25em;box-sizing: border-box;margin-bottom: 0.5em;}#sk-container-id-1 div.sk-estimator:hover {background-color: #d4ebff;}#sk-container-id-1 div.sk-parallel-item::after {content: \"\";width: 100%;border-bottom: 1px solid gray;flex-grow: 1;}#sk-container-id-1 div.sk-label:hover label.sk-toggleable__label {background-color: #d4ebff;}#sk-container-id-1 div.sk-serial::before {content: \"\";position: absolute;border-left: 1px solid gray;box-sizing: border-box;top: 0;bottom: 0;left: 50%;z-index: 0;}#sk-container-id-1 div.sk-serial {display: flex;flex-direction: column;align-items: center;background-color: white;padding-right: 0.2em;padding-left: 0.2em;position: relative;}#sk-container-id-1 div.sk-item {position: relative;z-index: 1;}#sk-container-id-1 div.sk-parallel {display: flex;align-items: stretch;justify-content: center;background-color: white;position: relative;}#sk-container-id-1 div.sk-item::before, #sk-container-id-1 div.sk-parallel-item::before {content: \"\";position: absolute;border-left: 1px solid gray;box-sizing: border-box;top: 0;bottom: 0;left: 50%;z-index: -1;}#sk-container-id-1 div.sk-parallel-item {display: flex;flex-direction: column;z-index: 1;position: relative;background-color: white;}#sk-container-id-1 div.sk-parallel-item:first-child::after {align-self: flex-end;width: 50%;}#sk-container-id-1 div.sk-parallel-item:last-child::after {align-self: flex-start;width: 50%;}#sk-container-id-1 div.sk-parallel-item:only-child::after {width: 0;}#sk-container-id-1 div.sk-dashed-wrapped {border: 1px dashed gray;margin: 0 0.4em 0.5em 0.4em;box-sizing: border-box;padding-bottom: 0.4em;background-color: white;}#sk-container-id-1 div.sk-label label {font-family: monospace;font-weight: bold;display: inline-block;line-height: 1.2em;}#sk-container-id-1 div.sk-label-container {text-align: center;}#sk-container-id-1 div.sk-container {/* jupyter's `normalize.less` sets `[hidden] { display: none; }` but bootstrap.min.css set `[hidden] { display: none !important; }` so we also need the `!important` here to be able to override the default hidden behavior on the sphinx rendered scikit-learn.org. See: https://github.com/scikit-learn/scikit-learn/issues/21755 */display: inline-block !important;position: relative;}#sk-container-id-1 div.sk-text-repr-fallback {display: none;}</style><div id=\"sk-container-id-1\" class=\"sk-top-container\"><div class=\"sk-text-repr-fallback\"><pre>DecisionTreeRegressor(max_depth=3, random_state=10)</pre><b>In a Jupyter environment, please rerun this cell to show the HTML representation or trust the notebook. <br />On GitHub, the HTML representation is unable to render, please try loading this page with nbviewer.org.</b></div><div class=\"sk-container\" hidden><div class=\"sk-item\"><div class=\"sk-estimator sk-toggleable\"><input class=\"sk-toggleable__control sk-hidden--visually\" id=\"sk-estimator-id-1\" type=\"checkbox\" checked><label for=\"sk-estimator-id-1\" class=\"sk-toggleable__label sk-toggleable__label-arrow\">DecisionTreeRegressor</label><div class=\"sk-toggleable__content\"><pre>DecisionTreeRegressor(max_depth=3, random_state=10)</pre></div></div></div></div></div>"
      ],
      "text/plain": [
       "DecisionTreeRegressor(max_depth=3, random_state=10)"
      ]
     },
     "execution_count": 14,
     "metadata": {},
     "output_type": "execute_result"
    }
   ],
   "source": [
    "tree_reg1 = DecisionTreeRegressor(max_depth=3, random_state=10)\n",
    "tree_reg1.fit(x_, y_)"
   ]
  },
  {
   "cell_type": "markdown",
   "id": "e3c657cd-a3de-4d0e-8e6d-06865615de1e",
   "metadata": {},
   "source": [
    "- 이전 예측기가 만든 잔여 오차에 대해 다음 의사결정 나무 모형이 학습한다."
   ]
  },
  {
   "cell_type": "code",
   "execution_count": 15,
   "id": "fd497a03-2d2a-4b00-8156-c3af4b06b5c9",
   "metadata": {},
   "outputs": [
    {
     "data": {
      "text/html": [
       "<style>#sk-container-id-2 {color: black;background-color: white;}#sk-container-id-2 pre{padding: 0;}#sk-container-id-2 div.sk-toggleable {background-color: white;}#sk-container-id-2 label.sk-toggleable__label {cursor: pointer;display: block;width: 100%;margin-bottom: 0;padding: 0.3em;box-sizing: border-box;text-align: center;}#sk-container-id-2 label.sk-toggleable__label-arrow:before {content: \"▸\";float: left;margin-right: 0.25em;color: #696969;}#sk-container-id-2 label.sk-toggleable__label-arrow:hover:before {color: black;}#sk-container-id-2 div.sk-estimator:hover label.sk-toggleable__label-arrow:before {color: black;}#sk-container-id-2 div.sk-toggleable__content {max-height: 0;max-width: 0;overflow: hidden;text-align: left;background-color: #f0f8ff;}#sk-container-id-2 div.sk-toggleable__content pre {margin: 0.2em;color: black;border-radius: 0.25em;background-color: #f0f8ff;}#sk-container-id-2 input.sk-toggleable__control:checked~div.sk-toggleable__content {max-height: 200px;max-width: 100%;overflow: auto;}#sk-container-id-2 input.sk-toggleable__control:checked~label.sk-toggleable__label-arrow:before {content: \"▾\";}#sk-container-id-2 div.sk-estimator input.sk-toggleable__control:checked~label.sk-toggleable__label {background-color: #d4ebff;}#sk-container-id-2 div.sk-label input.sk-toggleable__control:checked~label.sk-toggleable__label {background-color: #d4ebff;}#sk-container-id-2 input.sk-hidden--visually {border: 0;clip: rect(1px 1px 1px 1px);clip: rect(1px, 1px, 1px, 1px);height: 1px;margin: -1px;overflow: hidden;padding: 0;position: absolute;width: 1px;}#sk-container-id-2 div.sk-estimator {font-family: monospace;background-color: #f0f8ff;border: 1px dotted black;border-radius: 0.25em;box-sizing: border-box;margin-bottom: 0.5em;}#sk-container-id-2 div.sk-estimator:hover {background-color: #d4ebff;}#sk-container-id-2 div.sk-parallel-item::after {content: \"\";width: 100%;border-bottom: 1px solid gray;flex-grow: 1;}#sk-container-id-2 div.sk-label:hover label.sk-toggleable__label {background-color: #d4ebff;}#sk-container-id-2 div.sk-serial::before {content: \"\";position: absolute;border-left: 1px solid gray;box-sizing: border-box;top: 0;bottom: 0;left: 50%;z-index: 0;}#sk-container-id-2 div.sk-serial {display: flex;flex-direction: column;align-items: center;background-color: white;padding-right: 0.2em;padding-left: 0.2em;position: relative;}#sk-container-id-2 div.sk-item {position: relative;z-index: 1;}#sk-container-id-2 div.sk-parallel {display: flex;align-items: stretch;justify-content: center;background-color: white;position: relative;}#sk-container-id-2 div.sk-item::before, #sk-container-id-2 div.sk-parallel-item::before {content: \"\";position: absolute;border-left: 1px solid gray;box-sizing: border-box;top: 0;bottom: 0;left: 50%;z-index: -1;}#sk-container-id-2 div.sk-parallel-item {display: flex;flex-direction: column;z-index: 1;position: relative;background-color: white;}#sk-container-id-2 div.sk-parallel-item:first-child::after {align-self: flex-end;width: 50%;}#sk-container-id-2 div.sk-parallel-item:last-child::after {align-self: flex-start;width: 50%;}#sk-container-id-2 div.sk-parallel-item:only-child::after {width: 0;}#sk-container-id-2 div.sk-dashed-wrapped {border: 1px dashed gray;margin: 0 0.4em 0.5em 0.4em;box-sizing: border-box;padding-bottom: 0.4em;background-color: white;}#sk-container-id-2 div.sk-label label {font-family: monospace;font-weight: bold;display: inline-block;line-height: 1.2em;}#sk-container-id-2 div.sk-label-container {text-align: center;}#sk-container-id-2 div.sk-container {/* jupyter's `normalize.less` sets `[hidden] { display: none; }` but bootstrap.min.css set `[hidden] { display: none !important; }` so we also need the `!important` here to be able to override the default hidden behavior on the sphinx rendered scikit-learn.org. See: https://github.com/scikit-learn/scikit-learn/issues/21755 */display: inline-block !important;position: relative;}#sk-container-id-2 div.sk-text-repr-fallback {display: none;}</style><div id=\"sk-container-id-2\" class=\"sk-top-container\"><div class=\"sk-text-repr-fallback\"><pre>DecisionTreeRegressor(max_depth=3, random_state=11)</pre><b>In a Jupyter environment, please rerun this cell to show the HTML representation or trust the notebook. <br />On GitHub, the HTML representation is unable to render, please try loading this page with nbviewer.org.</b></div><div class=\"sk-container\" hidden><div class=\"sk-item\"><div class=\"sk-estimator sk-toggleable\"><input class=\"sk-toggleable__control sk-hidden--visually\" id=\"sk-estimator-id-2\" type=\"checkbox\" checked><label for=\"sk-estimator-id-2\" class=\"sk-toggleable__label sk-toggleable__label-arrow\">DecisionTreeRegressor</label><div class=\"sk-toggleable__content\"><pre>DecisionTreeRegressor(max_depth=3, random_state=11)</pre></div></div></div></div></div>"
      ],
      "text/plain": [
       "DecisionTreeRegressor(max_depth=3, random_state=11)"
      ]
     },
     "execution_count": 15,
     "metadata": {},
     "output_type": "execute_result"
    }
   ],
   "source": [
    "y2 = y_ - tree_reg1.predict(x_)  # 첫 번째 모델에 의해 만들어진 오차\n",
    "tree_reg2 = DecisionTreeRegressor(max_depth=3, random_state=11)\n",
    "tree_reg2.fit(x_, y2)"
   ]
  },
  {
   "cell_type": "code",
   "execution_count": 16,
   "id": "b985dbe0-7be1-4d0f-a57b-4164853c52b5",
   "metadata": {},
   "outputs": [
    {
     "data": {
      "text/html": [
       "<style>#sk-container-id-3 {color: black;background-color: white;}#sk-container-id-3 pre{padding: 0;}#sk-container-id-3 div.sk-toggleable {background-color: white;}#sk-container-id-3 label.sk-toggleable__label {cursor: pointer;display: block;width: 100%;margin-bottom: 0;padding: 0.3em;box-sizing: border-box;text-align: center;}#sk-container-id-3 label.sk-toggleable__label-arrow:before {content: \"▸\";float: left;margin-right: 0.25em;color: #696969;}#sk-container-id-3 label.sk-toggleable__label-arrow:hover:before {color: black;}#sk-container-id-3 div.sk-estimator:hover label.sk-toggleable__label-arrow:before {color: black;}#sk-container-id-3 div.sk-toggleable__content {max-height: 0;max-width: 0;overflow: hidden;text-align: left;background-color: #f0f8ff;}#sk-container-id-3 div.sk-toggleable__content pre {margin: 0.2em;color: black;border-radius: 0.25em;background-color: #f0f8ff;}#sk-container-id-3 input.sk-toggleable__control:checked~div.sk-toggleable__content {max-height: 200px;max-width: 100%;overflow: auto;}#sk-container-id-3 input.sk-toggleable__control:checked~label.sk-toggleable__label-arrow:before {content: \"▾\";}#sk-container-id-3 div.sk-estimator input.sk-toggleable__control:checked~label.sk-toggleable__label {background-color: #d4ebff;}#sk-container-id-3 div.sk-label input.sk-toggleable__control:checked~label.sk-toggleable__label {background-color: #d4ebff;}#sk-container-id-3 input.sk-hidden--visually {border: 0;clip: rect(1px 1px 1px 1px);clip: rect(1px, 1px, 1px, 1px);height: 1px;margin: -1px;overflow: hidden;padding: 0;position: absolute;width: 1px;}#sk-container-id-3 div.sk-estimator {font-family: monospace;background-color: #f0f8ff;border: 1px dotted black;border-radius: 0.25em;box-sizing: border-box;margin-bottom: 0.5em;}#sk-container-id-3 div.sk-estimator:hover {background-color: #d4ebff;}#sk-container-id-3 div.sk-parallel-item::after {content: \"\";width: 100%;border-bottom: 1px solid gray;flex-grow: 1;}#sk-container-id-3 div.sk-label:hover label.sk-toggleable__label {background-color: #d4ebff;}#sk-container-id-3 div.sk-serial::before {content: \"\";position: absolute;border-left: 1px solid gray;box-sizing: border-box;top: 0;bottom: 0;left: 50%;z-index: 0;}#sk-container-id-3 div.sk-serial {display: flex;flex-direction: column;align-items: center;background-color: white;padding-right: 0.2em;padding-left: 0.2em;position: relative;}#sk-container-id-3 div.sk-item {position: relative;z-index: 1;}#sk-container-id-3 div.sk-parallel {display: flex;align-items: stretch;justify-content: center;background-color: white;position: relative;}#sk-container-id-3 div.sk-item::before, #sk-container-id-3 div.sk-parallel-item::before {content: \"\";position: absolute;border-left: 1px solid gray;box-sizing: border-box;top: 0;bottom: 0;left: 50%;z-index: -1;}#sk-container-id-3 div.sk-parallel-item {display: flex;flex-direction: column;z-index: 1;position: relative;background-color: white;}#sk-container-id-3 div.sk-parallel-item:first-child::after {align-self: flex-end;width: 50%;}#sk-container-id-3 div.sk-parallel-item:last-child::after {align-self: flex-start;width: 50%;}#sk-container-id-3 div.sk-parallel-item:only-child::after {width: 0;}#sk-container-id-3 div.sk-dashed-wrapped {border: 1px dashed gray;margin: 0 0.4em 0.5em 0.4em;box-sizing: border-box;padding-bottom: 0.4em;background-color: white;}#sk-container-id-3 div.sk-label label {font-family: monospace;font-weight: bold;display: inline-block;line-height: 1.2em;}#sk-container-id-3 div.sk-label-container {text-align: center;}#sk-container-id-3 div.sk-container {/* jupyter's `normalize.less` sets `[hidden] { display: none; }` but bootstrap.min.css set `[hidden] { display: none !important; }` so we also need the `!important` here to be able to override the default hidden behavior on the sphinx rendered scikit-learn.org. See: https://github.com/scikit-learn/scikit-learn/issues/21755 */display: inline-block !important;position: relative;}#sk-container-id-3 div.sk-text-repr-fallback {display: none;}</style><div id=\"sk-container-id-3\" class=\"sk-top-container\"><div class=\"sk-text-repr-fallback\"><pre>DecisionTreeRegressor(max_depth=3, random_state=12)</pre><b>In a Jupyter environment, please rerun this cell to show the HTML representation or trust the notebook. <br />On GitHub, the HTML representation is unable to render, please try loading this page with nbviewer.org.</b></div><div class=\"sk-container\" hidden><div class=\"sk-item\"><div class=\"sk-estimator sk-toggleable\"><input class=\"sk-toggleable__control sk-hidden--visually\" id=\"sk-estimator-id-3\" type=\"checkbox\" checked><label for=\"sk-estimator-id-3\" class=\"sk-toggleable__label sk-toggleable__label-arrow\">DecisionTreeRegressor</label><div class=\"sk-toggleable__content\"><pre>DecisionTreeRegressor(max_depth=3, random_state=12)</pre></div></div></div></div></div>"
      ],
      "text/plain": [
       "DecisionTreeRegressor(max_depth=3, random_state=12)"
      ]
     },
     "execution_count": 16,
     "metadata": {},
     "output_type": "execute_result"
    }
   ],
   "source": [
    "y3 = y2 - tree_reg2.predict(x_)\n",
    "tree_reg3 = DecisionTreeRegressor(max_depth=3, random_state=12)\n",
    "tree_reg3.fit(x_, y3)"
   ]
  },
  {
   "cell_type": "markdown",
   "id": "e8f30c8f-34b8-46cc-bad0-4f9508784751",
   "metadata": {},
   "source": [
    "- 새로운 샘플에 대한 예측을 만들려면 모든 모델의 예측을 더한다."
   ]
  },
  {
   "cell_type": "code",
   "execution_count": 17,
   "id": "7b269a62-fdb1-448e-890b-54231ab3ff6c",
   "metadata": {},
   "outputs": [
    {
     "name": "stdout",
     "output_type": "stream",
     "text": [
      "[0.48433793 0.02328039 0.67494791]\n"
     ]
    }
   ],
   "source": [
    "# y = 3x^2 + noise\n",
    "# x = -0.4, y = 0.48 + a\n",
    "# x = 0.0, a(noise)\n",
    "# x = 0.5, y = 0.75 + a\n",
    "x_new  = np.array([[-0.4],[0.],[0.5]])\n",
    "result = np.sum(model.predict(x_new) for model in (tree_reg1, tree_reg2, tree_reg3))\n",
    "print(result)"
   ]
  },
  {
   "cell_type": "markdown",
   "id": "2a897243-2fc3-43c0-9872-ab97d226d9f7",
   "metadata": {},
   "source": [
    "- 결과 시각화"
   ]
  },
  {
   "cell_type": "code",
   "execution_count": 18,
   "id": "c12101b4-3dd9-44b1-8a99-e27865995993",
   "metadata": {},
   "outputs": [
    {
     "data": {
      "image/png": "[encoded data removed]",
      "text/plain": [
       "<Figure size 1100x1100 with 6 Axes>"
      ]
     },
     "metadata": {},
     "output_type": "display_data"
    }
   ],
   "source": [
    "import matplotlib.pyplot as plt\n",
    "import matplotlib \n",
    "\n",
    "matplotlib.rc('font', family='Malgun Gothic')\n",
    "matplotlib.rcParams['axes.unicode_minus'] = False\n",
    "\n",
    "def plot_predictions(regressors, X, y, axes, style,\n",
    "                     label=None, data_style=\"b.\", data_label=None):\n",
    "    x1 = np.linspace(axes[0], axes[1], 500)\n",
    "    y_pred = sum(regressor.predict(x1.reshape(-1, 1))\n",
    "                 for regressor in regressors)    \n",
    "    plt.plot(X[:, 0], y, data_style, label=data_label)\n",
    "    plt.plot(x1, y_pred, style, linewidth=2, label=label)\n",
    "    if label or data_label:\n",
    "        plt.legend(loc=\"upper center\")\n",
    "    plt.axis(axes)\n",
    "\n",
    "plt.figure(figsize=(11, 11))\n",
    "\n",
    "plt.subplot(3, 2, 1)\n",
    "plot_predictions([tree_reg1], x_, y_, axes=[-0.5, 0.5, -0.2, 0.8], style=\"g-\",\n",
    "                 label=\"$h_1(x_1)$\", data_label=\"훈련 세트\")\n",
    "plt.ylabel(\"$y$  \", rotation=0)\n",
    "plt.title(\"잔여 오차와 예측\")\n",
    "\n",
    "plt.subplot(3, 2, 2)\n",
    "plot_predictions([tree_reg1], x_, y_, axes=[-0.5, 0.5, -0.2, 0.8], style=\"r-\",\n",
    "                 label=\"$h(x_1) = h_1(x_1)$\", data_label=\"훈련 세트\")\n",
    "plt.title(\"앙상블의 예측\")\n",
    "\n",
    "plt.subplot(3, 2, 3)\n",
    "plot_predictions([tree_reg2], x_, y2, axes=[-0.5, 0.5, -0.4, 0.6], style=\"g-\",\n",
    "                 label=\"$h_2(x_1)$\", data_style=\"k+\",\n",
    "                 data_label=\"잔여 오차: $y - h_1(x_1)$\")\n",
    "plt.ylabel(\"$y$  \", rotation=0)\n",
    "\n",
    "plt.subplot(3, 2, 4)\n",
    "plot_predictions([tree_reg1, tree_reg2], x_, y_, axes=[-0.5, 0.5, -0.2, 0.8],\n",
    "                  style=\"r-\", label=\"$h(x_1) = h_1(x_1) + h_2(x_1)$\")\n",
    "\n",
    "plt.subplot(3, 2, 5)\n",
    "plot_predictions([tree_reg3], x_, y3, axes=[-0.5, 0.5, -0.4, 0.6], style=\"g-\",\n",
    "                 label=\"$h_3(x_1)$\", data_style=\"k+\",\n",
    "                 data_label=\"잔여 오차: $y - h_1(x_1) - h_2(x_1)$\")\n",
    "plt.xlabel(\"$x_1$\")\n",
    "plt.ylabel(\"$y$  \", rotation=0)\n",
    "\n",
    "plt.subplot(3, 2, 6)\n",
    "plot_predictions([tree_reg1, tree_reg2, tree_reg3], x_, y_,\n",
    "                 axes=[-0.5, 0.5, -0.2, 0.8], style=\"r-\",\n",
    "                 label=\"$h(x_1) = h_1(x_1) + h_2(x_1) + h_3(x_1)$\")\n",
    "plt.xlabel(\"$x_1$\")\n",
    "\n",
    "plt.show()"
   ]
  },
  {
   "cell_type": "markdown",
   "id": "6bd57767-f8b0-42fd-83af-423d6e7f5391",
   "metadata": {},
   "source": [
    "#### GraientBoostingRegressor와의 비교"
   ]
  },
  {
   "cell_type": "code",
   "execution_count": 19,
   "id": "1078423c-3070-4e0f-80f9-a8d5ea171cff",
   "metadata": {},
   "outputs": [
    {
     "data": {
      "text/html": [
       "<style>#sk-container-id-4 {color: black;background-color: white;}#sk-container-id-4 pre{padding: 0;}#sk-container-id-4 div.sk-toggleable {background-color: white;}#sk-container-id-4 label.sk-toggleable__label {cursor: pointer;display: block;width: 100%;margin-bottom: 0;padding: 0.3em;box-sizing: border-box;text-align: center;}#sk-container-id-4 label.sk-toggleable__label-arrow:before {content: \"▸\";float: left;margin-right: 0.25em;color: #696969;}#sk-container-id-4 label.sk-toggleable__label-arrow:hover:before {color: black;}#sk-container-id-4 div.sk-estimator:hover label.sk-toggleable__label-arrow:before {color: black;}#sk-container-id-4 div.sk-toggleable__content {max-height: 0;max-width: 0;overflow: hidden;text-align: left;background-color: #f0f8ff;}#sk-container-id-4 div.sk-toggleable__content pre {margin: 0.2em;color: black;border-radius: 0.25em;background-color: #f0f8ff;}#sk-container-id-4 input.sk-toggleable__control:checked~div.sk-toggleable__content {max-height: 200px;max-width: 100%;overflow: auto;}#sk-container-id-4 input.sk-toggleable__control:checked~label.sk-toggleable__label-arrow:before {content: \"▾\";}#sk-container-id-4 div.sk-estimator input.sk-toggleable__control:checked~label.sk-toggleable__label {background-color: #d4ebff;}#sk-container-id-4 div.sk-label input.sk-toggleable__control:checked~label.sk-toggleable__label {background-color: #d4ebff;}#sk-container-id-4 input.sk-hidden--visually {border: 0;clip: rect(1px 1px 1px 1px);clip: rect(1px, 1px, 1px, 1px);height: 1px;margin: -1px;overflow: hidden;padding: 0;position: absolute;width: 1px;}#sk-container-id-4 div.sk-estimator {font-family: monospace;background-color: #f0f8ff;border: 1px dotted black;border-radius: 0.25em;box-sizing: border-box;margin-bottom: 0.5em;}#sk-container-id-4 div.sk-estimator:hover {background-color: #d4ebff;}#sk-container-id-4 div.sk-parallel-item::after {content: \"\";width: 100%;border-bottom: 1px solid gray;flex-grow: 1;}#sk-container-id-4 div.sk-label:hover label.sk-toggleable__label {background-color: #d4ebff;}#sk-container-id-4 div.sk-serial::before {content: \"\";position: absolute;border-left: 1px solid gray;box-sizing: border-box;top: 0;bottom: 0;left: 50%;z-index: 0;}#sk-container-id-4 div.sk-serial {display: flex;flex-direction: column;align-items: center;background-color: white;padding-right: 0.2em;padding-left: 0.2em;position: relative;}#sk-container-id-4 div.sk-item {position: relative;z-index: 1;}#sk-container-id-4 div.sk-parallel {display: flex;align-items: stretch;justify-content: center;background-color: white;position: relative;}#sk-container-id-4 div.sk-item::before, #sk-container-id-4 div.sk-parallel-item::before {content: \"\";position: absolute;border-left: 1px solid gray;box-sizing: border-box;top: 0;bottom: 0;left: 50%;z-index: -1;}#sk-container-id-4 div.sk-parallel-item {display: flex;flex-direction: column;z-index: 1;position: relative;background-color: white;}#sk-container-id-4 div.sk-parallel-item:first-child::after {align-self: flex-end;width: 50%;}#sk-container-id-4 div.sk-parallel-item:last-child::after {align-self: flex-start;width: 50%;}#sk-container-id-4 div.sk-parallel-item:only-child::after {width: 0;}#sk-container-id-4 div.sk-dashed-wrapped {border: 1px dashed gray;margin: 0 0.4em 0.5em 0.4em;box-sizing: border-box;padding-bottom: 0.4em;background-color: white;}#sk-container-id-4 div.sk-label label {font-family: monospace;font-weight: bold;display: inline-block;line-height: 1.2em;}#sk-container-id-4 div.sk-label-container {text-align: center;}#sk-container-id-4 div.sk-container {/* jupyter's `normalize.less` sets `[hidden] { display: none; }` but bootstrap.min.css set `[hidden] { display: none !important; }` so we also need the `!important` here to be able to override the default hidden behavior on the sphinx rendered scikit-learn.org. See: https://github.com/scikit-learn/scikit-learn/issues/21755 */display: inline-block !important;position: relative;}#sk-container-id-4 div.sk-text-repr-fallback {display: none;}</style><div id=\"sk-container-id-4\" class=\"sk-top-container\"><div class=\"sk-text-repr-fallback\"><pre>GradientBoostingRegressor(learning_rate=1, n_estimators=3, random_state=10)</pre><b>In a Jupyter environment, please rerun this cell to show the HTML representation or trust the notebook. <br />On GitHub, the HTML representation is unable to render, please try loading this page with nbviewer.org.</b></div><div class=\"sk-container\" hidden><div class=\"sk-item\"><div class=\"sk-estimator sk-toggleable\"><input class=\"sk-toggleable__control sk-hidden--visually\" id=\"sk-estimator-id-4\" type=\"checkbox\" checked><label for=\"sk-estimator-id-4\" class=\"sk-toggleable__label sk-toggleable__label-arrow\">GradientBoostingRegressor</label><div class=\"sk-toggleable__content\"><pre>GradientBoostingRegressor(learning_rate=1, n_estimators=3, random_state=10)</pre></div></div></div></div></div>"
      ],
      "text/plain": [
       "GradientBoostingRegressor(learning_rate=1, n_estimators=3, random_state=10)"
      ]
     },
     "execution_count": 19,
     "metadata": {},
     "output_type": "execute_result"
    }
   ],
   "source": [
    "from sklearn.ensemble import GradientBoostingRegressor\n",
    "\n",
    "# learning_rate: 각 트리의 기여 정도 (default = 1)\n",
    "# 낮게 설정하면 훈련 데이터를 학습시키기 위해 많은 트리를 필요로 하게 된다.\n",
    "gbr1 = GradientBoostingRegressor(max_depth=3, n_estimators=3, learning_rate=1, random_state=10)\n",
    "gbr1.fit(x_, y_)"
   ]
  },
  {
   "cell_type": "code",
   "execution_count": 20,
   "id": "1ab33c9d-0432-4d85-9ff0-c8abd350416f",
   "metadata": {},
   "outputs": [
    {
     "data": {
      "text/html": [
       "<style>#sk-container-id-5 {color: black;background-color: white;}#sk-container-id-5 pre{padding: 0;}#sk-container-id-5 div.sk-toggleable {background-color: white;}#sk-container-id-5 label.sk-toggleable__label {cursor: pointer;display: block;width: 100%;margin-bottom: 0;padding: 0.3em;box-sizing: border-box;text-align: center;}#sk-container-id-5 label.sk-toggleable__label-arrow:before {content: \"▸\";float: left;margin-right: 0.25em;color: #696969;}#sk-container-id-5 label.sk-toggleable__label-arrow:hover:before {color: black;}#sk-container-id-5 div.sk-estimator:hover label.sk-toggleable__label-arrow:before {color: black;}#sk-container-id-5 div.sk-toggleable__content {max-height: 0;max-width: 0;overflow: hidden;text-align: left;background-color: #f0f8ff;}#sk-container-id-5 div.sk-toggleable__content pre {margin: 0.2em;color: black;border-radius: 0.25em;background-color: #f0f8ff;}#sk-container-id-5 input.sk-toggleable__control:checked~div.sk-toggleable__content {max-height: 200px;max-width: 100%;overflow: auto;}#sk-container-id-5 input.sk-toggleable__control:checked~label.sk-toggleable__label-arrow:before {content: \"▾\";}#sk-container-id-5 div.sk-estimator input.sk-toggleable__control:checked~label.sk-toggleable__label {background-color: #d4ebff;}#sk-container-id-5 div.sk-label input.sk-toggleable__control:checked~label.sk-toggleable__label {background-color: #d4ebff;}#sk-container-id-5 input.sk-hidden--visually {border: 0;clip: rect(1px 1px 1px 1px);clip: rect(1px, 1px, 1px, 1px);height: 1px;margin: -1px;overflow: hidden;padding: 0;position: absolute;width: 1px;}#sk-container-id-5 div.sk-estimator {font-family: monospace;background-color: #f0f8ff;border: 1px dotted black;border-radius: 0.25em;box-sizing: border-box;margin-bottom: 0.5em;}#sk-container-id-5 div.sk-estimator:hover {background-color: #d4ebff;}#sk-container-id-5 div.sk-parallel-item::after {content: \"\";width: 100%;border-bottom: 1px solid gray;flex-grow: 1;}#sk-container-id-5 div.sk-label:hover label.sk-toggleable__label {background-color: #d4ebff;}#sk-container-id-5 div.sk-serial::before {content: \"\";position: absolute;border-left: 1px solid gray;box-sizing: border-box;top: 0;bottom: 0;left: 50%;z-index: 0;}#sk-container-id-5 div.sk-serial {display: flex;flex-direction: column;align-items: center;background-color: white;padding-right: 0.2em;padding-left: 0.2em;position: relative;}#sk-container-id-5 div.sk-item {position: relative;z-index: 1;}#sk-container-id-5 div.sk-parallel {display: flex;align-items: stretch;justify-content: center;background-color: white;position: relative;}#sk-container-id-5 div.sk-item::before, #sk-container-id-5 div.sk-parallel-item::before {content: \"\";position: absolute;border-left: 1px solid gray;box-sizing: border-box;top: 0;bottom: 0;left: 50%;z-index: -1;}#sk-container-id-5 div.sk-parallel-item {display: flex;flex-direction: column;z-index: 1;position: relative;background-color: white;}#sk-container-id-5 div.sk-parallel-item:first-child::after {align-self: flex-end;width: 50%;}#sk-container-id-5 div.sk-parallel-item:last-child::after {align-self: flex-start;width: 50%;}#sk-container-id-5 div.sk-parallel-item:only-child::after {width: 0;}#sk-container-id-5 div.sk-dashed-wrapped {border: 1px dashed gray;margin: 0 0.4em 0.5em 0.4em;box-sizing: border-box;padding-bottom: 0.4em;background-color: white;}#sk-container-id-5 div.sk-label label {font-family: monospace;font-weight: bold;display: inline-block;line-height: 1.2em;}#sk-container-id-5 div.sk-label-container {text-align: center;}#sk-container-id-5 div.sk-container {/* jupyter's `normalize.less` sets `[hidden] { display: none; }` but bootstrap.min.css set `[hidden] { display: none !important; }` so we also need the `!important` here to be able to override the default hidden behavior on the sphinx rendered scikit-learn.org. See: https://github.com/scikit-learn/scikit-learn/issues/21755 */display: inline-block !important;position: relative;}#sk-container-id-5 div.sk-text-repr-fallback {display: none;}</style><div id=\"sk-container-id-5\" class=\"sk-top-container\"><div class=\"sk-text-repr-fallback\"><pre>GradientBoostingRegressor(learning_rate=0.05, n_estimators=500, random_state=11)</pre><b>In a Jupyter environment, please rerun this cell to show the HTML representation or trust the notebook. <br />On GitHub, the HTML representation is unable to render, please try loading this page with nbviewer.org.</b></div><div class=\"sk-container\" hidden><div class=\"sk-item\"><div class=\"sk-estimator sk-toggleable\"><input class=\"sk-toggleable__control sk-hidden--visually\" id=\"sk-estimator-id-5\" type=\"checkbox\" checked><label for=\"sk-estimator-id-5\" class=\"sk-toggleable__label sk-toggleable__label-arrow\">GradientBoostingRegressor</label><div class=\"sk-toggleable__content\"><pre>GradientBoostingRegressor(learning_rate=0.05, n_estimators=500, random_state=11)</pre></div></div></div></div></div>"
      ],
      "text/plain": [
       "GradientBoostingRegressor(learning_rate=0.05, n_estimators=500, random_state=11)"
      ]
     },
     "execution_count": 20,
     "metadata": {},
     "output_type": "execute_result"
    }
   ],
   "source": [
    "# n_iter_no_chane: 조기 종료(Early Stopping)와 관련된 파라메터\n",
    "# 지정된 횟수의 반복 동안 더이상 검증 점수 향상이 없으면 학습을 중단한다.\n",
    "gbr2 = GradientBoostingRegressor(max_depth=3, n_estimators=500, learning_rate=0.05, random_state=11)\n",
    "# gbr2 = GradientBoostingRegressor(max_depth=3, n_estimators=500, learning_rate=0.05, random_state=11, n_iter_no_change=11)\n",
    "gbr2.fit(x_, y_)"
   ]
  },
  {
   "cell_type": "code",
   "execution_count": 21,
   "id": "1e4a09e6-f7ec-42c5-8edb-7f4f5326185e",
   "metadata": {},
   "outputs": [
    {
     "name": "stdout",
     "output_type": "stream",
     "text": [
      "500\n"
     ]
    }
   ],
   "source": [
    "print(gbr2.n_estimators_)"
   ]
  },
  {
   "cell_type": "markdown",
   "id": "a037060e-24ab-4f2f-be61-e7839dfc35a8",
   "metadata": {},
   "source": [
    "- 결과 시각화"
   ]
  },
  {
   "cell_type": "code",
   "execution_count": 22,
   "id": "c0d01df6-0126-49f9-b52e-963a0c1a84b6",
   "metadata": {},
   "outputs": [
    {
     "data": {
      "image/png": "[encoded data removed]",
      "text/plain": [
       "<Figure size 1100x400 with 2 Axes>"
      ]
     },
     "metadata": {},
     "output_type": "display_data"
    }
   ],
   "source": [
    "plt.figure(figsize=(11, 4))\n",
    "\n",
    "plt.subplot(1, 2, 1)\n",
    "plot_predictions([gbr1], x_, y_, axes=[-0.5, 0.5, -0.2, 0.8], style=\"g-\", label=\"앙상블 예측\")\n",
    "plt.ylabel(\"$y$  \", rotation=0)\n",
    "plt.title(f'learning_rate={gbr1.learning_rate}, n_estimators={gbr1.n_estimators_}')\n",
    "\n",
    "plt.subplot(1, 2, 2)\n",
    "plot_predictions([gbr2], x_, y_, axes=[-0.5, 0.5, -0.2, 0.8], style=\"r-\", label=\"앙상블 예측\")\n",
    "plt.ylabel(\"$y$  \", rotation=0)\n",
    "plt.title(f'learning_rate={gbr2.learning_rate}, n_estimators={gbr2.n_estimators_}')\n",
    "\n",
    "plt.show()"
   ]
  },
  {
   "cell_type": "markdown",
   "id": "47c7b471-75b5-47ea-aaca-9a711fbd72b5",
   "metadata": {},
   "source": [
    "#### GradientBoostingRegressor"
   ]
  },
  {
   "cell_type": "markdown",
   "id": "f71c737a-e6c1-4e88-8e8c-9a0e83200f78",
   "metadata": {},
   "source": [
    "- 모델 생성 및 학습"
   ]
  },
  {
   "cell_type": "code",
   "execution_count": 23,
   "id": "0ef017a4-5cc4-49ae-99e1-a654e1d77d90",
   "metadata": {},
   "outputs": [
    {
     "data": {
      "text/html": [
       "<style>#sk-container-id-6 {color: black;background-color: white;}#sk-container-id-6 pre{padding: 0;}#sk-container-id-6 div.sk-toggleable {background-color: white;}#sk-container-id-6 label.sk-toggleable__label {cursor: pointer;display: block;width: 100%;margin-bottom: 0;padding: 0.3em;box-sizing: border-box;text-align: center;}#sk-container-id-6 label.sk-toggleable__label-arrow:before {content: \"▸\";float: left;margin-right: 0.25em;color: #696969;}#sk-container-id-6 label.sk-toggleable__label-arrow:hover:before {color: black;}#sk-container-id-6 div.sk-estimator:hover label.sk-toggleable__label-arrow:before {color: black;}#sk-container-id-6 div.sk-toggleable__content {max-height: 0;max-width: 0;overflow: hidden;text-align: left;background-color: #f0f8ff;}#sk-container-id-6 div.sk-toggleable__content pre {margin: 0.2em;color: black;border-radius: 0.25em;background-color: #f0f8ff;}#sk-container-id-6 input.sk-toggleable__control:checked~div.sk-toggleable__content {max-height: 200px;max-width: 100%;overflow: auto;}#sk-container-id-6 input.sk-toggleable__control:checked~label.sk-toggleable__label-arrow:before {content: \"▾\";}#sk-container-id-6 div.sk-estimator input.sk-toggleable__control:checked~label.sk-toggleable__label {background-color: #d4ebff;}#sk-container-id-6 div.sk-label input.sk-toggleable__control:checked~label.sk-toggleable__label {background-color: #d4ebff;}#sk-container-id-6 input.sk-hidden--visually {border: 0;clip: rect(1px 1px 1px 1px);clip: rect(1px, 1px, 1px, 1px);height: 1px;margin: -1px;overflow: hidden;padding: 0;position: absolute;width: 1px;}#sk-container-id-6 div.sk-estimator {font-family: monospace;background-color: #f0f8ff;border: 1px dotted black;border-radius: 0.25em;box-sizing: border-box;margin-bottom: 0.5em;}#sk-container-id-6 div.sk-estimator:hover {background-color: #d4ebff;}#sk-container-id-6 div.sk-parallel-item::after {content: \"\";width: 100%;border-bottom: 1px solid gray;flex-grow: 1;}#sk-container-id-6 div.sk-label:hover label.sk-toggleable__label {background-color: #d4ebff;}#sk-container-id-6 div.sk-serial::before {content: \"\";position: absolute;border-left: 1px solid gray;box-sizing: border-box;top: 0;bottom: 0;left: 50%;z-index: 0;}#sk-container-id-6 div.sk-serial {display: flex;flex-direction: column;align-items: center;background-color: white;padding-right: 0.2em;padding-left: 0.2em;position: relative;}#sk-container-id-6 div.sk-item {position: relative;z-index: 1;}#sk-container-id-6 div.sk-parallel {display: flex;align-items: stretch;justify-content: center;background-color: white;position: relative;}#sk-container-id-6 div.sk-item::before, #sk-container-id-6 div.sk-parallel-item::before {content: \"\";position: absolute;border-left: 1px solid gray;box-sizing: border-box;top: 0;bottom: 0;left: 50%;z-index: -1;}#sk-container-id-6 div.sk-parallel-item {display: flex;flex-direction: column;z-index: 1;position: relative;background-color: white;}#sk-container-id-6 div.sk-parallel-item:first-child::after {align-self: flex-end;width: 50%;}#sk-container-id-6 div.sk-parallel-item:last-child::after {align-self: flex-start;width: 50%;}#sk-container-id-6 div.sk-parallel-item:only-child::after {width: 0;}#sk-container-id-6 div.sk-dashed-wrapped {border: 1px dashed gray;margin: 0 0.4em 0.5em 0.4em;box-sizing: border-box;padding-bottom: 0.4em;background-color: white;}#sk-container-id-6 div.sk-label label {font-family: monospace;font-weight: bold;display: inline-block;line-height: 1.2em;}#sk-container-id-6 div.sk-label-container {text-align: center;}#sk-container-id-6 div.sk-container {/* jupyter's `normalize.less` sets `[hidden] { display: none; }` but bootstrap.min.css set `[hidden] { display: none !important; }` so we also need the `!important` here to be able to override the default hidden behavior on the sphinx rendered scikit-learn.org. See: https://github.com/scikit-learn/scikit-learn/issues/21755 */display: inline-block !important;position: relative;}#sk-container-id-6 div.sk-text-repr-fallback {display: none;}</style><div id=\"sk-container-id-6\" class=\"sk-top-container\"><div class=\"sk-text-repr-fallback\"><pre>GradientBoostingRegressor(learning_rate=0.05, n_estimators=300,\n",
       "                          n_iter_no_change=10, random_state=10)</pre><b>In a Jupyter environment, please rerun this cell to show the HTML representation or trust the notebook. <br />On GitHub, the HTML representation is unable to render, please try loading this page with nbviewer.org.</b></div><div class=\"sk-container\" hidden><div class=\"sk-item\"><div class=\"sk-estimator sk-toggleable\"><input class=\"sk-toggleable__control sk-hidden--visually\" id=\"sk-estimator-id-6\" type=\"checkbox\" checked><label for=\"sk-estimator-id-6\" class=\"sk-toggleable__label sk-toggleable__label-arrow\">GradientBoostingRegressor</label><div class=\"sk-toggleable__content\"><pre>GradientBoostingRegressor(learning_rate=0.05, n_estimators=300,\n",
       "                          n_iter_no_change=10, random_state=10)</pre></div></div></div></div></div>"
      ],
      "text/plain": [
       "GradientBoostingRegressor(learning_rate=0.05, n_estimators=300,\n",
       "                          n_iter_no_change=10, random_state=10)"
      ]
     },
     "execution_count": 23,
     "metadata": {},
     "output_type": "execute_result"
    }
   ],
   "source": [
    "gbr = GradientBoostingRegressor(\n",
    "    max_depth=3,\n",
    "    learning_rate=0.05,\n",
    "    n_estimators=300,\n",
    "    n_iter_no_change=10,\n",
    "    random_state=10\n",
    ")\n",
    "gbr.fit(x_train, y_train)"
   ]
  },
  {
   "cell_type": "markdown",
   "id": "c3ade524-f2a9-4ed0-87ff-f371af3f6655",
   "metadata": {},
   "source": [
    "- 모델 평가"
   ]
  },
  {
   "cell_type": "code",
   "execution_count": 24,
   "id": "b54d0fc3-5b9d-41b2-9d3e-343d76931c93",
   "metadata": {},
   "outputs": [
    {
     "name": "stdout",
     "output_type": "stream",
     "text": [
      "RMSE:3.297\n",
      "R2 Score:0.890\n"
     ]
    }
   ],
   "source": [
    "y_hat = gbr.predict(x_test)\n",
    "print(f'RMSE:{np.sqrt(mean_squared_error(y_test, y_hat)):.3f}')\n",
    "print(f'R2 Score:{r2_score(y_test, y_hat):.3f}')"
   ]
  },
  {
   "cell_type": "markdown",
   "id": "43c19e66-4814-4bde-8051-5efabcc9b59a",
   "metadata": {},
   "source": [
    "### XGBoost"
   ]
  },
  {
   "cell_type": "code",
   "execution_count": 25,
   "id": "45675a34-9767-4dbf-b69f-a7d253475423",
   "metadata": {},
   "outputs": [
    {
     "name": "stdout",
     "output_type": "stream",
     "text": [
      "Requirement already satisfied: xgboost in c:\\users\\user\\anaconda3\\lib\\site-packages (2.0.3)\n",
      "Requirement already satisfied: numpy in c:\\users\\user\\anaconda3\\lib\\site-packages (from xgboost) (1.26.4)\n",
      "Requirement already satisfied: scipy in c:\\users\\user\\anaconda3\\lib\\site-packages (from xgboost) (1.11.4)\n"
     ]
    }
   ],
   "source": [
    "!pip install xgboost"
   ]
  },
  {
   "cell_type": "markdown",
   "id": "9fe3ce6e-3bf8-4d27-b65f-8e2e8852a9f2",
   "metadata": {},
   "source": [
    "#### 파이썬 래퍼 XGBoost"
   ]
  },
  {
   "cell_type": "markdown",
   "id": "7bdfbd65-4c9d-4271-85df-5df80db35bf1",
   "metadata": {},
   "source": [
    "- 패키지 로딩"
   ]
  },
  {
   "cell_type": "code",
   "execution_count": 26,
   "id": "e3ee044e-8cce-41fe-85aa-01fbf2c0a218",
   "metadata": {},
   "outputs": [],
   "source": [
    "import xgboost as xgb"
   ]
  },
  {
   "cell_type": "markdown",
   "id": "f5d64b9f-110c-4812-b954-1bc1553eec21",
   "metadata": {},
   "source": [
    "- 학습데이터 검증 데이터 분리하기"
   ]
  },
  {
   "cell_type": "code",
   "execution_count": 27,
   "id": "16787333-38c3-42e3-8a78-788d6317beb6",
   "metadata": {},
   "outputs": [],
   "source": [
    "# x_train, y_train을 분리해서 90%는 학습, 10%는 (매 반복 학습마다) 검증용으로 사용\n",
    "x_train, x_val, y_train, y_val = train_test_split(x_train, y_train, train_size=0.9, random_state=10)"
   ]
  },
  {
   "cell_type": "markdown",
   "id": "bac89a26-9b09-492c-8a2b-cb72d7d29e22",
   "metadata": {},
   "source": [
    "- DMatrix : XGBoost 전용 데이터 객체"
   ]
  },
  {
   "cell_type": "code",
   "execution_count": 28,
   "id": "908d93a7-3117-4c22-ae0b-bbd94c078b95",
   "metadata": {},
   "outputs": [],
   "source": [
    "feature_names = df.drop('MEDV', axis=1).columns\n",
    "dtrain = xgb.DMatrix(x_train, y_train, feature_names=list(feature_names))\n",
    "dtest = xgb.DMatrix(x_test, y_test, feature_names=list(feature_names))\n",
    "dval = xgb.DMatrix(x_val, y_val, feature_names=list(feature_names))"
   ]
  },
  {
   "cell_type": "markdown",
   "id": "2398d47e-1484-4410-aab7-8de1adf208a7",
   "metadata": {},
   "source": [
    "- 모델 생성 및 학습"
   ]
  },
  {
   "cell_type": "code",
   "execution_count": 29,
   "id": "30f3f4a5-2517-4009-843a-8285019f6df7",
   "metadata": {},
   "outputs": [],
   "source": [
    "params = {\n",
    "    'eval_metric':'rmse', # 성능평가지표\n",
    "    'objective':'reg:squarederror', # 손실함수 지정\n",
    "    'max_depth':3, # 의사결정나무의 깊이\n",
    "    'eta':0.1 # 학습\n",
    "}"
   ]
  },
  {
   "cell_type": "code",
   "execution_count": 30,
   "id": "0607382a-326c-4e0a-9fa5-c77cfdc095b2",
   "metadata": {
    "scrolled": true
   },
   "outputs": [
    {
     "name": "stdout",
     "output_type": "stream",
     "text": [
      "[0]\ttrain-rmse:8.45604\teval-rmse:6.77447\n",
      "[1]\ttrain-rmse:7.81105\teval-rmse:6.33277\n",
      "[2]\ttrain-rmse:7.22947\teval-rmse:5.93251\n",
      "[3]\ttrain-rmse:6.72478\teval-rmse:5.64591\n",
      "[4]\ttrain-rmse:6.25765\teval-rmse:5.31793\n",
      "[5]\ttrain-rmse:5.85585\teval-rmse:5.10174\n",
      "[6]\ttrain-rmse:5.49278\teval-rmse:4.91791\n",
      "[7]\ttrain-rmse:5.12672\teval-rmse:4.68755\n",
      "[8]\ttrain-rmse:4.83821\teval-rmse:4.52721\n",
      "[9]\ttrain-rmse:4.54551\teval-rmse:4.36852\n",
      "[10]\ttrain-rmse:4.28768\teval-rmse:4.19689\n",
      "[11]\ttrain-rmse:4.05949\teval-rmse:4.08055\n",
      "[12]\ttrain-rmse:3.85760\teval-rmse:3.95697\n",
      "[13]\ttrain-rmse:3.67843\teval-rmse:3.85286\n",
      "[14]\ttrain-rmse:3.51753\teval-rmse:3.74871\n",
      "[15]\ttrain-rmse:3.36352\teval-rmse:3.68059\n",
      "[16]\ttrain-rmse:3.23409\teval-rmse:3.61263\n",
      "[17]\ttrain-rmse:3.11430\teval-rmse:3.56835\n",
      "[18]\ttrain-rmse:3.01372\teval-rmse:3.50601\n",
      "[19]\ttrain-rmse:2.92301\teval-rmse:3.45360\n",
      "[20]\ttrain-rmse:2.83922\teval-rmse:3.42702\n",
      "[21]\ttrain-rmse:2.76656\teval-rmse:3.39242\n",
      "[22]\ttrain-rmse:2.69625\teval-rmse:3.35036\n",
      "[23]\ttrain-rmse:2.63599\teval-rmse:3.34103\n",
      "[24]\ttrain-rmse:2.57982\teval-rmse:3.29767\n",
      "[25]\ttrain-rmse:2.52913\teval-rmse:3.26032\n",
      "[26]\ttrain-rmse:2.48319\teval-rmse:3.24417\n",
      "[27]\ttrain-rmse:2.44345\teval-rmse:3.21631\n",
      "[28]\ttrain-rmse:2.40594\teval-rmse:3.21250\n",
      "[29]\ttrain-rmse:2.35737\teval-rmse:3.16567\n",
      "[30]\ttrain-rmse:2.32574\teval-rmse:3.13994\n",
      "[31]\ttrain-rmse:2.29599\teval-rmse:3.10939\n",
      "[32]\ttrain-rmse:2.27077\teval-rmse:3.09964\n",
      "[33]\ttrain-rmse:2.23072\teval-rmse:3.09099\n",
      "[34]\ttrain-rmse:2.19885\teval-rmse:3.05838\n",
      "[35]\ttrain-rmse:2.17530\teval-rmse:3.04557\n",
      "[36]\ttrain-rmse:2.14665\teval-rmse:3.02532\n",
      "[37]\ttrain-rmse:2.12559\teval-rmse:3.01542\n",
      "[38]\ttrain-rmse:2.10056\teval-rmse:3.00749\n",
      "[39]\ttrain-rmse:2.07292\teval-rmse:2.98589\n",
      "[40]\ttrain-rmse:2.05122\teval-rmse:2.97308\n",
      "[41]\ttrain-rmse:2.03541\teval-rmse:2.97646\n",
      "[42]\ttrain-rmse:2.01711\teval-rmse:2.96983\n",
      "[43]\ttrain-rmse:1.99329\teval-rmse:2.95293\n",
      "[44]\ttrain-rmse:1.97539\teval-rmse:2.94605\n",
      "[45]\ttrain-rmse:1.94754\teval-rmse:2.92952\n",
      "[46]\ttrain-rmse:1.92843\teval-rmse:2.94040\n",
      "[47]\ttrain-rmse:1.90717\teval-rmse:2.91361\n",
      "[48]\ttrain-rmse:1.89188\teval-rmse:2.89501\n",
      "[49]\ttrain-rmse:1.87753\teval-rmse:2.88656\n",
      "[50]\ttrain-rmse:1.86692\teval-rmse:2.89042\n",
      "[51]\ttrain-rmse:1.85160\teval-rmse:2.86499\n",
      "[52]\ttrain-rmse:1.83779\teval-rmse:2.87367\n",
      "[53]\ttrain-rmse:1.82833\teval-rmse:2.87200\n",
      "[54]\ttrain-rmse:1.80681\teval-rmse:2.85778\n",
      "[55]\ttrain-rmse:1.79425\teval-rmse:2.85264\n",
      "[56]\ttrain-rmse:1.78414\teval-rmse:2.84570\n",
      "[57]\ttrain-rmse:1.77608\teval-rmse:2.84431\n",
      "[58]\ttrain-rmse:1.76908\teval-rmse:2.84314\n",
      "[59]\ttrain-rmse:1.75619\teval-rmse:2.83084\n",
      "[60]\ttrain-rmse:1.74554\teval-rmse:2.82469\n",
      "[61]\ttrain-rmse:1.73104\teval-rmse:2.80670\n",
      "[62]\ttrain-rmse:1.72484\teval-rmse:2.80283\n",
      "[63]\ttrain-rmse:1.71725\teval-rmse:2.79767\n",
      "[64]\ttrain-rmse:1.71176\teval-rmse:2.79580\n",
      "[65]\ttrain-rmse:1.69848\teval-rmse:2.78705\n",
      "[66]\ttrain-rmse:1.68380\teval-rmse:2.78312\n",
      "[67]\ttrain-rmse:1.67373\teval-rmse:2.78599\n",
      "[68]\ttrain-rmse:1.66856\teval-rmse:2.78951\n",
      "[69]\ttrain-rmse:1.65991\teval-rmse:2.78120\n",
      "[70]\ttrain-rmse:1.65033\teval-rmse:2.77240\n",
      "[71]\ttrain-rmse:1.64434\teval-rmse:2.76747\n",
      "[72]\ttrain-rmse:1.63975\teval-rmse:2.77090\n",
      "[73]\ttrain-rmse:1.63136\teval-rmse:2.76621\n",
      "[74]\ttrain-rmse:1.62742\teval-rmse:2.76934\n",
      "[75]\ttrain-rmse:1.61346\teval-rmse:2.75987\n",
      "[76]\ttrain-rmse:1.60561\teval-rmse:2.75481\n",
      "[77]\ttrain-rmse:1.59038\teval-rmse:2.73617\n",
      "[78]\ttrain-rmse:1.57985\teval-rmse:2.74574\n",
      "[79]\ttrain-rmse:1.57456\teval-rmse:2.74939\n",
      "[80]\ttrain-rmse:1.57106\teval-rmse:2.74720\n",
      "[81]\ttrain-rmse:1.56345\teval-rmse:2.75357\n",
      "[82]\ttrain-rmse:1.55186\teval-rmse:2.75123\n",
      "[83]\ttrain-rmse:1.54877\teval-rmse:2.75421\n",
      "[84]\ttrain-rmse:1.53392\teval-rmse:2.75168\n",
      "[85]\ttrain-rmse:1.52632\teval-rmse:2.75565\n",
      "[86]\ttrain-rmse:1.51771\teval-rmse:2.73980\n",
      "[87]\ttrain-rmse:1.51241\teval-rmse:2.73482\n",
      "[88]\ttrain-rmse:1.50863\teval-rmse:2.73658\n",
      "[89]\ttrain-rmse:1.50171\teval-rmse:2.72511\n",
      "[90]\ttrain-rmse:1.49908\teval-rmse:2.72777\n",
      "[91]\ttrain-rmse:1.48193\teval-rmse:2.71542\n",
      "[92]\ttrain-rmse:1.46991\teval-rmse:2.70608\n",
      "[93]\ttrain-rmse:1.46591\teval-rmse:2.70074\n",
      "[94]\ttrain-rmse:1.46177\teval-rmse:2.70174\n",
      "[95]\ttrain-rmse:1.45577\teval-rmse:2.69467\n",
      "[96]\ttrain-rmse:1.44270\teval-rmse:2.67106\n",
      "[97]\ttrain-rmse:1.43558\teval-rmse:2.65845\n",
      "[98]\ttrain-rmse:1.43032\teval-rmse:2.65116\n",
      "[99]\ttrain-rmse:1.42614\teval-rmse:2.64732\n",
      "[100]\ttrain-rmse:1.41975\teval-rmse:2.64516\n",
      "[101]\ttrain-rmse:1.41017\teval-rmse:2.63657\n",
      "[102]\ttrain-rmse:1.40481\teval-rmse:2.63761\n",
      "[103]\ttrain-rmse:1.40089\teval-rmse:2.63964\n",
      "[104]\ttrain-rmse:1.39652\teval-rmse:2.63458\n",
      "[105]\ttrain-rmse:1.39442\teval-rmse:2.63387\n",
      "[106]\ttrain-rmse:1.38991\teval-rmse:2.63420\n",
      "[107]\ttrain-rmse:1.37981\teval-rmse:2.63052\n",
      "[108]\ttrain-rmse:1.37252\teval-rmse:2.63341\n",
      "[109]\ttrain-rmse:1.36994\teval-rmse:2.63330\n",
      "[110]\ttrain-rmse:1.35509\teval-rmse:2.62324\n",
      "[111]\ttrain-rmse:1.35038\teval-rmse:2.62548\n",
      "[112]\ttrain-rmse:1.34271\teval-rmse:2.62899\n",
      "[113]\ttrain-rmse:1.34096\teval-rmse:2.62921\n",
      "[114]\ttrain-rmse:1.33307\teval-rmse:2.63295\n",
      "[115]\ttrain-rmse:1.32686\teval-rmse:2.63319\n",
      "[116]\ttrain-rmse:1.32307\teval-rmse:2.63048\n",
      "[117]\ttrain-rmse:1.31556\teval-rmse:2.62995\n",
      "[118]\ttrain-rmse:1.31057\teval-rmse:2.63068\n",
      "[119]\ttrain-rmse:1.30749\teval-rmse:2.62886\n",
      "[120]\ttrain-rmse:1.30328\teval-rmse:2.62862\n"
     ]
    }
   ],
   "source": [
    "# num_boost_round: 나무의 개수(반복 학습의 수)\n",
    "# early_stopping_rounds: eval_metric 결과가 early_stopping_rounds 횟수 동안 개선되지 않으면 early_stopping_rounds에 도달하기 전에 조기 종료한다. (evals < 성능 평가를 위한 평가용 데이터 셋>과 함께 설정해야 함)\n",
    "xgb_model = xgb.train(params=params, dtrain=dtrain, num_boost_round=500, early_stopping_rounds=10, \n",
    "                      evals=[(dtrain,'train'), (dval,'eval')])"
   ]
  },
  {
   "cell_type": "markdown",
   "id": "7817e617-7f34-47cf-b8b0-3d58fcab0d22",
   "metadata": {},
   "source": [
    "- 모델 평가"
   ]
  },
  {
   "cell_type": "code",
   "execution_count": 31,
   "id": "4599d6e8-fc46-4c7e-b22b-0a2a40658f30",
   "metadata": {},
   "outputs": [
    {
     "name": "stdout",
     "output_type": "stream",
     "text": [
      "RMSE:3.356\n",
      "R2 Score:0.886\n"
     ]
    }
   ],
   "source": [
    "y_hat = xgb_model.predict(dtest)\n",
    "print(f'RMSE:{np.sqrt(mean_squared_error(y_test, y_hat)):.3f}')\n",
    "print(f'R2 Score:{r2_score(y_test, y_hat):.3f}')"
   ]
  },
  {
   "cell_type": "markdown",
   "id": "74201307-17ef-4b4f-a40b-0c5ad4a4968b",
   "metadata": {},
   "source": [
    "- Feature Importance"
   ]
  },
  {
   "cell_type": "code",
   "execution_count": 32,
   "id": "6239b8ba-6174-4bcd-bf6a-483f9535097c",
   "metadata": {},
   "outputs": [
    {
     "data": {
      "image/png": "[encoded data removed]",
      "text/plain": [
       "<Figure size 640x480 with 1 Axes>"
      ]
     },
     "metadata": {},
     "output_type": "display_data"
    }
   ],
   "source": [
    "import matplotlib.pyplot as plt\n",
    "\n",
    "xgb.plot_importance(xgb_model)\n",
    "plt.show()"
   ]
  },
  {
   "cell_type": "markdown",
   "id": "3250332a-c852-4781-9dcf-61b8ad732a67",
   "metadata": {},
   "source": [
    "#### 사이킷런 래퍼 XGBoost"
   ]
  },
  {
   "cell_type": "code",
   "execution_count": 33,
   "id": "5e07503a-ef2e-4ae3-aeb4-f342362d301b",
   "metadata": {
    "scrolled": true
   },
   "outputs": [
    {
     "name": "stdout",
     "output_type": "stream",
     "text": [
      "[0]\tvalidation_0-rmse:8.45604\tvalidation_1-rmse:6.77447\n",
      "[1]\tvalidation_0-rmse:7.81105\tvalidation_1-rmse:6.33277\n",
      "[2]\tvalidation_0-rmse:7.22947\tvalidation_1-rmse:5.93251\n",
      "[3]\tvalidation_0-rmse:6.72478\tvalidation_1-rmse:5.64591\n",
      "[4]\tvalidation_0-rmse:6.25765\tvalidation_1-rmse:5.31793\n",
      "[5]\tvalidation_0-rmse:5.85585\tvalidation_1-rmse:5.10174\n",
      "[6]\tvalidation_0-rmse:5.49278\tvalidation_1-rmse:4.91791\n",
      "[7]\tvalidation_0-rmse:5.12672\tvalidation_1-rmse:4.68755\n",
      "[8]\tvalidation_0-rmse:4.83821\tvalidation_1-rmse:4.52721\n",
      "[9]\tvalidation_0-rmse:4.54551\tvalidation_1-rmse:4.36852\n",
      "[10]\tvalidation_0-rmse:4.28768\tvalidation_1-rmse:4.19689\n",
      "[11]\tvalidation_0-rmse:4.05949\tvalidation_1-rmse:4.08055\n",
      "[12]\tvalidation_0-rmse:3.85760\tvalidation_1-rmse:3.95697\n",
      "[13]\tvalidation_0-rmse:3.67843\tvalidation_1-rmse:3.85286\n",
      "[14]\tvalidation_0-rmse:3.51753\tvalidation_1-rmse:3.74871\n",
      "[15]\tvalidation_0-rmse:3.36352\tvalidation_1-rmse:3.68059\n",
      "[16]\tvalidation_0-rmse:3.23409\tvalidation_1-rmse:3.61263\n",
      "[17]\tvalidation_0-rmse:3.11430\tvalidation_1-rmse:3.56835\n",
      "[18]\tvalidation_0-rmse:3.01372\tvalidation_1-rmse:3.50601\n",
      "[19]\tvalidation_0-rmse:2.92301\tvalidation_1-rmse:3.45360\n",
      "[20]\tvalidation_0-rmse:2.83922\tvalidation_1-rmse:3.42702\n",
      "[21]\tvalidation_0-rmse:2.76656\tvalidation_1-rmse:3.39242\n",
      "[22]\tvalidation_0-rmse:2.69625\tvalidation_1-rmse:3.35036\n",
      "[23]\tvalidation_0-rmse:2.63599\tvalidation_1-rmse:3.34103\n",
      "[24]\tvalidation_0-rmse:2.57982\tvalidation_1-rmse:3.29767\n",
      "[25]\tvalidation_0-rmse:2.52913\tvalidation_1-rmse:3.26032\n",
      "[26]\tvalidation_0-rmse:2.48319\tvalidation_1-rmse:3.24417\n",
      "[27]\tvalidation_0-rmse:2.44345\tvalidation_1-rmse:3.21631\n",
      "[28]\tvalidation_0-rmse:2.40594\tvalidation_1-rmse:3.21250\n",
      "[29]\tvalidation_0-rmse:2.35737\tvalidation_1-rmse:3.16567\n",
      "[30]\tvalidation_0-rmse:2.32574\tvalidation_1-rmse:3.13994\n",
      "[31]\tvalidation_0-rmse:2.29599\tvalidation_1-rmse:3.10939\n",
      "[32]\tvalidation_0-rmse:2.27077\tvalidation_1-rmse:3.09964\n",
      "[33]\tvalidation_0-rmse:2.23072\tvalidation_1-rmse:3.09099\n",
      "[34]\tvalidation_0-rmse:2.19885\tvalidation_1-rmse:3.05838\n",
      "[35]\tvalidation_0-rmse:2.17530\tvalidation_1-rmse:3.04557\n",
      "[36]\tvalidation_0-rmse:2.14665\tvalidation_1-rmse:3.02532\n",
      "[37]\tvalidation_0-rmse:2.12559\tvalidation_1-rmse:3.01542\n",
      "[38]\tvalidation_0-rmse:2.10056\tvalidation_1-rmse:3.00749\n",
      "[39]\tvalidation_0-rmse:2.07292\tvalidation_1-rmse:2.98589\n",
      "[40]\tvalidation_0-rmse:2.05122\tvalidation_1-rmse:2.97308\n",
      "[41]\tvalidation_0-rmse:2.03541\tvalidation_1-rmse:2.97646\n",
      "[42]\tvalidation_0-rmse:2.01711\tvalidation_1-rmse:2.96983\n",
      "[43]\tvalidation_0-rmse:1.99329\tvalidation_1-rmse:2.95293\n",
      "[44]\tvalidation_0-rmse:1.97539\tvalidation_1-rmse:2.94605\n",
      "[45]\tvalidation_0-rmse:1.94754\tvalidation_1-rmse:2.92952\n",
      "[46]\tvalidation_0-rmse:1.92843\tvalidation_1-rmse:2.94040\n",
      "[47]\tvalidation_0-rmse:1.90717\tvalidation_1-rmse:2.91361\n",
      "[48]\tvalidation_0-rmse:1.89188\tvalidation_1-rmse:2.89501\n",
      "[49]\tvalidation_0-rmse:1.87753\tvalidation_1-rmse:2.88656\n",
      "[50]\tvalidation_0-rmse:1.86692\tvalidation_1-rmse:2.89042\n",
      "[51]\tvalidation_0-rmse:1.85160\tvalidation_1-rmse:2.86499\n",
      "[52]\tvalidation_0-rmse:1.83779\tvalidation_1-rmse:2.87367\n",
      "[53]\tvalidation_0-rmse:1.82833\tvalidation_1-rmse:2.87200\n",
      "[54]\tvalidation_0-rmse:1.80681\tvalidation_1-rmse:2.85778\n",
      "[55]\tvalidation_0-rmse:1.79425\tvalidation_1-rmse:2.85264\n",
      "[56]\tvalidation_0-rmse:1.78414\tvalidation_1-rmse:2.84570\n",
      "[57]\tvalidation_0-rmse:1.77608\tvalidation_1-rmse:2.84431\n",
      "[58]\tvalidation_0-rmse:1.76908\tvalidation_1-rmse:2.84314\n",
      "[59]\tvalidation_0-rmse:1.75619\tvalidation_1-rmse:2.83084\n",
      "[60]\tvalidation_0-rmse:1.74554\tvalidation_1-rmse:2.82469\n",
      "[61]\tvalidation_0-rmse:1.73104\tvalidation_1-rmse:2.80670\n",
      "[62]\tvalidation_0-rmse:1.72484\tvalidation_1-rmse:2.80283\n",
      "[63]\tvalidation_0-rmse:1.71725\tvalidation_1-rmse:2.79767\n",
      "[64]\tvalidation_0-rmse:1.71176\tvalidation_1-rmse:2.79580\n",
      "[65]\tvalidation_0-rmse:1.69848\tvalidation_1-rmse:2.78705\n",
      "[66]\tvalidation_0-rmse:1.68380\tvalidation_1-rmse:2.78312\n",
      "[67]\tvalidation_0-rmse:1.67373\tvalidation_1-rmse:2.78599\n",
      "[68]\tvalidation_0-rmse:1.66856\tvalidation_1-rmse:2.78951\n",
      "[69]\tvalidation_0-rmse:1.65991\tvalidation_1-rmse:2.78120\n",
      "[70]\tvalidation_0-rmse:1.65033\tvalidation_1-rmse:2.77240\n",
      "[71]\tvalidation_0-rmse:1.64434\tvalidation_1-rmse:2.76747\n",
      "[72]\tvalidation_0-rmse:1.63975\tvalidation_1-rmse:2.77090\n",
      "[73]\tvalidation_0-rmse:1.63136\tvalidation_1-rmse:2.76621\n",
      "[74]\tvalidation_0-rmse:1.62742\tvalidation_1-rmse:2.76934\n",
      "[75]\tvalidation_0-rmse:1.61346\tvalidation_1-rmse:2.75987\n",
      "[76]\tvalidation_0-rmse:1.60561\tvalidation_1-rmse:2.75481\n",
      "[77]\tvalidation_0-rmse:1.59038\tvalidation_1-rmse:2.73617\n",
      "[78]\tvalidation_0-rmse:1.57985\tvalidation_1-rmse:2.74574\n",
      "[79]\tvalidation_0-rmse:1.57456\tvalidation_1-rmse:2.74939\n",
      "[80]\tvalidation_0-rmse:1.57106\tvalidation_1-rmse:2.74720\n",
      "[81]\tvalidation_0-rmse:1.56345\tvalidation_1-rmse:2.75357\n",
      "[82]\tvalidation_0-rmse:1.55186\tvalidation_1-rmse:2.75123\n",
      "[83]\tvalidation_0-rmse:1.54877\tvalidation_1-rmse:2.75421\n",
      "[84]\tvalidation_0-rmse:1.53392\tvalidation_1-rmse:2.75168\n",
      "[85]\tvalidation_0-rmse:1.52632\tvalidation_1-rmse:2.75565\n",
      "[86]\tvalidation_0-rmse:1.51771\tvalidation_1-rmse:2.73980\n",
      "[87]\tvalidation_0-rmse:1.51241\tvalidation_1-rmse:2.73482\n",
      "[88]\tvalidation_0-rmse:1.50863\tvalidation_1-rmse:2.73658\n",
      "[89]\tvalidation_0-rmse:1.50171\tvalidation_1-rmse:2.72511\n",
      "[90]\tvalidation_0-rmse:1.49908\tvalidation_1-rmse:2.72777\n",
      "[91]\tvalidation_0-rmse:1.48193\tvalidation_1-rmse:2.71542\n",
      "[92]\tvalidation_0-rmse:1.46991\tvalidation_1-rmse:2.70608\n",
      "[93]\tvalidation_0-rmse:1.46591\tvalidation_1-rmse:2.70074\n",
      "[94]\tvalidation_0-rmse:1.46177\tvalidation_1-rmse:2.70174\n",
      "[95]\tvalidation_0-rmse:1.45577\tvalidation_1-rmse:2.69467\n",
      "[96]\tvalidation_0-rmse:1.44270\tvalidation_1-rmse:2.67106\n",
      "[97]\tvalidation_0-rmse:1.43558\tvalidation_1-rmse:2.65845\n",
      "[98]\tvalidation_0-rmse:1.43032\tvalidation_1-rmse:2.65116\n",
      "[99]\tvalidation_0-rmse:1.42614\tvalidation_1-rmse:2.64732\n",
      "[100]\tvalidation_0-rmse:1.41975\tvalidation_1-rmse:2.64516\n",
      "[101]\tvalidation_0-rmse:1.41017\tvalidation_1-rmse:2.63657\n",
      "[102]\tvalidation_0-rmse:1.40481\tvalidation_1-rmse:2.63761\n",
      "[103]\tvalidation_0-rmse:1.40089\tvalidation_1-rmse:2.63964\n",
      "[104]\tvalidation_0-rmse:1.39652\tvalidation_1-rmse:2.63458\n",
      "[105]\tvalidation_0-rmse:1.39442\tvalidation_1-rmse:2.63387\n",
      "[106]\tvalidation_0-rmse:1.38991\tvalidation_1-rmse:2.63420\n",
      "[107]\tvalidation_0-rmse:1.37981\tvalidation_1-rmse:2.63052\n",
      "[108]\tvalidation_0-rmse:1.37252\tvalidation_1-rmse:2.63341\n",
      "[109]\tvalidation_0-rmse:1.36994\tvalidation_1-rmse:2.63330\n",
      "[110]\tvalidation_0-rmse:1.35509\tvalidation_1-rmse:2.62324\n",
      "[111]\tvalidation_0-rmse:1.35038\tvalidation_1-rmse:2.62548\n",
      "[112]\tvalidation_0-rmse:1.34271\tvalidation_1-rmse:2.62899\n",
      "[113]\tvalidation_0-rmse:1.34096\tvalidation_1-rmse:2.62921\n",
      "[114]\tvalidation_0-rmse:1.33307\tvalidation_1-rmse:2.63295\n",
      "[115]\tvalidation_0-rmse:1.32686\tvalidation_1-rmse:2.63319\n",
      "[116]\tvalidation_0-rmse:1.32307\tvalidation_1-rmse:2.63048\n",
      "[117]\tvalidation_0-rmse:1.31556\tvalidation_1-rmse:2.62995\n",
      "[118]\tvalidation_0-rmse:1.31057\tvalidation_1-rmse:2.63068\n",
      "[119]\tvalidation_0-rmse:1.30749\tvalidation_1-rmse:2.62886\n",
      "[120]\tvalidation_0-rmse:1.30328\tvalidation_1-rmse:2.62862\n"
     ]
    },
    {
     "data": {
      "text/html": [
       "<style>#sk-container-id-7 {color: black;background-color: white;}#sk-container-id-7 pre{padding: 0;}#sk-container-id-7 div.sk-toggleable {background-color: white;}#sk-container-id-7 label.sk-toggleable__label {cursor: pointer;display: block;width: 100%;margin-bottom: 0;padding: 0.3em;box-sizing: border-box;text-align: center;}#sk-container-id-7 label.sk-toggleable__label-arrow:before {content: \"▸\";float: left;margin-right: 0.25em;color: #696969;}#sk-container-id-7 label.sk-toggleable__label-arrow:hover:before {color: black;}#sk-container-id-7 div.sk-estimator:hover label.sk-toggleable__label-arrow:before {color: black;}#sk-container-id-7 div.sk-toggleable__content {max-height: 0;max-width: 0;overflow: hidden;text-align: left;background-color: #f0f8ff;}#sk-container-id-7 div.sk-toggleable__content pre {margin: 0.2em;color: black;border-radius: 0.25em;background-color: #f0f8ff;}#sk-container-id-7 input.sk-toggleable__control:checked~div.sk-toggleable__content {max-height: 200px;max-width: 100%;overflow: auto;}#sk-container-id-7 input.sk-toggleable__control:checked~label.sk-toggleable__label-arrow:before {content: \"▾\";}#sk-container-id-7 div.sk-estimator input.sk-toggleable__control:checked~label.sk-toggleable__label {background-color: #d4ebff;}#sk-container-id-7 div.sk-label input.sk-toggleable__control:checked~label.sk-toggleable__label {background-color: #d4ebff;}#sk-container-id-7 input.sk-hidden--visually {border: 0;clip: rect(1px 1px 1px 1px);clip: rect(1px, 1px, 1px, 1px);height: 1px;margin: -1px;overflow: hidden;padding: 0;position: absolute;width: 1px;}#sk-container-id-7 div.sk-estimator {font-family: monospace;background-color: #f0f8ff;border: 1px dotted black;border-radius: 0.25em;box-sizing: border-box;margin-bottom: 0.5em;}#sk-container-id-7 div.sk-estimator:hover {background-color: #d4ebff;}#sk-container-id-7 div.sk-parallel-item::after {content: \"\";width: 100%;border-bottom: 1px solid gray;flex-grow: 1;}#sk-container-id-7 div.sk-label:hover label.sk-toggleable__label {background-color: #d4ebff;}#sk-container-id-7 div.sk-serial::before {content: \"\";position: absolute;border-left: 1px solid gray;box-sizing: border-box;top: 0;bottom: 0;left: 50%;z-index: 0;}#sk-container-id-7 div.sk-serial {display: flex;flex-direction: column;align-items: center;background-color: white;padding-right: 0.2em;padding-left: 0.2em;position: relative;}#sk-container-id-7 div.sk-item {position: relative;z-index: 1;}#sk-container-id-7 div.sk-parallel {display: flex;align-items: stretch;justify-content: center;background-color: white;position: relative;}#sk-container-id-7 div.sk-item::before, #sk-container-id-7 div.sk-parallel-item::before {content: \"\";position: absolute;border-left: 1px solid gray;box-sizing: border-box;top: 0;bottom: 0;left: 50%;z-index: -1;}#sk-container-id-7 div.sk-parallel-item {display: flex;flex-direction: column;z-index: 1;position: relative;background-color: white;}#sk-container-id-7 div.sk-parallel-item:first-child::after {align-self: flex-end;width: 50%;}#sk-container-id-7 div.sk-parallel-item:last-child::after {align-self: flex-start;width: 50%;}#sk-container-id-7 div.sk-parallel-item:only-child::after {width: 0;}#sk-container-id-7 div.sk-dashed-wrapped {border: 1px dashed gray;margin: 0 0.4em 0.5em 0.4em;box-sizing: border-box;padding-bottom: 0.4em;background-color: white;}#sk-container-id-7 div.sk-label label {font-family: monospace;font-weight: bold;display: inline-block;line-height: 1.2em;}#sk-container-id-7 div.sk-label-container {text-align: center;}#sk-container-id-7 div.sk-container {/* jupyter's `normalize.less` sets `[hidden] { display: none; }` but bootstrap.min.css set `[hidden] { display: none !important; }` so we also need the `!important` here to be able to override the default hidden behavior on the sphinx rendered scikit-learn.org. See: https://github.com/scikit-learn/scikit-learn/issues/21755 */display: inline-block !important;position: relative;}#sk-container-id-7 div.sk-text-repr-fallback {display: none;}</style><div id=\"sk-container-id-7\" class=\"sk-top-container\"><div class=\"sk-text-repr-fallback\"><pre>XGBRegressor(base_score=None, booster=None, callbacks=None,\n",
       "             colsample_bylevel=None, colsample_bynode=None,\n",
       "             colsample_bytree=None, device=None, early_stopping_rounds=None,\n",
       "             enable_categorical=False, eval_metric=None, feature_types=None,\n",
       "             gamma=None, grow_policy=None, importance_type=None,\n",
       "             interaction_constraints=None, learning_rate=0.1, max_bin=None,\n",
       "             max_cat_threshold=None, max_cat_to_onehot=None,\n",
       "             max_delta_step=None, max_depth=3, max_leaves=None,\n",
       "             min_child_weight=None, missing=nan, monotone_constraints=None,\n",
       "             multi_strategy=None, n_estimators=500, n_jobs=None,\n",
       "             num_parallel_tree=None, random_state=None, ...)</pre><b>In a Jupyter environment, please rerun this cell to show the HTML representation or trust the notebook. <br />On GitHub, the HTML representation is unable to render, please try loading this page with nbviewer.org.</b></div><div class=\"sk-container\" hidden><div class=\"sk-item\"><div class=\"sk-estimator sk-toggleable\"><input class=\"sk-toggleable__control sk-hidden--visually\" id=\"sk-estimator-id-7\" type=\"checkbox\" checked><label for=\"sk-estimator-id-7\" class=\"sk-toggleable__label sk-toggleable__label-arrow\">XGBRegressor</label><div class=\"sk-toggleable__content\"><pre>XGBRegressor(base_score=None, booster=None, callbacks=None,\n",
       "             colsample_bylevel=None, colsample_bynode=None,\n",
       "             colsample_bytree=None, device=None, early_stopping_rounds=None,\n",
       "             enable_categorical=False, eval_metric=None, feature_types=None,\n",
       "             gamma=None, grow_policy=None, importance_type=None,\n",
       "             interaction_constraints=None, learning_rate=0.1, max_bin=None,\n",
       "             max_cat_threshold=None, max_cat_to_onehot=None,\n",
       "             max_delta_step=None, max_depth=3, max_leaves=None,\n",
       "             min_child_weight=None, missing=nan, monotone_constraints=None,\n",
       "             multi_strategy=None, n_estimators=500, n_jobs=None,\n",
       "             num_parallel_tree=None, random_state=None, ...)</pre></div></div></div></div></div>"
      ],
      "text/plain": [
       "XGBRegressor(base_score=None, booster=None, callbacks=None,\n",
       "             colsample_bylevel=None, colsample_bynode=None,\n",
       "             colsample_bytree=None, device=None, early_stopping_rounds=None,\n",
       "             enable_categorical=False, eval_metric=None, feature_types=None,\n",
       "             gamma=None, grow_policy=None, importance_type=None,\n",
       "             interaction_constraints=None, learning_rate=0.1, max_bin=None,\n",
       "             max_cat_threshold=None, max_cat_to_onehot=None,\n",
       "             max_delta_step=None, max_depth=3, max_leaves=None,\n",
       "             min_child_weight=None, missing=nan, monotone_constraints=None,\n",
       "             multi_strategy=None, n_estimators=500, n_jobs=None,\n",
       "             num_parallel_tree=None, random_state=None, ...)"
      ]
     },
     "execution_count": 33,
     "metadata": {},
     "output_type": "execute_result"
    }
   ],
   "source": [
    "from xgboost import XGBRegressor\n",
    "\n",
    "xgb_reg = XGBRegressor(n_estimators=500, learning_rate=0.1, max_depth=3)\n",
    "evals = [(x_train, y_train), (x_val, y_val)]\n",
    "xgb_reg.fit(x_train, y_train, early_stopping_rounds=10, eval_metric='rmse', eval_set=evals, verbose=True)"
   ]
  },
  {
   "cell_type": "code",
   "execution_count": 34,
   "id": "251d2d20-6f92-4340-89eb-9a2cd24bc84c",
   "metadata": {},
   "outputs": [
    {
     "name": "stdout",
     "output_type": "stream",
     "text": [
      "RMSE:3.352\n",
      "R2 Score:0.886\n"
     ]
    }
   ],
   "source": [
    "y_hat = xgb_reg.predict(x_test)\n",
    "print(f'RMSE:{np.sqrt(mean_squared_error(y_test, y_hat)):.3f}')\n",
    "print(f'R2 Score:{r2_score(y_test, y_hat):.3f}')"
   ]
  },
  {
   "cell_type": "markdown",
   "id": "13fa13ac-74f7-44be-a153-d2bd1f009211",
   "metadata": {},
   "source": [
    "### LightGBM (사이킷런 래퍼)"
   ]
  },
  {
   "cell_type": "code",
   "execution_count": 35,
   "id": "7a2fc340-0dc2-46f6-bece-1e13dfbb1c0d",
   "metadata": {},
   "outputs": [
    {
     "name": "stdout",
     "output_type": "stream",
     "text": [
      "Requirement already satisfied: lightgbm in c:\\users\\user\\anaconda3\\lib\\site-packages (4.3.0)\n",
      "Requirement already satisfied: numpy in c:\\users\\user\\anaconda3\\lib\\site-packages (from lightgbm) (1.26.4)\n",
      "Requirement already satisfied: scipy in c:\\users\\user\\anaconda3\\lib\\site-packages (from lightgbm) (1.11.4)\n"
     ]
    }
   ],
   "source": [
    "!pip install lightgbm"
   ]
  },
  {
   "cell_type": "code",
   "execution_count": 36,
   "id": "9c11620c-4475-4b70-818c-b89818004062",
   "metadata": {},
   "outputs": [],
   "source": [
    "import lightgbm"
   ]
  },
  {
   "cell_type": "code",
   "execution_count": 37,
   "id": "546d19b3-ce26-4e8d-a841-82e1ea964570",
   "metadata": {},
   "outputs": [],
   "source": [
    "from lightgbm import LGBMRegressor, early_stopping"
   ]
  },
  {
   "cell_type": "code",
   "execution_count": 38,
   "id": "4e3d7c8e-ac78-4dd8-a9c3-0f1d8c8d8127",
   "metadata": {},
   "outputs": [],
   "source": [
    "x_train, x_val, y_train, y_val = train_test_split(x_train, y_train, train_size=0.9, random_state=10)"
   ]
  },
  {
   "cell_type": "code",
   "execution_count": 39,
   "id": "2ad31da6-7c2d-45c4-8c0a-566bae4168fd",
   "metadata": {
    "scrolled": true
   },
   "outputs": [
    {
     "name": "stdout",
     "output_type": "stream",
     "text": [
      "[LightGBM] [Info] Auto-choosing row-wise multi-threading, the overhead of testing was 0.000692 seconds.\n",
      "You can set `force_row_wise=true` to remove the overhead.\n",
      "And if memory is not enough, you can set `force_col_wise=true`.\n",
      "[LightGBM] [Info] Total Bins 816\n",
      "[LightGBM] [Info] Number of data points in the train set: 326, number of used features: 13\n",
      "[LightGBM] [Info] Start training from score 22.832822\n",
      "[LightGBM] [Warning] No further splits with positive gain, best gain: -inf\n",
      "Training until validation scores don't improve for 10 rounds\n",
      "[LightGBM] [Warning] No further splits with positive gain, best gain: -inf\n",
      "[LightGBM] [Warning] No further splits with positive gain, best gain: -inf\n",
      "[LightGBM] [Warning] No further splits with positive gain, best gain: -inf\n",
      "[LightGBM] [Warning] No further splits with positive gain, best gain: -inf\n",
      "[LightGBM] [Warning] No further splits with positive gain, best gain: -inf\n",
      "[LightGBM] [Warning] No further splits with positive gain, best gain: -inf\n",
      "[LightGBM] [Warning] No further splits with positive gain, best gain: -inf\n",
      "[LightGBM] [Warning] No further splits with positive gain, best gain: -inf\n",
      "[LightGBM] [Warning] No further splits with positive gain, best gain: -inf\n",
      "[LightGBM] [Warning] No further splits with positive gain, best gain: -inf\n",
      "[LightGBM] [Warning] No further splits with positive gain, best gain: -inf\n",
      "[LightGBM] [Warning] No further splits with positive gain, best gain: -inf\n",
      "[LightGBM] [Warning] No further splits with positive gain, best gain: -inf\n",
      "[LightGBM] [Warning] No further splits with positive gain, best gain: -inf\n",
      "[LightGBM] [Warning] No further splits with positive gain, best gain: -inf\n",
      "[LightGBM] [Warning] No further splits with positive gain, best gain: -inf\n",
      "[LightGBM] [Warning] No further splits with positive gain, best gain: -inf\n",
      "[LightGBM] [Warning] No further splits with positive gain, best gain: -inf\n",
      "[LightGBM] [Warning] No further splits with positive gain, best gain: -inf\n",
      "[LightGBM] [Warning] No further splits with positive gain, best gain: -inf\n",
      "[LightGBM] [Warning] No further splits with positive gain, best gain: -inf\n",
      "[LightGBM] [Warning] No further splits with positive gain, best gain: -inf\n",
      "[LightGBM] [Warning] No further splits with positive gain, best gain: -inf\n",
      "[LightGBM] [Warning] No further splits with positive gain, best gain: -inf\n",
      "[LightGBM] [Warning] No further splits with positive gain, best gain: -inf\n",
      "[LightGBM] [Warning] No further splits with positive gain, best gain: -inf\n",
      "[LightGBM] [Warning] No further splits with positive gain, best gain: -inf\n",
      "[LightGBM] [Warning] No further splits with positive gain, best gain: -inf\n",
      "[LightGBM] [Warning] No further splits with positive gain, best gain: -inf\n",
      "[LightGBM] [Warning] No further splits with positive gain, best gain: -inf\n",
      "[LightGBM] [Warning] No further splits with positive gain, best gain: -inf\n",
      "[LightGBM] [Warning] No further splits with positive gain, best gain: -inf\n",
      "[LightGBM] [Warning] No further splits with positive gain, best gain: -inf\n",
      "[LightGBM] [Warning] No further splits with positive gain, best gain: -inf\n",
      "[LightGBM] [Warning] No further splits with positive gain, best gain: -inf\n",
      "[LightGBM] [Warning] No further splits with positive gain, best gain: -inf\n",
      "[LightGBM] [Warning] No further splits with positive gain, best gain: -inf\n",
      "[LightGBM] [Warning] No further splits with positive gain, best gain: -inf\n",
      "[LightGBM] [Warning] No further splits with positive gain, best gain: -inf\n",
      "[LightGBM] [Warning] No further splits with positive gain, best gain: -inf\n",
      "[LightGBM] [Warning] No further splits with positive gain, best gain: -inf\n",
      "[LightGBM] [Warning] No further splits with positive gain, best gain: -inf\n",
      "[LightGBM] [Warning] No further splits with positive gain, best gain: -inf\n",
      "[LightGBM] [Warning] No further splits with positive gain, best gain: -inf\n",
      "[LightGBM] [Warning] No further splits with positive gain, best gain: -inf\n",
      "[LightGBM] [Warning] No further splits with positive gain, best gain: -inf\n",
      "[LightGBM] [Warning] No further splits with positive gain, best gain: -inf\n",
      "[LightGBM] [Warning] No further splits with positive gain, best gain: -inf\n",
      "[LightGBM] [Warning] No further splits with positive gain, best gain: -inf\n",
      "[LightGBM] [Warning] No further splits with positive gain, best gain: -inf\n",
      "[LightGBM] [Warning] No further splits with positive gain, best gain: -inf\n",
      "[LightGBM] [Warning] No further splits with positive gain, best gain: -inf\n",
      "[LightGBM] [Warning] No further splits with positive gain, best gain: -inf\n",
      "[LightGBM] [Warning] No further splits with positive gain, best gain: -inf\n",
      "[LightGBM] [Warning] No further splits with positive gain, best gain: -inf\n",
      "[LightGBM] [Warning] No further splits with positive gain, best gain: -inf\n",
      "[LightGBM] [Warning] No further splits with positive gain, best gain: -inf\n",
      "[LightGBM] [Warning] No further splits with positive gain, best gain: -inf\n",
      "[LightGBM] [Warning] No further splits with positive gain, best gain: -inf\n",
      "[LightGBM] [Warning] No further splits with positive gain, best gain: -inf\n",
      "[LightGBM] [Warning] No further splits with positive gain, best gain: -inf\n",
      "[LightGBM] [Warning] No further splits with positive gain, best gain: -inf\n",
      "[LightGBM] [Warning] No further splits with positive gain, best gain: -inf\n",
      "[LightGBM] [Warning] No further splits with positive gain, best gain: -inf\n",
      "[LightGBM] [Warning] No further splits with positive gain, best gain: -inf\n",
      "[LightGBM] [Warning] No further splits with positive gain, best gain: -inf\n",
      "[LightGBM] [Warning] No further splits with positive gain, best gain: -inf\n",
      "[LightGBM] [Warning] No further splits with positive gain, best gain: -inf\n",
      "[LightGBM] [Warning] No further splits with positive gain, best gain: -inf\n",
      "[LightGBM] [Warning] No further splits with positive gain, best gain: -inf\n",
      "Early stopping, best iteration is:\n",
      "[62]\ttraining's rmse: 2.58129\ttraining's l2: 6.66306\tvalid_1's rmse: 4.16243\tvalid_1's l2: 17.3258\n"
     ]
    },
    {
     "data": {
      "text/html": [
       "<style>#sk-container-id-8 {color: black;background-color: white;}#sk-container-id-8 pre{padding: 0;}#sk-container-id-8 div.sk-toggleable {background-color: white;}#sk-container-id-8 label.sk-toggleable__label {cursor: pointer;display: block;width: 100%;margin-bottom: 0;padding: 0.3em;box-sizing: border-box;text-align: center;}#sk-container-id-8 label.sk-toggleable__label-arrow:before {content: \"▸\";float: left;margin-right: 0.25em;color: #696969;}#sk-container-id-8 label.sk-toggleable__label-arrow:hover:before {color: black;}#sk-container-id-8 div.sk-estimator:hover label.sk-toggleable__label-arrow:before {color: black;}#sk-container-id-8 div.sk-toggleable__content {max-height: 0;max-width: 0;overflow: hidden;text-align: left;background-color: #f0f8ff;}#sk-container-id-8 div.sk-toggleable__content pre {margin: 0.2em;color: black;border-radius: 0.25em;background-color: #f0f8ff;}#sk-container-id-8 input.sk-toggleable__control:checked~div.sk-toggleable__content {max-height: 200px;max-width: 100%;overflow: auto;}#sk-container-id-8 input.sk-toggleable__control:checked~label.sk-toggleable__label-arrow:before {content: \"▾\";}#sk-container-id-8 div.sk-estimator input.sk-toggleable__control:checked~label.sk-toggleable__label {background-color: #d4ebff;}#sk-container-id-8 div.sk-label input.sk-toggleable__control:checked~label.sk-toggleable__label {background-color: #d4ebff;}#sk-container-id-8 input.sk-hidden--visually {border: 0;clip: rect(1px 1px 1px 1px);clip: rect(1px, 1px, 1px, 1px);height: 1px;margin: -1px;overflow: hidden;padding: 0;position: absolute;width: 1px;}#sk-container-id-8 div.sk-estimator {font-family: monospace;background-color: #f0f8ff;border: 1px dotted black;border-radius: 0.25em;box-sizing: border-box;margin-bottom: 0.5em;}#sk-container-id-8 div.sk-estimator:hover {background-color: #d4ebff;}#sk-container-id-8 div.sk-parallel-item::after {content: \"\";width: 100%;border-bottom: 1px solid gray;flex-grow: 1;}#sk-container-id-8 div.sk-label:hover label.sk-toggleable__label {background-color: #d4ebff;}#sk-container-id-8 div.sk-serial::before {content: \"\";position: absolute;border-left: 1px solid gray;box-sizing: border-box;top: 0;bottom: 0;left: 50%;z-index: 0;}#sk-container-id-8 div.sk-serial {display: flex;flex-direction: column;align-items: center;background-color: white;padding-right: 0.2em;padding-left: 0.2em;position: relative;}#sk-container-id-8 div.sk-item {position: relative;z-index: 1;}#sk-container-id-8 div.sk-parallel {display: flex;align-items: stretch;justify-content: center;background-color: white;position: relative;}#sk-container-id-8 div.sk-item::before, #sk-container-id-8 div.sk-parallel-item::before {content: \"\";position: absolute;border-left: 1px solid gray;box-sizing: border-box;top: 0;bottom: 0;left: 50%;z-index: -1;}#sk-container-id-8 div.sk-parallel-item {display: flex;flex-direction: column;z-index: 1;position: relative;background-color: white;}#sk-container-id-8 div.sk-parallel-item:first-child::after {align-self: flex-end;width: 50%;}#sk-container-id-8 div.sk-parallel-item:last-child::after {align-self: flex-start;width: 50%;}#sk-container-id-8 div.sk-parallel-item:only-child::after {width: 0;}#sk-container-id-8 div.sk-dashed-wrapped {border: 1px dashed gray;margin: 0 0.4em 0.5em 0.4em;box-sizing: border-box;padding-bottom: 0.4em;background-color: white;}#sk-container-id-8 div.sk-label label {font-family: monospace;font-weight: bold;display: inline-block;line-height: 1.2em;}#sk-container-id-8 div.sk-label-container {text-align: center;}#sk-container-id-8 div.sk-container {/* jupyter's `normalize.less` sets `[hidden] { display: none; }` but bootstrap.min.css set `[hidden] { display: none !important; }` so we also need the `!important` here to be able to override the default hidden behavior on the sphinx rendered scikit-learn.org. See: https://github.com/scikit-learn/scikit-learn/issues/21755 */display: inline-block !important;position: relative;}#sk-container-id-8 div.sk-text-repr-fallback {display: none;}</style><div id=\"sk-container-id-8\" class=\"sk-top-container\"><div class=\"sk-text-repr-fallback\"><pre>LGBMRegressor(max_depth=3, n_estimators=500)</pre><b>In a Jupyter environment, please rerun this cell to show the HTML representation or trust the notebook. <br />On GitHub, the HTML representation is unable to render, please try loading this page with nbviewer.org.</b></div><div class=\"sk-container\" hidden><div class=\"sk-item\"><div class=\"sk-estimator sk-toggleable\"><input class=\"sk-toggleable__control sk-hidden--visually\" id=\"sk-estimator-id-8\" type=\"checkbox\" checked><label for=\"sk-estimator-id-8\" class=\"sk-toggleable__label sk-toggleable__label-arrow\">LGBMRegressor</label><div class=\"sk-toggleable__content\"><pre>LGBMRegressor(max_depth=3, n_estimators=500)</pre></div></div></div></div></div>"
      ],
      "text/plain": [
       "LGBMRegressor(max_depth=3, n_estimators=500)"
      ]
     },
     "execution_count": 39,
     "metadata": {},
     "output_type": "execute_result"
    }
   ],
   "source": [
    "lgbm_reg = LGBMRegressor(n_estimators=500, learning_rate=0.1, max_depth=3)\n",
    "evals = [(x_train, y_train), (x_val, y_val)]\n",
    "lgbm_reg.fit(x_train, y_train, eval_metric='rmse', callbacks=[early_stopping(stopping_rounds=10)], eval_set=evals)"
   ]
  },
  {
   "cell_type": "code",
   "execution_count": 40,
   "id": "820a98a3-c5ff-44b5-8c0b-3acbf0b2be17",
   "metadata": {},
   "outputs": [
    {
     "name": "stdout",
     "output_type": "stream",
     "text": [
      "RMSE:3.587\n",
      "R2 Score:0.870\n"
     ]
    }
   ],
   "source": [
    "y_hat = lgbm_reg.predict(x_test)\n",
    "print(f'RMSE:{np.sqrt(mean_squared_error(y_test, y_hat)):.3f}')\n",
    "print(f'R2 Score:{r2_score(y_test, y_hat):.3f}')"
   ]
  },
  {
   "cell_type": "markdown",
   "id": "9649a54a-eb77-48de-8ec8-31c4dc433dbd",
   "metadata": {},
   "source": [
    "# 앙상블 분류"
   ]
  },
  {
   "cell_type": "markdown",
   "id": "014ea448-a6a2-460a-9006-04e5a17a7e0e",
   "metadata": {},
   "source": [
    "## (공통) 데이터 로딩 및 분할"
   ]
  },
  {
   "cell_type": "code",
   "execution_count": 42,
   "id": "73d152c1-4414-426c-863e-717c1efc1ce6",
   "metadata": {},
   "outputs": [],
   "source": [
    "from sklearn.model_selection import train_test_split\n",
    "from sklearn.metrics import accuracy_score, roc_auc_score  # 분류 모형\n",
    "from sklearn.datasets import load_breast_cancer\n",
    "\n",
    "import numpy as np\n",
    "import pandas as pd"
   ]
  },
  {
   "cell_type": "code",
   "execution_count": 45,
   "id": "1ed6f530-baaf-444e-9bc6-fe6607ac07ae",
   "metadata": {},
   "outputs": [
    {
     "name": "stdout",
     "output_type": "stream",
     "text": [
      "(569, 30)\n"
     ]
    },
    {
     "data": {
      "text/html": [
       "<div>\n",
       "<style scoped>\n",
       "    .dataframe tbody tr th:only-of-type {\n",
       "        vertical-align: middle;\n",
       "    }\n",
       "\n",
       "    .dataframe tbody tr th {\n",
       "        vertical-align: top;\n",
       "    }\n",
       "\n",
       "    .dataframe thead th {\n",
       "        text-align: right;\n",
       "    }\n",
       "</style>\n",
       "<table border=\"1\" class=\"dataframe\">\n",
       "  <thead>\n",
       "    <tr style=\"text-align: right;\">\n",
       "      <th></th>\n",
       "      <th>mean radius</th>\n",
       "      <th>mean texture</th>\n",
       "      <th>mean perimeter</th>\n",
       "      <th>mean area</th>\n",
       "      <th>mean smoothness</th>\n",
       "      <th>mean compactness</th>\n",
       "      <th>mean concavity</th>\n",
       "      <th>mean concave points</th>\n",
       "      <th>mean symmetry</th>\n",
       "      <th>mean fractal dimension</th>\n",
       "      <th>...</th>\n",
       "      <th>worst radius</th>\n",
       "      <th>worst texture</th>\n",
       "      <th>worst perimeter</th>\n",
       "      <th>worst area</th>\n",
       "      <th>worst smoothness</th>\n",
       "      <th>worst compactness</th>\n",
       "      <th>worst concavity</th>\n",
       "      <th>worst concave points</th>\n",
       "      <th>worst symmetry</th>\n",
       "      <th>worst fractal dimension</th>\n",
       "    </tr>\n",
       "  </thead>\n",
       "  <tbody>\n",
       "    <tr>\n",
       "      <th>0</th>\n",
       "      <td>17.99</td>\n",
       "      <td>10.38</td>\n",
       "      <td>122.80</td>\n",
       "      <td>1001.0</td>\n",
       "      <td>0.11840</td>\n",
       "      <td>0.27760</td>\n",
       "      <td>0.3001</td>\n",
       "      <td>0.14710</td>\n",
       "      <td>0.2419</td>\n",
       "      <td>0.07871</td>\n",
       "      <td>...</td>\n",
       "      <td>25.38</td>\n",
       "      <td>17.33</td>\n",
       "      <td>184.60</td>\n",
       "      <td>2019.0</td>\n",
       "      <td>0.1622</td>\n",
       "      <td>0.6656</td>\n",
       "      <td>0.7119</td>\n",
       "      <td>0.2654</td>\n",
       "      <td>0.4601</td>\n",
       "      <td>0.11890</td>\n",
       "    </tr>\n",
       "    <tr>\n",
       "      <th>1</th>\n",
       "      <td>20.57</td>\n",
       "      <td>17.77</td>\n",
       "      <td>132.90</td>\n",
       "      <td>1326.0</td>\n",
       "      <td>0.08474</td>\n",
       "      <td>0.07864</td>\n",
       "      <td>0.0869</td>\n",
       "      <td>0.07017</td>\n",
       "      <td>0.1812</td>\n",
       "      <td>0.05667</td>\n",
       "      <td>...</td>\n",
       "      <td>24.99</td>\n",
       "      <td>23.41</td>\n",
       "      <td>158.80</td>\n",
       "      <td>1956.0</td>\n",
       "      <td>0.1238</td>\n",
       "      <td>0.1866</td>\n",
       "      <td>0.2416</td>\n",
       "      <td>0.1860</td>\n",
       "      <td>0.2750</td>\n",
       "      <td>0.08902</td>\n",
       "    </tr>\n",
       "    <tr>\n",
       "      <th>2</th>\n",
       "      <td>19.69</td>\n",
       "      <td>21.25</td>\n",
       "      <td>130.00</td>\n",
       "      <td>1203.0</td>\n",
       "      <td>0.10960</td>\n",
       "      <td>0.15990</td>\n",
       "      <td>0.1974</td>\n",
       "      <td>0.12790</td>\n",
       "      <td>0.2069</td>\n",
       "      <td>0.05999</td>\n",
       "      <td>...</td>\n",
       "      <td>23.57</td>\n",
       "      <td>25.53</td>\n",
       "      <td>152.50</td>\n",
       "      <td>1709.0</td>\n",
       "      <td>0.1444</td>\n",
       "      <td>0.4245</td>\n",
       "      <td>0.4504</td>\n",
       "      <td>0.2430</td>\n",
       "      <td>0.3613</td>\n",
       "      <td>0.08758</td>\n",
       "    </tr>\n",
       "    <tr>\n",
       "      <th>3</th>\n",
       "      <td>11.42</td>\n",
       "      <td>20.38</td>\n",
       "      <td>77.58</td>\n",
       "      <td>386.1</td>\n",
       "      <td>0.14250</td>\n",
       "      <td>0.28390</td>\n",
       "      <td>0.2414</td>\n",
       "      <td>0.10520</td>\n",
       "      <td>0.2597</td>\n",
       "      <td>0.09744</td>\n",
       "      <td>...</td>\n",
       "      <td>14.91</td>\n",
       "      <td>26.50</td>\n",
       "      <td>98.87</td>\n",
       "      <td>567.7</td>\n",
       "      <td>0.2098</td>\n",
       "      <td>0.8663</td>\n",
       "      <td>0.6869</td>\n",
       "      <td>0.2575</td>\n",
       "      <td>0.6638</td>\n",
       "      <td>0.17300</td>\n",
       "    </tr>\n",
       "    <tr>\n",
       "      <th>4</th>\n",
       "      <td>20.29</td>\n",
       "      <td>14.34</td>\n",
       "      <td>135.10</td>\n",
       "      <td>1297.0</td>\n",
       "      <td>0.10030</td>\n",
       "      <td>0.13280</td>\n",
       "      <td>0.1980</td>\n",
       "      <td>0.10430</td>\n",
       "      <td>0.1809</td>\n",
       "      <td>0.05883</td>\n",
       "      <td>...</td>\n",
       "      <td>22.54</td>\n",
       "      <td>16.67</td>\n",
       "      <td>152.20</td>\n",
       "      <td>1575.0</td>\n",
       "      <td>0.1374</td>\n",
       "      <td>0.2050</td>\n",
       "      <td>0.4000</td>\n",
       "      <td>0.1625</td>\n",
       "      <td>0.2364</td>\n",
       "      <td>0.07678</td>\n",
       "    </tr>\n",
       "  </tbody>\n",
       "</table>\n",
       "<p>5 rows × 30 columns</p>\n",
       "</div>"
      ],
      "text/plain": [
       "   mean radius  mean texture  mean perimeter  mean area  mean smoothness  \\\n",
       "0        17.99         10.38          122.80     1001.0          0.11840   \n",
       "1        20.57         17.77          132.90     1326.0          0.08474   \n",
       "2        19.69         21.25          130.00     1203.0          0.10960   \n",
       "3        11.42         20.38           77.58      386.1          0.14250   \n",
       "4        20.29         14.34          135.10     1297.0          0.10030   \n",
       "\n",
       "   mean compactness  mean concavity  mean concave points  mean symmetry  \\\n",
       "0           0.27760          0.3001              0.14710         0.2419   \n",
       "1           0.07864          0.0869              0.07017         0.1812   \n",
       "2           0.15990          0.1974              0.12790         0.2069   \n",
       "3           0.28390          0.2414              0.10520         0.2597   \n",
       "4           0.13280          0.1980              0.10430         0.1809   \n",
       "\n",
       "   mean fractal dimension  ...  worst radius  worst texture  worst perimeter  \\\n",
       "0                 0.07871  ...         25.38          17.33           184.60   \n",
       "1                 0.05667  ...         24.99          23.41           158.80   \n",
       "2                 0.05999  ...         23.57          25.53           152.50   \n",
       "3                 0.09744  ...         14.91          26.50            98.87   \n",
       "4                 0.05883  ...         22.54          16.67           152.20   \n",
       "\n",
       "   worst area  worst smoothness  worst compactness  worst concavity  \\\n",
       "0      2019.0            0.1622             0.6656           0.7119   \n",
       "1      1956.0            0.1238             0.1866           0.2416   \n",
       "2      1709.0            0.1444             0.4245           0.4504   \n",
       "3       567.7            0.2098             0.8663           0.6869   \n",
       "4      1575.0            0.1374             0.2050           0.4000   \n",
       "\n",
       "   worst concave points  worst symmetry  worst fractal dimension  \n",
       "0                0.2654          0.4601                  0.11890  \n",
       "1                0.1860          0.2750                  0.08902  \n",
       "2                0.2430          0.3613                  0.08758  \n",
       "3                0.2575          0.6638                  0.17300  \n",
       "4                0.1625          0.2364                  0.07678  \n",
       "\n",
       "[5 rows x 30 columns]"
      ]
     },
     "metadata": {},
     "output_type": "display_data"
    }
   ],
   "source": [
    "cancer = load_breast_cancer()\n",
    "df = pd.DataFrame(cancer.data, columns=cancer.feature_names)\n",
    "print(df.shape)\n",
    "display(df.head())\n",
    "\n",
    "x = df\n",
    "y = cancer.target"
   ]
  },
  {
   "cell_type": "code",
   "execution_count": 46,
   "id": "5112a8dc-a04b-48f0-a6f3-4cfe2d13b659",
   "metadata": {},
   "outputs": [],
   "source": [
    "x_train, x_test, y_train, y_test = train_test_split(x, y, train_size=0.8, random_state=0, stratify=y)"
   ]
  },
  {
   "cell_type": "markdown",
   "id": "ecd5ebda-58fb-47fd-862f-177baf3e6a4c",
   "metadata": {},
   "source": [
    "## Voting"
   ]
  },
  {
   "cell_type": "markdown",
   "id": "e29bbb94-08bc-487b-9049-72220593ed4d",
   "metadata": {},
   "source": [
    "### 패키지 로딩"
   ]
  },
  {
   "cell_type": "code",
   "execution_count": 47,
   "id": "93c67d91-d6ef-46ae-9596-d3935a0722f8",
   "metadata": {},
   "outputs": [],
   "source": [
    "from sklearn.ensemble import VotingClassifier\n",
    "from sklearn.linear_model import LogisticRegression\n",
    "from sklearn.neighbors import KNeighborsClassifier\n",
    "from sklearn.naive_bayes import GaussianNB  # 데이터가 모두 수치형이기 때문에"
   ]
  },
  {
   "cell_type": "markdown",
   "id": "e12c8f41-537c-46d7-81f7-e40ef6ac5978",
   "metadata": {},
   "source": [
    "### 모델 생성\n",
    "- voting: hard, soft 값 사용 (default = hard)"
   ]
  },
  {
   "cell_type": "code",
   "execution_count": 49,
   "id": "839e0e0d-3050-4532-b535-d48317596234",
   "metadata": {},
   "outputs": [],
   "source": [
    "logistic = LogisticRegression(max_iter=4000)\n",
    "knn = KNeighborsClassifier(n_neighbors=3)\n",
    "nb = GaussianNB()\n",
    "\n",
    "vo_c = VotingClassifier(estimators=[('Logistic', logistic), ('KNN', knn), ('Naive_Bayes', nb)], voting='soft')"
   ]
  },
  {
   "cell_type": "markdown",
   "id": "a18f8a9b-d5b0-48b1-b343-fb3a0f2179bf",
   "metadata": {},
   "source": [
    "### 학습 및 평가"
   ]
  },
  {
   "cell_type": "code",
   "execution_count": 54,
   "id": "4438d3a9-e826-477f-b662-fbfbff2927d0",
   "metadata": {},
   "outputs": [
    {
     "name": "stdout",
     "output_type": "stream",
     "text": [
      "정확도:0.956\n",
      "AUC:0.988\n"
     ]
    }
   ],
   "source": [
    "vo_c.fit(x_train, y_train) \n",
    "y_hat = vo_c.predict(x_test)\n",
    "\n",
    "print(f'정확도:{accuracy_score(y_test, y_hat):.3f}')\n",
    "print(f'AUC:{roc_auc_score(y_test, vo_c.predict_proba(x_test)[:,1]):.3f}')\n",
    "# voting = hard 일 경우, predict_proba 결과 도출 불가"
   ]
  },
  {
   "cell_type": "markdown",
   "id": "edc6da4b-6fa4-4047-bac9-aa5d9c8c7420",
   "metadata": {},
   "source": [
    "### 개별 분류모형 학습결과 비교"
   ]
  },
  {
   "cell_type": "code",
   "execution_count": 53,
   "id": "f701c0a8-5c19-4804-8557-a613c6b5a961",
   "metadata": {},
   "outputs": [
    {
     "name": "stdout",
     "output_type": "stream",
     "text": [
      "Logistic 모델 정확도:0.947\n",
      "Logistic 모델 AUC:0.994\n",
      "========================================\n",
      "KNN 모델 정확도:0.904\n",
      "KNN 모델 AUC:0.931\n",
      "========================================\n",
      "Naive_Bayes 모델 정확도:0.921\n",
      "Naive_Bayes 모델 AUC:0.971\n",
      "========================================\n"
     ]
    }
   ],
   "source": [
    "estimators = [('Logistic', logistic), ('KNN', knn), ('Naive_Bayes', nb)]\n",
    "for name, model in estimators:\n",
    "    model.fit(x_train, y_train) \n",
    "    y_hat = model.predict(x_test)\n",
    "\n",
    "    print(f'{name} 모델 정확도:{accuracy_score(y_test, y_hat):.3f}')\n",
    "    print(f'{name} 모델 AUC:{roc_auc_score(y_test, model.predict_proba(x_test)[:,1]):.3f}')\n",
    "    print('='*40)"
   ]
  },
  {
   "cell_type": "markdown",
   "id": "adaf1cd8-e8fb-4d07-a14e-34d2b8353d8e",
   "metadata": {},
   "source": [
    "## Boosting"
   ]
  },
  {
   "cell_type": "markdown",
   "id": "44a96631-408e-4c7b-81f8-dce862a245ed",
   "metadata": {},
   "source": [
    "### AdaBoost"
   ]
  },
  {
   "cell_type": "markdown",
   "id": "16c6052c-e1c2-4ce9-8383-c2fc67d7436a",
   "metadata": {},
   "source": [
    "#### 패키지 로딩"
   ]
  },
  {
   "cell_type": "code",
   "execution_count": 55,
   "id": "87b2dfb0-e00f-4d61-997a-5cca9188fb9a",
   "metadata": {},
   "outputs": [],
   "source": [
    "from sklearn.ensemble import AdaBoostClassifier\n",
    "from sklearn.tree import DecisionTreeClassifier"
   ]
  },
  {
   "cell_type": "markdown",
   "id": "5b122496-4ad0-4afe-b2d7-a62c26ca50ca",
   "metadata": {},
   "source": [
    "#### 모델 생성"
   ]
  },
  {
   "cell_type": "code",
   "execution_count": 56,
   "id": "c80d6f10-780e-4a18-abd8-559772a612ae",
   "metadata": {},
   "outputs": [],
   "source": [
    "boo_c = AdaBoostClassifier(base_estimator=DecisionTreeClassifier(max_depth=4), n_estimators=300, random_state=0)"
   ]
  },
  {
   "cell_type": "markdown",
   "id": "1153fa48-9138-4619-aecd-d74ad9a1578b",
   "metadata": {},
   "source": [
    "#### 학습 및 평가"
   ]
  },
  {
   "cell_type": "code",
   "execution_count": 57,
   "id": "1c6949d7-8431-47ff-ad13-3d5a3f0e1f76",
   "metadata": {},
   "outputs": [
    {
     "name": "stdout",
     "output_type": "stream",
     "text": [
      "정확도:0.921\n",
      "AUC:0.969\n"
     ]
    }
   ],
   "source": [
    "boo_c.fit(x_train, y_train) \n",
    "y_hat = boo_c.predict(x_test)\n",
    "\n",
    "print(f'정확도:{accuracy_score(y_test, y_hat):.3f}')\n",
    "print(f'AUC:{roc_auc_score(y_test, boo_c.predict_proba(x_test)[:,1]):.3f}')"
   ]
  },
  {
   "cell_type": "markdown",
   "id": "d72243c0-e3c3-4035-b37f-3373e9b466a5",
   "metadata": {},
   "source": [
    "### GradientBoost"
   ]
  },
  {
   "cell_type": "markdown",
   "id": "bfe5d970-46c6-4425-a230-63258c8a5d41",
   "metadata": {},
   "source": [
    "#### 패키지 로딩"
   ]
  },
  {
   "cell_type": "code",
   "execution_count": 58,
   "id": "b53a7639-b41a-45d3-bef0-fcdfe4bd958b",
   "metadata": {},
   "outputs": [],
   "source": [
    "from sklearn.ensemble import GradientBoostingClassifier"
   ]
  },
  {
   "cell_type": "markdown",
   "id": "3c090874-d3aa-4530-8e26-f622679cd563",
   "metadata": {},
   "source": [
    "#### 모델 생성 및 학습"
   ]
  },
  {
   "cell_type": "code",
   "execution_count": 59,
   "id": "1654c695-8a3e-42bd-a200-fc79c2df8202",
   "metadata": {},
   "outputs": [
    {
     "data": {
      "text/html": [
       "<style>#sk-container-id-9 {color: black;background-color: white;}#sk-container-id-9 pre{padding: 0;}#sk-container-id-9 div.sk-toggleable {background-color: white;}#sk-container-id-9 label.sk-toggleable__label {cursor: pointer;display: block;width: 100%;margin-bottom: 0;padding: 0.3em;box-sizing: border-box;text-align: center;}#sk-container-id-9 label.sk-toggleable__label-arrow:before {content: \"▸\";float: left;margin-right: 0.25em;color: #696969;}#sk-container-id-9 label.sk-toggleable__label-arrow:hover:before {color: black;}#sk-container-id-9 div.sk-estimator:hover label.sk-toggleable__label-arrow:before {color: black;}#sk-container-id-9 div.sk-toggleable__content {max-height: 0;max-width: 0;overflow: hidden;text-align: left;background-color: #f0f8ff;}#sk-container-id-9 div.sk-toggleable__content pre {margin: 0.2em;color: black;border-radius: 0.25em;background-color: #f0f8ff;}#sk-container-id-9 input.sk-toggleable__control:checked~div.sk-toggleable__content {max-height: 200px;max-width: 100%;overflow: auto;}#sk-container-id-9 input.sk-toggleable__control:checked~label.sk-toggleable__label-arrow:before {content: \"▾\";}#sk-container-id-9 div.sk-estimator input.sk-toggleable__control:checked~label.sk-toggleable__label {background-color: #d4ebff;}#sk-container-id-9 div.sk-label input.sk-toggleable__control:checked~label.sk-toggleable__label {background-color: #d4ebff;}#sk-container-id-9 input.sk-hidden--visually {border: 0;clip: rect(1px 1px 1px 1px);clip: rect(1px, 1px, 1px, 1px);height: 1px;margin: -1px;overflow: hidden;padding: 0;position: absolute;width: 1px;}#sk-container-id-9 div.sk-estimator {font-family: monospace;background-color: #f0f8ff;border: 1px dotted black;border-radius: 0.25em;box-sizing: border-box;margin-bottom: 0.5em;}#sk-container-id-9 div.sk-estimator:hover {background-color: #d4ebff;}#sk-container-id-9 div.sk-parallel-item::after {content: \"\";width: 100%;border-bottom: 1px solid gray;flex-grow: 1;}#sk-container-id-9 div.sk-label:hover label.sk-toggleable__label {background-color: #d4ebff;}#sk-container-id-9 div.sk-serial::before {content: \"\";position: absolute;border-left: 1px solid gray;box-sizing: border-box;top: 0;bottom: 0;left: 50%;z-index: 0;}#sk-container-id-9 div.sk-serial {display: flex;flex-direction: column;align-items: center;background-color: white;padding-right: 0.2em;padding-left: 0.2em;position: relative;}#sk-container-id-9 div.sk-item {position: relative;z-index: 1;}#sk-container-id-9 div.sk-parallel {display: flex;align-items: stretch;justify-content: center;background-color: white;position: relative;}#sk-container-id-9 div.sk-item::before, #sk-container-id-9 div.sk-parallel-item::before {content: \"\";position: absolute;border-left: 1px solid gray;box-sizing: border-box;top: 0;bottom: 0;left: 50%;z-index: -1;}#sk-container-id-9 div.sk-parallel-item {display: flex;flex-direction: column;z-index: 1;position: relative;background-color: white;}#sk-container-id-9 div.sk-parallel-item:first-child::after {align-self: flex-end;width: 50%;}#sk-container-id-9 div.sk-parallel-item:last-child::after {align-self: flex-start;width: 50%;}#sk-container-id-9 div.sk-parallel-item:only-child::after {width: 0;}#sk-container-id-9 div.sk-dashed-wrapped {border: 1px dashed gray;margin: 0 0.4em 0.5em 0.4em;box-sizing: border-box;padding-bottom: 0.4em;background-color: white;}#sk-container-id-9 div.sk-label label {font-family: monospace;font-weight: bold;display: inline-block;line-height: 1.2em;}#sk-container-id-9 div.sk-label-container {text-align: center;}#sk-container-id-9 div.sk-container {/* jupyter's `normalize.less` sets `[hidden] { display: none; }` but bootstrap.min.css set `[hidden] { display: none !important; }` so we also need the `!important` here to be able to override the default hidden behavior on the sphinx rendered scikit-learn.org. See: https://github.com/scikit-learn/scikit-learn/issues/21755 */display: inline-block !important;position: relative;}#sk-container-id-9 div.sk-text-repr-fallback {display: none;}</style><div id=\"sk-container-id-9\" class=\"sk-top-container\"><div class=\"sk-text-repr-fallback\"><pre>GradientBoostingClassifier(random_state=0)</pre><b>In a Jupyter environment, please rerun this cell to show the HTML representation or trust the notebook. <br />On GitHub, the HTML representation is unable to render, please try loading this page with nbviewer.org.</b></div><div class=\"sk-container\" hidden><div class=\"sk-item\"><div class=\"sk-estimator sk-toggleable\"><input class=\"sk-toggleable__control sk-hidden--visually\" id=\"sk-estimator-id-9\" type=\"checkbox\" checked><label for=\"sk-estimator-id-9\" class=\"sk-toggleable__label sk-toggleable__label-arrow\">GradientBoostingClassifier</label><div class=\"sk-toggleable__content\"><pre>GradientBoostingClassifier(random_state=0)</pre></div></div></div></div></div>"
      ],
      "text/plain": [
       "GradientBoostingClassifier(random_state=0)"
      ]
     },
     "execution_count": 59,
     "metadata": {},
     "output_type": "execute_result"
    }
   ],
   "source": [
    "gb_c = GradientBoostingClassifier(random_state=0)\n",
    "gb_c.fit(x_train, y_train)"
   ]
  },
  {
   "cell_type": "markdown",
   "id": "6f961690-dd70-4101-be69-f4d438452fa1",
   "metadata": {},
   "source": [
    "#### 예측 및 평가"
   ]
  },
  {
   "cell_type": "code",
   "execution_count": 60,
   "id": "7c4ce0ac-8ab3-41fd-b847-4d91154fa044",
   "metadata": {},
   "outputs": [
    {
     "name": "stdout",
     "output_type": "stream",
     "text": [
      "정확도:0.939\n",
      "AUC:0.983\n"
     ]
    }
   ],
   "source": [
    "y_hat = gb_c.predict(x_test)\n",
    "\n",
    "print(f'정확도:{accuracy_score(y_test, y_hat):.3f}')\n",
    "print(f'AUC:{roc_auc_score(y_test, gb_c.predict_proba(x_test)[:,1]):.3f}')"
   ]
  },
  {
   "cell_type": "markdown",
   "id": "bcdb3cda-401f-4985-a61d-7112135ccf38",
   "metadata": {},
   "source": [
    "#### 하이퍼 파라메터 튜닝"
   ]
  },
  {
   "cell_type": "code",
   "execution_count": 62,
   "id": "b90b9779-1386-4536-8f88-195e3f647ddb",
   "metadata": {},
   "outputs": [
    {
     "data": {
      "text/html": [
       "<style>#sk-container-id-10 {color: black;background-color: white;}#sk-container-id-10 pre{padding: 0;}#sk-container-id-10 div.sk-toggleable {background-color: white;}#sk-container-id-10 label.sk-toggleable__label {cursor: pointer;display: block;width: 100%;margin-bottom: 0;padding: 0.3em;box-sizing: border-box;text-align: center;}#sk-container-id-10 label.sk-toggleable__label-arrow:before {content: \"▸\";float: left;margin-right: 0.25em;color: #696969;}#sk-container-id-10 label.sk-toggleable__label-arrow:hover:before {color: black;}#sk-container-id-10 div.sk-estimator:hover label.sk-toggleable__label-arrow:before {color: black;}#sk-container-id-10 div.sk-toggleable__content {max-height: 0;max-width: 0;overflow: hidden;text-align: left;background-color: #f0f8ff;}#sk-container-id-10 div.sk-toggleable__content pre {margin: 0.2em;color: black;border-radius: 0.25em;background-color: #f0f8ff;}#sk-container-id-10 input.sk-toggleable__control:checked~div.sk-toggleable__content {max-height: 200px;max-width: 100%;overflow: auto;}#sk-container-id-10 input.sk-toggleable__control:checked~label.sk-toggleable__label-arrow:before {content: \"▾\";}#sk-container-id-10 div.sk-estimator input.sk-toggleable__control:checked~label.sk-toggleable__label {background-color: #d4ebff;}#sk-container-id-10 div.sk-label input.sk-toggleable__control:checked~label.sk-toggleable__label {background-color: #d4ebff;}#sk-container-id-10 input.sk-hidden--visually {border: 0;clip: rect(1px 1px 1px 1px);clip: rect(1px, 1px, 1px, 1px);height: 1px;margin: -1px;overflow: hidden;padding: 0;position: absolute;width: 1px;}#sk-container-id-10 div.sk-estimator {font-family: monospace;background-color: #f0f8ff;border: 1px dotted black;border-radius: 0.25em;box-sizing: border-box;margin-bottom: 0.5em;}#sk-container-id-10 div.sk-estimator:hover {background-color: #d4ebff;}#sk-container-id-10 div.sk-parallel-item::after {content: \"\";width: 100%;border-bottom: 1px solid gray;flex-grow: 1;}#sk-container-id-10 div.sk-label:hover label.sk-toggleable__label {background-color: #d4ebff;}#sk-container-id-10 div.sk-serial::before {content: \"\";position: absolute;border-left: 1px solid gray;box-sizing: border-box;top: 0;bottom: 0;left: 50%;z-index: 0;}#sk-container-id-10 div.sk-serial {display: flex;flex-direction: column;align-items: center;background-color: white;padding-right: 0.2em;padding-left: 0.2em;position: relative;}#sk-container-id-10 div.sk-item {position: relative;z-index: 1;}#sk-container-id-10 div.sk-parallel {display: flex;align-items: stretch;justify-content: center;background-color: white;position: relative;}#sk-container-id-10 div.sk-item::before, #sk-container-id-10 div.sk-parallel-item::before {content: \"\";position: absolute;border-left: 1px solid gray;box-sizing: border-box;top: 0;bottom: 0;left: 50%;z-index: -1;}#sk-container-id-10 div.sk-parallel-item {display: flex;flex-direction: column;z-index: 1;position: relative;background-color: white;}#sk-container-id-10 div.sk-parallel-item:first-child::after {align-self: flex-end;width: 50%;}#sk-container-id-10 div.sk-parallel-item:last-child::after {align-self: flex-start;width: 50%;}#sk-container-id-10 div.sk-parallel-item:only-child::after {width: 0;}#sk-container-id-10 div.sk-dashed-wrapped {border: 1px dashed gray;margin: 0 0.4em 0.5em 0.4em;box-sizing: border-box;padding-bottom: 0.4em;background-color: white;}#sk-container-id-10 div.sk-label label {font-family: monospace;font-weight: bold;display: inline-block;line-height: 1.2em;}#sk-container-id-10 div.sk-label-container {text-align: center;}#sk-container-id-10 div.sk-container {/* jupyter's `normalize.less` sets `[hidden] { display: none; }` but bootstrap.min.css set `[hidden] { display: none !important; }` so we also need the `!important` here to be able to override the default hidden behavior on the sphinx rendered scikit-learn.org. See: https://github.com/scikit-learn/scikit-learn/issues/21755 */display: inline-block !important;position: relative;}#sk-container-id-10 div.sk-text-repr-fallback {display: none;}</style><div id=\"sk-container-id-10\" class=\"sk-top-container\"><div class=\"sk-text-repr-fallback\"><pre>GridSearchCV(cv=5, estimator=GradientBoostingClassifier(random_state=0),\n",
       "             n_jobs=1,\n",
       "             param_grid={&#x27;learning_rate&#x27;: [0.05, 0.1, 0.2],\n",
       "                         &#x27;max_depth&#x27;: [3, 6, 8],\n",
       "                         &#x27;min_samples_split&#x27;: [2, 3, 5, 10],\n",
       "                         &#x27;n_estimators&#x27;: [200, 300]},\n",
       "             scoring=&#x27;accuracy&#x27;)</pre><b>In a Jupyter environment, please rerun this cell to show the HTML representation or trust the notebook. <br />On GitHub, the HTML representation is unable to render, please try loading this page with nbviewer.org.</b></div><div class=\"sk-container\" hidden><div class=\"sk-item sk-dashed-wrapped\"><div class=\"sk-label-container\"><div class=\"sk-label sk-toggleable\"><input class=\"sk-toggleable__control sk-hidden--visually\" id=\"sk-estimator-id-10\" type=\"checkbox\" ><label for=\"sk-estimator-id-10\" class=\"sk-toggleable__label sk-toggleable__label-arrow\">GridSearchCV</label><div class=\"sk-toggleable__content\"><pre>GridSearchCV(cv=5, estimator=GradientBoostingClassifier(random_state=0),\n",
       "             n_jobs=1,\n",
       "             param_grid={&#x27;learning_rate&#x27;: [0.05, 0.1, 0.2],\n",
       "                         &#x27;max_depth&#x27;: [3, 6, 8],\n",
       "                         &#x27;min_samples_split&#x27;: [2, 3, 5, 10],\n",
       "                         &#x27;n_estimators&#x27;: [200, 300]},\n",
       "             scoring=&#x27;accuracy&#x27;)</pre></div></div></div><div class=\"sk-parallel\"><div class=\"sk-parallel-item\"><div class=\"sk-item\"><div class=\"sk-label-container\"><div class=\"sk-label sk-toggleable\"><input class=\"sk-toggleable__control sk-hidden--visually\" id=\"sk-estimator-id-11\" type=\"checkbox\" ><label for=\"sk-estimator-id-11\" class=\"sk-toggleable__label sk-toggleable__label-arrow\">estimator: GradientBoostingClassifier</label><div class=\"sk-toggleable__content\"><pre>GradientBoostingClassifier(random_state=0)</pre></div></div></div><div class=\"sk-serial\"><div class=\"sk-item\"><div class=\"sk-estimator sk-toggleable\"><input class=\"sk-toggleable__control sk-hidden--visually\" id=\"sk-estimator-id-12\" type=\"checkbox\" ><label for=\"sk-estimator-id-12\" class=\"sk-toggleable__label sk-toggleable__label-arrow\">GradientBoostingClassifier</label><div class=\"sk-toggleable__content\"><pre>GradientBoostingClassifier(random_state=0)</pre></div></div></div></div></div></div></div></div></div></div>"
      ],
      "text/plain": [
       "GridSearchCV(cv=5, estimator=GradientBoostingClassifier(random_state=0),\n",
       "             n_jobs=1,\n",
       "             param_grid={'learning_rate': [0.05, 0.1, 0.2],\n",
       "                         'max_depth': [3, 6, 8],\n",
       "                         'min_samples_split': [2, 3, 5, 10],\n",
       "                         'n_estimators': [200, 300]},\n",
       "             scoring='accuracy')"
      ]
     },
     "execution_count": 62,
     "metadata": {},
     "output_type": "execute_result"
    }
   ],
   "source": [
    "from sklearn.model_selection import GridSearchCV\n",
    "\n",
    "params = {\n",
    "    'n_estimators':[200, 300],\n",
    "    'max_depth': [3, 6, 8],\n",
    "    'min_samples_split': [2, 3, 5, 10],\n",
    "    'learning_rate': [0.05, 0.1, 0.2]\n",
    "}\n",
    "gb_grid = GridSearchCV(gb_c, params, cv=5, scoring='accuracy', n_jobs=1)\n",
    "gb_grid.fit(x,y)"
   ]
  },
  {
   "cell_type": "code",
   "execution_count": 63,
   "id": "cd935309-e55d-4784-b648-7fa976cc499f",
   "metadata": {},
   "outputs": [
    {
     "name": "stdout",
     "output_type": "stream",
     "text": [
      "최적 파라메터: {'learning_rate': 0.2, 'max_depth': 3, 'min_samples_split': 5, 'n_estimators': 200}\n",
      "평균 정확도:0.9666200900481291\n"
     ]
    }
   ],
   "source": [
    "print('최적 파라메터:', gb_grid.best_params_)\n",
    "print(f'평균 정확도:{gb_grid.best_score_}')"
   ]
  },
  {
   "cell_type": "code",
   "execution_count": 64,
   "id": "b3523f5c-be4c-46cc-9d6c-b53509d901ad",
   "metadata": {},
   "outputs": [
    {
     "name": "stdout",
     "output_type": "stream",
     "text": [
      "정확도:1.000\n",
      "AUC:1.000\n"
     ]
    }
   ],
   "source": [
    "estimator = gb_grid.best_estimator_\n",
    "y_hat = estimator.predict(x_test)\n",
    "\n",
    "print(f'정확도:{accuracy_score(y_test, y_hat):.3f}')\n",
    "print(f'AUC:{roc_auc_score(y_test, estimator.predict_proba(x_test)[:,1]):.3f}')"
   ]
  },
  {
   "cell_type": "markdown",
   "id": "a1b150a3-a9a6-40bf-aa81-c5c31e5031a4",
   "metadata": {},
   "source": [
    "### XGBoost (사이킷런 래퍼)"
   ]
  },
  {
   "cell_type": "code",
   "execution_count": 65,
   "id": "e104041a-e0e4-4b60-ac89-3048ab2e92d0",
   "metadata": {},
   "outputs": [],
   "source": [
    "# 학습 데이터로부터 10%의 검증용 데이터를 분리\n",
    "x_train, x_val, y_train, y_val = train_test_split(x_train, y_train, train_size=0.9, random_state=10, stratify=y_train)"
   ]
  },
  {
   "cell_type": "code",
   "execution_count": 66,
   "id": "f473a0bf-c8cc-4cc2-8a5a-48e36cda2e88",
   "metadata": {
    "scrolled": true
   },
   "outputs": [
    {
     "name": "stdout",
     "output_type": "stream",
     "text": [
      "[0]\tvalidation_0-logloss:0.61923\tvalidation_1-logloss:0.61948\n",
      "[1]\tvalidation_0-logloss:0.58053\tvalidation_1-logloss:0.58305\n",
      "[2]\tvalidation_0-logloss:0.54534\tvalidation_1-logloss:0.55370\n",
      "[3]\tvalidation_0-logloss:0.51389\tvalidation_1-logloss:0.52113\n",
      "[4]\tvalidation_0-logloss:0.48530\tvalidation_1-logloss:0.49310\n",
      "[5]\tvalidation_0-logloss:0.45874\tvalidation_1-logloss:0.46579\n",
      "[6]\tvalidation_0-logloss:0.43370\tvalidation_1-logloss:0.44091\n",
      "[7]\tvalidation_0-logloss:0.41069\tvalidation_1-logloss:0.41915\n",
      "[8]\tvalidation_0-logloss:0.38922\tvalidation_1-logloss:0.39796\n",
      "[9]\tvalidation_0-logloss:0.36941\tvalidation_1-logloss:0.37939\n",
      "[10]\tvalidation_0-logloss:0.35081\tvalidation_1-logloss:0.36119\n",
      "[11]\tvalidation_0-logloss:0.33279\tvalidation_1-logloss:0.34625\n",
      "[12]\tvalidation_0-logloss:0.31601\tvalidation_1-logloss:0.33248\n",
      "[13]\tvalidation_0-logloss:0.30094\tvalidation_1-logloss:0.31754\n",
      "[14]\tvalidation_0-logloss:0.28690\tvalidation_1-logloss:0.30363\n",
      "[15]\tvalidation_0-logloss:0.27318\tvalidation_1-logloss:0.29217\n",
      "[16]\tvalidation_0-logloss:0.26075\tvalidation_1-logloss:0.28087\n",
      "[17]\tvalidation_0-logloss:0.24907\tvalidation_1-logloss:0.26935\n",
      "[18]\tvalidation_0-logloss:0.23742\tvalidation_1-logloss:0.26037\n",
      "[19]\tvalidation_0-logloss:0.22703\tvalidation_1-logloss:0.25145\n",
      "[20]\tvalidation_0-logloss:0.21669\tvalidation_1-logloss:0.24367\n",
      "[21]\tvalidation_0-logloss:0.20718\tvalidation_1-logloss:0.23601\n",
      "[22]\tvalidation_0-logloss:0.19823\tvalidation_1-logloss:0.22771\n",
      "[23]\tvalidation_0-logloss:0.18978\tvalidation_1-logloss:0.22141\n",
      "[24]\tvalidation_0-logloss:0.18157\tvalidation_1-logloss:0.21577\n",
      "[25]\tvalidation_0-logloss:0.17398\tvalidation_1-logloss:0.20880\n",
      "[26]\tvalidation_0-logloss:0.16684\tvalidation_1-logloss:0.20378\n",
      "[27]\tvalidation_0-logloss:0.15987\tvalidation_1-logloss:0.19957\n",
      "[28]\tvalidation_0-logloss:0.15341\tvalidation_1-logloss:0.19369\n",
      "[29]\tvalidation_0-logloss:0.14734\tvalidation_1-logloss:0.18996\n",
      "[30]\tvalidation_0-logloss:0.14141\tvalidation_1-logloss:0.18611\n",
      "[31]\tvalidation_0-logloss:0.13644\tvalidation_1-logloss:0.18184\n",
      "[32]\tvalidation_0-logloss:0.13125\tvalidation_1-logloss:0.17658\n",
      "[33]\tvalidation_0-logloss:0.12625\tvalidation_1-logloss:0.17233\n",
      "[34]\tvalidation_0-logloss:0.12160\tvalidation_1-logloss:0.16738\n",
      "[35]\tvalidation_0-logloss:0.11758\tvalidation_1-logloss:0.16413\n",
      "[36]\tvalidation_0-logloss:0.11333\tvalidation_1-logloss:0.16170\n",
      "[37]\tvalidation_0-logloss:0.10920\tvalidation_1-logloss:0.15828\n",
      "[38]\tvalidation_0-logloss:0.10525\tvalidation_1-logloss:0.15608\n",
      "[39]\tvalidation_0-logloss:0.10198\tvalidation_1-logloss:0.15357\n",
      "[40]\tvalidation_0-logloss:0.09850\tvalidation_1-logloss:0.14973\n",
      "[41]\tvalidation_0-logloss:0.09504\tvalidation_1-logloss:0.14698\n",
      "[42]\tvalidation_0-logloss:0.09178\tvalidation_1-logloss:0.14564\n",
      "[43]\tvalidation_0-logloss:0.08909\tvalidation_1-logloss:0.14357\n",
      "[44]\tvalidation_0-logloss:0.08633\tvalidation_1-logloss:0.14028\n",
      "[45]\tvalidation_0-logloss:0.08356\tvalidation_1-logloss:0.13913\n",
      "[46]\tvalidation_0-logloss:0.08100\tvalidation_1-logloss:0.13594\n",
      "[47]\tvalidation_0-logloss:0.07851\tvalidation_1-logloss:0.13223\n",
      "[48]\tvalidation_0-logloss:0.07620\tvalidation_1-logloss:0.12931\n",
      "[49]\tvalidation_0-logloss:0.07393\tvalidation_1-logloss:0.12583\n",
      "[50]\tvalidation_0-logloss:0.07161\tvalidation_1-logloss:0.12529\n",
      "[51]\tvalidation_0-logloss:0.06960\tvalidation_1-logloss:0.12269\n",
      "[52]\tvalidation_0-logloss:0.06764\tvalidation_1-logloss:0.11949\n",
      "[53]\tvalidation_0-logloss:0.06562\tvalidation_1-logloss:0.11901\n",
      "[54]\tvalidation_0-logloss:0.06387\tvalidation_1-logloss:0.11670\n",
      "[55]\tvalidation_0-logloss:0.06216\tvalidation_1-logloss:0.11366\n",
      "[56]\tvalidation_0-logloss:0.06056\tvalidation_1-logloss:0.11297\n",
      "[57]\tvalidation_0-logloss:0.05884\tvalidation_1-logloss:0.11304\n",
      "[58]\tvalidation_0-logloss:0.05732\tvalidation_1-logloss:0.11180\n",
      "[59]\tvalidation_0-logloss:0.05577\tvalidation_1-logloss:0.11023\n",
      "[60]\tvalidation_0-logloss:0.05439\tvalidation_1-logloss:0.10749\n",
      "[61]\tvalidation_0-logloss:0.05300\tvalidation_1-logloss:0.10533\n",
      "[62]\tvalidation_0-logloss:0.05161\tvalidation_1-logloss:0.10508\n",
      "[63]\tvalidation_0-logloss:0.05033\tvalidation_1-logloss:0.10479\n",
      "[64]\tvalidation_0-logloss:0.04918\tvalidation_1-logloss:0.10230\n",
      "[65]\tvalidation_0-logloss:0.04792\tvalidation_1-logloss:0.10267\n",
      "[66]\tvalidation_0-logloss:0.04684\tvalidation_1-logloss:0.10095\n",
      "[67]\tvalidation_0-logloss:0.04582\tvalidation_1-logloss:0.09931\n",
      "[68]\tvalidation_0-logloss:0.04480\tvalidation_1-logloss:0.09859\n",
      "[69]\tvalidation_0-logloss:0.04373\tvalidation_1-logloss:0.09867\n",
      "[70]\tvalidation_0-logloss:0.04270\tvalidation_1-logloss:0.09929\n",
      "[71]\tvalidation_0-logloss:0.04165\tvalidation_1-logloss:0.09769\n",
      "[72]\tvalidation_0-logloss:0.04085\tvalidation_1-logloss:0.09559\n",
      "[73]\tvalidation_0-logloss:0.04006\tvalidation_1-logloss:0.09446\n",
      "[74]\tvalidation_0-logloss:0.03926\tvalidation_1-logloss:0.09504\n",
      "[75]\tvalidation_0-logloss:0.03834\tvalidation_1-logloss:0.09398\n",
      "[76]\tvalidation_0-logloss:0.03744\tvalidation_1-logloss:0.09260\n",
      "[77]\tvalidation_0-logloss:0.03672\tvalidation_1-logloss:0.09330\n",
      "[78]\tvalidation_0-logloss:0.03604\tvalidation_1-logloss:0.09323\n",
      "[79]\tvalidation_0-logloss:0.03522\tvalidation_1-logloss:0.09195\n",
      "[80]\tvalidation_0-logloss:0.03459\tvalidation_1-logloss:0.09199\n",
      "[81]\tvalidation_0-logloss:0.03386\tvalidation_1-logloss:0.09164\n",
      "[82]\tvalidation_0-logloss:0.03327\tvalidation_1-logloss:0.09241\n",
      "[83]\tvalidation_0-logloss:0.03257\tvalidation_1-logloss:0.09169\n",
      "[84]\tvalidation_0-logloss:0.03197\tvalidation_1-logloss:0.09072\n",
      "[85]\tvalidation_0-logloss:0.03144\tvalidation_1-logloss:0.08987\n",
      "[86]\tvalidation_0-logloss:0.03086\tvalidation_1-logloss:0.08971\n",
      "[87]\tvalidation_0-logloss:0.03026\tvalidation_1-logloss:0.08796\n",
      "[88]\tvalidation_0-logloss:0.02978\tvalidation_1-logloss:0.08873\n",
      "[89]\tvalidation_0-logloss:0.02922\tvalidation_1-logloss:0.08704\n",
      "[90]\tvalidation_0-logloss:0.02877\tvalidation_1-logloss:0.08718\n",
      "[91]\tvalidation_0-logloss:0.02834\tvalidation_1-logloss:0.08798\n",
      "[92]\tvalidation_0-logloss:0.02782\tvalidation_1-logloss:0.08732\n",
      "[93]\tvalidation_0-logloss:0.02735\tvalidation_1-logloss:0.08823\n",
      "[94]\tvalidation_0-logloss:0.02686\tvalidation_1-logloss:0.08665\n",
      "[95]\tvalidation_0-logloss:0.02643\tvalidation_1-logloss:0.08586\n",
      "[96]\tvalidation_0-logloss:0.02600\tvalidation_1-logloss:0.08587\n",
      "[97]\tvalidation_0-logloss:0.02564\tvalidation_1-logloss:0.08665\n",
      "[98]\tvalidation_0-logloss:0.02522\tvalidation_1-logloss:0.08516\n",
      "[99]\tvalidation_0-logloss:0.02489\tvalidation_1-logloss:0.08537\n"
     ]
    },
    {
     "data": {
      "text/html": [
       "<style>#sk-container-id-11 {color: black;background-color: white;}#sk-container-id-11 pre{padding: 0;}#sk-container-id-11 div.sk-toggleable {background-color: white;}#sk-container-id-11 label.sk-toggleable__label {cursor: pointer;display: block;width: 100%;margin-bottom: 0;padding: 0.3em;box-sizing: border-box;text-align: center;}#sk-container-id-11 label.sk-toggleable__label-arrow:before {content: \"▸\";float: left;margin-right: 0.25em;color: #696969;}#sk-container-id-11 label.sk-toggleable__label-arrow:hover:before {color: black;}#sk-container-id-11 div.sk-estimator:hover label.sk-toggleable__label-arrow:before {color: black;}#sk-container-id-11 div.sk-toggleable__content {max-height: 0;max-width: 0;overflow: hidden;text-align: left;background-color: #f0f8ff;}#sk-container-id-11 div.sk-toggleable__content pre {margin: 0.2em;color: black;border-radius: 0.25em;background-color: #f0f8ff;}#sk-container-id-11 input.sk-toggleable__control:checked~div.sk-toggleable__content {max-height: 200px;max-width: 100%;overflow: auto;}#sk-container-id-11 input.sk-toggleable__control:checked~label.sk-toggleable__label-arrow:before {content: \"▾\";}#sk-container-id-11 div.sk-estimator input.sk-toggleable__control:checked~label.sk-toggleable__label {background-color: #d4ebff;}#sk-container-id-11 div.sk-label input.sk-toggleable__control:checked~label.sk-toggleable__label {background-color: #d4ebff;}#sk-container-id-11 input.sk-hidden--visually {border: 0;clip: rect(1px 1px 1px 1px);clip: rect(1px, 1px, 1px, 1px);height: 1px;margin: -1px;overflow: hidden;padding: 0;position: absolute;width: 1px;}#sk-container-id-11 div.sk-estimator {font-family: monospace;background-color: #f0f8ff;border: 1px dotted black;border-radius: 0.25em;box-sizing: border-box;margin-bottom: 0.5em;}#sk-container-id-11 div.sk-estimator:hover {background-color: #d4ebff;}#sk-container-id-11 div.sk-parallel-item::after {content: \"\";width: 100%;border-bottom: 1px solid gray;flex-grow: 1;}#sk-container-id-11 div.sk-label:hover label.sk-toggleable__label {background-color: #d4ebff;}#sk-container-id-11 div.sk-serial::before {content: \"\";position: absolute;border-left: 1px solid gray;box-sizing: border-box;top: 0;bottom: 0;left: 50%;z-index: 0;}#sk-container-id-11 div.sk-serial {display: flex;flex-direction: column;align-items: center;background-color: white;padding-right: 0.2em;padding-left: 0.2em;position: relative;}#sk-container-id-11 div.sk-item {position: relative;z-index: 1;}#sk-container-id-11 div.sk-parallel {display: flex;align-items: stretch;justify-content: center;background-color: white;position: relative;}#sk-container-id-11 div.sk-item::before, #sk-container-id-11 div.sk-parallel-item::before {content: \"\";position: absolute;border-left: 1px solid gray;box-sizing: border-box;top: 0;bottom: 0;left: 50%;z-index: -1;}#sk-container-id-11 div.sk-parallel-item {display: flex;flex-direction: column;z-index: 1;position: relative;background-color: white;}#sk-container-id-11 div.sk-parallel-item:first-child::after {align-self: flex-end;width: 50%;}#sk-container-id-11 div.sk-parallel-item:last-child::after {align-self: flex-start;width: 50%;}#sk-container-id-11 div.sk-parallel-item:only-child::after {width: 0;}#sk-container-id-11 div.sk-dashed-wrapped {border: 1px dashed gray;margin: 0 0.4em 0.5em 0.4em;box-sizing: border-box;padding-bottom: 0.4em;background-color: white;}#sk-container-id-11 div.sk-label label {font-family: monospace;font-weight: bold;display: inline-block;line-height: 1.2em;}#sk-container-id-11 div.sk-label-container {text-align: center;}#sk-container-id-11 div.sk-container {/* jupyter's `normalize.less` sets `[hidden] { display: none; }` but bootstrap.min.css set `[hidden] { display: none !important; }` so we also need the `!important` here to be able to override the default hidden behavior on the sphinx rendered scikit-learn.org. See: https://github.com/scikit-learn/scikit-learn/issues/21755 */display: inline-block !important;position: relative;}#sk-container-id-11 div.sk-text-repr-fallback {display: none;}</style><div id=\"sk-container-id-11\" class=\"sk-top-container\"><div class=\"sk-text-repr-fallback\"><pre>XGBClassifier(base_score=None, booster=None, callbacks=None,\n",
       "              colsample_bylevel=None, colsample_bynode=None,\n",
       "              colsample_bytree=None, device=None, early_stopping_rounds=None,\n",
       "              enable_categorical=False, eval_metric=None, feature_types=None,\n",
       "              gamma=None, grow_policy=None, importance_type=None,\n",
       "              interaction_constraints=None, learning_rate=0.05, max_bin=None,\n",
       "              max_cat_threshold=None, max_cat_to_onehot=None,\n",
       "              max_delta_step=None, max_depth=3, max_leaves=None,\n",
       "              min_child_weight=None, missing=nan, monotone_constraints=None,\n",
       "              multi_strategy=None, n_estimators=100, n_jobs=None,\n",
       "              num_parallel_tree=None, random_state=None, ...)</pre><b>In a Jupyter environment, please rerun this cell to show the HTML representation or trust the notebook. <br />On GitHub, the HTML representation is unable to render, please try loading this page with nbviewer.org.</b></div><div class=\"sk-container\" hidden><div class=\"sk-item\"><div class=\"sk-estimator sk-toggleable\"><input class=\"sk-toggleable__control sk-hidden--visually\" id=\"sk-estimator-id-13\" type=\"checkbox\" checked><label for=\"sk-estimator-id-13\" class=\"sk-toggleable__label sk-toggleable__label-arrow\">XGBClassifier</label><div class=\"sk-toggleable__content\"><pre>XGBClassifier(base_score=None, booster=None, callbacks=None,\n",
       "              colsample_bylevel=None, colsample_bynode=None,\n",
       "              colsample_bytree=None, device=None, early_stopping_rounds=None,\n",
       "              enable_categorical=False, eval_metric=None, feature_types=None,\n",
       "              gamma=None, grow_policy=None, importance_type=None,\n",
       "              interaction_constraints=None, learning_rate=0.05, max_bin=None,\n",
       "              max_cat_threshold=None, max_cat_to_onehot=None,\n",
       "              max_delta_step=None, max_depth=3, max_leaves=None,\n",
       "              min_child_weight=None, missing=nan, monotone_constraints=None,\n",
       "              multi_strategy=None, n_estimators=100, n_jobs=None,\n",
       "              num_parallel_tree=None, random_state=None, ...)</pre></div></div></div></div></div>"
      ],
      "text/plain": [
       "XGBClassifier(base_score=None, booster=None, callbacks=None,\n",
       "              colsample_bylevel=None, colsample_bynode=None,\n",
       "              colsample_bytree=None, device=None, early_stopping_rounds=None,\n",
       "              enable_categorical=False, eval_metric=None, feature_types=None,\n",
       "              gamma=None, grow_policy=None, importance_type=None,\n",
       "              interaction_constraints=None, learning_rate=0.05, max_bin=None,\n",
       "              max_cat_threshold=None, max_cat_to_onehot=None,\n",
       "              max_delta_step=None, max_depth=3, max_leaves=None,\n",
       "              min_child_weight=None, missing=nan, monotone_constraints=None,\n",
       "              multi_strategy=None, n_estimators=100, n_jobs=None,\n",
       "              num_parallel_tree=None, random_state=None, ...)"
      ]
     },
     "execution_count": 66,
     "metadata": {},
     "output_type": "execute_result"
    }
   ],
   "source": [
    "from xgboost import XGBClassifier\n",
    "\n",
    "xgb_c = XGBClassifier(n_estimators=100, learning_rate=0.05, max_depth=3)\n",
    "evals = [(x_train, y_train), (x_val, y_val)]\n",
    "# logloss: 분류 문제에 사용되는 손실함수, cross-entropy error 라고도 한다.\n",
    "xgb_c.fit(x_train, y_train, early_stopping_rounds=10, eval_metric='logloss', eval_set=evals, verbose=True) "
   ]
  },
  {
   "cell_type": "code",
   "execution_count": 67,
   "id": "132b3ceb-32ec-4ac1-97d8-a6818565df97",
   "metadata": {},
   "outputs": [
    {
     "name": "stdout",
     "output_type": "stream",
     "text": [
      "정확도:0.956\n",
      "AUC:0.977\n"
     ]
    }
   ],
   "source": [
    "y_hat = xgb_c.predict(x_test)\n",
    "\n",
    "print(f'정확도:{accuracy_score(y_test, y_hat):.3f}')\n",
    "print(f'AUC:{roc_auc_score(y_test, xgb_c.predict_proba(x_test)[:,1]):.3f}')"
   ]
  },
  {
   "cell_type": "code",
   "execution_count": 69,
   "id": "55d23156-14f9-49c5-b510-740e3dd0f7e4",
   "metadata": {},
   "outputs": [
    {
     "data": {
      "image/png": "[encoded data removed]",
      "text/plain": [
       "<Figure size 1200x1000 with 1 Axes>"
      ]
     },
     "metadata": {},
     "output_type": "display_data"
    }
   ],
   "source": [
    "import matplotlib.pyplot as plt\n",
    "from xgboost import plot_importance\n",
    "\n",
    "fig, ax = plt.subplots(figsize=(12,10))\n",
    "plot_importance(xgb_c, ax=ax)\n",
    "plt.show()"
   ]
  },
  {
   "cell_type": "markdown",
   "id": "8b468672-aa57-4803-a5bd-3f2b34687e14",
   "metadata": {},
   "source": [
    "### LightGBM (사이킷런 래퍼)"
   ]
  },
  {
   "cell_type": "code",
   "execution_count": 71,
   "id": "cc9093de-98ee-40a0-8e3a-c5f2732b85d1",
   "metadata": {
    "scrolled": true
   },
   "outputs": [
    {
     "name": "stdout",
     "output_type": "stream",
     "text": [
      "[LightGBM] [Warning] Found whitespace in feature_names, replace with underlines\n",
      "[LightGBM] [Info] Number of positive: 256, number of negative: 153\n",
      "[LightGBM] [Info] Auto-choosing col-wise multi-threading, the overhead of testing was 0.000236 seconds.\n",
      "You can set `force_col_wise=true` to remove the overhead.\n",
      "[LightGBM] [Info] Total Bins 4092\n",
      "[LightGBM] [Info] Number of data points in the train set: 409, number of used features: 30\n",
      "[LightGBM] [Warning] Found whitespace in feature_names, replace with underlines\n",
      "[LightGBM] [Info] [binary:BoostFromScore]: pavg=0.625917 -> initscore=0.514740\n",
      "[LightGBM] [Info] Start training from score 0.514740\n",
      "[LightGBM] [Warning] No further splits with positive gain, best gain: -inf\n",
      "Training until validation scores don't improve for 10 rounds\n",
      "[LightGBM] [Warning] No further splits with positive gain, best gain: -inf\n",
      "[LightGBM] [Warning] No further splits with positive gain, best gain: -inf\n",
      "[LightGBM] [Warning] No further splits with positive gain, best gain: -inf\n",
      "[LightGBM] [Warning] No further splits with positive gain, best gain: -inf\n",
      "[LightGBM] [Warning] No further splits with positive gain, best gain: -inf\n",
      "[LightGBM] [Warning] No further splits with positive gain, best gain: -inf\n",
      "[LightGBM] [Warning] No further splits with positive gain, best gain: -inf\n",
      "[LightGBM] [Warning] No further splits with positive gain, best gain: -inf\n",
      "[LightGBM] [Warning] No further splits with positive gain, best gain: -inf\n",
      "[LightGBM] [Warning] No further splits with positive gain, best gain: -inf\n",
      "[LightGBM] [Warning] No further splits with positive gain, best gain: -inf\n",
      "[LightGBM] [Warning] No further splits with positive gain, best gain: -inf\n",
      "[LightGBM] [Warning] No further splits with positive gain, best gain: -inf\n",
      "[LightGBM] [Warning] No further splits with positive gain, best gain: -inf\n",
      "[LightGBM] [Warning] No further splits with positive gain, best gain: -inf\n",
      "[LightGBM] [Warning] No further splits with positive gain, best gain: -inf\n",
      "[LightGBM] [Warning] No further splits with positive gain, best gain: -inf\n",
      "[LightGBM] [Warning] No further splits with positive gain, best gain: -inf\n",
      "[LightGBM] [Warning] No further splits with positive gain, best gain: -inf\n",
      "[LightGBM] [Warning] No further splits with positive gain, best gain: -inf\n",
      "[LightGBM] [Warning] No further splits with positive gain, best gain: -inf\n",
      "[LightGBM] [Warning] No further splits with positive gain, best gain: -inf\n",
      "[LightGBM] [Warning] No further splits with positive gain, best gain: -inf\n",
      "[LightGBM] [Warning] No further splits with positive gain, best gain: -inf\n",
      "[LightGBM] [Warning] No further splits with positive gain, best gain: -inf\n",
      "[LightGBM] [Warning] No further splits with positive gain, best gain: -inf\n",
      "[LightGBM] [Warning] No further splits with positive gain, best gain: -inf\n",
      "[LightGBM] [Warning] No further splits with positive gain, best gain: -inf\n",
      "[LightGBM] [Warning] No further splits with positive gain, best gain: -inf\n",
      "[LightGBM] [Warning] No further splits with positive gain, best gain: -inf\n",
      "[LightGBM] [Warning] No further splits with positive gain, best gain: -inf\n",
      "[LightGBM] [Warning] No further splits with positive gain, best gain: -inf\n",
      "[LightGBM] [Warning] No further splits with positive gain, best gain: -inf\n",
      "[LightGBM] [Warning] No further splits with positive gain, best gain: -inf\n",
      "[LightGBM] [Warning] No further splits with positive gain, best gain: -inf\n",
      "[LightGBM] [Warning] No further splits with positive gain, best gain: -inf\n",
      "[LightGBM] [Warning] No further splits with positive gain, best gain: -inf\n",
      "[LightGBM] [Warning] No further splits with positive gain, best gain: -inf\n",
      "[LightGBM] [Warning] No further splits with positive gain, best gain: -inf\n",
      "[LightGBM] [Warning] No further splits with positive gain, best gain: -inf\n",
      "[LightGBM] [Warning] No further splits with positive gain, best gain: -inf\n",
      "[LightGBM] [Warning] No further splits with positive gain, best gain: -inf\n",
      "[LightGBM] [Warning] No further splits with positive gain, best gain: -inf\n",
      "[LightGBM] [Warning] No further splits with positive gain, best gain: -inf\n",
      "[LightGBM] [Warning] No further splits with positive gain, best gain: -inf\n",
      "[LightGBM] [Warning] No further splits with positive gain, best gain: -inf\n",
      "[LightGBM] [Warning] No further splits with positive gain, best gain: -inf\n",
      "[LightGBM] [Warning] No further splits with positive gain, best gain: -inf\n",
      "[LightGBM] [Warning] No further splits with positive gain, best gain: -inf\n",
      "[LightGBM] [Warning] No further splits with positive gain, best gain: -inf\n",
      "[LightGBM] [Warning] No further splits with positive gain, best gain: -inf\n",
      "[LightGBM] [Warning] No further splits with positive gain, best gain: -inf\n",
      "[LightGBM] [Warning] No further splits with positive gain, best gain: -inf\n",
      "[LightGBM] [Warning] No further splits with positive gain, best gain: -inf\n",
      "[LightGBM] [Warning] No further splits with positive gain, best gain: -inf\n",
      "[LightGBM] [Warning] No further splits with positive gain, best gain: -inf\n",
      "[LightGBM] [Warning] No further splits with positive gain, best gain: -inf\n",
      "[LightGBM] [Warning] No further splits with positive gain, best gain: -inf\n",
      "[LightGBM] [Warning] No further splits with positive gain, best gain: -inf\n",
      "[LightGBM] [Warning] No further splits with positive gain, best gain: -inf\n",
      "[LightGBM] [Warning] No further splits with positive gain, best gain: -inf\n",
      "[LightGBM] [Warning] No further splits with positive gain, best gain: -inf\n",
      "[LightGBM] [Warning] No further splits with positive gain, best gain: -inf\n",
      "[LightGBM] [Warning] No further splits with positive gain, best gain: -inf\n",
      "[LightGBM] [Warning] No further splits with positive gain, best gain: -inf\n",
      "[LightGBM] [Warning] No further splits with positive gain, best gain: -inf\n",
      "[LightGBM] [Warning] No further splits with positive gain, best gain: -inf\n",
      "[LightGBM] [Warning] No further splits with positive gain, best gain: -inf\n",
      "[LightGBM] [Warning] No further splits with positive gain, best gain: -inf\n",
      "[LightGBM] [Warning] No further splits with positive gain, best gain: -inf\n",
      "[LightGBM] [Warning] No further splits with positive gain, best gain: -inf\n",
      "[LightGBM] [Warning] No further splits with positive gain, best gain: -inf\n",
      "[LightGBM] [Warning] No further splits with positive gain, best gain: -inf\n",
      "[LightGBM] [Warning] No further splits with positive gain, best gain: -inf\n",
      "[LightGBM] [Warning] No further splits with positive gain, best gain: -inf\n",
      "[LightGBM] [Warning] No further splits with positive gain, best gain: -inf\n",
      "[LightGBM] [Warning] No further splits with positive gain, best gain: -inf\n",
      "[LightGBM] [Warning] No further splits with positive gain, best gain: -inf\n",
      "[LightGBM] [Warning] No further splits with positive gain, best gain: -inf\n",
      "[LightGBM] [Warning] No further splits with positive gain, best gain: -inf\n",
      "[LightGBM] [Warning] No further splits with positive gain, best gain: -inf\n",
      "[LightGBM] [Warning] No further splits with positive gain, best gain: -inf\n",
      "[LightGBM] [Warning] No further splits with positive gain, best gain: -inf\n",
      "[LightGBM] [Warning] No further splits with positive gain, best gain: -inf\n",
      "[LightGBM] [Warning] No further splits with positive gain, best gain: -inf\n",
      "[LightGBM] [Warning] No further splits with positive gain, best gain: -inf\n",
      "[LightGBM] [Warning] No further splits with positive gain, best gain: -inf\n",
      "[LightGBM] [Warning] No further splits with positive gain, best gain: -inf\n",
      "[LightGBM] [Warning] No further splits with positive gain, best gain: -inf\n",
      "[LightGBM] [Warning] No further splits with positive gain, best gain: -inf\n",
      "[LightGBM] [Warning] No further splits with positive gain, best gain: -inf\n",
      "[LightGBM] [Warning] No further splits with positive gain, best gain: -inf\n",
      "[LightGBM] [Warning] No further splits with positive gain, best gain: -inf\n",
      "[LightGBM] [Warning] No further splits with positive gain, best gain: -inf\n",
      "[LightGBM] [Warning] No further splits with positive gain, best gain: -inf\n",
      "[LightGBM] [Warning] No further splits with positive gain, best gain: -inf\n",
      "[LightGBM] [Warning] No further splits with positive gain, best gain: -inf\n",
      "[LightGBM] [Warning] No further splits with positive gain, best gain: -inf\n",
      "[LightGBM] [Warning] No further splits with positive gain, best gain: -inf\n",
      "Early stopping, best iteration is:\n",
      "[90]\ttraining's binary_logloss: 0.0189853\tvalid_1's binary_logloss: 0.0501701\n"
     ]
    },
    {
     "data": {
      "text/html": [
       "<style>#sk-container-id-13 {color: black;background-color: white;}#sk-container-id-13 pre{padding: 0;}#sk-container-id-13 div.sk-toggleable {background-color: white;}#sk-container-id-13 label.sk-toggleable__label {cursor: pointer;display: block;width: 100%;margin-bottom: 0;padding: 0.3em;box-sizing: border-box;text-align: center;}#sk-container-id-13 label.sk-toggleable__label-arrow:before {content: \"▸\";float: left;margin-right: 0.25em;color: #696969;}#sk-container-id-13 label.sk-toggleable__label-arrow:hover:before {color: black;}#sk-container-id-13 div.sk-estimator:hover label.sk-toggleable__label-arrow:before {color: black;}#sk-container-id-13 div.sk-toggleable__content {max-height: 0;max-width: 0;overflow: hidden;text-align: left;background-color: #f0f8ff;}#sk-container-id-13 div.sk-toggleable__content pre {margin: 0.2em;color: black;border-radius: 0.25em;background-color: #f0f8ff;}#sk-container-id-13 input.sk-toggleable__control:checked~div.sk-toggleable__content {max-height: 200px;max-width: 100%;overflow: auto;}#sk-container-id-13 input.sk-toggleable__control:checked~label.sk-toggleable__label-arrow:before {content: \"▾\";}#sk-container-id-13 div.sk-estimator input.sk-toggleable__control:checked~label.sk-toggleable__label {background-color: #d4ebff;}#sk-container-id-13 div.sk-label input.sk-toggleable__control:checked~label.sk-toggleable__label {background-color: #d4ebff;}#sk-container-id-13 input.sk-hidden--visually {border: 0;clip: rect(1px 1px 1px 1px);clip: rect(1px, 1px, 1px, 1px);height: 1px;margin: -1px;overflow: hidden;padding: 0;position: absolute;width: 1px;}#sk-container-id-13 div.sk-estimator {font-family: monospace;background-color: #f0f8ff;border: 1px dotted black;border-radius: 0.25em;box-sizing: border-box;margin-bottom: 0.5em;}#sk-container-id-13 div.sk-estimator:hover {background-color: #d4ebff;}#sk-container-id-13 div.sk-parallel-item::after {content: \"\";width: 100%;border-bottom: 1px solid gray;flex-grow: 1;}#sk-container-id-13 div.sk-label:hover label.sk-toggleable__label {background-color: #d4ebff;}#sk-container-id-13 div.sk-serial::before {content: \"\";position: absolute;border-left: 1px solid gray;box-sizing: border-box;top: 0;bottom: 0;left: 50%;z-index: 0;}#sk-container-id-13 div.sk-serial {display: flex;flex-direction: column;align-items: center;background-color: white;padding-right: 0.2em;padding-left: 0.2em;position: relative;}#sk-container-id-13 div.sk-item {position: relative;z-index: 1;}#sk-container-id-13 div.sk-parallel {display: flex;align-items: stretch;justify-content: center;background-color: white;position: relative;}#sk-container-id-13 div.sk-item::before, #sk-container-id-13 div.sk-parallel-item::before {content: \"\";position: absolute;border-left: 1px solid gray;box-sizing: border-box;top: 0;bottom: 0;left: 50%;z-index: -1;}#sk-container-id-13 div.sk-parallel-item {display: flex;flex-direction: column;z-index: 1;position: relative;background-color: white;}#sk-container-id-13 div.sk-parallel-item:first-child::after {align-self: flex-end;width: 50%;}#sk-container-id-13 div.sk-parallel-item:last-child::after {align-self: flex-start;width: 50%;}#sk-container-id-13 div.sk-parallel-item:only-child::after {width: 0;}#sk-container-id-13 div.sk-dashed-wrapped {border: 1px dashed gray;margin: 0 0.4em 0.5em 0.4em;box-sizing: border-box;padding-bottom: 0.4em;background-color: white;}#sk-container-id-13 div.sk-label label {font-family: monospace;font-weight: bold;display: inline-block;line-height: 1.2em;}#sk-container-id-13 div.sk-label-container {text-align: center;}#sk-container-id-13 div.sk-container {/* jupyter's `normalize.less` sets `[hidden] { display: none; }` but bootstrap.min.css set `[hidden] { display: none !important; }` so we also need the `!important` here to be able to override the default hidden behavior on the sphinx rendered scikit-learn.org. See: https://github.com/scikit-learn/scikit-learn/issues/21755 */display: inline-block !important;position: relative;}#sk-container-id-13 div.sk-text-repr-fallback {display: none;}</style><div id=\"sk-container-id-13\" class=\"sk-top-container\"><div class=\"sk-text-repr-fallback\"><pre>LGBMClassifier(learning_rate=0.05, n_estimators=300)</pre><b>In a Jupyter environment, please rerun this cell to show the HTML representation or trust the notebook. <br />On GitHub, the HTML representation is unable to render, please try loading this page with nbviewer.org.</b></div><div class=\"sk-container\" hidden><div class=\"sk-item\"><div class=\"sk-estimator sk-toggleable\"><input class=\"sk-toggleable__control sk-hidden--visually\" id=\"sk-estimator-id-15\" type=\"checkbox\" checked><label for=\"sk-estimator-id-15\" class=\"sk-toggleable__label sk-toggleable__label-arrow\">LGBMClassifier</label><div class=\"sk-toggleable__content\"><pre>LGBMClassifier(learning_rate=0.05, n_estimators=300)</pre></div></div></div></div></div>"
      ],
      "text/plain": [
       "LGBMClassifier(learning_rate=0.05, n_estimators=300)"
      ]
     },
     "execution_count": 71,
     "metadata": {},
     "output_type": "execute_result"
    }
   ],
   "source": [
    "from lightgbm import LGBMClassifier, early_stopping\n",
    "\n",
    "lgbm_c = LGBMClassifier(n_estimators=300, learning_rate=0.05)\n",
    "evals = [(x_train, y_train), (x_val, y_val)]\n",
    "callbacks = [early_stopping(stopping_rounds=10)]\n",
    "lgbm_c.fit(x_train, y_train, eval_metric='logloss', callbacks=callbacks, eval_set=evals)"
   ]
  },
  {
   "cell_type": "code",
   "execution_count": 72,
   "id": "962bfc8e-4690-4f7a-81f2-f818ebf6ac59",
   "metadata": {},
   "outputs": [
    {
     "name": "stdout",
     "output_type": "stream",
     "text": [
      "정확도:0.939\n",
      "AUC:0.973\n"
     ]
    }
   ],
   "source": [
    "y_hat = lgbm_c.predict(x_test)\n",
    "\n",
    "print(f'정확도:{accuracy_score(y_test, y_hat):.3f}')\n",
    "print(f'AUC:{roc_auc_score(y_test, lgbm_c.predict_proba(x_test)[:,1]):.3f}')"
   ]
  },
  {
   "cell_type": "markdown",
   "id": "7eb6c5da-1784-4ec9-bd7c-6d39d7bd1c9f",
   "metadata": {},
   "source": [
    "## Stacking"
   ]
  },
  {
   "cell_type": "markdown",
   "id": "58ca1812-945a-4079-99c7-ca789541425c",
   "metadata": {},
   "source": [
    "### 패키지 로딩"
   ]
  },
  {
   "cell_type": "code",
   "execution_count": 73,
   "id": "cc701554-6740-49ca-8187-d8dc32f534e6",
   "metadata": {},
   "outputs": [],
   "source": [
    "from sklearn.neighbors import KNeighborsClassifier\n",
    "from sklearn.ensemble import RandomForestClassifier\n",
    "from sklearn.ensemble import AdaBoostClassifier\n",
    "from sklearn.tree import DecisionTreeClassifier\n",
    "from sklearn.linear_model import LogisticRegression   # 2nd meta model (최종 학습할 모델)"
   ]
  },
  {
   "cell_type": "markdown",
   "id": "53a60eb0-cb5d-4d10-9d91-0e781f544c5c",
   "metadata": {},
   "source": [
    "### 모델 생성"
   ]
  },
  {
   "cell_type": "code",
   "execution_count": 74,
   "id": "c73ee87c-62a3-4c32-a23e-2469f88872dd",
   "metadata": {},
   "outputs": [],
   "source": [
    "knn_1st = KNeighborsClassifier(n_neighbors=3)\n",
    "rf_1st = RandomForestClassifier(random_state=0)\n",
    "dt_1st = DecisionTreeClassifier()\n",
    "ada_1st = AdaBoostClassifier(n_estimators=200)\n",
    "\n",
    "lr_final = LogisticRegression()"
   ]
  },
  {
   "cell_type": "markdown",
   "id": "449cc054-16c6-4ac8-b401-55a3b159abcc",
   "metadata": {},
   "source": [
    "### 학습 및 평가"
   ]
  },
  {
   "cell_type": "code",
   "execution_count": 75,
   "id": "10f601ae-4be7-4bea-a0ea-e5f67c141915",
   "metadata": {},
   "outputs": [
    {
     "data": {
      "text/html": [
       "<style>#sk-container-id-14 {color: black;background-color: white;}#sk-container-id-14 pre{padding: 0;}#sk-container-id-14 div.sk-toggleable {background-color: white;}#sk-container-id-14 label.sk-toggleable__label {cursor: pointer;display: block;width: 100%;margin-bottom: 0;padding: 0.3em;box-sizing: border-box;text-align: center;}#sk-container-id-14 label.sk-toggleable__label-arrow:before {content: \"▸\";float: left;margin-right: 0.25em;color: #696969;}#sk-container-id-14 label.sk-toggleable__label-arrow:hover:before {color: black;}#sk-container-id-14 div.sk-estimator:hover label.sk-toggleable__label-arrow:before {color: black;}#sk-container-id-14 div.sk-toggleable__content {max-height: 0;max-width: 0;overflow: hidden;text-align: left;background-color: #f0f8ff;}#sk-container-id-14 div.sk-toggleable__content pre {margin: 0.2em;color: black;border-radius: 0.25em;background-color: #f0f8ff;}#sk-container-id-14 input.sk-toggleable__control:checked~div.sk-toggleable__content {max-height: 200px;max-width: 100%;overflow: auto;}#sk-container-id-14 input.sk-toggleable__control:checked~label.sk-toggleable__label-arrow:before {content: \"▾\";}#sk-container-id-14 div.sk-estimator input.sk-toggleable__control:checked~label.sk-toggleable__label {background-color: #d4ebff;}#sk-container-id-14 div.sk-label input.sk-toggleable__control:checked~label.sk-toggleable__label {background-color: #d4ebff;}#sk-container-id-14 input.sk-hidden--visually {border: 0;clip: rect(1px 1px 1px 1px);clip: rect(1px, 1px, 1px, 1px);height: 1px;margin: -1px;overflow: hidden;padding: 0;position: absolute;width: 1px;}#sk-container-id-14 div.sk-estimator {font-family: monospace;background-color: #f0f8ff;border: 1px dotted black;border-radius: 0.25em;box-sizing: border-box;margin-bottom: 0.5em;}#sk-container-id-14 div.sk-estimator:hover {background-color: #d4ebff;}#sk-container-id-14 div.sk-parallel-item::after {content: \"\";width: 100%;border-bottom: 1px solid gray;flex-grow: 1;}#sk-container-id-14 div.sk-label:hover label.sk-toggleable__label {background-color: #d4ebff;}#sk-container-id-14 div.sk-serial::before {content: \"\";position: absolute;border-left: 1px solid gray;box-sizing: border-box;top: 0;bottom: 0;left: 50%;z-index: 0;}#sk-container-id-14 div.sk-serial {display: flex;flex-direction: column;align-items: center;background-color: white;padding-right: 0.2em;padding-left: 0.2em;position: relative;}#sk-container-id-14 div.sk-item {position: relative;z-index: 1;}#sk-container-id-14 div.sk-parallel {display: flex;align-items: stretch;justify-content: center;background-color: white;position: relative;}#sk-container-id-14 div.sk-item::before, #sk-container-id-14 div.sk-parallel-item::before {content: \"\";position: absolute;border-left: 1px solid gray;box-sizing: border-box;top: 0;bottom: 0;left: 50%;z-index: -1;}#sk-container-id-14 div.sk-parallel-item {display: flex;flex-direction: column;z-index: 1;position: relative;background-color: white;}#sk-container-id-14 div.sk-parallel-item:first-child::after {align-self: flex-end;width: 50%;}#sk-container-id-14 div.sk-parallel-item:last-child::after {align-self: flex-start;width: 50%;}#sk-container-id-14 div.sk-parallel-item:only-child::after {width: 0;}#sk-container-id-14 div.sk-dashed-wrapped {border: 1px dashed gray;margin: 0 0.4em 0.5em 0.4em;box-sizing: border-box;padding-bottom: 0.4em;background-color: white;}#sk-container-id-14 div.sk-label label {font-family: monospace;font-weight: bold;display: inline-block;line-height: 1.2em;}#sk-container-id-14 div.sk-label-container {text-align: center;}#sk-container-id-14 div.sk-container {/* jupyter's `normalize.less` sets `[hidden] { display: none; }` but bootstrap.min.css set `[hidden] { display: none !important; }` so we also need the `!important` here to be able to override the default hidden behavior on the sphinx rendered scikit-learn.org. See: https://github.com/scikit-learn/scikit-learn/issues/21755 */display: inline-block !important;position: relative;}#sk-container-id-14 div.sk-text-repr-fallback {display: none;}</style><div id=\"sk-container-id-14\" class=\"sk-top-container\"><div class=\"sk-text-repr-fallback\"><pre>AdaBoostClassifier(n_estimators=200)</pre><b>In a Jupyter environment, please rerun this cell to show the HTML representation or trust the notebook. <br />On GitHub, the HTML representation is unable to render, please try loading this page with nbviewer.org.</b></div><div class=\"sk-container\" hidden><div class=\"sk-item\"><div class=\"sk-estimator sk-toggleable\"><input class=\"sk-toggleable__control sk-hidden--visually\" id=\"sk-estimator-id-16\" type=\"checkbox\" checked><label for=\"sk-estimator-id-16\" class=\"sk-toggleable__label sk-toggleable__label-arrow\">AdaBoostClassifier</label><div class=\"sk-toggleable__content\"><pre>AdaBoostClassifier(n_estimators=200)</pre></div></div></div></div></div>"
      ],
      "text/plain": [
       "AdaBoostClassifier(n_estimators=200)"
      ]
     },
     "execution_count": 75,
     "metadata": {},
     "output_type": "execute_result"
    }
   ],
   "source": [
    "knn_1st.fit(x_train, y_train)\n",
    "rf_1st.fit(x_train, y_train)\n",
    "dt_1st.fit(x_train, y_train)\n",
    "ada_1st.fit(x_train, y_train)"
   ]
  },
  {
   "cell_type": "code",
   "execution_count": 76,
   "id": "fc69e35c-4716-436e-8ded-4d9acc5dd8c4",
   "metadata": {},
   "outputs": [],
   "source": [
    "knn_pred = knn_1st.predict(x_test)\n",
    "rf_pred = rf_1st.predict(x_test)\n",
    "dt_pred = dt_1st.predict(x_test)\n",
    "ada_pred = ada_1st.predict(x_test)"
   ]
  },
  {
   "cell_type": "markdown",
   "id": "b0aac583-a061-4de4-871e-3dcedbaeabd8",
   "metadata": {},
   "source": [
    "### 스태킹(Stacking)"
   ]
  },
  {
   "cell_type": "code",
   "execution_count": 80,
   "id": "a926d393-c003-46fd-888b-eb32398ab78f",
   "metadata": {},
   "outputs": [
    {
     "name": "stdout",
     "output_type": "stream",
     "text": [
      "(114,)\n",
      "(4, 114)\n",
      "(114, 4)\n"
     ]
    }
   ],
   "source": [
    "print(knn_pred.shape)\n",
    "y_hat = np.array([knn_pred, rf_pred, dt_pred, ada_pred])\n",
    "print(y_hat.shape)\n",
    "y_hat = np.transpose(y_hat)  # 열과 행 위치 변경\n",
    "print(y_hat.shape)"
   ]
  },
  {
   "cell_type": "markdown",
   "id": "c0246ef8-14ed-47a8-ba1d-2a971c70f3d1",
   "metadata": {},
   "source": [
    "### 메타 모델 학습 및 평가"
   ]
  },
  {
   "cell_type": "code",
   "execution_count": 85,
   "id": "8923729d-5a01-4ba2-b40e-722e405e0b8f",
   "metadata": {},
   "outputs": [
    {
     "name": "stdout",
     "output_type": "stream",
     "text": [
      "최종 메타 모델의 예측 정확도:0.974\n"
     ]
    }
   ],
   "source": [
    "lr_final.fit(y_hat, y_test)\n",
    "final_y_hat = lr_final.predict(y_hat)\n",
    "print(f'최종 메타 모델의 예측 정확도:{accuracy_score(y_test, final_y_hat):.3f}')"
   ]
  },
  {
   "cell_type": "markdown",
   "id": "dda65e25-76db-4eca-bb2e-3dcef607cfdd",
   "metadata": {},
   "source": [
    "## [실습] 인도 대학교 취업지원 결과 예측\n",
    "- 데이터 구조\n",
    ">- sl_no: serial number\n",
    ">- gender: 성별 (값: M=Male, F=Fmale)\n",
    ">- ssc_p: 중등교육 시험 평균점수 (10학년)\n",
    ">- ssc_b: 소속 중등교육 위원회 (값: Central, Others)\n",
    ">- hsc_p: 고등 중등 교육 시험 평균점수 (12학년)\n",
    ">- hsc_b: 소속 고등 중등 교육 위원회 (값: Central, Others)\n",
    ">- hsc_s: 고등 중등 교육의 전문화 (값: Commerce(상업계), Science(과학계), Arts(예술계))\n",
    ">- degree_p: 학부 과정의 최종 평균 점수\n",
    ">- degree_t: 학위 분야 (값: Comm&Mgmt(상업 및 관리), Sci&Tech(과학 및 기술), Others(기타))\n",
    ">- workex: 일 경험 여부 (값: Yes. No)\n",
    ">- etest_p : 취업 적성 시험 점수\n",
    ">- specialisation: 전문화 과정 (값: Mkt&HR(마케팅 및 HR), Mkt&Fin(마케팅 및 재무))\n",
    ">- mba_p: 경영학 과정의 석사학위 최종 평균 점수\n",
    ">- status: 취업 여부 (값: Placed(배정), Not Placed(미배정))\n",
    ">- salary: 급여 (취업이 배정된 경우)\n",
    "- 처리조건\n",
    ">- 범주형 피처에 대한 one-hot encoding\n",
    ">- 시리얼, 급여 피처는 학습 대상에서 제외\n",
    ">- 최소 2개 이상의 이진분류 알고리즘으로 학습하고 각 모델의 결과 비교 "
   ]
  },
  {
   "cell_type": "markdown",
   "id": "04c5089f-1001-4faf-b6ff-ac04c6bc31dc",
   "metadata": {},
   "source": [
    "### 패키지 로딩"
   ]
  },
  {
   "cell_type": "code",
   "execution_count": 201,
   "id": "82724d86-c717-444e-8514-62798fb16abc",
   "metadata": {},
   "outputs": [],
   "source": [
    "import numpy as np\n",
    "import pandas as pd\n",
    "\n",
    "from sklearn.model_selection import train_test_split\n",
    "from sklearn.metrics import accuracy_score, confusion_matrix, roc_auc_score\n",
    "from sklearn.linear_model import LogisticRegression\n",
    "from sklearn.preprocessing import OneHotEncoder, LabelEncoder"
   ]
  },
  {
   "cell_type": "markdown",
   "id": "53076059-4904-4163-9ff8-3b7adbdb8831",
   "metadata": {},
   "source": [
    "### 데이터 로딩 및 확인"
   ]
  },
  {
   "cell_type": "code",
   "execution_count": 202,
   "id": "15760bad-a3c4-4304-89fb-0c085580207c",
   "metadata": {},
   "outputs": [
    {
     "data": {
      "text/html": [
       "<div>\n",
       "<style scoped>\n",
       "    .dataframe tbody tr th:only-of-type {\n",
       "        vertical-align: middle;\n",
       "    }\n",
       "\n",
       "    .dataframe tbody tr th {\n",
       "        vertical-align: top;\n",
       "    }\n",
       "\n",
       "    .dataframe thead th {\n",
       "        text-align: right;\n",
       "    }\n",
       "</style>\n",
       "<table border=\"1\" class=\"dataframe\">\n",
       "  <thead>\n",
       "    <tr style=\"text-align: right;\">\n",
       "      <th></th>\n",
       "      <th>sl_no</th>\n",
       "      <th>gender</th>\n",
       "      <th>ssc_p</th>\n",
       "      <th>ssc_b</th>\n",
       "      <th>hsc_p</th>\n",
       "      <th>hsc_b</th>\n",
       "      <th>hsc_s</th>\n",
       "      <th>degree_p</th>\n",
       "      <th>degree_t</th>\n",
       "      <th>workex</th>\n",
       "      <th>etest_p</th>\n",
       "      <th>specialisation</th>\n",
       "      <th>mba_p</th>\n",
       "      <th>status</th>\n",
       "      <th>salary</th>\n",
       "    </tr>\n",
       "  </thead>\n",
       "  <tbody>\n",
       "    <tr>\n",
       "      <th>0</th>\n",
       "      <td>1</td>\n",
       "      <td>M</td>\n",
       "      <td>67.00</td>\n",
       "      <td>Others</td>\n",
       "      <td>91.00</td>\n",
       "      <td>Others</td>\n",
       "      <td>Commerce</td>\n",
       "      <td>58.00</td>\n",
       "      <td>Sci&amp;Tech</td>\n",
       "      <td>No</td>\n",
       "      <td>55.0</td>\n",
       "      <td>Mkt&amp;HR</td>\n",
       "      <td>58.80</td>\n",
       "      <td>Placed</td>\n",
       "      <td>270000.0</td>\n",
       "    </tr>\n",
       "    <tr>\n",
       "      <th>1</th>\n",
       "      <td>2</td>\n",
       "      <td>M</td>\n",
       "      <td>79.33</td>\n",
       "      <td>Central</td>\n",
       "      <td>78.33</td>\n",
       "      <td>Others</td>\n",
       "      <td>Science</td>\n",
       "      <td>77.48</td>\n",
       "      <td>Sci&amp;Tech</td>\n",
       "      <td>Yes</td>\n",
       "      <td>86.5</td>\n",
       "      <td>Mkt&amp;Fin</td>\n",
       "      <td>66.28</td>\n",
       "      <td>Placed</td>\n",
       "      <td>200000.0</td>\n",
       "    </tr>\n",
       "    <tr>\n",
       "      <th>2</th>\n",
       "      <td>3</td>\n",
       "      <td>M</td>\n",
       "      <td>65.00</td>\n",
       "      <td>Central</td>\n",
       "      <td>68.00</td>\n",
       "      <td>Central</td>\n",
       "      <td>Arts</td>\n",
       "      <td>64.00</td>\n",
       "      <td>Comm&amp;Mgmt</td>\n",
       "      <td>No</td>\n",
       "      <td>75.0</td>\n",
       "      <td>Mkt&amp;Fin</td>\n",
       "      <td>57.80</td>\n",
       "      <td>Placed</td>\n",
       "      <td>250000.0</td>\n",
       "    </tr>\n",
       "    <tr>\n",
       "      <th>3</th>\n",
       "      <td>4</td>\n",
       "      <td>M</td>\n",
       "      <td>56.00</td>\n",
       "      <td>Central</td>\n",
       "      <td>52.00</td>\n",
       "      <td>Central</td>\n",
       "      <td>Science</td>\n",
       "      <td>52.00</td>\n",
       "      <td>Sci&amp;Tech</td>\n",
       "      <td>No</td>\n",
       "      <td>66.0</td>\n",
       "      <td>Mkt&amp;HR</td>\n",
       "      <td>59.43</td>\n",
       "      <td>Not Placed</td>\n",
       "      <td>NaN</td>\n",
       "    </tr>\n",
       "    <tr>\n",
       "      <th>4</th>\n",
       "      <td>5</td>\n",
       "      <td>M</td>\n",
       "      <td>85.80</td>\n",
       "      <td>Central</td>\n",
       "      <td>73.60</td>\n",
       "      <td>Central</td>\n",
       "      <td>Commerce</td>\n",
       "      <td>73.30</td>\n",
       "      <td>Comm&amp;Mgmt</td>\n",
       "      <td>No</td>\n",
       "      <td>96.8</td>\n",
       "      <td>Mkt&amp;Fin</td>\n",
       "      <td>55.50</td>\n",
       "      <td>Placed</td>\n",
       "      <td>425000.0</td>\n",
       "    </tr>\n",
       "  </tbody>\n",
       "</table>\n",
       "</div>"
      ],
      "text/plain": [
       "   sl_no gender  ssc_p    ssc_b  hsc_p    hsc_b     hsc_s  degree_p  \\\n",
       "0      1      M  67.00   Others  91.00   Others  Commerce     58.00   \n",
       "1      2      M  79.33  Central  78.33   Others   Science     77.48   \n",
       "2      3      M  65.00  Central  68.00  Central      Arts     64.00   \n",
       "3      4      M  56.00  Central  52.00  Central   Science     52.00   \n",
       "4      5      M  85.80  Central  73.60  Central  Commerce     73.30   \n",
       "\n",
       "    degree_t workex  etest_p specialisation  mba_p      status    salary  \n",
       "0   Sci&Tech     No     55.0         Mkt&HR  58.80      Placed  270000.0  \n",
       "1   Sci&Tech    Yes     86.5        Mkt&Fin  66.28      Placed  200000.0  \n",
       "2  Comm&Mgmt     No     75.0        Mkt&Fin  57.80      Placed  250000.0  \n",
       "3   Sci&Tech     No     66.0         Mkt&HR  59.43  Not Placed       NaN  \n",
       "4  Comm&Mgmt     No     96.8        Mkt&Fin  55.50      Placed  425000.0  "
      ]
     },
     "metadata": {},
     "output_type": "display_data"
    },
    {
     "name": "stdout",
     "output_type": "stream",
     "text": [
      "(215, 15)\n",
      "<class 'pandas.core.frame.DataFrame'>\n",
      "RangeIndex: 215 entries, 0 to 214\n",
      "Data columns (total 15 columns):\n",
      " #   Column          Non-Null Count  Dtype  \n",
      "---  ------          --------------  -----  \n",
      " 0   sl_no           215 non-null    int64  \n",
      " 1   gender          215 non-null    object \n",
      " 2   ssc_p           215 non-null    float64\n",
      " 3   ssc_b           215 non-null    object \n",
      " 4   hsc_p           215 non-null    float64\n",
      " 5   hsc_b           215 non-null    object \n",
      " 6   hsc_s           215 non-null    object \n",
      " 7   degree_p        215 non-null    float64\n",
      " 8   degree_t        215 non-null    object \n",
      " 9   workex          215 non-null    object \n",
      " 10  etest_p         215 non-null    float64\n",
      " 11  specialisation  215 non-null    object \n",
      " 12  mba_p           215 non-null    float64\n",
      " 13  status          215 non-null    object \n",
      " 14  salary          148 non-null    float64\n",
      "dtypes: float64(6), int64(1), object(8)\n",
      "memory usage: 25.3+ KB\n",
      "None\n"
     ]
    }
   ],
   "source": [
    "df_job = pd.read_csv('./dataset/Placement_Data_Full_Class.csv')\n",
    "display(df_job.head())\n",
    "print(df_job.shape)\n",
    "print(df_job.info())"
   ]
  },
  {
   "cell_type": "code",
   "execution_count": 203,
   "id": "e475c8ed-acea-43d3-852c-703d1f10215e",
   "metadata": {},
   "outputs": [
    {
     "name": "stdout",
     "output_type": "stream",
     "text": [
      "['Others' 'Central']\n"
     ]
    }
   ],
   "source": [
    "print(df_job['ssc_b'].unique())"
   ]
  },
  {
   "cell_type": "markdown",
   "id": "6507491c-7b3b-412a-bdba-8db602c483ca",
   "metadata": {},
   "source": [
    "### 데이터 전처리"
   ]
  },
  {
   "cell_type": "code",
   "execution_count": 204,
   "id": "6d84ae86-f1ac-4776-82ea-25f63ade1691",
   "metadata": {},
   "outputs": [],
   "source": [
    "df_job.drop(['sl_no', 'salary'], axis = 1, inplace = True)"
   ]
  },
  {
   "cell_type": "code",
   "execution_count": 205,
   "id": "32b02223-2f91-4f37-b87a-33954bbb9807",
   "metadata": {},
   "outputs": [
    {
     "data": {
      "text/html": [
       "<div>\n",
       "<style scoped>\n",
       "    .dataframe tbody tr th:only-of-type {\n",
       "        vertical-align: middle;\n",
       "    }\n",
       "\n",
       "    .dataframe tbody tr th {\n",
       "        vertical-align: top;\n",
       "    }\n",
       "\n",
       "    .dataframe thead th {\n",
       "        text-align: right;\n",
       "    }\n",
       "</style>\n",
       "<table border=\"1\" class=\"dataframe\">\n",
       "  <thead>\n",
       "    <tr style=\"text-align: right;\">\n",
       "      <th></th>\n",
       "      <th>gender</th>\n",
       "      <th>ssc_p</th>\n",
       "      <th>ssc_b</th>\n",
       "      <th>hsc_p</th>\n",
       "      <th>hsc_b</th>\n",
       "      <th>hsc_s</th>\n",
       "      <th>degree_p</th>\n",
       "      <th>degree_t</th>\n",
       "      <th>workex</th>\n",
       "      <th>etest_p</th>\n",
       "      <th>specialisation</th>\n",
       "      <th>mba_p</th>\n",
       "      <th>status</th>\n",
       "    </tr>\n",
       "  </thead>\n",
       "  <tbody>\n",
       "    <tr>\n",
       "      <th>0</th>\n",
       "      <td>1</td>\n",
       "      <td>67.00</td>\n",
       "      <td>1</td>\n",
       "      <td>91.00</td>\n",
       "      <td>1</td>\n",
       "      <td>1</td>\n",
       "      <td>58.00</td>\n",
       "      <td>2</td>\n",
       "      <td>0</td>\n",
       "      <td>55.0</td>\n",
       "      <td>1</td>\n",
       "      <td>58.80</td>\n",
       "      <td>1</td>\n",
       "    </tr>\n",
       "    <tr>\n",
       "      <th>1</th>\n",
       "      <td>1</td>\n",
       "      <td>79.33</td>\n",
       "      <td>0</td>\n",
       "      <td>78.33</td>\n",
       "      <td>1</td>\n",
       "      <td>2</td>\n",
       "      <td>77.48</td>\n",
       "      <td>2</td>\n",
       "      <td>1</td>\n",
       "      <td>86.5</td>\n",
       "      <td>0</td>\n",
       "      <td>66.28</td>\n",
       "      <td>1</td>\n",
       "    </tr>\n",
       "    <tr>\n",
       "      <th>2</th>\n",
       "      <td>1</td>\n",
       "      <td>65.00</td>\n",
       "      <td>0</td>\n",
       "      <td>68.00</td>\n",
       "      <td>0</td>\n",
       "      <td>0</td>\n",
       "      <td>64.00</td>\n",
       "      <td>0</td>\n",
       "      <td>0</td>\n",
       "      <td>75.0</td>\n",
       "      <td>0</td>\n",
       "      <td>57.80</td>\n",
       "      <td>1</td>\n",
       "    </tr>\n",
       "    <tr>\n",
       "      <th>3</th>\n",
       "      <td>1</td>\n",
       "      <td>56.00</td>\n",
       "      <td>0</td>\n",
       "      <td>52.00</td>\n",
       "      <td>0</td>\n",
       "      <td>2</td>\n",
       "      <td>52.00</td>\n",
       "      <td>2</td>\n",
       "      <td>0</td>\n",
       "      <td>66.0</td>\n",
       "      <td>1</td>\n",
       "      <td>59.43</td>\n",
       "      <td>0</td>\n",
       "    </tr>\n",
       "    <tr>\n",
       "      <th>4</th>\n",
       "      <td>1</td>\n",
       "      <td>85.80</td>\n",
       "      <td>0</td>\n",
       "      <td>73.60</td>\n",
       "      <td>0</td>\n",
       "      <td>1</td>\n",
       "      <td>73.30</td>\n",
       "      <td>0</td>\n",
       "      <td>0</td>\n",
       "      <td>96.8</td>\n",
       "      <td>0</td>\n",
       "      <td>55.50</td>\n",
       "      <td>1</td>\n",
       "    </tr>\n",
       "  </tbody>\n",
       "</table>\n",
       "</div>"
      ],
      "text/plain": [
       "   gender  ssc_p  ssc_b  hsc_p  hsc_b  hsc_s  degree_p  degree_t  workex  \\\n",
       "0       1  67.00      1  91.00      1      1     58.00         2       0   \n",
       "1       1  79.33      0  78.33      1      2     77.48         2       1   \n",
       "2       1  65.00      0  68.00      0      0     64.00         0       0   \n",
       "3       1  56.00      0  52.00      0      2     52.00         2       0   \n",
       "4       1  85.80      0  73.60      0      1     73.30         0       0   \n",
       "\n",
       "   etest_p  specialisation  mba_p  status  \n",
       "0     55.0               1  58.80       1  \n",
       "1     86.5               0  66.28       1  \n",
       "2     75.0               0  57.80       1  \n",
       "3     66.0               1  59.43       0  \n",
       "4     96.8               0  55.50       1  "
      ]
     },
     "metadata": {},
     "output_type": "display_data"
    }
   ],
   "source": [
    "# 사이킷런을 이용한 라벨 인코딩\n",
    "df_job2 = df_job.copy()\n",
    "df_job2 = df_job2.apply(lambda col:LabelEncoder().fit_transform(col) if col.dtype == object else col)\n",
    "\n",
    "display(df_job2.head())"
   ]
  },
  {
   "cell_type": "code",
   "execution_count": 206,
   "id": "fa4fdb1e-328b-4e54-bd7f-7d6dcce2f3e9",
   "metadata": {},
   "outputs": [
    {
     "data": {
      "text/html": [
       "<div>\n",
       "<style scoped>\n",
       "    .dataframe tbody tr th:only-of-type {\n",
       "        vertical-align: middle;\n",
       "    }\n",
       "\n",
       "    .dataframe tbody tr th {\n",
       "        vertical-align: top;\n",
       "    }\n",
       "\n",
       "    .dataframe thead th {\n",
       "        text-align: right;\n",
       "    }\n",
       "</style>\n",
       "<table border=\"1\" class=\"dataframe\">\n",
       "  <thead>\n",
       "    <tr style=\"text-align: right;\">\n",
       "      <th></th>\n",
       "      <th>ssc_p</th>\n",
       "      <th>hsc_p</th>\n",
       "      <th>degree_p</th>\n",
       "      <th>etest_p</th>\n",
       "      <th>mba_p</th>\n",
       "      <th>status</th>\n",
       "      <th>gender_F</th>\n",
       "      <th>gender_M</th>\n",
       "      <th>ssc_b_Central</th>\n",
       "      <th>ssc_b_Others</th>\n",
       "      <th>...</th>\n",
       "      <th>hsc_s_Arts</th>\n",
       "      <th>hsc_s_Commerce</th>\n",
       "      <th>hsc_s_Science</th>\n",
       "      <th>degree_t_Comm&amp;Mgmt</th>\n",
       "      <th>degree_t_Others</th>\n",
       "      <th>degree_t_Sci&amp;Tech</th>\n",
       "      <th>workex_No</th>\n",
       "      <th>workex_Yes</th>\n",
       "      <th>specialisation_Mkt&amp;Fin</th>\n",
       "      <th>specialisation_Mkt&amp;HR</th>\n",
       "    </tr>\n",
       "  </thead>\n",
       "  <tbody>\n",
       "    <tr>\n",
       "      <th>0</th>\n",
       "      <td>67.00</td>\n",
       "      <td>91.00</td>\n",
       "      <td>58.00</td>\n",
       "      <td>55.0</td>\n",
       "      <td>58.80</td>\n",
       "      <td>Placed</td>\n",
       "      <td>False</td>\n",
       "      <td>True</td>\n",
       "      <td>False</td>\n",
       "      <td>True</td>\n",
       "      <td>...</td>\n",
       "      <td>False</td>\n",
       "      <td>True</td>\n",
       "      <td>False</td>\n",
       "      <td>False</td>\n",
       "      <td>False</td>\n",
       "      <td>True</td>\n",
       "      <td>True</td>\n",
       "      <td>False</td>\n",
       "      <td>False</td>\n",
       "      <td>True</td>\n",
       "    </tr>\n",
       "    <tr>\n",
       "      <th>1</th>\n",
       "      <td>79.33</td>\n",
       "      <td>78.33</td>\n",
       "      <td>77.48</td>\n",
       "      <td>86.5</td>\n",
       "      <td>66.28</td>\n",
       "      <td>Placed</td>\n",
       "      <td>False</td>\n",
       "      <td>True</td>\n",
       "      <td>True</td>\n",
       "      <td>False</td>\n",
       "      <td>...</td>\n",
       "      <td>False</td>\n",
       "      <td>False</td>\n",
       "      <td>True</td>\n",
       "      <td>False</td>\n",
       "      <td>False</td>\n",
       "      <td>True</td>\n",
       "      <td>False</td>\n",
       "      <td>True</td>\n",
       "      <td>True</td>\n",
       "      <td>False</td>\n",
       "    </tr>\n",
       "    <tr>\n",
       "      <th>2</th>\n",
       "      <td>65.00</td>\n",
       "      <td>68.00</td>\n",
       "      <td>64.00</td>\n",
       "      <td>75.0</td>\n",
       "      <td>57.80</td>\n",
       "      <td>Placed</td>\n",
       "      <td>False</td>\n",
       "      <td>True</td>\n",
       "      <td>True</td>\n",
       "      <td>False</td>\n",
       "      <td>...</td>\n",
       "      <td>True</td>\n",
       "      <td>False</td>\n",
       "      <td>False</td>\n",
       "      <td>True</td>\n",
       "      <td>False</td>\n",
       "      <td>False</td>\n",
       "      <td>True</td>\n",
       "      <td>False</td>\n",
       "      <td>True</td>\n",
       "      <td>False</td>\n",
       "    </tr>\n",
       "    <tr>\n",
       "      <th>3</th>\n",
       "      <td>56.00</td>\n",
       "      <td>52.00</td>\n",
       "      <td>52.00</td>\n",
       "      <td>66.0</td>\n",
       "      <td>59.43</td>\n",
       "      <td>Not Placed</td>\n",
       "      <td>False</td>\n",
       "      <td>True</td>\n",
       "      <td>True</td>\n",
       "      <td>False</td>\n",
       "      <td>...</td>\n",
       "      <td>False</td>\n",
       "      <td>False</td>\n",
       "      <td>True</td>\n",
       "      <td>False</td>\n",
       "      <td>False</td>\n",
       "      <td>True</td>\n",
       "      <td>True</td>\n",
       "      <td>False</td>\n",
       "      <td>False</td>\n",
       "      <td>True</td>\n",
       "    </tr>\n",
       "    <tr>\n",
       "      <th>4</th>\n",
       "      <td>85.80</td>\n",
       "      <td>73.60</td>\n",
       "      <td>73.30</td>\n",
       "      <td>96.8</td>\n",
       "      <td>55.50</td>\n",
       "      <td>Placed</td>\n",
       "      <td>False</td>\n",
       "      <td>True</td>\n",
       "      <td>True</td>\n",
       "      <td>False</td>\n",
       "      <td>...</td>\n",
       "      <td>False</td>\n",
       "      <td>True</td>\n",
       "      <td>False</td>\n",
       "      <td>True</td>\n",
       "      <td>False</td>\n",
       "      <td>False</td>\n",
       "      <td>True</td>\n",
       "      <td>False</td>\n",
       "      <td>True</td>\n",
       "      <td>False</td>\n",
       "    </tr>\n",
       "  </tbody>\n",
       "</table>\n",
       "<p>5 rows × 22 columns</p>\n",
       "</div>"
      ],
      "text/plain": [
       "   ssc_p  hsc_p  degree_p  etest_p  mba_p      status  gender_F  gender_M  \\\n",
       "0  67.00  91.00     58.00     55.0  58.80      Placed     False      True   \n",
       "1  79.33  78.33     77.48     86.5  66.28      Placed     False      True   \n",
       "2  65.00  68.00     64.00     75.0  57.80      Placed     False      True   \n",
       "3  56.00  52.00     52.00     66.0  59.43  Not Placed     False      True   \n",
       "4  85.80  73.60     73.30     96.8  55.50      Placed     False      True   \n",
       "\n",
       "   ssc_b_Central  ssc_b_Others  ...  hsc_s_Arts  hsc_s_Commerce  \\\n",
       "0          False          True  ...       False            True   \n",
       "1           True         False  ...       False           False   \n",
       "2           True         False  ...        True           False   \n",
       "3           True         False  ...       False           False   \n",
       "4           True         False  ...       False            True   \n",
       "\n",
       "   hsc_s_Science  degree_t_Comm&Mgmt  degree_t_Others  degree_t_Sci&Tech  \\\n",
       "0          False               False            False               True   \n",
       "1           True               False            False               True   \n",
       "2          False                True            False              False   \n",
       "3           True               False            False               True   \n",
       "4          False                True            False              False   \n",
       "\n",
       "   workex_No  workex_Yes  specialisation_Mkt&Fin  specialisation_Mkt&HR  \n",
       "0       True       False                   False                   True  \n",
       "1      False        True                    True                  False  \n",
       "2       True       False                    True                  False  \n",
       "3       True       False                   False                   True  \n",
       "4       True       False                    True                  False  \n",
       "\n",
       "[5 rows x 22 columns]"
      ]
     },
     "metadata": {},
     "output_type": "display_data"
    }
   ],
   "source": [
    "# pandas를 이용한 원-핫 인코딩\n",
    "df_job3 = df_job.copy()\n",
    "cols = ['gender', 'ssc_b', 'hsc_b', 'hsc_s', 'degree_t', 'workex', 'specialisation']\n",
    "df_job3 = pd.get_dummies(df_job3, columns = cols)\n",
    "\n",
    "display(df_job3.head())"
   ]
  },
  {
   "cell_type": "code",
   "execution_count": 207,
   "id": "90a6962f-d5b9-46ea-a34c-cff9e8767717",
   "metadata": {},
   "outputs": [
    {
     "data": {
      "text/html": [
       "<div>\n",
       "<style scoped>\n",
       "    .dataframe tbody tr th:only-of-type {\n",
       "        vertical-align: middle;\n",
       "    }\n",
       "\n",
       "    .dataframe tbody tr th {\n",
       "        vertical-align: top;\n",
       "    }\n",
       "\n",
       "    .dataframe thead th {\n",
       "        text-align: right;\n",
       "    }\n",
       "</style>\n",
       "<table border=\"1\" class=\"dataframe\">\n",
       "  <thead>\n",
       "    <tr style=\"text-align: right;\">\n",
       "      <th></th>\n",
       "      <th>ssc_p</th>\n",
       "      <th>hsc_p</th>\n",
       "      <th>degree_p</th>\n",
       "      <th>etest_p</th>\n",
       "      <th>mba_p</th>\n",
       "      <th>status</th>\n",
       "      <th>gender_F</th>\n",
       "      <th>gender_M</th>\n",
       "      <th>ssc_b_Central</th>\n",
       "      <th>ssc_b_Others</th>\n",
       "      <th>...</th>\n",
       "      <th>hsc_s_Arts</th>\n",
       "      <th>hsc_s_Commerce</th>\n",
       "      <th>hsc_s_Science</th>\n",
       "      <th>degree_t_Comm&amp;Mgmt</th>\n",
       "      <th>degree_t_Others</th>\n",
       "      <th>degree_t_Sci&amp;Tech</th>\n",
       "      <th>workex_No</th>\n",
       "      <th>workex_Yes</th>\n",
       "      <th>specialisation_Mkt&amp;Fin</th>\n",
       "      <th>specialisation_Mkt&amp;HR</th>\n",
       "    </tr>\n",
       "  </thead>\n",
       "  <tbody>\n",
       "    <tr>\n",
       "      <th>0</th>\n",
       "      <td>67.00</td>\n",
       "      <td>91.00</td>\n",
       "      <td>58.00</td>\n",
       "      <td>55.0</td>\n",
       "      <td>58.80</td>\n",
       "      <td>1</td>\n",
       "      <td>False</td>\n",
       "      <td>True</td>\n",
       "      <td>False</td>\n",
       "      <td>True</td>\n",
       "      <td>...</td>\n",
       "      <td>False</td>\n",
       "      <td>True</td>\n",
       "      <td>False</td>\n",
       "      <td>False</td>\n",
       "      <td>False</td>\n",
       "      <td>True</td>\n",
       "      <td>True</td>\n",
       "      <td>False</td>\n",
       "      <td>False</td>\n",
       "      <td>True</td>\n",
       "    </tr>\n",
       "    <tr>\n",
       "      <th>1</th>\n",
       "      <td>79.33</td>\n",
       "      <td>78.33</td>\n",
       "      <td>77.48</td>\n",
       "      <td>86.5</td>\n",
       "      <td>66.28</td>\n",
       "      <td>1</td>\n",
       "      <td>False</td>\n",
       "      <td>True</td>\n",
       "      <td>True</td>\n",
       "      <td>False</td>\n",
       "      <td>...</td>\n",
       "      <td>False</td>\n",
       "      <td>False</td>\n",
       "      <td>True</td>\n",
       "      <td>False</td>\n",
       "      <td>False</td>\n",
       "      <td>True</td>\n",
       "      <td>False</td>\n",
       "      <td>True</td>\n",
       "      <td>True</td>\n",
       "      <td>False</td>\n",
       "    </tr>\n",
       "    <tr>\n",
       "      <th>2</th>\n",
       "      <td>65.00</td>\n",
       "      <td>68.00</td>\n",
       "      <td>64.00</td>\n",
       "      <td>75.0</td>\n",
       "      <td>57.80</td>\n",
       "      <td>1</td>\n",
       "      <td>False</td>\n",
       "      <td>True</td>\n",
       "      <td>True</td>\n",
       "      <td>False</td>\n",
       "      <td>...</td>\n",
       "      <td>True</td>\n",
       "      <td>False</td>\n",
       "      <td>False</td>\n",
       "      <td>True</td>\n",
       "      <td>False</td>\n",
       "      <td>False</td>\n",
       "      <td>True</td>\n",
       "      <td>False</td>\n",
       "      <td>True</td>\n",
       "      <td>False</td>\n",
       "    </tr>\n",
       "    <tr>\n",
       "      <th>3</th>\n",
       "      <td>56.00</td>\n",
       "      <td>52.00</td>\n",
       "      <td>52.00</td>\n",
       "      <td>66.0</td>\n",
       "      <td>59.43</td>\n",
       "      <td>0</td>\n",
       "      <td>False</td>\n",
       "      <td>True</td>\n",
       "      <td>True</td>\n",
       "      <td>False</td>\n",
       "      <td>...</td>\n",
       "      <td>False</td>\n",
       "      <td>False</td>\n",
       "      <td>True</td>\n",
       "      <td>False</td>\n",
       "      <td>False</td>\n",
       "      <td>True</td>\n",
       "      <td>True</td>\n",
       "      <td>False</td>\n",
       "      <td>False</td>\n",
       "      <td>True</td>\n",
       "    </tr>\n",
       "    <tr>\n",
       "      <th>4</th>\n",
       "      <td>85.80</td>\n",
       "      <td>73.60</td>\n",
       "      <td>73.30</td>\n",
       "      <td>96.8</td>\n",
       "      <td>55.50</td>\n",
       "      <td>1</td>\n",
       "      <td>False</td>\n",
       "      <td>True</td>\n",
       "      <td>True</td>\n",
       "      <td>False</td>\n",
       "      <td>...</td>\n",
       "      <td>False</td>\n",
       "      <td>True</td>\n",
       "      <td>False</td>\n",
       "      <td>True</td>\n",
       "      <td>False</td>\n",
       "      <td>False</td>\n",
       "      <td>True</td>\n",
       "      <td>False</td>\n",
       "      <td>True</td>\n",
       "      <td>False</td>\n",
       "    </tr>\n",
       "  </tbody>\n",
       "</table>\n",
       "<p>5 rows × 22 columns</p>\n",
       "</div>"
      ],
      "text/plain": [
       "   ssc_p  hsc_p  degree_p  etest_p  mba_p  status  gender_F  gender_M  \\\n",
       "0  67.00  91.00     58.00     55.0  58.80       1     False      True   \n",
       "1  79.33  78.33     77.48     86.5  66.28       1     False      True   \n",
       "2  65.00  68.00     64.00     75.0  57.80       1     False      True   \n",
       "3  56.00  52.00     52.00     66.0  59.43       0     False      True   \n",
       "4  85.80  73.60     73.30     96.8  55.50       1     False      True   \n",
       "\n",
       "   ssc_b_Central  ssc_b_Others  ...  hsc_s_Arts  hsc_s_Commerce  \\\n",
       "0          False          True  ...       False            True   \n",
       "1           True         False  ...       False           False   \n",
       "2           True         False  ...        True           False   \n",
       "3           True         False  ...       False           False   \n",
       "4           True         False  ...       False            True   \n",
       "\n",
       "   hsc_s_Science  degree_t_Comm&Mgmt  degree_t_Others  degree_t_Sci&Tech  \\\n",
       "0          False               False            False               True   \n",
       "1           True               False            False               True   \n",
       "2          False                True            False              False   \n",
       "3           True               False            False               True   \n",
       "4          False                True            False              False   \n",
       "\n",
       "   workex_No  workex_Yes  specialisation_Mkt&Fin  specialisation_Mkt&HR  \n",
       "0       True       False                   False                   True  \n",
       "1      False        True                    True                  False  \n",
       "2       True       False                    True                  False  \n",
       "3       True       False                   False                   True  \n",
       "4       True       False                    True                  False  \n",
       "\n",
       "[5 rows x 22 columns]"
      ]
     },
     "metadata": {},
     "output_type": "display_data"
    }
   ],
   "source": [
    "df_job3['status'] = df_job3['status'].map({'Not Placed':0, 'Placed':1})\n",
    "display(df_job3.head())"
   ]
  },
  {
   "cell_type": "markdown",
   "id": "b6327592-d2b8-44eb-8f5f-b913b9bd777c",
   "metadata": {},
   "source": [
    "### 데이터 분리"
   ]
  },
  {
   "cell_type": "code",
   "execution_count": 208,
   "id": "07378208-433c-4289-b21e-99f8c4de24e4",
   "metadata": {},
   "outputs": [],
   "source": [
    "x = df_job3.drop('status', axis = 1)\n",
    "y = df_job3['status']"
   ]
  },
  {
   "cell_type": "code",
   "execution_count": 209,
   "id": "9738fc8e-0b7b-4822-99f1-afd923751c46",
   "metadata": {},
   "outputs": [],
   "source": [
    "x_train, x_test, y_train, y_test = train_test_split(x, y ,random_state = 0, train_size = 0.8, stratify = y)"
   ]
  },
  {
   "cell_type": "markdown",
   "id": "7636d893-1c30-4dcd-ac20-fbd9486a9256",
   "metadata": {},
   "source": [
    "### 학습 및 평가"
   ]
  },
  {
   "cell_type": "code",
   "execution_count": 210,
   "id": "17efb922-0713-471a-aec3-2125a9cec06a",
   "metadata": {},
   "outputs": [
    {
     "data": {
      "text/html": [
       "<style>#sk-container-id-18 {color: black;background-color: white;}#sk-container-id-18 pre{padding: 0;}#sk-container-id-18 div.sk-toggleable {background-color: white;}#sk-container-id-18 label.sk-toggleable__label {cursor: pointer;display: block;width: 100%;margin-bottom: 0;padding: 0.3em;box-sizing: border-box;text-align: center;}#sk-container-id-18 label.sk-toggleable__label-arrow:before {content: \"▸\";float: left;margin-right: 0.25em;color: #696969;}#sk-container-id-18 label.sk-toggleable__label-arrow:hover:before {color: black;}#sk-container-id-18 div.sk-estimator:hover label.sk-toggleable__label-arrow:before {color: black;}#sk-container-id-18 div.sk-toggleable__content {max-height: 0;max-width: 0;overflow: hidden;text-align: left;background-color: #f0f8ff;}#sk-container-id-18 div.sk-toggleable__content pre {margin: 0.2em;color: black;border-radius: 0.25em;background-color: #f0f8ff;}#sk-container-id-18 input.sk-toggleable__control:checked~div.sk-toggleable__content {max-height: 200px;max-width: 100%;overflow: auto;}#sk-container-id-18 input.sk-toggleable__control:checked~label.sk-toggleable__label-arrow:before {content: \"▾\";}#sk-container-id-18 div.sk-estimator input.sk-toggleable__control:checked~label.sk-toggleable__label {background-color: #d4ebff;}#sk-container-id-18 div.sk-label input.sk-toggleable__control:checked~label.sk-toggleable__label {background-color: #d4ebff;}#sk-container-id-18 input.sk-hidden--visually {border: 0;clip: rect(1px 1px 1px 1px);clip: rect(1px, 1px, 1px, 1px);height: 1px;margin: -1px;overflow: hidden;padding: 0;position: absolute;width: 1px;}#sk-container-id-18 div.sk-estimator {font-family: monospace;background-color: #f0f8ff;border: 1px dotted black;border-radius: 0.25em;box-sizing: border-box;margin-bottom: 0.5em;}#sk-container-id-18 div.sk-estimator:hover {background-color: #d4ebff;}#sk-container-id-18 div.sk-parallel-item::after {content: \"\";width: 100%;border-bottom: 1px solid gray;flex-grow: 1;}#sk-container-id-18 div.sk-label:hover label.sk-toggleable__label {background-color: #d4ebff;}#sk-container-id-18 div.sk-serial::before {content: \"\";position: absolute;border-left: 1px solid gray;box-sizing: border-box;top: 0;bottom: 0;left: 50%;z-index: 0;}#sk-container-id-18 div.sk-serial {display: flex;flex-direction: column;align-items: center;background-color: white;padding-right: 0.2em;padding-left: 0.2em;position: relative;}#sk-container-id-18 div.sk-item {position: relative;z-index: 1;}#sk-container-id-18 div.sk-parallel {display: flex;align-items: stretch;justify-content: center;background-color: white;position: relative;}#sk-container-id-18 div.sk-item::before, #sk-container-id-18 div.sk-parallel-item::before {content: \"\";position: absolute;border-left: 1px solid gray;box-sizing: border-box;top: 0;bottom: 0;left: 50%;z-index: -1;}#sk-container-id-18 div.sk-parallel-item {display: flex;flex-direction: column;z-index: 1;position: relative;background-color: white;}#sk-container-id-18 div.sk-parallel-item:first-child::after {align-self: flex-end;width: 50%;}#sk-container-id-18 div.sk-parallel-item:last-child::after {align-self: flex-start;width: 50%;}#sk-container-id-18 div.sk-parallel-item:only-child::after {width: 0;}#sk-container-id-18 div.sk-dashed-wrapped {border: 1px dashed gray;margin: 0 0.4em 0.5em 0.4em;box-sizing: border-box;padding-bottom: 0.4em;background-color: white;}#sk-container-id-18 div.sk-label label {font-family: monospace;font-weight: bold;display: inline-block;line-height: 1.2em;}#sk-container-id-18 div.sk-label-container {text-align: center;}#sk-container-id-18 div.sk-container {/* jupyter's `normalize.less` sets `[hidden] { display: none; }` but bootstrap.min.css set `[hidden] { display: none !important; }` so we also need the `!important` here to be able to override the default hidden behavior on the sphinx rendered scikit-learn.org. See: https://github.com/scikit-learn/scikit-learn/issues/21755 */display: inline-block !important;position: relative;}#sk-container-id-18 div.sk-text-repr-fallback {display: none;}</style><div id=\"sk-container-id-18\" class=\"sk-top-container\"><div class=\"sk-text-repr-fallback\"><pre>LogisticRegression(max_iter=2000)</pre><b>In a Jupyter environment, please rerun this cell to show the HTML representation or trust the notebook. <br />On GitHub, the HTML representation is unable to render, please try loading this page with nbviewer.org.</b></div><div class=\"sk-container\" hidden><div class=\"sk-item\"><div class=\"sk-estimator sk-toggleable\"><input class=\"sk-toggleable__control sk-hidden--visually\" id=\"sk-estimator-id-20\" type=\"checkbox\" checked><label for=\"sk-estimator-id-20\" class=\"sk-toggleable__label sk-toggleable__label-arrow\">LogisticRegression</label><div class=\"sk-toggleable__content\"><pre>LogisticRegression(max_iter=2000)</pre></div></div></div></div></div>"
      ],
      "text/plain": [
       "LogisticRegression(max_iter=2000)"
      ]
     },
     "execution_count": 210,
     "metadata": {},
     "output_type": "execute_result"
    }
   ],
   "source": [
    "model = LogisticRegression(max_iter = 2000)\n",
    "model.fit(x_train, y_train)"
   ]
  },
  {
   "cell_type": "code",
   "execution_count": 211,
   "id": "6ebf7241-c37b-493b-b67a-3e552960c227",
   "metadata": {},
   "outputs": [
    {
     "name": "stdout",
     "output_type": "stream",
     "text": [
      "[[10  3]\n",
      " [ 3 27]]\n",
      "정확도: 0.860\n",
      "AUC: 0.928\n"
     ]
    }
   ],
   "source": [
    "y_hat = model.predict(x_test)\n",
    "cm = confusion_matrix(y_test, y_hat)\n",
    "print(cm)\n",
    "print(f'정확도: {accuracy_score(y_test, y_hat):.3f}')\n",
    "print(f'AUC: {roc_auc_score(y_test, model.predict_proba(x_test)[:, 1]):.3f}')"
   ]
  },
  {
   "cell_type": "markdown",
   "id": "dfa26967-66e9-413b-96fb-01befdd043cc",
   "metadata": {},
   "source": [
    "# GradientBoostingClassifier"
   ]
  },
  {
   "cell_type": "code",
   "execution_count": 212,
   "id": "b22f6ac5-e2b5-4498-8550-68aee413792a",
   "metadata": {},
   "outputs": [],
   "source": [
    "from sklearn.ensemble import GradientBoostingRegressor"
   ]
  },
  {
   "cell_type": "code",
   "execution_count": 213,
   "id": "12bdf299-640b-498f-9206-95a757d0f8bf",
   "metadata": {},
   "outputs": [
    {
     "data": {
      "text/html": [
       "<style>#sk-container-id-19 {color: black;background-color: white;}#sk-container-id-19 pre{padding: 0;}#sk-container-id-19 div.sk-toggleable {background-color: white;}#sk-container-id-19 label.sk-toggleable__label {cursor: pointer;display: block;width: 100%;margin-bottom: 0;padding: 0.3em;box-sizing: border-box;text-align: center;}#sk-container-id-19 label.sk-toggleable__label-arrow:before {content: \"▸\";float: left;margin-right: 0.25em;color: #696969;}#sk-container-id-19 label.sk-toggleable__label-arrow:hover:before {color: black;}#sk-container-id-19 div.sk-estimator:hover label.sk-toggleable__label-arrow:before {color: black;}#sk-container-id-19 div.sk-toggleable__content {max-height: 0;max-width: 0;overflow: hidden;text-align: left;background-color: #f0f8ff;}#sk-container-id-19 div.sk-toggleable__content pre {margin: 0.2em;color: black;border-radius: 0.25em;background-color: #f0f8ff;}#sk-container-id-19 input.sk-toggleable__control:checked~div.sk-toggleable__content {max-height: 200px;max-width: 100%;overflow: auto;}#sk-container-id-19 input.sk-toggleable__control:checked~label.sk-toggleable__label-arrow:before {content: \"▾\";}#sk-container-id-19 div.sk-estimator input.sk-toggleable__control:checked~label.sk-toggleable__label {background-color: #d4ebff;}#sk-container-id-19 div.sk-label input.sk-toggleable__control:checked~label.sk-toggleable__label {background-color: #d4ebff;}#sk-container-id-19 input.sk-hidden--visually {border: 0;clip: rect(1px 1px 1px 1px);clip: rect(1px, 1px, 1px, 1px);height: 1px;margin: -1px;overflow: hidden;padding: 0;position: absolute;width: 1px;}#sk-container-id-19 div.sk-estimator {font-family: monospace;background-color: #f0f8ff;border: 1px dotted black;border-radius: 0.25em;box-sizing: border-box;margin-bottom: 0.5em;}#sk-container-id-19 div.sk-estimator:hover {background-color: #d4ebff;}#sk-container-id-19 div.sk-parallel-item::after {content: \"\";width: 100%;border-bottom: 1px solid gray;flex-grow: 1;}#sk-container-id-19 div.sk-label:hover label.sk-toggleable__label {background-color: #d4ebff;}#sk-container-id-19 div.sk-serial::before {content: \"\";position: absolute;border-left: 1px solid gray;box-sizing: border-box;top: 0;bottom: 0;left: 50%;z-index: 0;}#sk-container-id-19 div.sk-serial {display: flex;flex-direction: column;align-items: center;background-color: white;padding-right: 0.2em;padding-left: 0.2em;position: relative;}#sk-container-id-19 div.sk-item {position: relative;z-index: 1;}#sk-container-id-19 div.sk-parallel {display: flex;align-items: stretch;justify-content: center;background-color: white;position: relative;}#sk-container-id-19 div.sk-item::before, #sk-container-id-19 div.sk-parallel-item::before {content: \"\";position: absolute;border-left: 1px solid gray;box-sizing: border-box;top: 0;bottom: 0;left: 50%;z-index: -1;}#sk-container-id-19 div.sk-parallel-item {display: flex;flex-direction: column;z-index: 1;position: relative;background-color: white;}#sk-container-id-19 div.sk-parallel-item:first-child::after {align-self: flex-end;width: 50%;}#sk-container-id-19 div.sk-parallel-item:last-child::after {align-self: flex-start;width: 50%;}#sk-container-id-19 div.sk-parallel-item:only-child::after {width: 0;}#sk-container-id-19 div.sk-dashed-wrapped {border: 1px dashed gray;margin: 0 0.4em 0.5em 0.4em;box-sizing: border-box;padding-bottom: 0.4em;background-color: white;}#sk-container-id-19 div.sk-label label {font-family: monospace;font-weight: bold;display: inline-block;line-height: 1.2em;}#sk-container-id-19 div.sk-label-container {text-align: center;}#sk-container-id-19 div.sk-container {/* jupyter's `normalize.less` sets `[hidden] { display: none; }` but bootstrap.min.css set `[hidden] { display: none !important; }` so we also need the `!important` here to be able to override the default hidden behavior on the sphinx rendered scikit-learn.org. See: https://github.com/scikit-learn/scikit-learn/issues/21755 */display: inline-block !important;position: relative;}#sk-container-id-19 div.sk-text-repr-fallback {display: none;}</style><div id=\"sk-container-id-19\" class=\"sk-top-container\"><div class=\"sk-text-repr-fallback\"><pre>GradientBoostingClassifier(n_estimators=200)</pre><b>In a Jupyter environment, please rerun this cell to show the HTML representation or trust the notebook. <br />On GitHub, the HTML representation is unable to render, please try loading this page with nbviewer.org.</b></div><div class=\"sk-container\" hidden><div class=\"sk-item\"><div class=\"sk-estimator sk-toggleable\"><input class=\"sk-toggleable__control sk-hidden--visually\" id=\"sk-estimator-id-21\" type=\"checkbox\" checked><label for=\"sk-estimator-id-21\" class=\"sk-toggleable__label sk-toggleable__label-arrow\">GradientBoostingClassifier</label><div class=\"sk-toggleable__content\"><pre>GradientBoostingClassifier(n_estimators=200)</pre></div></div></div></div></div>"
      ],
      "text/plain": [
       "GradientBoostingClassifier(n_estimators=200)"
      ]
     },
     "execution_count": 213,
     "metadata": {},
     "output_type": "execute_result"
    }
   ],
   "source": [
    "gbc = GradientBoostingClassifier(n_estimators=200)\n",
    "gbc.fit(x_train, y_train)"
   ]
  },
  {
   "cell_type": "code",
   "execution_count": 214,
   "id": "11585252-e6d9-47f7-81d9-cad6c6f76c82",
   "metadata": {},
   "outputs": [
    {
     "name": "stdout",
     "output_type": "stream",
     "text": [
      "[[ 9  4]\n",
      " [ 2 28]]\n",
      "정확도: 0.860\n",
      "AUC: 0.913\n"
     ]
    }
   ],
   "source": [
    "y_hat = gbc.predict(x_test)\n",
    "cm = confusion_matrix(y_test, y_hat)\n",
    "print(cm)\n",
    "print(f'정확도: {accuracy_score(y_test, y_hat):.3f}')\n",
    "print(f'AUC: {roc_auc_score(y_test, gbc.predict_proba(x_test)[:, 1]):.3f}')"
   ]
  },
  {
   "cell_type": "markdown",
   "id": "0f8fc21e-b7b4-4ced-a8bc-b4be7cdce531",
   "metadata": {},
   "source": [
    "# [실습] 비행기 연착 추측 분류"
   ]
  },
  {
   "cell_type": "markdown",
   "id": "83c5989b-a380-4db1-9e55-49cf52e07341",
   "metadata": {},
   "source": [
    "## 패키지 로딩 "
   ]
  },
  {
   "cell_type": "code",
   "execution_count": 252,
   "id": "df529889-1a2e-4561-8c05-e22712a33322",
   "metadata": {},
   "outputs": [],
   "source": [
    "from sklearn.ensemble import RandomForestClassifier\n",
    "from sklearn.linear_model import LogisticRegression"
   ]
  },
  {
   "cell_type": "markdown",
   "id": "f3a30b64-a7b7-492e-838f-c59fc0c5bf4c",
   "metadata": {},
   "source": [
    "## 데이터 로딩 및 확인"
   ]
  },
  {
   "cell_type": "code",
   "execution_count": 253,
   "id": "ae9c5ec3-a9a3-4768-aa7f-488d4fc33fc3",
   "metadata": {},
   "outputs": [
    {
     "name": "stdout",
     "output_type": "stream",
     "text": [
      "(365, 4)\n"
     ]
    },
    {
     "data": {
      "text/html": [
       "<div>\n",
       "<style scoped>\n",
       "    .dataframe tbody tr th:only-of-type {\n",
       "        vertical-align: middle;\n",
       "    }\n",
       "\n",
       "    .dataframe tbody tr th {\n",
       "        vertical-align: top;\n",
       "    }\n",
       "\n",
       "    .dataframe thead th {\n",
       "        text-align: right;\n",
       "    }\n",
       "</style>\n",
       "<table border=\"1\" class=\"dataframe\">\n",
       "  <thead>\n",
       "    <tr style=\"text-align: right;\">\n",
       "      <th></th>\n",
       "      <th>airport_id</th>\n",
       "      <th>city</th>\n",
       "      <th>state</th>\n",
       "      <th>name</th>\n",
       "    </tr>\n",
       "  </thead>\n",
       "  <tbody>\n",
       "    <tr>\n",
       "      <th>0</th>\n",
       "      <td>10165</td>\n",
       "      <td>Adak Island</td>\n",
       "      <td>AK</td>\n",
       "      <td>Adak</td>\n",
       "    </tr>\n",
       "    <tr>\n",
       "      <th>1</th>\n",
       "      <td>10299</td>\n",
       "      <td>Anchorage</td>\n",
       "      <td>AK</td>\n",
       "      <td>Ted Stevens Anchorage International</td>\n",
       "    </tr>\n",
       "    <tr>\n",
       "      <th>2</th>\n",
       "      <td>10304</td>\n",
       "      <td>Aniak</td>\n",
       "      <td>AK</td>\n",
       "      <td>Aniak Airport</td>\n",
       "    </tr>\n",
       "    <tr>\n",
       "      <th>3</th>\n",
       "      <td>10754</td>\n",
       "      <td>Barrow</td>\n",
       "      <td>AK</td>\n",
       "      <td>Wiley Post/Will Rogers Memorial</td>\n",
       "    </tr>\n",
       "    <tr>\n",
       "      <th>4</th>\n",
       "      <td>10551</td>\n",
       "      <td>Bethel</td>\n",
       "      <td>AK</td>\n",
       "      <td>Bethel Airport</td>\n",
       "    </tr>\n",
       "  </tbody>\n",
       "</table>\n",
       "</div>"
      ],
      "text/plain": [
       "   airport_id         city state                                  name\n",
       "0       10165  Adak Island    AK                                  Adak\n",
       "1       10299    Anchorage    AK   Ted Stevens Anchorage International\n",
       "2       10304        Aniak    AK                         Aniak Airport\n",
       "3       10754       Barrow    AK       Wiley Post/Will Rogers Memorial\n",
       "4       10551       Bethel    AK                        Bethel Airport"
      ]
     },
     "metadata": {},
     "output_type": "display_data"
    },
    {
     "name": "stdout",
     "output_type": "stream",
     "text": [
      "<class 'pandas.core.frame.DataFrame'>\n",
      "RangeIndex: 365 entries, 0 to 364\n",
      "Data columns (total 4 columns):\n",
      " #   Column      Non-Null Count  Dtype \n",
      "---  ------      --------------  ----- \n",
      " 0   airport_id  365 non-null    int64 \n",
      " 1   city        365 non-null    object\n",
      " 2   state       365 non-null    object\n",
      " 3   name        365 non-null    object\n",
      "dtypes: int64(1), object(3)\n",
      "memory usage: 11.5+ KB\n"
     ]
    }
   ],
   "source": [
    "df_airport = pd.read_csv('./dataset/Airport Codes Dataset.csv')\n",
    "print(df_airport.shape)\n",
    "display(df_airport.head())\n",
    "df_airport.info()"
   ]
  },
  {
   "cell_type": "code",
   "execution_count": 254,
   "id": "f7e72ff6-a6db-4202-9b99-6a8ac33503ae",
   "metadata": {},
   "outputs": [
    {
     "name": "stdout",
     "output_type": "stream",
     "text": [
      "(504397, 18)\n"
     ]
    },
    {
     "data": {
      "text/html": [
       "<div>\n",
       "<style scoped>\n",
       "    .dataframe tbody tr th:only-of-type {\n",
       "        vertical-align: middle;\n",
       "    }\n",
       "\n",
       "    .dataframe tbody tr th {\n",
       "        vertical-align: top;\n",
       "    }\n",
       "\n",
       "    .dataframe thead th {\n",
       "        text-align: right;\n",
       "    }\n",
       "</style>\n",
       "<table border=\"1\" class=\"dataframe\">\n",
       "  <thead>\n",
       "    <tr style=\"text-align: right;\">\n",
       "      <th></th>\n",
       "      <th>Year</th>\n",
       "      <th>Quarter</th>\n",
       "      <th>Month</th>\n",
       "      <th>DayofMonth</th>\n",
       "      <th>DayOfWeek</th>\n",
       "      <th>Carrier</th>\n",
       "      <th>OriginAirportID</th>\n",
       "      <th>DestAirportID</th>\n",
       "      <th>CRSDepTime</th>\n",
       "      <th>DepTimeBlk</th>\n",
       "      <th>DepDelay</th>\n",
       "      <th>DepDel15</th>\n",
       "      <th>CRSArrTime</th>\n",
       "      <th>ArrTimeBlk</th>\n",
       "      <th>ArrDelay</th>\n",
       "      <th>ArrDel15</th>\n",
       "      <th>Cancelled</th>\n",
       "      <th>Diverted</th>\n",
       "    </tr>\n",
       "  </thead>\n",
       "  <tbody>\n",
       "    <tr>\n",
       "      <th>0</th>\n",
       "      <td>2011</td>\n",
       "      <td>4</td>\n",
       "      <td>10</td>\n",
       "      <td>6</td>\n",
       "      <td>4</td>\n",
       "      <td>WN</td>\n",
       "      <td>13495</td>\n",
       "      <td>12191</td>\n",
       "      <td>1435</td>\n",
       "      <td>1400-1459</td>\n",
       "      <td>2.0</td>\n",
       "      <td>0.0</td>\n",
       "      <td>1550</td>\n",
       "      <td>1500-1559</td>\n",
       "      <td>-6.0</td>\n",
       "      <td>0.0</td>\n",
       "      <td>0</td>\n",
       "      <td>0</td>\n",
       "    </tr>\n",
       "    <tr>\n",
       "      <th>1</th>\n",
       "      <td>2011</td>\n",
       "      <td>4</td>\n",
       "      <td>10</td>\n",
       "      <td>6</td>\n",
       "      <td>4</td>\n",
       "      <td>WN</td>\n",
       "      <td>13495</td>\n",
       "      <td>12191</td>\n",
       "      <td>1330</td>\n",
       "      <td>1300-1359</td>\n",
       "      <td>-4.0</td>\n",
       "      <td>0.0</td>\n",
       "      <td>1445</td>\n",
       "      <td>1400-1459</td>\n",
       "      <td>-12.0</td>\n",
       "      <td>0.0</td>\n",
       "      <td>0</td>\n",
       "      <td>0</td>\n",
       "    </tr>\n",
       "    <tr>\n",
       "      <th>2</th>\n",
       "      <td>2011</td>\n",
       "      <td>4</td>\n",
       "      <td>10</td>\n",
       "      <td>6</td>\n",
       "      <td>4</td>\n",
       "      <td>WN</td>\n",
       "      <td>13495</td>\n",
       "      <td>12191</td>\n",
       "      <td>1030</td>\n",
       "      <td>1000-1059</td>\n",
       "      <td>-2.0</td>\n",
       "      <td>0.0</td>\n",
       "      <td>1145</td>\n",
       "      <td>1100-1159</td>\n",
       "      <td>-14.0</td>\n",
       "      <td>0.0</td>\n",
       "      <td>0</td>\n",
       "      <td>0</td>\n",
       "    </tr>\n",
       "    <tr>\n",
       "      <th>3</th>\n",
       "      <td>2011</td>\n",
       "      <td>4</td>\n",
       "      <td>10</td>\n",
       "      <td>6</td>\n",
       "      <td>4</td>\n",
       "      <td>WN</td>\n",
       "      <td>13495</td>\n",
       "      <td>12889</td>\n",
       "      <td>1900</td>\n",
       "      <td>1900-1959</td>\n",
       "      <td>0.0</td>\n",
       "      <td>0.0</td>\n",
       "      <td>2055</td>\n",
       "      <td>2000-2059</td>\n",
       "      <td>-6.0</td>\n",
       "      <td>0.0</td>\n",
       "      <td>0</td>\n",
       "      <td>0</td>\n",
       "    </tr>\n",
       "    <tr>\n",
       "      <th>4</th>\n",
       "      <td>2011</td>\n",
       "      <td>4</td>\n",
       "      <td>10</td>\n",
       "      <td>6</td>\n",
       "      <td>4</td>\n",
       "      <td>WN</td>\n",
       "      <td>13495</td>\n",
       "      <td>12889</td>\n",
       "      <td>1340</td>\n",
       "      <td>1300-1359</td>\n",
       "      <td>-1.0</td>\n",
       "      <td>0.0</td>\n",
       "      <td>1530</td>\n",
       "      <td>1500-1559</td>\n",
       "      <td>2.0</td>\n",
       "      <td>0.0</td>\n",
       "      <td>0</td>\n",
       "      <td>0</td>\n",
       "    </tr>\n",
       "  </tbody>\n",
       "</table>\n",
       "</div>"
      ],
      "text/plain": [
       "   Year  Quarter  Month  DayofMonth  DayOfWeek Carrier  OriginAirportID  \\\n",
       "0  2011        4     10           6          4      WN            13495   \n",
       "1  2011        4     10           6          4      WN            13495   \n",
       "2  2011        4     10           6          4      WN            13495   \n",
       "3  2011        4     10           6          4      WN            13495   \n",
       "4  2011        4     10           6          4      WN            13495   \n",
       "\n",
       "   DestAirportID  CRSDepTime DepTimeBlk  DepDelay  DepDel15  CRSArrTime  \\\n",
       "0          12191        1435  1400-1459       2.0       0.0        1550   \n",
       "1          12191        1330  1300-1359      -4.0       0.0        1445   \n",
       "2          12191        1030  1000-1059      -2.0       0.0        1145   \n",
       "3          12889        1900  1900-1959       0.0       0.0        2055   \n",
       "4          12889        1340  1300-1359      -1.0       0.0        1530   \n",
       "\n",
       "  ArrTimeBlk  ArrDelay  ArrDel15  Cancelled  Diverted  \n",
       "0  1500-1559      -6.0       0.0          0         0  \n",
       "1  1400-1459     -12.0       0.0          0         0  \n",
       "2  1100-1159     -14.0       0.0          0         0  \n",
       "3  2000-2059      -6.0       0.0          0         0  \n",
       "4  1500-1559       2.0       0.0          0         0  "
      ]
     },
     "metadata": {},
     "output_type": "display_data"
    }
   ],
   "source": [
    "df_flight = pd.read_csv('./dataset/Flight on-time performance.csv')\n",
    "print(df_flight.shape)\n",
    "display(df_flight.head())"
   ]
  },
  {
   "cell_type": "code",
   "execution_count": 256,
   "id": "94a9604e-6afa-4cf5-b8ed-25f23402321d",
   "metadata": {
    "scrolled": true
   },
   "outputs": [
    {
     "name": "stdout",
     "output_type": "stream",
     "text": [
      "airport_id    0\n",
      "city          0\n",
      "state         0\n",
      "name          0\n",
      "dtype: int64\n",
      "\n",
      "Year                  0\n",
      "Quarter               0\n",
      "Month                 0\n",
      "DayofMonth            0\n",
      "DayOfWeek             0\n",
      "Carrier               0\n",
      "OriginAirportID       0\n",
      "DestAirportID         0\n",
      "CRSDepTime            0\n",
      "DepTimeBlk            0\n",
      "DepDelay           3697\n",
      "DepDel15           3697\n",
      "CRSArrTime            0\n",
      "ArrTimeBlk            0\n",
      "ArrDelay           4717\n",
      "ArrDel15           4717\n",
      "Cancelled             0\n",
      "Diverted              0\n",
      "dtype: int64\n"
     ]
    }
   ],
   "source": [
    "# 결측치 확인\n",
    "print(df_airport.isna().sum())\n",
    "print()\n",
    "print(df_flight.isna().sum())"
   ]
  },
  {
   "cell_type": "markdown",
   "id": "5d2bebd6-4b68-4094-9cdc-c0d9d29daa4a",
   "metadata": {},
   "source": [
    "## 데이터 전처리"
   ]
  },
  {
   "cell_type": "markdown",
   "id": "4093c649-61ee-4ce0-805e-7a90a25ac3d2",
   "metadata": {},
   "source": [
    "### 공항정보 데이터의 컬럼 이름을 출발 공항으로 변경"
   ]
  },
  {
   "cell_type": "code",
   "execution_count": 257,
   "id": "0b44035a-65f7-4889-a84f-a1cd4aba14f6",
   "metadata": {},
   "outputs": [
    {
     "data": {
      "text/html": [
       "<div>\n",
       "<style scoped>\n",
       "    .dataframe tbody tr th:only-of-type {\n",
       "        vertical-align: middle;\n",
       "    }\n",
       "\n",
       "    .dataframe tbody tr th {\n",
       "        vertical-align: top;\n",
       "    }\n",
       "\n",
       "    .dataframe thead th {\n",
       "        text-align: right;\n",
       "    }\n",
       "</style>\n",
       "<table border=\"1\" class=\"dataframe\">\n",
       "  <thead>\n",
       "    <tr style=\"text-align: right;\">\n",
       "      <th></th>\n",
       "      <th>airport_id</th>\n",
       "      <th>Ori-city</th>\n",
       "      <th>Ori-state</th>\n",
       "      <th>Ori-airport</th>\n",
       "    </tr>\n",
       "  </thead>\n",
       "  <tbody>\n",
       "    <tr>\n",
       "      <th>0</th>\n",
       "      <td>10165</td>\n",
       "      <td>Adak Island</td>\n",
       "      <td>AK</td>\n",
       "      <td>Adak</td>\n",
       "    </tr>\n",
       "    <tr>\n",
       "      <th>1</th>\n",
       "      <td>10299</td>\n",
       "      <td>Anchorage</td>\n",
       "      <td>AK</td>\n",
       "      <td>Ted Stevens Anchorage International</td>\n",
       "    </tr>\n",
       "    <tr>\n",
       "      <th>2</th>\n",
       "      <td>10304</td>\n",
       "      <td>Aniak</td>\n",
       "      <td>AK</td>\n",
       "      <td>Aniak Airport</td>\n",
       "    </tr>\n",
       "    <tr>\n",
       "      <th>3</th>\n",
       "      <td>10754</td>\n",
       "      <td>Barrow</td>\n",
       "      <td>AK</td>\n",
       "      <td>Wiley Post/Will Rogers Memorial</td>\n",
       "    </tr>\n",
       "    <tr>\n",
       "      <th>4</th>\n",
       "      <td>10551</td>\n",
       "      <td>Bethel</td>\n",
       "      <td>AK</td>\n",
       "      <td>Bethel Airport</td>\n",
       "    </tr>\n",
       "  </tbody>\n",
       "</table>\n",
       "</div>"
      ],
      "text/plain": [
       "   airport_id     Ori-city Ori-state                           Ori-airport\n",
       "0       10165  Adak Island        AK                                  Adak\n",
       "1       10299    Anchorage        AK   Ted Stevens Anchorage International\n",
       "2       10304        Aniak        AK                         Aniak Airport\n",
       "3       10754       Barrow        AK       Wiley Post/Will Rogers Memorial\n",
       "4       10551       Bethel        AK                        Bethel Airport"
      ]
     },
     "metadata": {},
     "output_type": "display_data"
    }
   ],
   "source": [
    "# 공항정보 데이터의 city, state, name 컬럼명을 Ori-city, Ori-state, Ori-airport로 변경(원본 데이터 유지)\n",
    "df_ori_airport = df_airport.rename(columns= {'city':'Ori-city', 'state':'Ori-state', 'name':'Ori-airport'}, inplace=False)\n",
    "display(df_ori_airport.head())"
   ]
  },
  {
   "cell_type": "markdown",
   "id": "caf7bb0d-b41b-46b0-b923-ba01f96369c6",
   "metadata": {},
   "source": [
    "### 비행정보 데이터와 출발공항 정보 데이터 병합"
   ]
  },
  {
   "cell_type": "code",
   "execution_count": 258,
   "id": "5c8deafe-d782-45d8-8c34-78a6e8603b3d",
   "metadata": {},
   "outputs": [],
   "source": [
    "# 비행정보 데이터의 “출발공항ID” 컬럼과 공항정보 데이터의 “공항ID”컬럼을 키 값으로 두 데이터 조인\n",
    "merged_df1 = pd.merge(df_flight, df_ori_airport, left_on='OriginAirportID', right_on='airport_id')"
   ]
  },
  {
   "cell_type": "code",
   "execution_count": 259,
   "id": "67149aea-c719-40bb-812d-80a614e06336",
   "metadata": {
    "scrolled": true
   },
   "outputs": [
    {
     "name": "stdout",
     "output_type": "stream",
     "text": [
      "(504397, 22)\n"
     ]
    },
    {
     "data": {
      "text/html": [
       "<div>\n",
       "<style scoped>\n",
       "    .dataframe tbody tr th:only-of-type {\n",
       "        vertical-align: middle;\n",
       "    }\n",
       "\n",
       "    .dataframe tbody tr th {\n",
       "        vertical-align: top;\n",
       "    }\n",
       "\n",
       "    .dataframe thead th {\n",
       "        text-align: right;\n",
       "    }\n",
       "</style>\n",
       "<table border=\"1\" class=\"dataframe\">\n",
       "  <thead>\n",
       "    <tr style=\"text-align: right;\">\n",
       "      <th></th>\n",
       "      <th>Year</th>\n",
       "      <th>Quarter</th>\n",
       "      <th>Month</th>\n",
       "      <th>DayofMonth</th>\n",
       "      <th>DayOfWeek</th>\n",
       "      <th>Carrier</th>\n",
       "      <th>OriginAirportID</th>\n",
       "      <th>DestAirportID</th>\n",
       "      <th>CRSDepTime</th>\n",
       "      <th>DepTimeBlk</th>\n",
       "      <th>...</th>\n",
       "      <th>CRSArrTime</th>\n",
       "      <th>ArrTimeBlk</th>\n",
       "      <th>ArrDelay</th>\n",
       "      <th>ArrDel15</th>\n",
       "      <th>Cancelled</th>\n",
       "      <th>Diverted</th>\n",
       "      <th>airport_id</th>\n",
       "      <th>Ori-city</th>\n",
       "      <th>Ori-state</th>\n",
       "      <th>Ori-airport</th>\n",
       "    </tr>\n",
       "  </thead>\n",
       "  <tbody>\n",
       "    <tr>\n",
       "      <th>0</th>\n",
       "      <td>2011</td>\n",
       "      <td>4</td>\n",
       "      <td>10</td>\n",
       "      <td>6</td>\n",
       "      <td>4</td>\n",
       "      <td>WN</td>\n",
       "      <td>13495</td>\n",
       "      <td>12191</td>\n",
       "      <td>1435</td>\n",
       "      <td>1400-1459</td>\n",
       "      <td>...</td>\n",
       "      <td>1550</td>\n",
       "      <td>1500-1559</td>\n",
       "      <td>-6.0</td>\n",
       "      <td>0.0</td>\n",
       "      <td>0</td>\n",
       "      <td>0</td>\n",
       "      <td>13495</td>\n",
       "      <td>New Orleans</td>\n",
       "      <td>LA</td>\n",
       "      <td>Louis Armstrong New Orleans International</td>\n",
       "    </tr>\n",
       "    <tr>\n",
       "      <th>1</th>\n",
       "      <td>2011</td>\n",
       "      <td>4</td>\n",
       "      <td>10</td>\n",
       "      <td>6</td>\n",
       "      <td>4</td>\n",
       "      <td>WN</td>\n",
       "      <td>13495</td>\n",
       "      <td>12191</td>\n",
       "      <td>1330</td>\n",
       "      <td>1300-1359</td>\n",
       "      <td>...</td>\n",
       "      <td>1445</td>\n",
       "      <td>1400-1459</td>\n",
       "      <td>-12.0</td>\n",
       "      <td>0.0</td>\n",
       "      <td>0</td>\n",
       "      <td>0</td>\n",
       "      <td>13495</td>\n",
       "      <td>New Orleans</td>\n",
       "      <td>LA</td>\n",
       "      <td>Louis Armstrong New Orleans International</td>\n",
       "    </tr>\n",
       "    <tr>\n",
       "      <th>2</th>\n",
       "      <td>2011</td>\n",
       "      <td>4</td>\n",
       "      <td>10</td>\n",
       "      <td>6</td>\n",
       "      <td>4</td>\n",
       "      <td>WN</td>\n",
       "      <td>13495</td>\n",
       "      <td>12191</td>\n",
       "      <td>1030</td>\n",
       "      <td>1000-1059</td>\n",
       "      <td>...</td>\n",
       "      <td>1145</td>\n",
       "      <td>1100-1159</td>\n",
       "      <td>-14.0</td>\n",
       "      <td>0.0</td>\n",
       "      <td>0</td>\n",
       "      <td>0</td>\n",
       "      <td>13495</td>\n",
       "      <td>New Orleans</td>\n",
       "      <td>LA</td>\n",
       "      <td>Louis Armstrong New Orleans International</td>\n",
       "    </tr>\n",
       "    <tr>\n",
       "      <th>3</th>\n",
       "      <td>2011</td>\n",
       "      <td>4</td>\n",
       "      <td>10</td>\n",
       "      <td>6</td>\n",
       "      <td>4</td>\n",
       "      <td>WN</td>\n",
       "      <td>13495</td>\n",
       "      <td>12889</td>\n",
       "      <td>1900</td>\n",
       "      <td>1900-1959</td>\n",
       "      <td>...</td>\n",
       "      <td>2055</td>\n",
       "      <td>2000-2059</td>\n",
       "      <td>-6.0</td>\n",
       "      <td>0.0</td>\n",
       "      <td>0</td>\n",
       "      <td>0</td>\n",
       "      <td>13495</td>\n",
       "      <td>New Orleans</td>\n",
       "      <td>LA</td>\n",
       "      <td>Louis Armstrong New Orleans International</td>\n",
       "    </tr>\n",
       "    <tr>\n",
       "      <th>4</th>\n",
       "      <td>2011</td>\n",
       "      <td>4</td>\n",
       "      <td>10</td>\n",
       "      <td>6</td>\n",
       "      <td>4</td>\n",
       "      <td>WN</td>\n",
       "      <td>13495</td>\n",
       "      <td>12889</td>\n",
       "      <td>1340</td>\n",
       "      <td>1300-1359</td>\n",
       "      <td>...</td>\n",
       "      <td>1530</td>\n",
       "      <td>1500-1559</td>\n",
       "      <td>2.0</td>\n",
       "      <td>0.0</td>\n",
       "      <td>0</td>\n",
       "      <td>0</td>\n",
       "      <td>13495</td>\n",
       "      <td>New Orleans</td>\n",
       "      <td>LA</td>\n",
       "      <td>Louis Armstrong New Orleans International</td>\n",
       "    </tr>\n",
       "  </tbody>\n",
       "</table>\n",
       "<p>5 rows × 22 columns</p>\n",
       "</div>"
      ],
      "text/plain": [
       "   Year  Quarter  Month  DayofMonth  DayOfWeek Carrier  OriginAirportID  \\\n",
       "0  2011        4     10           6          4      WN            13495   \n",
       "1  2011        4     10           6          4      WN            13495   \n",
       "2  2011        4     10           6          4      WN            13495   \n",
       "3  2011        4     10           6          4      WN            13495   \n",
       "4  2011        4     10           6          4      WN            13495   \n",
       "\n",
       "   DestAirportID  CRSDepTime DepTimeBlk  ...  CRSArrTime  ArrTimeBlk  \\\n",
       "0          12191        1435  1400-1459  ...        1550   1500-1559   \n",
       "1          12191        1330  1300-1359  ...        1445   1400-1459   \n",
       "2          12191        1030  1000-1059  ...        1145   1100-1159   \n",
       "3          12889        1900  1900-1959  ...        2055   2000-2059   \n",
       "4          12889        1340  1300-1359  ...        1530   1500-1559   \n",
       "\n",
       "   ArrDelay ArrDel15  Cancelled  Diverted  airport_id     Ori-city  Ori-state  \\\n",
       "0      -6.0      0.0          0         0       13495  New Orleans         LA   \n",
       "1     -12.0      0.0          0         0       13495  New Orleans         LA   \n",
       "2     -14.0      0.0          0         0       13495  New Orleans         LA   \n",
       "3      -6.0      0.0          0         0       13495  New Orleans         LA   \n",
       "4       2.0      0.0          0         0       13495  New Orleans         LA   \n",
       "\n",
       "                                  Ori-airport  \n",
       "0   Louis Armstrong New Orleans International  \n",
       "1   Louis Armstrong New Orleans International  \n",
       "2   Louis Armstrong New Orleans International  \n",
       "3   Louis Armstrong New Orleans International  \n",
       "4   Louis Armstrong New Orleans International  \n",
       "\n",
       "[5 rows x 22 columns]"
      ]
     },
     "metadata": {},
     "output_type": "display_data"
    }
   ],
   "source": [
    "print(merged_df1.shape)\n",
    "display(merged_df1.head())"
   ]
  },
  {
   "cell_type": "code",
   "execution_count": 260,
   "id": "7d4258d9-3f73-4553-ae96-777c74382867",
   "metadata": {},
   "outputs": [],
   "source": [
    "# 중복된 출발 공항 ID 컬럼 삭제\n",
    "merged_df1.drop('airport_id', axis=1, inplace=True)"
   ]
  },
  {
   "cell_type": "markdown",
   "id": "e740dc33-ace6-43fd-9a1b-0e55aede1d5c",
   "metadata": {},
   "source": [
    "### 공항정보 데이터의 칼럼의 이름을 도착 공항으로 변경"
   ]
  },
  {
   "cell_type": "code",
   "execution_count": 261,
   "id": "b13d3243-428d-4d38-bcdb-2676904469eb",
   "metadata": {},
   "outputs": [
    {
     "data": {
      "text/html": [
       "<div>\n",
       "<style scoped>\n",
       "    .dataframe tbody tr th:only-of-type {\n",
       "        vertical-align: middle;\n",
       "    }\n",
       "\n",
       "    .dataframe tbody tr th {\n",
       "        vertical-align: top;\n",
       "    }\n",
       "\n",
       "    .dataframe thead th {\n",
       "        text-align: right;\n",
       "    }\n",
       "</style>\n",
       "<table border=\"1\" class=\"dataframe\">\n",
       "  <thead>\n",
       "    <tr style=\"text-align: right;\">\n",
       "      <th></th>\n",
       "      <th>airport_id</th>\n",
       "      <th>Dest-city</th>\n",
       "      <th>Dest-state</th>\n",
       "      <th>Dest-airport</th>\n",
       "    </tr>\n",
       "  </thead>\n",
       "  <tbody>\n",
       "    <tr>\n",
       "      <th>0</th>\n",
       "      <td>10165</td>\n",
       "      <td>Adak Island</td>\n",
       "      <td>AK</td>\n",
       "      <td>Adak</td>\n",
       "    </tr>\n",
       "    <tr>\n",
       "      <th>1</th>\n",
       "      <td>10299</td>\n",
       "      <td>Anchorage</td>\n",
       "      <td>AK</td>\n",
       "      <td>Ted Stevens Anchorage International</td>\n",
       "    </tr>\n",
       "    <tr>\n",
       "      <th>2</th>\n",
       "      <td>10304</td>\n",
       "      <td>Aniak</td>\n",
       "      <td>AK</td>\n",
       "      <td>Aniak Airport</td>\n",
       "    </tr>\n",
       "    <tr>\n",
       "      <th>3</th>\n",
       "      <td>10754</td>\n",
       "      <td>Barrow</td>\n",
       "      <td>AK</td>\n",
       "      <td>Wiley Post/Will Rogers Memorial</td>\n",
       "    </tr>\n",
       "    <tr>\n",
       "      <th>4</th>\n",
       "      <td>10551</td>\n",
       "      <td>Bethel</td>\n",
       "      <td>AK</td>\n",
       "      <td>Bethel Airport</td>\n",
       "    </tr>\n",
       "    <tr>\n",
       "      <th>...</th>\n",
       "      <td>...</td>\n",
       "      <td>...</td>\n",
       "      <td>...</td>\n",
       "      <td>...</td>\n",
       "    </tr>\n",
       "    <tr>\n",
       "      <th>360</th>\n",
       "      <td>11233</td>\n",
       "      <td>Cheyenne</td>\n",
       "      <td>WY</td>\n",
       "      <td>Cheyenne Regional/Jerry Olson Field</td>\n",
       "    </tr>\n",
       "    <tr>\n",
       "      <th>361</th>\n",
       "      <td>11097</td>\n",
       "      <td>Cody</td>\n",
       "      <td>WY</td>\n",
       "      <td>Yellowstone Regional</td>\n",
       "    </tr>\n",
       "    <tr>\n",
       "      <th>362</th>\n",
       "      <td>11865</td>\n",
       "      <td>Gillette</td>\n",
       "      <td>WY</td>\n",
       "      <td>Gillette Campbell County</td>\n",
       "    </tr>\n",
       "    <tr>\n",
       "      <th>363</th>\n",
       "      <td>12441</td>\n",
       "      <td>Jackson</td>\n",
       "      <td>WY</td>\n",
       "      <td>Jackson Hole</td>\n",
       "    </tr>\n",
       "    <tr>\n",
       "      <th>364</th>\n",
       "      <td>14543</td>\n",
       "      <td>Rock Springs</td>\n",
       "      <td>WY</td>\n",
       "      <td>Rock Springs Sweetwater County</td>\n",
       "    </tr>\n",
       "  </tbody>\n",
       "</table>\n",
       "<p>365 rows × 4 columns</p>\n",
       "</div>"
      ],
      "text/plain": [
       "     airport_id     Dest-city Dest-state                          Dest-airport\n",
       "0         10165   Adak Island         AK                                  Adak\n",
       "1         10299     Anchorage         AK   Ted Stevens Anchorage International\n",
       "2         10304         Aniak         AK                         Aniak Airport\n",
       "3         10754        Barrow         AK       Wiley Post/Will Rogers Memorial\n",
       "4         10551        Bethel         AK                        Bethel Airport\n",
       "..          ...           ...        ...                                   ...\n",
       "360       11233      Cheyenne         WY   Cheyenne Regional/Jerry Olson Field\n",
       "361       11097          Cody         WY                  Yellowstone Regional\n",
       "362       11865      Gillette         WY              Gillette Campbell County\n",
       "363       12441       Jackson         WY                          Jackson Hole\n",
       "364       14543  Rock Springs         WY        Rock Springs Sweetwater County\n",
       "\n",
       "[365 rows x 4 columns]"
      ]
     },
     "metadata": {},
     "output_type": "display_data"
    }
   ],
   "source": [
    "# 공항정보 데이터의 city, state, name 컬럼명을 Dest-city, Dest-state, Dest-airport로 변경(원본 데이터 유지)\n",
    "df_dest_airport = df_airport.rename(columns= {'city':'Dest-city', 'state':'Dest-state', 'name':'Dest-airport'})\n",
    "display(df_dest_airport)"
   ]
  },
  {
   "cell_type": "markdown",
   "id": "b8999d29-a20e-4289-81f6-3a13230af186",
   "metadata": {},
   "source": [
    "### 1차 병합된 비행정보 데이터와 도착공항 정보 데이터 병합"
   ]
  },
  {
   "cell_type": "code",
   "execution_count": 262,
   "id": "3c8af626-4f6c-4b71-b205-b0ac77e5babc",
   "metadata": {},
   "outputs": [
    {
     "name": "stdout",
     "output_type": "stream",
     "text": [
      "(504397, 25)\n"
     ]
    },
    {
     "data": {
      "text/html": [
       "<div>\n",
       "<style scoped>\n",
       "    .dataframe tbody tr th:only-of-type {\n",
       "        vertical-align: middle;\n",
       "    }\n",
       "\n",
       "    .dataframe tbody tr th {\n",
       "        vertical-align: top;\n",
       "    }\n",
       "\n",
       "    .dataframe thead th {\n",
       "        text-align: right;\n",
       "    }\n",
       "</style>\n",
       "<table border=\"1\" class=\"dataframe\">\n",
       "  <thead>\n",
       "    <tr style=\"text-align: right;\">\n",
       "      <th></th>\n",
       "      <th>Year</th>\n",
       "      <th>Quarter</th>\n",
       "      <th>Month</th>\n",
       "      <th>DayofMonth</th>\n",
       "      <th>DayOfWeek</th>\n",
       "      <th>Carrier</th>\n",
       "      <th>OriginAirportID</th>\n",
       "      <th>DestAirportID</th>\n",
       "      <th>CRSDepTime</th>\n",
       "      <th>DepTimeBlk</th>\n",
       "      <th>...</th>\n",
       "      <th>ArrDel15</th>\n",
       "      <th>Cancelled</th>\n",
       "      <th>Diverted</th>\n",
       "      <th>Ori-city</th>\n",
       "      <th>Ori-state</th>\n",
       "      <th>Ori-airport</th>\n",
       "      <th>airport_id</th>\n",
       "      <th>Dest-city</th>\n",
       "      <th>Dest-state</th>\n",
       "      <th>Dest-airport</th>\n",
       "    </tr>\n",
       "  </thead>\n",
       "  <tbody>\n",
       "    <tr>\n",
       "      <th>0</th>\n",
       "      <td>2011</td>\n",
       "      <td>4</td>\n",
       "      <td>10</td>\n",
       "      <td>6</td>\n",
       "      <td>4</td>\n",
       "      <td>WN</td>\n",
       "      <td>13495</td>\n",
       "      <td>12191</td>\n",
       "      <td>1435</td>\n",
       "      <td>1400-1459</td>\n",
       "      <td>...</td>\n",
       "      <td>0.0</td>\n",
       "      <td>0</td>\n",
       "      <td>0</td>\n",
       "      <td>New Orleans</td>\n",
       "      <td>LA</td>\n",
       "      <td>Louis Armstrong New Orleans International</td>\n",
       "      <td>12191</td>\n",
       "      <td>Houston</td>\n",
       "      <td>TX</td>\n",
       "      <td>William P Hobby</td>\n",
       "    </tr>\n",
       "    <tr>\n",
       "      <th>1</th>\n",
       "      <td>2011</td>\n",
       "      <td>4</td>\n",
       "      <td>10</td>\n",
       "      <td>6</td>\n",
       "      <td>4</td>\n",
       "      <td>WN</td>\n",
       "      <td>13495</td>\n",
       "      <td>12191</td>\n",
       "      <td>1330</td>\n",
       "      <td>1300-1359</td>\n",
       "      <td>...</td>\n",
       "      <td>0.0</td>\n",
       "      <td>0</td>\n",
       "      <td>0</td>\n",
       "      <td>New Orleans</td>\n",
       "      <td>LA</td>\n",
       "      <td>Louis Armstrong New Orleans International</td>\n",
       "      <td>12191</td>\n",
       "      <td>Houston</td>\n",
       "      <td>TX</td>\n",
       "      <td>William P Hobby</td>\n",
       "    </tr>\n",
       "    <tr>\n",
       "      <th>2</th>\n",
       "      <td>2011</td>\n",
       "      <td>4</td>\n",
       "      <td>10</td>\n",
       "      <td>6</td>\n",
       "      <td>4</td>\n",
       "      <td>WN</td>\n",
       "      <td>13495</td>\n",
       "      <td>12191</td>\n",
       "      <td>1030</td>\n",
       "      <td>1000-1059</td>\n",
       "      <td>...</td>\n",
       "      <td>0.0</td>\n",
       "      <td>0</td>\n",
       "      <td>0</td>\n",
       "      <td>New Orleans</td>\n",
       "      <td>LA</td>\n",
       "      <td>Louis Armstrong New Orleans International</td>\n",
       "      <td>12191</td>\n",
       "      <td>Houston</td>\n",
       "      <td>TX</td>\n",
       "      <td>William P Hobby</td>\n",
       "    </tr>\n",
       "    <tr>\n",
       "      <th>3</th>\n",
       "      <td>2011</td>\n",
       "      <td>4</td>\n",
       "      <td>10</td>\n",
       "      <td>7</td>\n",
       "      <td>5</td>\n",
       "      <td>WN</td>\n",
       "      <td>13495</td>\n",
       "      <td>12191</td>\n",
       "      <td>820</td>\n",
       "      <td>0800-0859</td>\n",
       "      <td>...</td>\n",
       "      <td>0.0</td>\n",
       "      <td>0</td>\n",
       "      <td>0</td>\n",
       "      <td>New Orleans</td>\n",
       "      <td>LA</td>\n",
       "      <td>Louis Armstrong New Orleans International</td>\n",
       "      <td>12191</td>\n",
       "      <td>Houston</td>\n",
       "      <td>TX</td>\n",
       "      <td>William P Hobby</td>\n",
       "    </tr>\n",
       "    <tr>\n",
       "      <th>4</th>\n",
       "      <td>2011</td>\n",
       "      <td>4</td>\n",
       "      <td>10</td>\n",
       "      <td>7</td>\n",
       "      <td>5</td>\n",
       "      <td>WN</td>\n",
       "      <td>13495</td>\n",
       "      <td>12191</td>\n",
       "      <td>1205</td>\n",
       "      <td>1200-1259</td>\n",
       "      <td>...</td>\n",
       "      <td>0.0</td>\n",
       "      <td>0</td>\n",
       "      <td>0</td>\n",
       "      <td>New Orleans</td>\n",
       "      <td>LA</td>\n",
       "      <td>Louis Armstrong New Orleans International</td>\n",
       "      <td>12191</td>\n",
       "      <td>Houston</td>\n",
       "      <td>TX</td>\n",
       "      <td>William P Hobby</td>\n",
       "    </tr>\n",
       "  </tbody>\n",
       "</table>\n",
       "<p>5 rows × 25 columns</p>\n",
       "</div>"
      ],
      "text/plain": [
       "   Year  Quarter  Month  DayofMonth  DayOfWeek Carrier  OriginAirportID  \\\n",
       "0  2011        4     10           6          4      WN            13495   \n",
       "1  2011        4     10           6          4      WN            13495   \n",
       "2  2011        4     10           6          4      WN            13495   \n",
       "3  2011        4     10           7          5      WN            13495   \n",
       "4  2011        4     10           7          5      WN            13495   \n",
       "\n",
       "   DestAirportID  CRSDepTime DepTimeBlk  ...  ArrDel15  Cancelled  Diverted  \\\n",
       "0          12191        1435  1400-1459  ...       0.0          0         0   \n",
       "1          12191        1330  1300-1359  ...       0.0          0         0   \n",
       "2          12191        1030  1000-1059  ...       0.0          0         0   \n",
       "3          12191         820  0800-0859  ...       0.0          0         0   \n",
       "4          12191        1205  1200-1259  ...       0.0          0         0   \n",
       "\n",
       "      Ori-city  Ori-state                                 Ori-airport  \\\n",
       "0  New Orleans         LA   Louis Armstrong New Orleans International   \n",
       "1  New Orleans         LA   Louis Armstrong New Orleans International   \n",
       "2  New Orleans         LA   Louis Armstrong New Orleans International   \n",
       "3  New Orleans         LA   Louis Armstrong New Orleans International   \n",
       "4  New Orleans         LA   Louis Armstrong New Orleans International   \n",
       "\n",
       "   airport_id  Dest-city Dest-state      Dest-airport  \n",
       "0       12191    Houston         TX   William P Hobby  \n",
       "1       12191    Houston         TX   William P Hobby  \n",
       "2       12191    Houston         TX   William P Hobby  \n",
       "3       12191    Houston         TX   William P Hobby  \n",
       "4       12191    Houston         TX   William P Hobby  \n",
       "\n",
       "[5 rows x 25 columns]"
      ]
     },
     "metadata": {},
     "output_type": "display_data"
    }
   ],
   "source": [
    "# 비행정보 데이터의 “도착공항ID” 컬럼과 공항정보 데이터의 “공항ID”컬럼을 키 값으로 두 데이터 조인\n",
    "merged_df2 = pd.merge(merged_df1, df_dest_airport, left_on='DestAirportID', right_on='airport_id')\n",
    "print(merged_df2.shape)\n",
    "display(merged_df2.head())"
   ]
  },
  {
   "cell_type": "code",
   "execution_count": 263,
   "id": "2f5069c4-4792-4def-a0af-1a2f875adfc3",
   "metadata": {},
   "outputs": [],
   "source": [
    "# 중복된 도착 공항 ID 컬럼 삭제\n",
    "merged_df2.drop('airport_id', axis=1, inplace=True)"
   ]
  },
  {
   "cell_type": "markdown",
   "id": "bef715f3-33be-4622-84cf-316ba7c8926c",
   "metadata": {},
   "source": [
    "### 24개 컬럼 중 학습에 사용할 14개 컬럼만 선택"
   ]
  },
  {
   "cell_type": "code",
   "execution_count": 264,
   "id": "2b9a2a30-76a1-40f9-954d-ccae43e5e425",
   "metadata": {},
   "outputs": [
    {
     "name": "stdout",
     "output_type": "stream",
     "text": [
      "Index(['Year', 'Quarter', 'Month', 'DayofMonth', 'DayOfWeek', 'Carrier',\n",
      "       'OriginAirportID', 'DestAirportID', 'CRSDepTime', 'DepTimeBlk',\n",
      "       'DepDelay', 'DepDel15', 'CRSArrTime', 'ArrTimeBlk', 'ArrDelay',\n",
      "       'ArrDel15', 'Cancelled', 'Diverted', 'Ori-city', 'Ori-state',\n",
      "       'Ori-airport', 'Dest-city', 'Dest-state', 'Dest-airport'],\n",
      "      dtype='object')\n"
     ]
    }
   ],
   "source": [
    "print(merged_df2.columns)"
   ]
  },
  {
   "cell_type": "code",
   "execution_count": 266,
   "id": "33cb6fa2-c587-4c95-b338-358445a1ad8b",
   "metadata": {},
   "outputs": [
    {
     "name": "stdout",
     "output_type": "stream",
     "text": [
      "<class 'pandas.core.frame.DataFrame'>\n",
      "RangeIndex: 504397 entries, 0 to 504396\n",
      "Data columns (total 14 columns):\n",
      " #   Column        Non-Null Count   Dtype  \n",
      "---  ------        --------------   -----  \n",
      " 0   DayOfWeek     504397 non-null  int64  \n",
      " 1   Carrier       504397 non-null  object \n",
      " 2   DepTimeBlk    504397 non-null  object \n",
      " 3   DepDelay      500700 non-null  float64\n",
      " 4   DepDel15      500700 non-null  float64\n",
      " 5   ArrTimeBlk    504397 non-null  object \n",
      " 6   ArrDel15      499680 non-null  float64\n",
      " 7   Ori-city      504397 non-null  object \n",
      " 8   Ori-state     504397 non-null  object \n",
      " 9   Ori-airport   504397 non-null  object \n",
      " 10  Dest-city     504397 non-null  object \n",
      " 11  Dest-state    504397 non-null  object \n",
      " 12  Dest-airport  504397 non-null  object \n",
      " 13  ArrDelay      499680 non-null  float64\n",
      "dtypes: float64(4), int64(1), object(9)\n",
      "memory usage: 53.9+ MB\n"
     ]
    }
   ],
   "source": [
    "df_flight_info = merged_df2[['DayOfWeek', 'Carrier', 'DepTimeBlk', 'DepDelay', 'DepDel15', 'ArrTimeBlk', 'ArrDel15',\n",
    "'Ori-city', 'Ori-state', 'Ori-airport', 'Dest-city', 'Dest-state', 'Dest-airport', 'ArrDelay']]\n",
    "df_flight_info.info()"
   ]
  },
  {
   "cell_type": "markdown",
   "id": "8f07d23b-b741-40b8-a268-6f245e51b5f9",
   "metadata": {},
   "source": [
    "### 결측 데이터 처리"
   ]
  },
  {
   "cell_type": "code",
   "execution_count": 267,
   "id": "53586dc5-74ab-4817-8416-f9f28c743f2f",
   "metadata": {},
   "outputs": [],
   "source": [
    "df_flight_info = df_flight_info.dropna()"
   ]
  },
  {
   "cell_type": "markdown",
   "id": "b89d5d91-b287-4907-bcc0-6dc64a303560",
   "metadata": {},
   "source": [
    "### 범주형 데이터 인코딩"
   ]
  },
  {
   "cell_type": "code",
   "execution_count": 270,
   "id": "200b1b84-6c93-4b85-b32a-dc2b11e33748",
   "metadata": {},
   "outputs": [
    {
     "name": "stdout",
     "output_type": "stream",
     "text": [
      "컬럼명:Carrier        , 유니크 값 개수: 16\n",
      "컬럼명:DepTimeBlk     , 유니크 값 개수: 19\n",
      "컬럼명:ArrTimeBlk     , 유니크 값 개수: 19\n",
      "컬럼명:Ori-city       , 유니크 값 개수: 268\n",
      "컬럼명:Ori-state      , 유니크 값 개수: 53\n",
      "컬럼명:Ori-airport    , 유니크 값 개수: 279\n",
      "컬럼명:Dest-city      , 유니크 값 개수: 268\n",
      "컬럼명:Dest-state     , 유니크 값 개수: 53\n",
      "컬럼명:Dest-airport   , 유니크 값 개수: 279\n"
     ]
    }
   ],
   "source": [
    "for col in [col for col in df_flight_info.columns if df_flight_info[col].dtype == 'object']:\n",
    "    print(f'컬럼명:{col:<15s}, 유니크 값 개수: {df_flight_info[col].unique().size}')"
   ]
  },
  {
   "cell_type": "markdown",
   "id": "6cc172da-8125-4904-a9d8-30bed2fe620d",
   "metadata": {},
   "source": [
    "### 라벨 인코딩"
   ]
  },
  {
   "cell_type": "code",
   "execution_count": 272,
   "id": "2249900c-5696-42a3-9fe3-cafcfacd9af8",
   "metadata": {},
   "outputs": [],
   "source": [
    "encoder = LabelEncoder()\n",
    "df_flight_info = df_flight_info.apply(lambda col:encoder.fit_transform(col) if col.dtype == 'object' else col)"
   ]
  },
  {
   "cell_type": "code",
   "execution_count": 273,
   "id": "ded28616-8053-46f8-be8f-21f4d5bac86f",
   "metadata": {},
   "outputs": [
    {
     "name": "stdout",
     "output_type": "stream",
     "text": [
      "<class 'pandas.core.frame.DataFrame'>\n",
      "Index: 499680 entries, 0 to 504396\n",
      "Data columns (total 14 columns):\n",
      " #   Column        Non-Null Count   Dtype  \n",
      "---  ------        --------------   -----  \n",
      " 0   DayOfWeek     499680 non-null  int64  \n",
      " 1   Carrier       499680 non-null  int32  \n",
      " 2   DepTimeBlk    499680 non-null  int32  \n",
      " 3   DepDelay      499680 non-null  float64\n",
      " 4   DepDel15      499680 non-null  float64\n",
      " 5   ArrTimeBlk    499680 non-null  int32  \n",
      " 6   ArrDel15      499680 non-null  float64\n",
      " 7   Ori-city      499680 non-null  int32  \n",
      " 8   Ori-state     499680 non-null  int32  \n",
      " 9   Ori-airport   499680 non-null  int32  \n",
      " 10  Dest-city     499680 non-null  int32  \n",
      " 11  Dest-state    499680 non-null  int32  \n",
      " 12  Dest-airport  499680 non-null  int32  \n",
      " 13  ArrDelay      499680 non-null  float64\n",
      "dtypes: float64(4), int32(9), int64(1)\n",
      "memory usage: 40.0 MB\n",
      "None\n"
     ]
    }
   ],
   "source": [
    "print(df_flight_info.info())"
   ]
  },
  {
   "cell_type": "markdown",
   "id": "f1f2636e-1783-43fe-adcd-2a65485b0420",
   "metadata": {},
   "source": [
    "## 데이터 분할"
   ]
  },
  {
   "cell_type": "code",
   "execution_count": 274,
   "id": "d058803b-c492-4ab7-b4ff-5e4510ab7b43",
   "metadata": {},
   "outputs": [],
   "source": [
    "x = df_flight_info.drop('ArrDel15', axis=1)\n",
    "y = df_flight_info['ArrDel15']\n",
    "\n",
    "x_train, x_test, y_train, y_test = train_test_split(x, y, train_size=0.7, random_state=0, stratify=y)"
   ]
  },
  {
   "cell_type": "markdown",
   "id": "8d71cb4a-2cf7-40dc-a6f2-8f565269a292",
   "metadata": {},
   "source": [
    "## 모델 학습 및 평가"
   ]
  },
  {
   "cell_type": "code",
   "execution_count": 275,
   "id": "56831e28-6979-4036-beeb-c0c891259b73",
   "metadata": {},
   "outputs": [
    {
     "data": {
      "text/html": [
       "<style>#sk-container-id-20 {color: black;background-color: white;}#sk-container-id-20 pre{padding: 0;}#sk-container-id-20 div.sk-toggleable {background-color: white;}#sk-container-id-20 label.sk-toggleable__label {cursor: pointer;display: block;width: 100%;margin-bottom: 0;padding: 0.3em;box-sizing: border-box;text-align: center;}#sk-container-id-20 label.sk-toggleable__label-arrow:before {content: \"▸\";float: left;margin-right: 0.25em;color: #696969;}#sk-container-id-20 label.sk-toggleable__label-arrow:hover:before {color: black;}#sk-container-id-20 div.sk-estimator:hover label.sk-toggleable__label-arrow:before {color: black;}#sk-container-id-20 div.sk-toggleable__content {max-height: 0;max-width: 0;overflow: hidden;text-align: left;background-color: #f0f8ff;}#sk-container-id-20 div.sk-toggleable__content pre {margin: 0.2em;color: black;border-radius: 0.25em;background-color: #f0f8ff;}#sk-container-id-20 input.sk-toggleable__control:checked~div.sk-toggleable__content {max-height: 200px;max-width: 100%;overflow: auto;}#sk-container-id-20 input.sk-toggleable__control:checked~label.sk-toggleable__label-arrow:before {content: \"▾\";}#sk-container-id-20 div.sk-estimator input.sk-toggleable__control:checked~label.sk-toggleable__label {background-color: #d4ebff;}#sk-container-id-20 div.sk-label input.sk-toggleable__control:checked~label.sk-toggleable__label {background-color: #d4ebff;}#sk-container-id-20 input.sk-hidden--visually {border: 0;clip: rect(1px 1px 1px 1px);clip: rect(1px, 1px, 1px, 1px);height: 1px;margin: -1px;overflow: hidden;padding: 0;position: absolute;width: 1px;}#sk-container-id-20 div.sk-estimator {font-family: monospace;background-color: #f0f8ff;border: 1px dotted black;border-radius: 0.25em;box-sizing: border-box;margin-bottom: 0.5em;}#sk-container-id-20 div.sk-estimator:hover {background-color: #d4ebff;}#sk-container-id-20 div.sk-parallel-item::after {content: \"\";width: 100%;border-bottom: 1px solid gray;flex-grow: 1;}#sk-container-id-20 div.sk-label:hover label.sk-toggleable__label {background-color: #d4ebff;}#sk-container-id-20 div.sk-serial::before {content: \"\";position: absolute;border-left: 1px solid gray;box-sizing: border-box;top: 0;bottom: 0;left: 50%;z-index: 0;}#sk-container-id-20 div.sk-serial {display: flex;flex-direction: column;align-items: center;background-color: white;padding-right: 0.2em;padding-left: 0.2em;position: relative;}#sk-container-id-20 div.sk-item {position: relative;z-index: 1;}#sk-container-id-20 div.sk-parallel {display: flex;align-items: stretch;justify-content: center;background-color: white;position: relative;}#sk-container-id-20 div.sk-item::before, #sk-container-id-20 div.sk-parallel-item::before {content: \"\";position: absolute;border-left: 1px solid gray;box-sizing: border-box;top: 0;bottom: 0;left: 50%;z-index: -1;}#sk-container-id-20 div.sk-parallel-item {display: flex;flex-direction: column;z-index: 1;position: relative;background-color: white;}#sk-container-id-20 div.sk-parallel-item:first-child::after {align-self: flex-end;width: 50%;}#sk-container-id-20 div.sk-parallel-item:last-child::after {align-self: flex-start;width: 50%;}#sk-container-id-20 div.sk-parallel-item:only-child::after {width: 0;}#sk-container-id-20 div.sk-dashed-wrapped {border: 1px dashed gray;margin: 0 0.4em 0.5em 0.4em;box-sizing: border-box;padding-bottom: 0.4em;background-color: white;}#sk-container-id-20 div.sk-label label {font-family: monospace;font-weight: bold;display: inline-block;line-height: 1.2em;}#sk-container-id-20 div.sk-label-container {text-align: center;}#sk-container-id-20 div.sk-container {/* jupyter's `normalize.less` sets `[hidden] { display: none; }` but bootstrap.min.css set `[hidden] { display: none !important; }` so we also need the `!important` here to be able to override the default hidden behavior on the sphinx rendered scikit-learn.org. See: https://github.com/scikit-learn/scikit-learn/issues/21755 */display: inline-block !important;position: relative;}#sk-container-id-20 div.sk-text-repr-fallback {display: none;}</style><div id=\"sk-container-id-20\" class=\"sk-top-container\"><div class=\"sk-text-repr-fallback\"><pre>RandomForestClassifier()</pre><b>In a Jupyter environment, please rerun this cell to show the HTML representation or trust the notebook. <br />On GitHub, the HTML representation is unable to render, please try loading this page with nbviewer.org.</b></div><div class=\"sk-container\" hidden><div class=\"sk-item\"><div class=\"sk-estimator sk-toggleable\"><input class=\"sk-toggleable__control sk-hidden--visually\" id=\"sk-estimator-id-22\" type=\"checkbox\" checked><label for=\"sk-estimator-id-22\" class=\"sk-toggleable__label sk-toggleable__label-arrow\">RandomForestClassifier</label><div class=\"sk-toggleable__content\"><pre>RandomForestClassifier()</pre></div></div></div></div></div>"
      ],
      "text/plain": [
       "RandomForestClassifier()"
      ]
     },
     "execution_count": 275,
     "metadata": {},
     "output_type": "execute_result"
    }
   ],
   "source": [
    "model = RandomForestClassifier()\n",
    "model.fit(x_train, y_train)"
   ]
  },
  {
   "cell_type": "code",
   "execution_count": 280,
   "id": "f9ce4e83-1f50-4221-8085-7c4d2b8df973",
   "metadata": {},
   "outputs": [
    {
     "data": {
      "text/html": [
       "<style>#sk-container-id-21 {color: black;background-color: white;}#sk-container-id-21 pre{padding: 0;}#sk-container-id-21 div.sk-toggleable {background-color: white;}#sk-container-id-21 label.sk-toggleable__label {cursor: pointer;display: block;width: 100%;margin-bottom: 0;padding: 0.3em;box-sizing: border-box;text-align: center;}#sk-container-id-21 label.sk-toggleable__label-arrow:before {content: \"▸\";float: left;margin-right: 0.25em;color: #696969;}#sk-container-id-21 label.sk-toggleable__label-arrow:hover:before {color: black;}#sk-container-id-21 div.sk-estimator:hover label.sk-toggleable__label-arrow:before {color: black;}#sk-container-id-21 div.sk-toggleable__content {max-height: 0;max-width: 0;overflow: hidden;text-align: left;background-color: #f0f8ff;}#sk-container-id-21 div.sk-toggleable__content pre {margin: 0.2em;color: black;border-radius: 0.25em;background-color: #f0f8ff;}#sk-container-id-21 input.sk-toggleable__control:checked~div.sk-toggleable__content {max-height: 200px;max-width: 100%;overflow: auto;}#sk-container-id-21 input.sk-toggleable__control:checked~label.sk-toggleable__label-arrow:before {content: \"▾\";}#sk-container-id-21 div.sk-estimator input.sk-toggleable__control:checked~label.sk-toggleable__label {background-color: #d4ebff;}#sk-container-id-21 div.sk-label input.sk-toggleable__control:checked~label.sk-toggleable__label {background-color: #d4ebff;}#sk-container-id-21 input.sk-hidden--visually {border: 0;clip: rect(1px 1px 1px 1px);clip: rect(1px, 1px, 1px, 1px);height: 1px;margin: -1px;overflow: hidden;padding: 0;position: absolute;width: 1px;}#sk-container-id-21 div.sk-estimator {font-family: monospace;background-color: #f0f8ff;border: 1px dotted black;border-radius: 0.25em;box-sizing: border-box;margin-bottom: 0.5em;}#sk-container-id-21 div.sk-estimator:hover {background-color: #d4ebff;}#sk-container-id-21 div.sk-parallel-item::after {content: \"\";width: 100%;border-bottom: 1px solid gray;flex-grow: 1;}#sk-container-id-21 div.sk-label:hover label.sk-toggleable__label {background-color: #d4ebff;}#sk-container-id-21 div.sk-serial::before {content: \"\";position: absolute;border-left: 1px solid gray;box-sizing: border-box;top: 0;bottom: 0;left: 50%;z-index: 0;}#sk-container-id-21 div.sk-serial {display: flex;flex-direction: column;align-items: center;background-color: white;padding-right: 0.2em;padding-left: 0.2em;position: relative;}#sk-container-id-21 div.sk-item {position: relative;z-index: 1;}#sk-container-id-21 div.sk-parallel {display: flex;align-items: stretch;justify-content: center;background-color: white;position: relative;}#sk-container-id-21 div.sk-item::before, #sk-container-id-21 div.sk-parallel-item::before {content: \"\";position: absolute;border-left: 1px solid gray;box-sizing: border-box;top: 0;bottom: 0;left: 50%;z-index: -1;}#sk-container-id-21 div.sk-parallel-item {display: flex;flex-direction: column;z-index: 1;position: relative;background-color: white;}#sk-container-id-21 div.sk-parallel-item:first-child::after {align-self: flex-end;width: 50%;}#sk-container-id-21 div.sk-parallel-item:last-child::after {align-self: flex-start;width: 50%;}#sk-container-id-21 div.sk-parallel-item:only-child::after {width: 0;}#sk-container-id-21 div.sk-dashed-wrapped {border: 1px dashed gray;margin: 0 0.4em 0.5em 0.4em;box-sizing: border-box;padding-bottom: 0.4em;background-color: white;}#sk-container-id-21 div.sk-label label {font-family: monospace;font-weight: bold;display: inline-block;line-height: 1.2em;}#sk-container-id-21 div.sk-label-container {text-align: center;}#sk-container-id-21 div.sk-container {/* jupyter's `normalize.less` sets `[hidden] { display: none; }` but bootstrap.min.css set `[hidden] { display: none !important; }` so we also need the `!important` here to be able to override the default hidden behavior on the sphinx rendered scikit-learn.org. See: https://github.com/scikit-learn/scikit-learn/issues/21755 */display: inline-block !important;position: relative;}#sk-container-id-21 div.sk-text-repr-fallback {display: none;}</style><div id=\"sk-container-id-21\" class=\"sk-top-container\"><div class=\"sk-text-repr-fallback\"><pre>LogisticRegression(max_iter=2000, solver=&#x27;sag&#x27;)</pre><b>In a Jupyter environment, please rerun this cell to show the HTML representation or trust the notebook. <br />On GitHub, the HTML representation is unable to render, please try loading this page with nbviewer.org.</b></div><div class=\"sk-container\" hidden><div class=\"sk-item\"><div class=\"sk-estimator sk-toggleable\"><input class=\"sk-toggleable__control sk-hidden--visually\" id=\"sk-estimator-id-23\" type=\"checkbox\" checked><label for=\"sk-estimator-id-23\" class=\"sk-toggleable__label sk-toggleable__label-arrow\">LogisticRegression</label><div class=\"sk-toggleable__content\"><pre>LogisticRegression(max_iter=2000, solver=&#x27;sag&#x27;)</pre></div></div></div></div></div>"
      ],
      "text/plain": [
       "LogisticRegression(max_iter=2000, solver='sag')"
      ]
     },
     "execution_count": 280,
     "metadata": {},
     "output_type": "execute_result"
    }
   ],
   "source": [
    "model = LogisticRegression(solver='sag', max_iter=2000)   # 확률적경사하강법 사용 (대용량 데이터 처리 특징)\n",
    "model.fit(x_train, y_train)"
   ]
  },
  {
   "cell_type": "code",
   "execution_count": 281,
   "id": "9ff4c557-edd3-46ff-8351-e4c1f14df825",
   "metadata": {},
   "outputs": [
    {
     "name": "stdout",
     "output_type": "stream",
     "text": [
      "정확도:0.984\n",
      "AUC:0.998\n"
     ]
    }
   ],
   "source": [
    "y_hat = model.predict(x_test)\n",
    "print(f'정확도:{accuracy_score(y_test, y_hat):.3f}')\n",
    "print(f'AUC:{roc_auc_score(y_test, model.predict_proba(x_test)[:,1]):.3f}')"
   ]
  },
  {
   "cell_type": "markdown",
   "id": "82c0c186-951e-4448-b911-9e62c2a21ef9",
   "metadata": {},
   "source": [
    "## Feature Importance"
   ]
  },
  {
   "cell_type": "code",
   "execution_count": 278,
   "id": "f0dec9c8-bf79-4313-b062-dc3ae317eccd",
   "metadata": {},
   "outputs": [
    {
     "data": {
      "text/html": [
       "<div>\n",
       "<style scoped>\n",
       "    .dataframe tbody tr th:only-of-type {\n",
       "        vertical-align: middle;\n",
       "    }\n",
       "\n",
       "    .dataframe tbody tr th {\n",
       "        vertical-align: top;\n",
       "    }\n",
       "\n",
       "    .dataframe thead th {\n",
       "        text-align: right;\n",
       "    }\n",
       "</style>\n",
       "<table border=\"1\" class=\"dataframe\">\n",
       "  <thead>\n",
       "    <tr style=\"text-align: right;\">\n",
       "      <th></th>\n",
       "      <th>Importance</th>\n",
       "    </tr>\n",
       "  </thead>\n",
       "  <tbody>\n",
       "    <tr>\n",
       "      <th>ArrDelay</th>\n",
       "      <td>0.637359</td>\n",
       "    </tr>\n",
       "    <tr>\n",
       "      <th>DepDelay</th>\n",
       "      <td>0.235822</td>\n",
       "    </tr>\n",
       "    <tr>\n",
       "      <th>DepDel15</th>\n",
       "      <td>0.114842</td>\n",
       "    </tr>\n",
       "    <tr>\n",
       "      <th>DepTimeBlk</th>\n",
       "      <td>0.002697</td>\n",
       "    </tr>\n",
       "    <tr>\n",
       "      <th>ArrTimeBlk</th>\n",
       "      <td>0.001804</td>\n",
       "    </tr>\n",
       "    <tr>\n",
       "      <th>Carrier</th>\n",
       "      <td>0.001721</td>\n",
       "    </tr>\n",
       "    <tr>\n",
       "      <th>DayOfWeek</th>\n",
       "      <td>0.000992</td>\n",
       "    </tr>\n",
       "    <tr>\n",
       "      <th>Dest-airport</th>\n",
       "      <td>0.000892</td>\n",
       "    </tr>\n",
       "    <tr>\n",
       "      <th>Dest-state</th>\n",
       "      <td>0.000840</td>\n",
       "    </tr>\n",
       "    <tr>\n",
       "      <th>Ori-city</th>\n",
       "      <td>0.000790</td>\n",
       "    </tr>\n",
       "    <tr>\n",
       "      <th>Ori-airport</th>\n",
       "      <td>0.000778</td>\n",
       "    </tr>\n",
       "    <tr>\n",
       "      <th>Dest-city</th>\n",
       "      <td>0.000760</td>\n",
       "    </tr>\n",
       "    <tr>\n",
       "      <th>Ori-state</th>\n",
       "      <td>0.000702</td>\n",
       "    </tr>\n",
       "  </tbody>\n",
       "</table>\n",
       "</div>"
      ],
      "text/plain": [
       "              Importance\n",
       "ArrDelay        0.637359\n",
       "DepDelay        0.235822\n",
       "DepDel15        0.114842\n",
       "DepTimeBlk      0.002697\n",
       "ArrTimeBlk      0.001804\n",
       "Carrier         0.001721\n",
       "DayOfWeek       0.000992\n",
       "Dest-airport    0.000892\n",
       "Dest-state      0.000840\n",
       "Ori-city        0.000790\n",
       "Ori-airport     0.000778\n",
       "Dest-city       0.000760\n",
       "Ori-state       0.000702"
      ]
     },
     "metadata": {},
     "output_type": "display_data"
    }
   ],
   "source": [
    "importance = { k:v for k, v in zip(x.columns, model.feature_importances_) }\n",
    "df_importance = pd.DataFrame(pd.Series(importance), columns=['Importance']).sort_values('Importance', ascending=False)\n",
    "display(df_importance)"
   ]
  },
  {
   "cell_type": "markdown",
   "id": "9f9d32b5-69d7-4277-b1b0-423fc860a2c8",
   "metadata": {},
   "source": [
    "## 회귀계수(가중치)"
   ]
  },
  {
   "cell_type": "code",
   "execution_count": 283,
   "id": "a4c9931a-59f0-4604-bddb-7a1966b9256d",
   "metadata": {},
   "outputs": [
    {
     "data": {
      "text/html": [
       "<div>\n",
       "<style scoped>\n",
       "    .dataframe tbody tr th:only-of-type {\n",
       "        vertical-align: middle;\n",
       "    }\n",
       "\n",
       "    .dataframe tbody tr th {\n",
       "        vertical-align: top;\n",
       "    }\n",
       "\n",
       "    .dataframe thead th {\n",
       "        text-align: right;\n",
       "    }\n",
       "</style>\n",
       "<table border=\"1\" class=\"dataframe\">\n",
       "  <thead>\n",
       "    <tr style=\"text-align: right;\">\n",
       "      <th></th>\n",
       "      <th>가중치</th>\n",
       "    </tr>\n",
       "  </thead>\n",
       "  <tbody>\n",
       "    <tr>\n",
       "      <th>ArrDelay</th>\n",
       "      <td>0.647084</td>\n",
       "    </tr>\n",
       "    <tr>\n",
       "      <th>DepDelay</th>\n",
       "      <td>0.025836</td>\n",
       "    </tr>\n",
       "    <tr>\n",
       "      <th>DepDel15</th>\n",
       "      <td>0.006562</td>\n",
       "    </tr>\n",
       "    <tr>\n",
       "      <th>Dest-city</th>\n",
       "      <td>-0.001131</td>\n",
       "    </tr>\n",
       "    <tr>\n",
       "      <th>Ori-city</th>\n",
       "      <td>-0.001268</td>\n",
       "    </tr>\n",
       "    <tr>\n",
       "      <th>Dest-airport</th>\n",
       "      <td>-0.010010</td>\n",
       "    </tr>\n",
       "    <tr>\n",
       "      <th>Ori-airport</th>\n",
       "      <td>-0.010022</td>\n",
       "    </tr>\n",
       "    <tr>\n",
       "      <th>DepTimeBlk</th>\n",
       "      <td>-0.038278</td>\n",
       "    </tr>\n",
       "    <tr>\n",
       "      <th>Dest-state</th>\n",
       "      <td>-0.038360</td>\n",
       "    </tr>\n",
       "    <tr>\n",
       "      <th>Ori-state</th>\n",
       "      <td>-0.044370</td>\n",
       "    </tr>\n",
       "    <tr>\n",
       "      <th>ArrTimeBlk</th>\n",
       "      <td>-0.150481</td>\n",
       "    </tr>\n",
       "    <tr>\n",
       "      <th>Carrier</th>\n",
       "      <td>-0.151228</td>\n",
       "    </tr>\n",
       "    <tr>\n",
       "      <th>DayOfWeek</th>\n",
       "      <td>-0.364731</td>\n",
       "    </tr>\n",
       "  </tbody>\n",
       "</table>\n",
       "</div>"
      ],
      "text/plain": [
       "                   가중치\n",
       "ArrDelay      0.647084\n",
       "DepDelay      0.025836\n",
       "DepDel15      0.006562\n",
       "Dest-city    -0.001131\n",
       "Ori-city     -0.001268\n",
       "Dest-airport -0.010010\n",
       "Ori-airport  -0.010022\n",
       "DepTimeBlk   -0.038278\n",
       "Dest-state   -0.038360\n",
       "Ori-state    -0.044370\n",
       "ArrTimeBlk   -0.150481\n",
       "Carrier      -0.151228\n",
       "DayOfWeek    -0.364731"
      ]
     },
     "metadata": {},
     "output_type": "display_data"
    }
   ],
   "source": [
    "weight = { k:v for k, v in zip(x.columns, model.coef_.squeeze(axis=0)) }\n",
    "df_weight = pd.DataFrame(pd.Series(weight), columns=['가중치']).sort_values('가중치', ascending=False)\n",
    "display(df_weight)"
   ]
  }
 ],
 "metadata": {
  "kernelspec": {
   "display_name": "Python 3 (ipykernel)",
   "language": "python",
   "name": "python3"
  },
  "language_info": {
   "codemirror_mode": {
    "name": "ipython",
    "version": 3
   },
   "file_extension": ".py",
   "mimetype": "text/x-python",
   "name": "python",
   "nbconvert_exporter": "python",
   "pygments_lexer": "ipython3",
   "version": "3.11.7"
  }
 },
 "nbformat": 4,
 "nbformat_minor": 5
}
