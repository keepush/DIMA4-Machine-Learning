{
 "cells": [
  {
   "cell_type": "markdown",
   "id": "f1efa89d-de06-424b-9c9a-ba576606e287",
   "metadata": {},
   "source": [
    "# 텍스트 사전 준비 작업 - 텍스트 정규화"
   ]
  },
  {
   "cell_type": "markdown",
   "id": "64f3dd1e-e9ff-4371-bd8a-b2028ce2adbb",
   "metadata": {},
   "source": [
    "## 토큰화"
   ]
  },
  {
   "cell_type": "markdown",
   "id": "70500c73-e824-4b59-a322-4d0373bd8761",
   "metadata": {},
   "source": [
    "### 문장 토큰화\n",
    "- 문장의 마침표, 개행문자 등 문장의 마지막을 뜻하는 기호에 따라 분리하는 것\n",
    "- nltk: https://www.nltk.org"
   ]
  },
  {
   "cell_type": "code",
   "execution_count": 1,
   "id": "afc6ee41-9d26-4c42-89c4-f95cb09cca2b",
   "metadata": {},
   "outputs": [
    {
     "name": "stdout",
     "output_type": "stream",
     "text": [
      "Requirement already satisfied: nltk in c:\\users\\user\\anaconda3\\lib\\site-packages (3.8.1)\n",
      "Requirement already satisfied: click in c:\\users\\user\\anaconda3\\lib\\site-packages (from nltk) (8.1.7)\n",
      "Requirement already satisfied: joblib in c:\\users\\user\\anaconda3\\lib\\site-packages (from nltk) (1.2.0)\n",
      "Requirement already satisfied: regex>=2021.8.3 in c:\\users\\user\\anaconda3\\lib\\site-packages (from nltk) (2023.10.3)\n",
      "Requirement already satisfied: tqdm in c:\\users\\user\\anaconda3\\lib\\site-packages (from nltk) (4.65.0)\n",
      "Requirement already satisfied: colorama in c:\\users\\user\\anaconda3\\lib\\site-packages (from click->nltk) (0.4.6)\n"
     ]
    }
   ],
   "source": [
    "!pip install nltk"
   ]
  },
  {
   "cell_type": "code",
   "execution_count": 3,
   "id": "6eea242c-b269-4332-8544-1b5de65662ae",
   "metadata": {},
   "outputs": [
    {
     "name": "stderr",
     "output_type": "stream",
     "text": [
      "[nltk_data] Downloading package punkt to\n",
      "[nltk_data]     C:\\Users\\user\\AppData\\Roaming\\nltk_data...\n",
      "[nltk_data]   Unzipping tokenizers\\punkt.zip.\n"
     ]
    },
    {
     "name": "stdout",
     "output_type": "stream",
     "text": [
      "3\n",
      "['The Matrix is everywhere its all around us, here even in this room.', 'You can see it out your window or on your television.', 'You feel it when you go to work, or go to church or pay your taxes.']\n"
     ]
    }
   ],
   "source": [
    "from nltk import sent_tokenize\n",
    "import nltk\n",
    "\n",
    "nltk.download('punkt')\n",
    "\n",
    "text_sample = 'The Matrix is everywhere its all around us, here even in this room. \\\n",
    "               You can see it out your window or on your television. \\\n",
    "               You feel it when you go to work, or go to church or pay your taxes.'\n",
    "\n",
    "sentence = sent_tokenize(text_sample)\n",
    "print(len(sentence))\n",
    "print(sentence)"
   ]
  },
  {
   "cell_type": "markdown",
   "id": "06ad5092-ed84-4122-97d2-d0ad27514937",
   "metadata": {},
   "source": [
    "### 단어 토큰화\n",
    "- 문장을 단어로 토큰화하는 것\n",
    "- 일반적으로 문장 토큰화는 각 문장이 가지는 의미가 중요한 요소로 사용될 때 사용\n",
    "- BoW(Bag of Word)와 같이 단어의 순서가 중요하지 않은 경우 단어 토큰화만 해도 충분"
   ]
  },
  {
   "cell_type": "code",
   "execution_count": 4,
   "id": "6bd79fbf-57d3-4be3-9746-5216c2e4c527",
   "metadata": {},
   "outputs": [
    {
     "name": "stdout",
     "output_type": "stream",
     "text": [
      "15\n",
      "['The', 'Matrix', 'is', 'everywhere', 'its', 'all', 'around', 'us', ',', 'here', 'even', 'in', 'this', 'room', '.']\n"
     ]
    }
   ],
   "source": [
    "from nltk import word_tokenize\n",
    "\n",
    "sentence = 'The Matrix is everywhere its all around us, here even in this room.'\n",
    "words = word_tokenize(sentence)\n",
    "print(len(words))\n",
    "print(words)"
   ]
  },
  {
   "cell_type": "code",
   "execution_count": 6,
   "id": "0f856edd-d742-4986-bfc7-e9776a318e88",
   "metadata": {},
   "outputs": [
    {
     "name": "stdout",
     "output_type": "stream",
     "text": [
      "[['The', 'Matrix', 'is', 'everywhere', 'its', 'all', 'around', 'us', ',', 'here', 'even', 'in', 'this', 'room', '.'], ['You', 'can', 'see', 'it', 'out', 'your', 'window', 'or', 'on', 'your', 'television', '.'], ['You', 'feel', 'it', 'when', 'you', 'go', 'to', 'work', ',', 'or', 'go', 'to', 'church', 'or', 'pay', 'your', 'taxes', '.']]\n"
     ]
    }
   ],
   "source": [
    "from nltk import sent_tokenize, word_tokenize\n",
    "\n",
    "def tokenize_text(text):\n",
    "    sentences = sent_tokenize(text)\n",
    "    word_tokens = [ word_tokenize(sentence) for sentence in sentences ]\n",
    "    return word_tokens\n",
    "\n",
    "word_tokens = tokenize_text(text_sample)\n",
    "print(word_tokens)"
   ]
  },
  {
   "cell_type": "markdown",
   "id": "17a31c4c-e1d5-4e9e-9373-23db7faf4f82",
   "metadata": {},
   "source": [
    "## Stopwords 제거\n",
    "- 분석에 큰 의미가 없는 단어를 지칭한다.\n",
    "- is, the, a, will 등 문맥적으로 큰 의미가 없는 단어가 이에 해당한다."
   ]
  },
  {
   "cell_type": "code",
   "execution_count": 7,
   "id": "f9019306-73bb-430a-9d05-6bc5416d7a02",
   "metadata": {},
   "outputs": [
    {
     "name": "stderr",
     "output_type": "stream",
     "text": [
      "[nltk_data] Downloading package stopwords to\n",
      "[nltk_data]     C:\\Users\\user\\AppData\\Roaming\\nltk_data...\n",
      "[nltk_data]   Unzipping corpora\\stopwords.zip.\n"
     ]
    },
    {
     "data": {
      "text/plain": [
       "True"
      ]
     },
     "execution_count": 7,
     "metadata": {},
     "output_type": "execute_result"
    }
   ],
   "source": [
    "import nltk\n",
    "nltk.download('stopwords') # 불용어 목록을 다운받는다."
   ]
  },
  {
   "cell_type": "code",
   "execution_count": 10,
   "id": "c27c4396-7631-4b7c-88f4-3751199876d9",
   "metadata": {},
   "outputs": [
    {
     "name": "stdout",
     "output_type": "stream",
     "text": [
      "['arabic', 'azerbaijani', 'basque', 'bengali', 'catalan', 'chinese', 'danish', 'dutch', 'english', 'finnish', 'french', 'german', 'greek', 'hebrew', 'hinglish', 'hungarian', 'indonesian', 'italian', 'kazakh', 'nepali', 'norwegian', 'portuguese', 'romanian', 'russian', 'slovene', 'spanish', 'swedish', 'tajik', 'turkish']\n"
     ]
    }
   ],
   "source": [
    "print(nltk.corpus.stopwords.fileids())"
   ]
  },
  {
   "cell_type": "code",
   "execution_count": 9,
   "id": "792a7aed-e7c3-41a8-8b3e-6bfd69f44188",
   "metadata": {},
   "outputs": [
    {
     "name": "stdout",
     "output_type": "stream",
     "text": [
      "영어 불용어 개수: 179\n",
      "['i', 'me', 'my', 'myself', 'we', 'our', 'ours', 'ourselves', 'you', \"you're\", \"you've\", \"you'll\", \"you'd\", 'your', 'yours', 'yourself', 'yourselves', 'he', 'him', 'his']\n"
     ]
    }
   ],
   "source": [
    "print('영어 불용어 개수:',\n",
    "     len(nltk.corpus.stopwords.words('english')))\n",
    "print(nltk.corpus.stopwords.words('english')[:20])"
   ]
  },
  {
   "cell_type": "code",
   "execution_count": 11,
   "id": "b4cf0e58-e71e-431c-974d-f4a67d891edd",
   "metadata": {},
   "outputs": [
    {
     "name": "stdout",
     "output_type": "stream",
     "text": [
      "!\"#$%&'()*+,-./:;<=>?@[\\]^_`{|}~\n"
     ]
    }
   ],
   "source": [
    "# 구두점 목록\n",
    "import string\n",
    "print(string.punctuation)"
   ]
  },
  {
   "cell_type": "code",
   "execution_count": 14,
   "id": "6649cf5e-5a6c-4197-8859-4de75c0501e0",
   "metadata": {},
   "outputs": [
    {
     "name": "stdout",
     "output_type": "stream",
     "text": [
      "[원본 단어]\n",
      "[['The', 'Matrix', 'is', 'everywhere', 'its', 'all', 'around', 'us', ',', 'here', 'even', 'in', 'this', 'room', '.'], ['You', 'can', 'see', 'it', 'out', 'your', 'window', 'or', 'on', 'your', 'television', '.'], ['You', 'feel', 'it', 'when', 'you', 'go', 'to', 'work', ',', 'or', 'go', 'to', 'church', 'or', 'pay', 'your', 'taxes', '.']]\n",
      "\n",
      "[불용어 제거 단어]\n",
      "[['matrix', 'everywhere', 'around', 'us', 'even', 'room'], ['see', 'window', 'television'], ['feel', 'go', 'work', 'go', 'church', 'pay', 'taxes']]\n"
     ]
    }
   ],
   "source": [
    "import nltk\n",
    "\n",
    "stopwords = nltk.corpus.stopwords.words('english')\n",
    "all_tokens = []\n",
    "print('[원본 단어]')\n",
    "print(word_tokens)\n",
    "for sentence in word_tokens:\n",
    "    filtered_words = []\n",
    "    for word in sentence:\n",
    "        word = word.lower()\n",
    "        if word not in stopwords and word not in string.punctuation:\n",
    "            filtered_words.append(word)\n",
    "    all_tokens.append(filtered_words)\n",
    "print()\n",
    "print('[불용어 제거 단어]')\n",
    "print(all_tokens)"
   ]
  },
  {
   "cell_type": "markdown",
   "id": "56c11120-53c8-47cc-9627-370b93446e7e",
   "metadata": {},
   "source": [
    "## 어간추출(Stemming)과 표제어 추출(Lemmatization)\n",
    "- 문법적 또는 의미적으로 변화하는 `단어의 원형을 찾는다`"
   ]
  },
  {
   "cell_type": "code",
   "execution_count": 17,
   "id": "1ae87b0d-40d1-4bec-ac13-8e2b1a2a70a9",
   "metadata": {},
   "outputs": [
    {
     "name": "stdout",
     "output_type": "stream",
     "text": [
      "work work work\n",
      "amus amus amus\n",
      "happy happiest\n"
     ]
    }
   ],
   "source": [
    "from nltk.stem import LancasterStemmer\n",
    "\n",
    "stemmer = LancasterStemmer()\n",
    "print(stemmer.stem('working'), stemmer.stem('works'), stemmer.stem('worked'))\n",
    "print(stemmer.stem('amusing'), stemmer.stem('amused'), stemmer.stem('amuses'))\n",
    "print(stemmer.stem('happier'), stemmer.stem('happiest'))"
   ]
  },
  {
   "cell_type": "code",
   "execution_count": 24,
   "id": "80d0c50b-43b3-44c8-b157-cd5cfd67bd8a",
   "metadata": {},
   "outputs": [
    {
     "name": "stdout",
     "output_type": "stream",
     "text": [
      "amuse amuse amuse\n",
      "happy happy\n"
     ]
    }
   ],
   "source": [
    "from nltk.stem import WordNetLemmatizer\n",
    "import nltk\n",
    "# nltk.download('wordnet')\n",
    "\n",
    "lemma = WordNetLemmatizer()\n",
    "# 명사(n), 동사(v), 형용사(a), 부사(r)\n",
    "print(lemma.lemmatize('amusing', 'v'), lemma.lemmatize('amuses', 'v'), lemma.lemmatize('amused', 'v'))\n",
    "print(lemma.lemmatize('happier', 'a'), lemma.lemmatize('happiest', 'a'))"
   ]
  },
  {
   "cell_type": "markdown",
   "id": "2c5622ce-6e45-42f3-a2d0-3994eb6d0667",
   "metadata": {},
   "source": [
    "# Bag of Words (BoW) "
   ]
  },
  {
   "cell_type": "markdown",
   "id": "64d6d4e2-6f51-46d2-957f-fddda1134eb3",
   "metadata": {},
   "source": [
    "## DTM(Document Term Matrix, 문서 단어 행렬)"
   ]
  },
  {
   "cell_type": "markdown",
   "id": "29f52188-041c-4f56-9cef-127f9c77d81d",
   "metadata": {},
   "source": [
    "### CounterVectorizer 사용"
   ]
  },
  {
   "cell_type": "code",
   "execution_count": 1,
   "id": "b36f193b-a236-41df-9407-8d111b3f4dc5",
   "metadata": {},
   "outputs": [
    {
     "name": "stdout",
     "output_type": "stream",
     "text": [
      "bag of words vector: [[1 1 2 1 2 1]]\n",
      "vocabulary [('because', 0), ('know', 1), ('love', 2), ('want', 3), ('you', 4), ('your', 5)]\n"
     ]
    }
   ],
   "source": [
    "from sklearn.feature_extraction.text import CountVectorizer\n",
    "\n",
    "corpus = ['you know I want your love. because I love you.']\n",
    "vector = CountVectorizer()\n",
    "print('bag of words vector:', vector.fit_transform(corpus).toarray())\n",
    "# 'I'는 BoW를 만드는 과정에서 제외됨(CountVectorizer는 기본적으로 길이가 2 이상인 단어만 토큰으로 인식)\n",
    "print('vocabulary', sorted(vector.vocabulary_.items(), key= lambda item:item[0]))"
   ]
  },
  {
   "cell_type": "markdown",
   "id": "0482c85e-83bc-49fc-9ccd-c54dca2220c7",
   "metadata": {},
   "source": [
    "- 불용어를 제거한 BoW 만들기"
   ]
  },
  {
   "cell_type": "markdown",
   "id": "d1711f30-a4d1-436e-9fc7-7582d375e22a",
   "metadata": {},
   "source": [
    "1. 사용자 정의 불용어 사용"
   ]
  },
  {
   "cell_type": "code",
   "execution_count": 32,
   "id": "b4e1d727-b091-4e9a-8404-dcb271512eaf",
   "metadata": {},
   "outputs": [
    {
     "name": "stdout",
     "output_type": "stream",
     "text": [
      "[[1 1 1 1 1]]\n",
      "vocabulary [('everything', 0), ('family', 1), ('important', 2), ('it', 3), ('thing', 4)]\n"
     ]
    }
   ],
   "source": [
    "text = [\"Family is not an important thing. It's everything.\"]\n",
    "vector = CountVectorizer(stop_words=['the','an','a','is','not'])\n",
    "print(vector.fit_transform(text).toarray())\n",
    "print('vocabulary', sorted(vector.vocabulary_.items(), key= lambda item:item[0]))"
   ]
  },
  {
   "cell_type": "markdown",
   "id": "43214f0a-fc4b-433a-b302-5d05daff50d1",
   "metadata": {},
   "source": [
    "2. CountVectorizer에서 제공하는 자체 불용어 사용"
   ]
  },
  {
   "cell_type": "code",
   "execution_count": 33,
   "id": "64f7bb76-d4be-432b-83b2-714c3cfbccce",
   "metadata": {},
   "outputs": [
    {
     "name": "stdout",
     "output_type": "stream",
     "text": [
      "[[1 1 1]]\n",
      "vocabulary [('family', 0), ('important', 1), ('thing', 2)]\n"
     ]
    }
   ],
   "source": [
    "text = [\"Family is not an important thing. It's everything.\"]\n",
    "vector = CountVectorizer(stop_words='english')\n",
    "print(vector.fit_transform(text).toarray())\n",
    "print('vocabulary', sorted(vector.vocabulary_.items(), key= lambda item:item[0]))"
   ]
  },
  {
   "cell_type": "markdown",
   "id": "35f18e94-9bb9-4376-82e5-7c8b9d9f93ce",
   "metadata": {},
   "source": [
    "3. NLTK에서 지원하는 불용어 사용"
   ]
  },
  {
   "cell_type": "code",
   "execution_count": 35,
   "id": "60493763-4f5a-4001-ac4d-f9715f7cfd47",
   "metadata": {},
   "outputs": [
    {
     "name": "stdout",
     "output_type": "stream",
     "text": [
      "[[1 1 1 1]]\n",
      "vocabulary [('everything', 0), ('family', 1), ('important', 2), ('thing', 3)]\n"
     ]
    }
   ],
   "source": [
    "from nltk.corpus import stopwords\n",
    "\n",
    "text = [\"Family is not an important thing. It's everything.\"]\n",
    "stop_words = stopwords.words('english')\n",
    "vector = CountVectorizer(stop_words=stop_words)\n",
    "print(vector.fit_transform(text).toarray())\n",
    "print('vocabulary', sorted(vector.vocabulary_.items(), key= lambda item:item[0]))"
   ]
  },
  {
   "cell_type": "markdown",
   "id": "697b12f7-9fea-4af5-a497-4aeb8b5aff44",
   "metadata": {},
   "source": [
    "### TF-IDF(Term Frequency-Inverse Document Frequency)"
   ]
  },
  {
   "cell_type": "code",
   "execution_count": 37,
   "id": "59f4de87-0ed8-4988-a56b-64c3fcab69d6",
   "metadata": {},
   "outputs": [
    {
     "name": "stdout",
     "output_type": "stream",
     "text": [
      "[[0.         0.46735098 0.         0.46735098 0.         0.46735098\n",
      "  0.         0.35543247 0.46735098]\n",
      " [0.         0.         0.79596054 0.         0.         0.\n",
      "  0.         0.60534851 0.        ]\n",
      " [0.57735027 0.         0.         0.         0.57735027 0.\n",
      "  0.57735027 0.         0.        ]]\n",
      "vocabulary [('do', 0), ('know', 1), ('like', 2), ('love', 3), ('should', 4), ('want', 5), ('what', 6), ('you', 7), ('your', 8)]\n"
     ]
    }
   ],
   "source": [
    "from sklearn.feature_extraction.text import TfidfVectorizer\n",
    "\n",
    "corpus = ['you know I want your love',  # 문서 1_\n",
    "          'I like you',  # 문서 2\n",
    "          'what should I do'  # 문서 3\n",
    "         ]\n",
    "tfidf = TfidfVectorizer()\n",
    "print(tfidf.fit_transform(corpus).toarray())\n",
    "print('vocabulary', sorted(tfidf.vocabulary_.items(), key= lambda item:item[0]))"
   ]
  },
  {
   "cell_type": "markdown",
   "id": "a6a7915a-d7fb-4b83-89c0-1f21bee50257",
   "metadata": {},
   "source": [
    "# Word2Vec"
   ]
  },
  {
   "cell_type": "markdown",
   "id": "34ccbcfd-03d7-4b5c-9103-bf11c44d2db5",
   "metadata": {},
   "source": [
    "## 패키지 로딩 "
   ]
  },
  {
   "cell_type": "code",
   "execution_count": 2,
   "id": "71c05fcb-c317-49f0-b1fc-578d30d0ed88",
   "metadata": {},
   "outputs": [],
   "source": [
    "import re\n",
    "import urllib.request\n",
    "from nltk.tokenize import word_tokenize, sent_tokenize\n",
    "\n",
    "from gensim.models import Word2Vec\n",
    "from gensim.models import KeyedVectors"
   ]
  },
  {
   "cell_type": "markdown",
   "id": "7f65ab3f-8633-4e52-8be6-df76dd618a78",
   "metadata": {},
   "source": [
    "## 데이터 로딩"
   ]
  },
  {
   "cell_type": "code",
   "execution_count": 3,
   "id": "8baa8d1b-a707-427e-a28a-3fad7477c222",
   "metadata": {},
   "outputs": [
    {
     "data": {
      "text/plain": [
       "('ted_en-20160408.xml', <http.client.HTTPMessage at 0x220ca756090>)"
      ]
     },
     "execution_count": 3,
     "metadata": {},
     "output_type": "execute_result"
    }
   ],
   "source": [
    "urllib.request.urlretrieve(\"https://raw.githubusercontent.com/ukairia777/tensorflow-nlp-tutorial/main/09.%20Word%20Embedding/dataset/ted_en-20160408.xml\", filename=\"ted_en-20160408.xml\")"
   ]
  },
  {
   "cell_type": "code",
   "execution_count": 4,
   "id": "6d59ace0-a945-48fd-b470-cf5e6c49ca2c",
   "metadata": {},
   "outputs": [],
   "source": [
    "with open(\"ted_en-20160408.xml\", 'r', encoding='UTF8') as f:\n",
    "    ted_xml = f.read()"
   ]
  },
  {
   "cell_type": "code",
   "execution_count": 5,
   "id": "12b08e3e-da10-4f75-b01d-1d9fd161b20c",
   "metadata": {},
   "outputs": [
    {
     "name": "stdout",
     "output_type": "stream",
     "text": [
      "<?xml version=\"1.0\" encoding=\"UTF-8\"?>\n",
      "<xml language=\"en\"><file id=\"1\">\n",
      "  <head>\n",
      "    <url>http://www.ted.com/talks/knut_haanaes_two_reasons_companies_fail_and_how_to_avoid_them</url>\n",
      "    <pagesize>72832</pagesize>\n",
      "    <dtime>Fri Apr 01 00:57:03 CEST 2016</dtime>\n",
      "    <encoding>UTF-8</encoding>\n",
      "    <content-type>text/html; charset=utf-8</content-type>\n",
      "    <keywords>talks, business, creativity, curiosity, goal-setting, innovation, motivation, potential, success, work</keywords>\n",
      "    <speaker>Knut Haanaes</speaker>\n",
      "    <talkid>2470</talkid>\n",
      "    <videourl>http://download.ted.com/talks/KnutHaanaes_2015S.mp4</videourl>\n",
      "    <videopath>talks/KnutHaanaes_2015S.mp4</videopath>\n",
      "    <date>2015/06/30</date>\n",
      "    <title>Knut Haanaes: Two reasons companies fail -- and how to avoid them</title>\n",
      "    <description>TED Talk Subtitles and Transcript: Is it possible to run a company and reinvent it at the same time? For business strategist Knut Haanaes, the ability to innovate after becoming successful is the \n"
     ]
    }
   ],
   "source": [
    "print(ted_xml[:1000])"
   ]
  },
  {
   "cell_type": "markdown",
   "id": "5f3c2c15-0793-4635-b3c0-5ba8784a145a",
   "metadata": {},
   "source": [
    "## 데이터 전처리\n",
    "- 학습할 문서는 <content>~</content> 안에 있으며, 이 내용만 가져온다.\n",
    "- 문서 안에 포함된 학습에 불필요한 문장들 지"
   ]
  },
  {
   "cell_type": "code",
   "execution_count": 6,
   "id": "a8c380f8-56a7-42c0-8f28-6ab8da7cbb6e",
   "metadata": {},
   "outputs": [
    {
     "name": "stderr",
     "output_type": "stream",
     "text": [
      "C:\\Users\\user\\anaconda3\\Lib\\site-packages\\bs4\\builder\\__init__.py:545: XMLParsedAsHTMLWarning: It looks like you're parsing an XML document using an HTML parser. If this really is an HTML document (maybe it's XHTML?), you can ignore or filter this warning. If it's XML, you should know that using an XML parser will be more reliable. To parse this document as XML, make sure you have the lxml package installed, and pass the keyword argument `features=\"xml\"` into the BeautifulSoup constructor.\n",
      "  warnings.warn(\n"
     ]
    }
   ],
   "source": [
    "from  bs4 import BeautifulSoup\n",
    "bs = BeautifulSoup(ted_xml, 'lxml')"
   ]
  },
  {
   "cell_type": "code",
   "execution_count": 13,
   "id": "d54de79b-834f-4f72-a246-1f31726960a1",
   "metadata": {},
   "outputs": [],
   "source": [
    "content_text = bs.find_all('content')\n",
    "# print(len(content_text))\n",
    "# print(content_text[0])\n",
    "content_text = '\\n'.join( c.get_text() for c in content_text )\n",
    "content_text = re.sub(r'\\([\\w]*\\)','',content_text)\n",
    "# print(content_text[:1000])"
   ]
  },
  {
   "cell_type": "code",
   "execution_count": 14,
   "id": "57006520-b32b-4944-a33c-5c93e40b6395",
   "metadata": {},
   "outputs": [],
   "source": [
    "# 문장 토큰화\n",
    "sentences = sent_tokenize(content_text)\n",
    "\n",
    "# 구두점 제거 및 소문자 변환\n",
    "nomalized_text = []\n",
    "for sentence in sentences:\n",
    "    result = re.sub('[^\\w]+',' ', sentence.lower())\n",
    "    nomalized_text.append(result)\n",
    "\n",
    "# 단어 토큰화\n",
    "result = [ word_tokenize(sentence) for sentence in nomalized_text ]"
   ]
  },
  {
   "cell_type": "code",
   "execution_count": 15,
   "id": "7a49848b-14dd-453d-b197-9cf1d2e0bde5",
   "metadata": {},
   "outputs": [
    {
     "name": "stdout",
     "output_type": "stream",
     "text": [
      "전체 샘플 개수:273,698\n",
      "['here', 'are', 'two', 'reasons', 'companies', 'fail', 'they', 'only', 'do', 'more', 'of', 'the', 'same', 'or', 'they', 'only', 'do', 'what', 's', 'new']\n"
     ]
    }
   ],
   "source": [
    "print(f'전체 샘플 개수:{len(result):,}')\n",
    "print(result[0])"
   ]
  },
  {
   "cell_type": "markdown",
   "id": "57e97d29-a0cb-4601-8d5b-2baeb05136bb",
   "metadata": {},
   "source": [
    "## Word2Vec 학습\n",
    "- Word2Vec 주요 파라메터\n",
    ">- vector_size: 워드 벡터의 특징 값. 즉, 임베딩 된 벡터의 차원 (적절한 임베딩 벡터의 차원의 크기는 100~300 사이의 값 지정)\n",
    ">- window: 컨텍스트 윈도우 크기\n",
    ">- min_count: 단어 최소 빈도 수 제한 (빈도가 적은 단어들은 학습에서 제외)\n",
    ">- workers: 학습을 위한 프로세스 \n",
    ">- sg: 0은 CBOW, 1은 Skip-gram"
   ]
  },
  {
   "cell_type": "code",
   "execution_count": 16,
   "id": "86910a38-fa8b-43ea-910f-7734b7228bff",
   "metadata": {},
   "outputs": [],
   "source": [
    "model = Word2Vec(sentences=result, vector_size=100, window=5, min_count=5, workers=4, sg=0)"
   ]
  },
  {
   "cell_type": "code",
   "execution_count": 17,
   "id": "5d7a504d-7b5f-40c6-a9c6-317c3ae02e36",
   "metadata": {},
   "outputs": [
    {
     "name": "stdout",
     "output_type": "stream",
     "text": [
      "[('woman', 0.8432585000991821), ('guy', 0.8068357110023499), ('boy', 0.7717924118041992), ('lady', 0.7697669863700867), ('gentleman', 0.7317937612533569), ('girl', 0.730228066444397), ('soldier', 0.7273309230804443), ('kid', 0.7031822204589844), ('poet', 0.6914117932319641), ('son', 0.6563450694084167)]\n"
     ]
    }
   ],
   "source": [
    "sim_word = model.wv.most_similar('man')\n",
    "print(sim_word)"
   ]
  },
  {
   "cell_type": "markdown",
   "id": "dce3b725-d285-44c1-a15a-a28e6a813535",
   "metadata": {},
   "source": [
    "## Word2Vec 모델 저장 및 로드"
   ]
  },
  {
   "cell_type": "code",
   "execution_count": 18,
   "id": "98ebfcea-6526-418e-b862-b3c3fd7adc01",
   "metadata": {},
   "outputs": [],
   "source": [
    "# 모델 저장\n",
    "model.wv.save_word2vec_format('eng_w2v')\n",
    "\n",
    "# 모델 로드\n",
    "loaded_model = KeyedVectors.load_word2vec_format('eng_w2v')"
   ]
  },
  {
   "cell_type": "markdown",
   "id": "69719c90-27c0-4a19-925d-8da1907110d0",
   "metadata": {},
   "source": [
    "## 임베딩 벡터의 시각화\n",
    "- 구글의 임베딩 프로젝터라는 시각화 도구를 통해 학습한 임베딩 벡터를 시각화 할 수 있다."
   ]
  },
  {
   "cell_type": "markdown",
   "id": "6b0e5426-425f-425e-b760-153e7fc7ec96",
   "metadata": {},
   "source": [
    "### 워드 임베딩 모델로부터 tsv 파일 생성하기"
   ]
  },
  {
   "cell_type": "code",
   "execution_count": 20,
   "id": "d2461246-e307-4650-8714-e5ba69610139",
   "metadata": {},
   "outputs": [
    {
     "name": "stderr",
     "output_type": "stream",
     "text": [
      "2024-05-02 11:40:26,695 - word2vec2tensor - INFO - running C:\\Users\\user\\anaconda3\\Lib\\site-packages\\gensim\\scripts\\word2vec2tensor.py --input eng_w2v --output eng_w2v\n",
      "2024-05-02 11:40:26,695 - keyedvectors - INFO - loading projection weights from eng_w2v\n",
      "2024-05-02 11:40:28,448 - utils - INFO - KeyedVectors lifecycle event {'msg': 'loaded (21638, 100) matrix of type float32 from eng_w2v', 'binary': False, 'encoding': 'utf8', 'datetime': '2024-05-02T11:40:28.405853', 'gensim': '4.3.0', 'python': '3.11.7 | packaged by Anaconda, Inc. | (main, Dec 15 2023, 18:05:47) [MSC v.1916 64 bit (AMD64)]', 'platform': 'Windows-10-10.0.22631-SP0', 'event': 'load_word2vec_format'}\n",
      "2024-05-02 11:40:29,989 - word2vec2tensor - INFO - 2D tensor file saved to eng_w2v_tensor.tsv\n",
      "2024-05-02 11:40:29,989 - word2vec2tensor - INFO - Tensor metadata file saved to eng_w2v_metadata.tsv\n",
      "2024-05-02 11:40:29,991 - word2vec2tensor - INFO - finished running word2vec2tensor.py\n"
     ]
    }
   ],
   "source": [
    "!python -m gensim.scripts.word2vec2tensor --input eng_w2v --output eng_w2v"
   ]
  },
  {
   "cell_type": "markdown",
   "id": "596be854-1a07-4053-bdbc-65b05d136ad0",
   "metadata": {},
   "source": [
    "### 임베딩 프로젝터를 이용한 시각화\n",
    "- https://projector.tensorflow.org"
   ]
  }
 ],
 "metadata": {
  "kernelspec": {
   "display_name": "Python 3 (ipykernel)",
   "language": "python",
   "name": "python3"
  },
  "language_info": {
   "codemirror_mode": {
    "name": "ipython",
    "version": 3
   },
   "file_extension": ".py",
   "mimetype": "text/x-python",
   "name": "python",
   "nbconvert_exporter": "python",
   "pygments_lexer": "ipython3",
   "version": "3.11.7"
  }
 },
 "nbformat": 4,
 "nbformat_minor": 5
}
