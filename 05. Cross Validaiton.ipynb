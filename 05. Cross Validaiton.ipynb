{
 "cells": [
  {
   "cell_type": "markdown",
   "id": "ffbd48e0-6914-4167-8d1e-fad567f49ad0",
   "metadata": {},
   "source": [
    "# 패키지 로딩"
   ]
  },
  {
   "cell_type": "code",
   "execution_count": 3,
   "id": "6507994e-108a-405a-b223-61a6cb8c16f6",
   "metadata": {},
   "outputs": [],
   "source": [
    "import numpy as np\n",
    "import pandas as pd\n",
    "\n",
    "from sklearn.datasets import load_iris\n",
    "from sklearn.model_selection import KFold, StratifiedKFold, cross_val_score, cross_validate, train_test_split\n",
    "from sklearn.tree import DecisionTreeClassifier\n",
    "from sklearn.metrics import accuracy_score"
   ]
  },
  {
   "cell_type": "markdown",
   "id": "e810667f-146e-44da-8c75-dc4c734d9ab4",
   "metadata": {},
   "source": [
    "# Nonde Cross Validation"
   ]
  },
  {
   "cell_type": "code",
   "execution_count": 5,
   "id": "ec586039-7211-4dd7-ac99-08fd9a4b670d",
   "metadata": {},
   "outputs": [
    {
     "name": "stdout",
     "output_type": "stream",
     "text": [
      "정확도:0.98\n"
     ]
    }
   ],
   "source": [
    "iris = load_iris()\n",
    "x_train, x_test, y_train, y_test = train_test_split(iris.data, iris.target, test_size=0.3, random_state=10)\n",
    "model = DecisionTreeClassifier(random_state=1)\n",
    "model.fit(x_train, y_train)\n",
    "y_hat = model.predict(x_test)\n",
    "print(f'정확도:{accuracy_score(y_test, y_hat):.2f}')"
   ]
  },
  {
   "cell_type": "markdown",
   "id": "1e577884-b30a-4d62-aacf-943095e21497",
   "metadata": {},
   "source": [
    "# K-Fold Cross Validation"
   ]
  },
  {
   "cell_type": "code",
   "execution_count": 9,
   "id": "592160bd-ad85-49f1-bcc8-4cc0e4726a9e",
   "metadata": {},
   "outputs": [
    {
     "name": "stdout",
     "output_type": "stream",
     "text": [
      "(150, 4)\n",
      "[0 0 0 0 0 0 0 0 0 0 0 0 0 0 0 0 0 0 0 0 0 0 0 0 0 0 0 0 0 0 0 0 0 0 0 0 0\n",
      " 0 0 0 0 0 0 0 0 0 0 0 0 0 1 1 1 1 1 1 1 1 1 1 1 1 1 1 1 1 1 1 1 1 1 1 1 1\n",
      " 1 1 1 1 1 1 1 1 1 1 1 1 1 1 1 1 1 1 1 1 1 1 1 1 1 1 2 2 2 2 2 2 2 2 2 2 2\n",
      " 2 2 2 2 2 2 2 2 2 2 2 2 2 2 2 2 2 2 2 2 2 2 2 2 2 2 2 2 2 2 2 2 2 2 2 2 2\n",
      " 2 2]\n",
      "{0: 50, 1: 50, 2: 50}\n"
     ]
    }
   ],
   "source": [
    "print(iris.data.shape)\n",
    "print(iris.target)\n",
    "unique, counts = np.unique(iris.target, return_counts=True)\n",
    "print(dict(zip(unique, counts)))"
   ]
  },
  {
   "cell_type": "code",
   "execution_count": 12,
   "id": "1f69a6d9-576f-45bd-9c1b-17a55ccca25e",
   "metadata": {},
   "outputs": [
    {
     "name": "stdout",
     "output_type": "stream",
     "text": [
      "1번째 교차 검증 데이터 셋\n",
      "Train: [ 30  31  32  33  34  35  36  37  38  39  40  41  42  43  44  45  46  47\n",
      "  48  49  50  51  52  53  54  55  56  57  58  59  60  61  62  63  64  65\n",
      "  66  67  68  69  70  71  72  73  74  75  76  77  78  79  80  81  82  83\n",
      "  84  85  86  87  88  89  90  91  92  93  94  95  96  97  98  99 100 101\n",
      " 102 103 104 105 106 107 108 109 110 111 112 113 114 115 116 117 118 119\n",
      " 120 121 122 123 124 125 126 127 128 129 130 131 132 133 134 135 136 137\n",
      " 138 139 140 141 142 143 144 145 146 147 148 149]\n",
      "Test: [ 0  1  2  3  4  5  6  7  8  9 10 11 12 13 14 15 16 17 18 19 20 21 22 23\n",
      " 24 25 26 27 28 29]\n",
      "1번째 교차 검증 정확도:1.0\n",
      "2번째 교차 검증 데이터 셋\n",
      "Train: [  0   1   2   3   4   5   6   7   8   9  10  11  12  13  14  15  16  17\n",
      "  18  19  20  21  22  23  24  25  26  27  28  29  60  61  62  63  64  65\n",
      "  66  67  68  69  70  71  72  73  74  75  76  77  78  79  80  81  82  83\n",
      "  84  85  86  87  88  89  90  91  92  93  94  95  96  97  98  99 100 101\n",
      " 102 103 104 105 106 107 108 109 110 111 112 113 114 115 116 117 118 119\n",
      " 120 121 122 123 124 125 126 127 128 129 130 131 132 133 134 135 136 137\n",
      " 138 139 140 141 142 143 144 145 146 147 148 149]\n",
      "Test: [30 31 32 33 34 35 36 37 38 39 40 41 42 43 44 45 46 47 48 49 50 51 52 53\n",
      " 54 55 56 57 58 59]\n",
      "2번째 교차 검증 정확도:1.0\n",
      "3번째 교차 검증 데이터 셋\n",
      "Train: [  0   1   2   3   4   5   6   7   8   9  10  11  12  13  14  15  16  17\n",
      "  18  19  20  21  22  23  24  25  26  27  28  29  30  31  32  33  34  35\n",
      "  36  37  38  39  40  41  42  43  44  45  46  47  48  49  50  51  52  53\n",
      "  54  55  56  57  58  59  90  91  92  93  94  95  96  97  98  99 100 101\n",
      " 102 103 104 105 106 107 108 109 110 111 112 113 114 115 116 117 118 119\n",
      " 120 121 122 123 124 125 126 127 128 129 130 131 132 133 134 135 136 137\n",
      " 138 139 140 141 142 143 144 145 146 147 148 149]\n",
      "Test: [60 61 62 63 64 65 66 67 68 69 70 71 72 73 74 75 76 77 78 79 80 81 82 83\n",
      " 84 85 86 87 88 89]\n",
      "3번째 교차 검증 정확도:0.9\n",
      "4번째 교차 검증 데이터 셋\n",
      "Train: [  0   1   2   3   4   5   6   7   8   9  10  11  12  13  14  15  16  17\n",
      "  18  19  20  21  22  23  24  25  26  27  28  29  30  31  32  33  34  35\n",
      "  36  37  38  39  40  41  42  43  44  45  46  47  48  49  50  51  52  53\n",
      "  54  55  56  57  58  59  60  61  62  63  64  65  66  67  68  69  70  71\n",
      "  72  73  74  75  76  77  78  79  80  81  82  83  84  85  86  87  88  89\n",
      " 120 121 122 123 124 125 126 127 128 129 130 131 132 133 134 135 136 137\n",
      " 138 139 140 141 142 143 144 145 146 147 148 149]\n",
      "Test: [ 90  91  92  93  94  95  96  97  98  99 100 101 102 103 104 105 106 107\n",
      " 108 109 110 111 112 113 114 115 116 117 118 119]\n",
      "4번째 교차 검증 정확도:0.9333333333333333\n",
      "5번째 교차 검증 데이터 셋\n",
      "Train: [  0   1   2   3   4   5   6   7   8   9  10  11  12  13  14  15  16  17\n",
      "  18  19  20  21  22  23  24  25  26  27  28  29  30  31  32  33  34  35\n",
      "  36  37  38  39  40  41  42  43  44  45  46  47  48  49  50  51  52  53\n",
      "  54  55  56  57  58  59  60  61  62  63  64  65  66  67  68  69  70  71\n",
      "  72  73  74  75  76  77  78  79  80  81  82  83  84  85  86  87  88  89\n",
      "  90  91  92  93  94  95  96  97  98  99 100 101 102 103 104 105 106 107\n",
      " 108 109 110 111 112 113 114 115 116 117 118 119]\n",
      "Test: [120 121 122 123 124 125 126 127 128 129 130 131 132 133 134 135 136 137\n",
      " 138 139 140 141 142 143 144 145 146 147 148 149]\n",
      "5번째 교차 검증 정확도:0.7333333333333333\n",
      "\n",
      "평균 정확도:0.91\n"
     ]
    }
   ],
   "source": [
    "k_fold = KFold(n_splits=5)   # n_split = 교차 검증의 수 (몇 개로 나눌 것인가), default = 5\n",
    "x = iris.data\n",
    "y = iris.target\n",
    "k = 0   # 교차 검증 횟수\n",
    "cv_acc = []  # 교차 검증마다의 정확도 저장\n",
    "model = DecisionTreeClassifier(random_state=1)\n",
    "for train_idx, test_idx in k_fold.split(x):\n",
    "    k += 1\n",
    "    print(f'{k}번째 교차 검증 데이터 셋')\n",
    "    print('Train:', train_idx)\n",
    "    print('Test:', test_idx)\n",
    "    x_train, x_test = x[train_idx], x[test_idx]\n",
    "    y_train, y_test = y[train_idx], y[test_idx]\n",
    "\n",
    "    model.fit(x_train, y_train)\n",
    "    y_hat = model.predict(x_test)\n",
    "    acc = accuracy_score(y_test, y_hat)\n",
    "    print(f'{k}번째 교차 검증 정확도:{acc}')\n",
    "    cv_acc.append(acc)\n",
    "\n",
    "print()\n",
    "print(f'평균 정확도:{np.mean(cv_acc):.2f}')"
   ]
  },
  {
   "cell_type": "markdown",
   "id": "621dc4dd-c448-44e9-98c0-a28cbc9f5a9e",
   "metadata": {},
   "source": [
    "# Stratified K-Fold Cross Validaiton"
   ]
  },
  {
   "cell_type": "code",
   "execution_count": 14,
   "id": "30085901-9d9e-4bc6-a1ad-2b447fd2c4f7",
   "metadata": {},
   "outputs": [
    {
     "name": "stdout",
     "output_type": "stream",
     "text": [
      "1번째 교차 검증 데이터 셋\n",
      "Train: [ 10  11  12  13  14  15  16  17  18  19  20  21  22  23  24  25  26  27\n",
      "  28  29  30  31  32  33  34  35  36  37  38  39  40  41  42  43  44  45\n",
      "  46  47  48  49  60  61  62  63  64  65  66  67  68  69  70  71  72  73\n",
      "  74  75  76  77  78  79  80  81  82  83  84  85  86  87  88  89  90  91\n",
      "  92  93  94  95  96  97  98  99 110 111 112 113 114 115 116 117 118 119\n",
      " 120 121 122 123 124 125 126 127 128 129 130 131 132 133 134 135 136 137\n",
      " 138 139 140 141 142 143 144 145 146 147 148 149]\n",
      "Test: [  0   1   2   3   4   5   6   7   8   9  50  51  52  53  54  55  56  57\n",
      "  58  59 100 101 102 103 104 105 106 107 108 109]\n",
      "1번째 교차 검증 정확도:0.9666666666666667\n",
      "2번째 교차 검증 데이터 셋\n",
      "Train: [  0   1   2   3   4   5   6   7   8   9  20  21  22  23  24  25  26  27\n",
      "  28  29  30  31  32  33  34  35  36  37  38  39  40  41  42  43  44  45\n",
      "  46  47  48  49  50  51  52  53  54  55  56  57  58  59  70  71  72  73\n",
      "  74  75  76  77  78  79  80  81  82  83  84  85  86  87  88  89  90  91\n",
      "  92  93  94  95  96  97  98  99 100 101 102 103 104 105 106 107 108 109\n",
      " 120 121 122 123 124 125 126 127 128 129 130 131 132 133 134 135 136 137\n",
      " 138 139 140 141 142 143 144 145 146 147 148 149]\n",
      "Test: [ 10  11  12  13  14  15  16  17  18  19  60  61  62  63  64  65  66  67\n",
      "  68  69 110 111 112 113 114 115 116 117 118 119]\n",
      "2번째 교차 검증 정확도:0.9666666666666667\n",
      "3번째 교차 검증 데이터 셋\n",
      "Train: [  0   1   2   3   4   5   6   7   8   9  10  11  12  13  14  15  16  17\n",
      "  18  19  30  31  32  33  34  35  36  37  38  39  40  41  42  43  44  45\n",
      "  46  47  48  49  50  51  52  53  54  55  56  57  58  59  60  61  62  63\n",
      "  64  65  66  67  68  69  80  81  82  83  84  85  86  87  88  89  90  91\n",
      "  92  93  94  95  96  97  98  99 100 101 102 103 104 105 106 107 108 109\n",
      " 110 111 112 113 114 115 116 117 118 119 130 131 132 133 134 135 136 137\n",
      " 138 139 140 141 142 143 144 145 146 147 148 149]\n",
      "Test: [ 20  21  22  23  24  25  26  27  28  29  70  71  72  73  74  75  76  77\n",
      "  78  79 120 121 122 123 124 125 126 127 128 129]\n",
      "3번째 교차 검증 정확도:0.9\n",
      "4번째 교차 검증 데이터 셋\n",
      "Train: [  0   1   2   3   4   5   6   7   8   9  10  11  12  13  14  15  16  17\n",
      "  18  19  20  21  22  23  24  25  26  27  28  29  40  41  42  43  44  45\n",
      "  46  47  48  49  50  51  52  53  54  55  56  57  58  59  60  61  62  63\n",
      "  64  65  66  67  68  69  70  71  72  73  74  75  76  77  78  79  90  91\n",
      "  92  93  94  95  96  97  98  99 100 101 102 103 104 105 106 107 108 109\n",
      " 110 111 112 113 114 115 116 117 118 119 120 121 122 123 124 125 126 127\n",
      " 128 129 140 141 142 143 144 145 146 147 148 149]\n",
      "Test: [ 30  31  32  33  34  35  36  37  38  39  80  81  82  83  84  85  86  87\n",
      "  88  89 130 131 132 133 134 135 136 137 138 139]\n",
      "4번째 교차 검증 정확도:1.0\n",
      "5번째 교차 검증 데이터 셋\n",
      "Train: [  0   1   2   3   4   5   6   7   8   9  10  11  12  13  14  15  16  17\n",
      "  18  19  20  21  22  23  24  25  26  27  28  29  30  31  32  33  34  35\n",
      "  36  37  38  39  50  51  52  53  54  55  56  57  58  59  60  61  62  63\n",
      "  64  65  66  67  68  69  70  71  72  73  74  75  76  77  78  79  80  81\n",
      "  82  83  84  85  86  87  88  89 100 101 102 103 104 105 106 107 108 109\n",
      " 110 111 112 113 114 115 116 117 118 119 120 121 122 123 124 125 126 127\n",
      " 128 129 130 131 132 133 134 135 136 137 138 139]\n",
      "Test: [ 40  41  42  43  44  45  46  47  48  49  90  91  92  93  94  95  96  97\n",
      "  98  99 140 141 142 143 144 145 146 147 148 149]\n",
      "5번째 교차 검증 정확도:1.0\n",
      "\n",
      "평균 정확도:0.97\n"
     ]
    }
   ],
   "source": [
    "stf_k_fold = StratifiedKFold(n_splits=5)   # n_split = 교차 검증의 수 (몇 개로 나눌 것인가), default = 5\n",
    "x = iris.data\n",
    "y = iris.target\n",
    "k = 0   # 교차 검증 횟수\n",
    "cv_acc = []  # 교차 검증마다의 정확도 저장\n",
    "model = DecisionTreeClassifier(random_state=1)\n",
    "for train_idx, test_idx in stf_k_fold.split(x, y):   # 종속 변수도 포함\n",
    "    k += 1\n",
    "    print(f'{k}번째 교차 검증 데이터 셋')\n",
    "    print('Train:', train_idx)\n",
    "    print('Test:', test_idx)\n",
    "    x_train, x_test = x[train_idx], x[test_idx]\n",
    "    y_train, y_test = y[train_idx], y[test_idx]\n",
    "\n",
    "    model.fit(x_train, y_train)\n",
    "    y_hat = model.predict(x_test)\n",
    "    acc = accuracy_score(y_test, y_hat)\n",
    "    print(f'{k}번째 교차 검증 정확도:{acc}')\n",
    "    cv_acc.append(acc)\n",
    "\n",
    "print()\n",
    "print(f'평균 정확도:{np.mean(cv_acc):.2f}')"
   ]
  },
  {
   "cell_type": "markdown",
   "id": "de5ca3f8-ea93-45e9-a55b-e40918868f06",
   "metadata": {},
   "source": [
    "# cross_val_score()\n",
    "- estimator: 학습할 모델 객체\n",
    "- x: 독립변수 데이터 셋\n",
    "- y: 종속변수 데이터 셋\n",
    "- cv: 교차검증 k값 (default: 5), 또는 교차검증 클래스 객체"
   ]
  },
  {
   "cell_type": "code",
   "execution_count": 16,
   "id": "11b84936-b0a3-4eea-9021-48e74162d61f",
   "metadata": {},
   "outputs": [
    {
     "name": "stdout",
     "output_type": "stream",
     "text": [
      "score: [0.96666667 0.96666667 0.9        1.         1.        ]\n",
      "평균 정확도:0.97\n"
     ]
    }
   ],
   "source": [
    "score = cross_val_score(model, x, y)   # model = Decision~\n",
    "print('score:', score)\n",
    "print(f'평균 정확도:{np.mean(score):.2f}')"
   ]
  },
  {
   "cell_type": "markdown",
   "id": "bfdf3356-bdb9-4b7a-b581-dc392a1a2dc0",
   "metadata": {},
   "source": [
    "# cross_validate()\n",
    "- 매 검증마다 소요된 학습 시간과 검증 시간을 딕셔너리로 반환한다.\n",
    "- 여러 가지 평가 지표를 리스트 형태로 전달 가능"
   ]
  },
  {
   "cell_type": "code",
   "execution_count": 18,
   "id": "53c16bf4-8814-4e8c-a7a3-bf34ec564972",
   "metadata": {},
   "outputs": [
    {
     "name": "stdout",
     "output_type": "stream",
     "text": [
      "dict_keys(['explained_variance', 'r2', 'max_error', 'matthews_corrcoef', 'neg_median_absolute_error', 'neg_mean_absolute_error', 'neg_mean_absolute_percentage_error', 'neg_mean_squared_error', 'neg_mean_squared_log_error', 'neg_root_mean_squared_error', 'neg_mean_poisson_deviance', 'neg_mean_gamma_deviance', 'accuracy', 'top_k_accuracy', 'roc_auc', 'roc_auc_ovr', 'roc_auc_ovo', 'roc_auc_ovr_weighted', 'roc_auc_ovo_weighted', 'balanced_accuracy', 'average_precision', 'neg_log_loss', 'neg_brier_score', 'positive_likelihood_ratio', 'neg_negative_likelihood_ratio', 'adjusted_rand_score', 'rand_score', 'homogeneity_score', 'completeness_score', 'v_measure_score', 'mutual_info_score', 'adjusted_mutual_info_score', 'normalized_mutual_info_score', 'fowlkes_mallows_score', 'precision', 'precision_macro', 'precision_micro', 'precision_samples', 'precision_weighted', 'recall', 'recall_macro', 'recall_micro', 'recall_samples', 'recall_weighted', 'f1', 'f1_macro', 'f1_micro', 'f1_samples', 'f1_weighted', 'jaccard', 'jaccard_macro', 'jaccard_micro', 'jaccard_samples', 'jaccard_weighted'])\n"
     ]
    }
   ],
   "source": [
    "import sklearn\n",
    "print(sklearn.metrics.SCORERS.keys())"
   ]
  },
  {
   "cell_type": "code",
   "execution_count": 19,
   "id": "43fb2e99-6622-40d4-a626-3a7cc371aa2b",
   "metadata": {},
   "outputs": [
    {
     "name": "stdout",
     "output_type": "stream",
     "text": [
      "평가 지표: fit_time\n",
      "평균값:0.00\n",
      "------------------------------\n",
      "평가 지표: score_time\n",
      "평균값:0.01\n",
      "------------------------------\n",
      "평가 지표: test_accuracy\n",
      "평균값:0.97\n",
      "------------------------------\n",
      "평가 지표: test_precision_macro\n",
      "평균값:0.97\n",
      "------------------------------\n",
      "평가 지표: test_roc_auc_ovr\n",
      "평균값:0.97\n",
      "------------------------------\n"
     ]
    }
   ],
   "source": [
    "result = cross_validate(model, x, y, cv=5, scoring=['accuracy', 'precision_macro','roc_auc_ovr'])\n",
    "for key, val in result.items():\n",
    "    print('평가 지표:', key)\n",
    "    print(f'평균값:{np.mean(val):.2f}')\n",
    "    print('-'*30)"
   ]
  }
 ],
 "metadata": {
  "kernelspec": {
   "display_name": "Python 3 (ipykernel)",
   "language": "python",
   "name": "python3"
  },
  "language_info": {
   "codemirror_mode": {
    "name": "ipython",
    "version": 3
   },
   "file_extension": ".py",
   "mimetype": "text/x-python",
   "name": "python",
   "nbconvert_exporter": "python",
   "pygments_lexer": "ipython3",
   "version": "3.11.7"
  }
 },
 "nbformat": 4,
 "nbformat_minor": 5
}
