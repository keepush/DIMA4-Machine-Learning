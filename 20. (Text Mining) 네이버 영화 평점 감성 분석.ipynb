{
 "cells": [
  {
   "cell_type": "markdown",
   "id": "904bb4fe-1707-4205-823e-9b66da5828fa",
   "metadata": {},
   "source": [
    "# konlpy 모듈 테스트"
   ]
  },
  {
   "cell_type": "code",
   "execution_count": 8,
   "id": "22bd299c-5eed-47d6-aedb-f3cafb5929e5",
   "metadata": {},
   "outputs": [
    {
     "name": "stdout",
     "output_type": "stream",
     "text": [
      "철철철\tMAG,*,T,철철철,*,*,*,*\n",
      "!\tSF,*,*,*,*,*,*,*\n",
      "형\tNNG,*,T,형,*,*,*,*\n",
      "저\tMM,~명사,F,저,*,*,*,*\n",
      "병\tNNG,*,T,병,*,*,*,*\n",
      "쿵\tNNG,*,T,쿵,*,*,*,*\n",
      "인데요\tVCP+EF,*,F,인데요,Inflect,VCP,EF,이/VCP/*+ᆫ데요/EF/*\n",
      "!\tSF,*,*,*,*,*,*,*\n",
      "!!\tSY,*,*,*,*,*,*,*\n",
      "EOS\n",
      "\n"
     ]
    }
   ],
   "source": [
    "import MeCab\n",
    "m = MeCab.Tagger()\n",
    "print(m.parse('철철철! 형 저 병쿵인데요!!!'))"
   ]
  },
  {
   "cell_type": "code",
   "execution_count": 9,
   "id": "66b8aabf-3fa3-4598-ae88-9f1f4a54b057",
   "metadata": {},
   "outputs": [
    {
     "name": "stdout",
     "output_type": "stream",
     "text": [
      "['안녕', '하', '세요', '.', '의', '문세', '입니다', '.']\n"
     ]
    }
   ],
   "source": [
    "from konlpy.tag import Mecab\n",
    "mecab_tokenizer = Mecab(dicpath='c:/mecab/mecab-ko-dic/').morphs\n",
    "print(mecab_tokenizer('안녕하세요. 의문세 입니다.'))"
   ]
  },
  {
   "cell_type": "markdown",
   "id": "af30311a-06e4-4900-a0d6-aee5cbc80755",
   "metadata": {},
   "source": [
    "# 데이터 로딩 및 확인"
   ]
  },
  {
   "cell_type": "code",
   "execution_count": 36,
   "id": "b901cd69-1440-4222-b929-8a7fb7726a04",
   "metadata": {},
   "outputs": [
    {
     "data": {
      "text/html": [
       "<div>\n",
       "<style scoped>\n",
       "    .dataframe tbody tr th:only-of-type {\n",
       "        vertical-align: middle;\n",
       "    }\n",
       "\n",
       "    .dataframe tbody tr th {\n",
       "        vertical-align: top;\n",
       "    }\n",
       "\n",
       "    .dataframe thead th {\n",
       "        text-align: right;\n",
       "    }\n",
       "</style>\n",
       "<table border=\"1\" class=\"dataframe\">\n",
       "  <thead>\n",
       "    <tr style=\"text-align: right;\">\n",
       "      <th></th>\n",
       "      <th>id</th>\n",
       "      <th>document</th>\n",
       "      <th>label</th>\n",
       "    </tr>\n",
       "  </thead>\n",
       "  <tbody>\n",
       "    <tr>\n",
       "      <th>0</th>\n",
       "      <td>9976970</td>\n",
       "      <td>아 더빙.. 진짜 짜증나네요 목소리</td>\n",
       "      <td>0</td>\n",
       "    </tr>\n",
       "    <tr>\n",
       "      <th>1</th>\n",
       "      <td>3819312</td>\n",
       "      <td>흠...포스터보고 초딩영화줄....오버연기조차 가볍지 않구나</td>\n",
       "      <td>1</td>\n",
       "    </tr>\n",
       "    <tr>\n",
       "      <th>2</th>\n",
       "      <td>10265843</td>\n",
       "      <td>너무재밓었다그래서보는것을추천한다</td>\n",
       "      <td>0</td>\n",
       "    </tr>\n",
       "    <tr>\n",
       "      <th>3</th>\n",
       "      <td>9045019</td>\n",
       "      <td>교도소 이야기구먼 ..솔직히 재미는 없다..평점 조정</td>\n",
       "      <td>0</td>\n",
       "    </tr>\n",
       "    <tr>\n",
       "      <th>4</th>\n",
       "      <td>6483659</td>\n",
       "      <td>사이몬페그의 익살스런 연기가 돋보였던 영화!스파이더맨에서 늙어보이기만 했던 커스틴 ...</td>\n",
       "      <td>1</td>\n",
       "    </tr>\n",
       "  </tbody>\n",
       "</table>\n",
       "</div>"
      ],
      "text/plain": [
       "         id                                           document  label\n",
       "0   9976970                                아 더빙.. 진짜 짜증나네요 목소리      0\n",
       "1   3819312                  흠...포스터보고 초딩영화줄....오버연기조차 가볍지 않구나      1\n",
       "2  10265843                                  너무재밓었다그래서보는것을추천한다      0\n",
       "3   9045019                      교도소 이야기구먼 ..솔직히 재미는 없다..평점 조정      0\n",
       "4   6483659  사이몬페그의 익살스런 연기가 돋보였던 영화!스파이더맨에서 늙어보이기만 했던 커스틴 ...      1"
      ]
     },
     "metadata": {},
     "output_type": "display_data"
    }
   ],
   "source": [
    "import pandas as pd\n",
    "\n",
    "train_df = pd.read_csv('./dataset/ratings_train.txt', sep='\\t', encoding='utf-8')\n",
    "display(train_df.head())"
   ]
  },
  {
   "cell_type": "code",
   "execution_count": 37,
   "id": "646d12a5-e282-46b3-aa23-7b4b01c6bb09",
   "metadata": {},
   "outputs": [
    {
     "name": "stdout",
     "output_type": "stream",
     "text": [
      "(150000, 3)\n"
     ]
    }
   ],
   "source": [
    "print(train_df.shape)"
   ]
  },
  {
   "cell_type": "code",
   "execution_count": 38,
   "id": "8817dac6-8268-4c17-82dd-653c64a21c86",
   "metadata": {},
   "outputs": [
    {
     "name": "stdout",
     "output_type": "stream",
     "text": [
      "(50000, 3)\n"
     ]
    },
    {
     "data": {
      "text/html": [
       "<div>\n",
       "<style scoped>\n",
       "    .dataframe tbody tr th:only-of-type {\n",
       "        vertical-align: middle;\n",
       "    }\n",
       "\n",
       "    .dataframe tbody tr th {\n",
       "        vertical-align: top;\n",
       "    }\n",
       "\n",
       "    .dataframe thead th {\n",
       "        text-align: right;\n",
       "    }\n",
       "</style>\n",
       "<table border=\"1\" class=\"dataframe\">\n",
       "  <thead>\n",
       "    <tr style=\"text-align: right;\">\n",
       "      <th></th>\n",
       "      <th>id</th>\n",
       "      <th>document</th>\n",
       "      <th>label</th>\n",
       "    </tr>\n",
       "  </thead>\n",
       "  <tbody>\n",
       "    <tr>\n",
       "      <th>0</th>\n",
       "      <td>6270596</td>\n",
       "      <td>굳 ㅋ</td>\n",
       "      <td>1</td>\n",
       "    </tr>\n",
       "    <tr>\n",
       "      <th>1</th>\n",
       "      <td>9274899</td>\n",
       "      <td>GDNTOPCLASSINTHECLUB</td>\n",
       "      <td>0</td>\n",
       "    </tr>\n",
       "    <tr>\n",
       "      <th>2</th>\n",
       "      <td>8544678</td>\n",
       "      <td>뭐야 이 평점들은.... 나쁘진 않지만 10점 짜리는 더더욱 아니잖아</td>\n",
       "      <td>0</td>\n",
       "    </tr>\n",
       "    <tr>\n",
       "      <th>3</th>\n",
       "      <td>6825595</td>\n",
       "      <td>지루하지는 않은데 완전 막장임... 돈주고 보기에는....</td>\n",
       "      <td>0</td>\n",
       "    </tr>\n",
       "    <tr>\n",
       "      <th>4</th>\n",
       "      <td>6723715</td>\n",
       "      <td>3D만 아니었어도 별 다섯 개 줬을텐데.. 왜 3D로 나와서 제 심기를 불편하게 하죠??</td>\n",
       "      <td>0</td>\n",
       "    </tr>\n",
       "  </tbody>\n",
       "</table>\n",
       "</div>"
      ],
      "text/plain": [
       "        id                                           document  label\n",
       "0  6270596                                                굳 ㅋ      1\n",
       "1  9274899                               GDNTOPCLASSINTHECLUB      0\n",
       "2  8544678             뭐야 이 평점들은.... 나쁘진 않지만 10점 짜리는 더더욱 아니잖아      0\n",
       "3  6825595                   지루하지는 않은데 완전 막장임... 돈주고 보기에는....      0\n",
       "4  6723715  3D만 아니었어도 별 다섯 개 줬을텐데.. 왜 3D로 나와서 제 심기를 불편하게 하죠??      0"
      ]
     },
     "metadata": {},
     "output_type": "display_data"
    }
   ],
   "source": [
    "test_df = pd.read_csv('./dataset/ratings_test.txt', sep='\\t', encoding='utf-8')\n",
    "print(test_df.shape)\n",
    "display(test_df.head())"
   ]
  },
  {
   "cell_type": "code",
   "execution_count": 39,
   "id": "6ffb7d6f-8703-4969-9354-2a8cca82b7eb",
   "metadata": {},
   "outputs": [
    {
     "name": "stdout",
     "output_type": "stream",
     "text": [
      "label\n",
      "0    75173\n",
      "1    74827\n",
      "Name: count, dtype: int64\n"
     ]
    }
   ],
   "source": [
    "# 학습 데이터의 긍정/부정 비율 확인\n",
    "print(train_df['label'].value_counts())"
   ]
  },
  {
   "cell_type": "code",
   "execution_count": 40,
   "id": "f524a705-4b27-426f-b972-dc7ecbf5b962",
   "metadata": {},
   "outputs": [
    {
     "name": "stdout",
     "output_type": "stream",
     "text": [
      "id          0\n",
      "document    5\n",
      "label       0\n",
      "dtype: int64\n"
     ]
    }
   ],
   "source": [
    "# 결측치 확인\n",
    "print(train_df.isna().sum())"
   ]
  },
  {
   "cell_type": "code",
   "execution_count": 41,
   "id": "8b7b79f1-df67-4ca9-bf77-418f5804f1a7",
   "metadata": {},
   "outputs": [
    {
     "name": "stdout",
     "output_type": "stream",
     "text": [
      "label\n",
      "1    25173\n",
      "0    24827\n",
      "Name: count, dtype: int64\n"
     ]
    }
   ],
   "source": [
    "# 학습 데이터의 긍정/부정 비율 확인\n",
    "print(test_df['label'].value_counts())"
   ]
  },
  {
   "cell_type": "code",
   "execution_count": 42,
   "id": "8d5ac2e4-528b-4a2d-80bc-d80bdb4e4b15",
   "metadata": {},
   "outputs": [
    {
     "name": "stdout",
     "output_type": "stream",
     "text": [
      "id          0\n",
      "document    3\n",
      "label       0\n",
      "dtype: int64\n"
     ]
    }
   ],
   "source": [
    "# 결측치 확인\n",
    "print(test_df.isna().sum())"
   ]
  },
  {
   "cell_type": "markdown",
   "id": "5d255757-4af3-4b04-ac43-55b73db4aedb",
   "metadata": {},
   "source": [
    "# 데이터 전처리"
   ]
  },
  {
   "cell_type": "markdown",
   "id": "17d43da0-c3d5-4282-9b9d-3f7b1996f215",
   "metadata": {},
   "source": [
    "## 결측치 처리"
   ]
  },
  {
   "cell_type": "code",
   "execution_count": 43,
   "id": "e0b8e564-c008-4366-a4c8-cb7574518329",
   "metadata": {},
   "outputs": [],
   "source": [
    "train_df.dropna(inplace=True)\n",
    "test_df.dropna(inplace=True)"
   ]
  },
  {
   "cell_type": "markdown",
   "id": "4cdd1e63-3d29-40a7-a853-af18599accfa",
   "metadata": {},
   "source": [
    "## id 컬럼 삭제"
   ]
  },
  {
   "cell_type": "code",
   "execution_count": 44,
   "id": "5ff467ac-4566-4bce-a55b-4c152d1f4543",
   "metadata": {},
   "outputs": [],
   "source": [
    "train_df.drop('id', axis=1, inplace=True)\n",
    "test_df.drop('id', axis=1, inplace=True)"
   ]
  },
  {
   "cell_type": "markdown",
   "id": "898232b2-605a-4427-b398-e5bc5f9cc6de",
   "metadata": {},
   "source": [
    "# konlpy, Mecab을 이용한 단어 토큰화"
   ]
  },
  {
   "cell_type": "code",
   "execution_count": 45,
   "id": "c74a64c0-3c06-4bab-a3cd-342544f96119",
   "metadata": {},
   "outputs": [
    {
     "name": "stdout",
     "output_type": "stream",
     "text": [
      "['아 더 빙 . . 진짜 짜증 나 네요 목소리', '흠 . .. 포스터 보고 초딩 영화 줄 . ... 오버 연기 조차 가볍 지 않 구나', '너무 재 밓었다그래서보는것을추천한다', '교도소 이야기 구먼 . . 솔직히 재미 는 없 다 . . 평점 조정', '사이몬페그 의 익살 스런 연기 가 돋보였 던 영화 ! 스파이더맨 에서 늙 어 보이 기 만 했 던 커스틴 던스트 가 너무나 도 이뻐 보였 다']\n"
     ]
    }
   ],
   "source": [
    "from konlpy.tag import Mecab\n",
    "\n",
    "mecab = Mecab(dicpath='c:/mecab/mecab-ko-dic/')\n",
    "tokens = [mecab.morphs(text) for text in train_df['document']]\n",
    "tokens = list(map(lambda x: ' '.join(x), tokens))  # 단어 단위로 token된 것들을 공백으로 묶어 문장 만들어 리스트로 변환\n",
    "print(tokens[:5])"
   ]
  },
  {
   "cell_type": "markdown",
   "id": "468d01c2-a92d-47df-b699-e9127ee604e8",
   "metadata": {},
   "source": [
    "# KNU 한글 감성어 사전 로딩 "
   ]
  },
  {
   "cell_type": "code",
   "execution_count": 46,
   "id": "09392032-0fbc-4a0e-9003-f3bd0f59c0ea",
   "metadata": {},
   "outputs": [
    {
     "name": "stdout",
     "output_type": "stream",
     "text": [
      "(14843, 3)\n"
     ]
    },
    {
     "data": {
      "text/html": [
       "<div>\n",
       "<style scoped>\n",
       "    .dataframe tbody tr th:only-of-type {\n",
       "        vertical-align: middle;\n",
       "    }\n",
       "\n",
       "    .dataframe tbody tr th {\n",
       "        vertical-align: top;\n",
       "    }\n",
       "\n",
       "    .dataframe thead th {\n",
       "        text-align: right;\n",
       "    }\n",
       "</style>\n",
       "<table border=\"1\" class=\"dataframe\">\n",
       "  <thead>\n",
       "    <tr style=\"text-align: right;\">\n",
       "      <th></th>\n",
       "      <th>word</th>\n",
       "      <th>word_root</th>\n",
       "      <th>polarity</th>\n",
       "    </tr>\n",
       "  </thead>\n",
       "  <tbody>\n",
       "    <tr>\n",
       "      <th>13171</th>\n",
       "      <td>판단력을 잃다</td>\n",
       "      <td>판단력 잃</td>\n",
       "      <td>-1</td>\n",
       "    </tr>\n",
       "    <tr>\n",
       "      <th>10943</th>\n",
       "      <td>자주 사용되다</td>\n",
       "      <td>자주 사용</td>\n",
       "      <td>1</td>\n",
       "    </tr>\n",
       "    <tr>\n",
       "      <th>5241</th>\n",
       "      <td>반드럽다</td>\n",
       "      <td>반드럽</td>\n",
       "      <td>2</td>\n",
       "    </tr>\n",
       "    <tr>\n",
       "      <th>8406</th>\n",
       "      <td>아쉬워하는</td>\n",
       "      <td>아쉬워하</td>\n",
       "      <td>-1</td>\n",
       "    </tr>\n",
       "    <tr>\n",
       "      <th>2066</th>\n",
       "      <td>꺼리는 마음으로</td>\n",
       "      <td>꺼리 마음</td>\n",
       "      <td>-2</td>\n",
       "    </tr>\n",
       "  </tbody>\n",
       "</table>\n",
       "</div>"
      ],
      "text/plain": [
       "           word word_root polarity\n",
       "13171   판단력을 잃다     판단력 잃       -1\n",
       "10943   자주 사용되다     자주 사용        1\n",
       "5241       반드럽다       반드럽        2\n",
       "8406      아쉬워하는      아쉬워하       -1\n",
       "2066   꺼리는 마음으로     꺼리 마음       -2"
      ]
     },
     "metadata": {},
     "output_type": "display_data"
    }
   ],
   "source": [
    "import json\n",
    "import pandas as pd\n",
    "\n",
    "with open('./dataset/SentiWord_info.json', encoding='utf-8', mode='r') as f:\n",
    "    sentiword_info = json.load(f)\n",
    "sentiword_df = pd.DataFrame(sentiword_info)\n",
    "print(sentiword_df.shape)\n",
    "display(sentiword_df.sample(5))"
   ]
  },
  {
   "cell_type": "code",
   "execution_count": 47,
   "id": "0e67a4a8-c914-400a-b490-f12cd4991095",
   "metadata": {},
   "outputs": [
    {
     "name": "stdout",
     "output_type": "stream",
     "text": [
      "<class 'pandas.core.frame.DataFrame'>\n",
      "RangeIndex: 14843 entries, 0 to 14842\n",
      "Data columns (total 3 columns):\n",
      " #   Column     Non-Null Count  Dtype \n",
      "---  ------     --------------  ----- \n",
      " 0   word       14843 non-null  object\n",
      " 1   word_root  14843 non-null  object\n",
      " 2   polarity   14843 non-null  object\n",
      "dtypes: object(3)\n",
      "memory usage: 348.0+ KB\n",
      "None\n"
     ]
    }
   ],
   "source": [
    "print(sentiword_df.info())"
   ]
  },
  {
   "cell_type": "code",
   "execution_count": 48,
   "id": "8905368c-f1f0-4c6c-814d-e19fe5772937",
   "metadata": {},
   "outputs": [],
   "source": [
    "sentiword_df['polarity'] = sentiword_df['polarity'].astype(int)"
   ]
  },
  {
   "cell_type": "code",
   "execution_count": 49,
   "id": "a3ff054c-57fe-429f-a212-f69009918b66",
   "metadata": {},
   "outputs": [
    {
     "name": "stdout",
     "output_type": "stream",
     "text": [
      "감성 지수 최대값: 2\n",
      "감성 지수 최소값: -2\n",
      "감성 지수 평균값: -0.48258438321094116\n"
     ]
    }
   ],
   "source": [
    "print('감성 지수 최대값:', sentiword_df['polarity'].max())\n",
    "print('감성 지수 최소값:', sentiword_df['polarity'].min())\n",
    "print('감성 지수 평균값:', sentiword_df['polarity'].mean())"
   ]
  },
  {
   "cell_type": "code",
   "execution_count": 50,
   "id": "cb6ea9ff-16b5-4a9f-b9c5-7c3cf7d37f70",
   "metadata": {},
   "outputs": [
    {
     "name": "stdout",
     "output_type": "stream",
     "text": [
      "polarity\n",
      "-1    5029\n",
      "-2    4797\n",
      " 2    2597\n",
      " 1    2266\n",
      " 0     154\n",
      "Name: count, dtype: int64\n"
     ]
    }
   ],
   "source": [
    "print(sentiword_df['polarity'].value_counts())"
   ]
  },
  {
   "cell_type": "markdown",
   "id": "81ed496c-9eb6-4c4c-abba-a5e6777bba01",
   "metadata": {},
   "source": [
    "# 토큰화된 문장과 감성 사전 비교를 통한 감성 지수 산출"
   ]
  },
  {
   "cell_type": "code",
   "execution_count": 52,
   "id": "ca676c75-fe8b-453b-b836-60d2397cd0ba",
   "metadata": {},
   "outputs": [
    {
     "ename": "KeyboardInterrupt",
     "evalue": "",
     "output_type": "error",
     "traceback": [
      "\u001b[1;31m---------------------------------------------------------------------------\u001b[0m",
      "\u001b[1;31mKeyboardInterrupt\u001b[0m                         Traceback (most recent call last)",
      "Cell \u001b[1;32mIn[52], line 6\u001b[0m\n\u001b[0;32m      4\u001b[0m senti_score \u001b[38;5;241m=\u001b[39m \u001b[38;5;241m0\u001b[39m\n\u001b[0;32m      5\u001b[0m \u001b[38;5;28;01mfor\u001b[39;00m i \u001b[38;5;129;01min\u001b[39;00m \u001b[38;5;28mrange\u001b[39m(\u001b[38;5;28mlen\u001b[39m(sentiword_df)):\n\u001b[1;32m----> 6\u001b[0m     \u001b[38;5;28;01mif\u001b[39;00m sentiword_df[\u001b[38;5;124m'\u001b[39m\u001b[38;5;124mword\u001b[39m\u001b[38;5;124m'\u001b[39m][i] \u001b[38;5;129;01min\u001b[39;00m review:\n\u001b[0;32m      7\u001b[0m         senti_score \u001b[38;5;241m+\u001b[39m\u001b[38;5;241m=\u001b[39m sentiword_df[\u001b[38;5;124m'\u001b[39m\u001b[38;5;124mpolarity\u001b[39m\u001b[38;5;124m'\u001b[39m][i]\n\u001b[0;32m      8\u001b[0m sentiment_score\u001b[38;5;241m.\u001b[39mloc[idx] \u001b[38;5;241m=\u001b[39m [review, senti_score]\n",
      "File \u001b[1;32m~\\anaconda3\\Lib\\site-packages\\pandas\\core\\series.py:1018\u001b[0m, in \u001b[0;36mSeries.__getitem__\u001b[1;34m(self, key)\u001b[0m\n\u001b[0;32m   1016\u001b[0m \u001b[38;5;28;01mdef\u001b[39;00m \u001b[38;5;21m__getitem__\u001b[39m(\u001b[38;5;28mself\u001b[39m, key):\n\u001b[0;32m   1017\u001b[0m     check_dict_or_set_indexers(key)\n\u001b[1;32m-> 1018\u001b[0m     key \u001b[38;5;241m=\u001b[39m com\u001b[38;5;241m.\u001b[39mapply_if_callable(key, \u001b[38;5;28mself\u001b[39m)\n\u001b[0;32m   1020\u001b[0m     \u001b[38;5;28;01mif\u001b[39;00m key \u001b[38;5;129;01mis\u001b[39;00m \u001b[38;5;28mEllipsis\u001b[39m:\n\u001b[0;32m   1021\u001b[0m         \u001b[38;5;28;01mreturn\u001b[39;00m \u001b[38;5;28mself\u001b[39m\n",
      "File \u001b[1;32m~\\anaconda3\\Lib\\site-packages\\pandas\\core\\common.py:367\u001b[0m, in \u001b[0;36mapply_if_callable\u001b[1;34m(maybe_callable, obj, **kwargs)\u001b[0m\n\u001b[0;32m    360\u001b[0m     \u001b[38;5;66;03m# everything failed (probably because the argument\u001b[39;00m\n\u001b[0;32m    361\u001b[0m     \u001b[38;5;66;03m# wasn't actually callable); we return None\u001b[39;00m\n\u001b[0;32m    362\u001b[0m     \u001b[38;5;66;03m# instead of the empty string in this case to allow\u001b[39;00m\n\u001b[0;32m    363\u001b[0m     \u001b[38;5;66;03m# distinguishing between no name and a name of ''\u001b[39;00m\n\u001b[0;32m    364\u001b[0m     \u001b[38;5;28;01mreturn\u001b[39;00m \u001b[38;5;28;01mNone\u001b[39;00m\n\u001b[1;32m--> 367\u001b[0m \u001b[38;5;28;01mdef\u001b[39;00m \u001b[38;5;21mapply_if_callable\u001b[39m(maybe_callable, obj, \u001b[38;5;241m*\u001b[39m\u001b[38;5;241m*\u001b[39mkwargs):\n\u001b[0;32m    368\u001b[0m \u001b[38;5;250m    \u001b[39m\u001b[38;5;124;03m\"\"\"\u001b[39;00m\n\u001b[0;32m    369\u001b[0m \u001b[38;5;124;03m    Evaluate possibly callable input using obj and kwargs if it is callable,\u001b[39;00m\n\u001b[0;32m    370\u001b[0m \u001b[38;5;124;03m    otherwise return as it is.\u001b[39;00m\n\u001b[1;32m   (...)\u001b[0m\n\u001b[0;32m    376\u001b[0m \u001b[38;5;124;03m    **kwargs\u001b[39;00m\n\u001b[0;32m    377\u001b[0m \u001b[38;5;124;03m    \"\"\"\u001b[39;00m\n\u001b[0;32m    378\u001b[0m     \u001b[38;5;28;01mif\u001b[39;00m \u001b[38;5;28mcallable\u001b[39m(maybe_callable):\n",
      "\u001b[1;31mKeyboardInterrupt\u001b[0m: "
     ]
    }
   ],
   "source": [
    "sentiment_score = pd.DataFrame(columns=['review', 'sentiment_score'])\n",
    "idx = 0\n",
    "for review in tokens:\n",
    "    senti_score = 0\n",
    "    for i in range(len(sentiword_df)):\n",
    "        if sentiword_df['word'][i] in review:\n",
    "            senti_score += sentiword_df['polarity'][i]\n",
    "    sentiment_score.loc[idx] = [review, senti_score]\n",
    "    idx += 1"
   ]
  },
  {
   "cell_type": "markdown",
   "id": "a751718f-0bf5-4128-b12b-fef81f0791e4",
   "metadata": {},
   "source": [
    "# 리뷰 감성 값 DataFrame 저장"
   ]
  },
  {
   "cell_type": "code",
   "execution_count": 53,
   "id": "71804d8e-ba16-4f77-a491-7d0767bd85c4",
   "metadata": {},
   "outputs": [
    {
     "data": {
      "text/plain": [
       "['./sentiment_score.pkl']"
      ]
     },
     "execution_count": 53,
     "metadata": {},
     "output_type": "execute_result"
    }
   ],
   "source": [
    "import joblib\n",
    "joblib.dump(sentiment_score, './sentiment_score.pkl')"
   ]
  },
  {
   "cell_type": "code",
   "execution_count": 60,
   "id": "975400f5-9c69-407e-8c08-71a6da215887",
   "metadata": {},
   "outputs": [],
   "source": [
    "import joblib\n",
    "senti_score = joblib.load('./sentiment_score.pkl')"
   ]
  },
  {
   "cell_type": "code",
   "execution_count": 61,
   "id": "b0c13c2d-bd5c-4f61-b994-cce52953d0e6",
   "metadata": {},
   "outputs": [
    {
     "data": {
      "text/html": [
       "<div>\n",
       "<style scoped>\n",
       "    .dataframe tbody tr th:only-of-type {\n",
       "        vertical-align: middle;\n",
       "    }\n",
       "\n",
       "    .dataframe tbody tr th {\n",
       "        vertical-align: top;\n",
       "    }\n",
       "\n",
       "    .dataframe thead th {\n",
       "        text-align: right;\n",
       "    }\n",
       "</style>\n",
       "<table border=\"1\" class=\"dataframe\">\n",
       "  <thead>\n",
       "    <tr style=\"text-align: right;\">\n",
       "      <th></th>\n",
       "      <th>review</th>\n",
       "      <th>sentiment_score</th>\n",
       "    </tr>\n",
       "  </thead>\n",
       "  <tbody>\n",
       "    <tr>\n",
       "      <th>0</th>\n",
       "      <td>아 더 빙 . . 진짜 짜증 나 네요 목소리</td>\n",
       "      <td>-2</td>\n",
       "    </tr>\n",
       "    <tr>\n",
       "      <th>1</th>\n",
       "      <td>흠 . .. 포스터 보고 초딩 영화 줄 . ... 오버 연기 조차 가볍 지 않 구나</td>\n",
       "      <td>-2</td>\n",
       "    </tr>\n",
       "    <tr>\n",
       "      <th>2</th>\n",
       "      <td>너무 재 밓었다그래서보는것을추천한다</td>\n",
       "      <td>-1</td>\n",
       "    </tr>\n",
       "    <tr>\n",
       "      <th>3</th>\n",
       "      <td>교도소 이야기 구먼 . . 솔직히 재미 는 없 다 . . 평점 조정</td>\n",
       "      <td>3</td>\n",
       "    </tr>\n",
       "    <tr>\n",
       "      <th>4</th>\n",
       "      <td>사이몬페그 의 익살 스런 연기 가 돋보였 던 영화 ! 스파이더맨 에서 늙 어 보이 ...</td>\n",
       "      <td>-2</td>\n",
       "    </tr>\n",
       "  </tbody>\n",
       "</table>\n",
       "</div>"
      ],
      "text/plain": [
       "                                              review  sentiment_score\n",
       "0                           아 더 빙 . . 진짜 짜증 나 네요 목소리               -2\n",
       "1     흠 . .. 포스터 보고 초딩 영화 줄 . ... 오버 연기 조차 가볍 지 않 구나               -2\n",
       "2                                너무 재 밓었다그래서보는것을추천한다               -1\n",
       "3              교도소 이야기 구먼 . . 솔직히 재미 는 없 다 . . 평점 조정                3\n",
       "4  사이몬페그 의 익살 스런 연기 가 돋보였 던 영화 ! 스파이더맨 에서 늙 어 보이 ...               -2"
      ]
     },
     "metadata": {},
     "output_type": "display_data"
    },
    {
     "name": "stdout",
     "output_type": "stream",
     "text": [
      "(149995, 2)\n"
     ]
    }
   ],
   "source": [
    "display(senti_score.head())\n",
    "print(senti_score.shape)"
   ]
  },
  {
   "cell_type": "code",
   "execution_count": 63,
   "id": "4f502492-eff0-4705-9d52-660db1d720fc",
   "metadata": {},
   "outputs": [
    {
     "data": {
      "image/png": "[encoded data removed]",
      "text/plain": [
       "<Figure size 640x480 with 1 Axes>"
      ]
     },
     "metadata": {},
     "output_type": "display_data"
    }
   ],
   "source": [
    "import seaborn as sns\n",
    "import matplotlib.pyplot as plt\n",
    "\n",
    "sns.violinplot(data=senti_score, y='sentiment_score')\n",
    "plt.show()"
   ]
  },
  {
   "cell_type": "markdown",
   "id": "552d0195-c45a-46c8-ad57-8389e1678652",
   "metadata": {},
   "source": [
    "# 감성 값 긍/부정 레이블 값으로 치환\n",
    "- 감성 값이 임계치 이상인 경우는 긍정으로, 미만인 경우에는 부정의 값을 갖는 label로 치환"
   ]
  },
  {
   "cell_type": "code",
   "execution_count": 64,
   "id": "53e475b9-b5dd-4601-ac2e-4ebe6deb11b3",
   "metadata": {},
   "outputs": [],
   "source": [
    "senti_score['label'] = senti_score['sentiment_score'].map(lambda x: 1 if x >= 0 else 0)"
   ]
  },
  {
   "cell_type": "code",
   "execution_count": 65,
   "id": "4fae5ff1-88c4-4718-b344-e667a3d04244",
   "metadata": {},
   "outputs": [
    {
     "name": "stdout",
     "output_type": "stream",
     "text": [
      "label\n",
      "1    84501\n",
      "0    65494\n",
      "Name: count, dtype: int64\n"
     ]
    }
   ],
   "source": [
    "print(senti_score['label'].value_counts())"
   ]
  },
  {
   "cell_type": "markdown",
   "id": "c1c8ed8f-ecf5-4696-bb5f-1b9bf5e61c27",
   "metadata": {},
   "source": [
    "# 모델 성능 평가"
   ]
  },
  {
   "cell_type": "code",
   "execution_count": 67,
   "id": "ce5d966d-7e4c-42e6-84e6-794485932c85",
   "metadata": {},
   "outputs": [
    {
     "name": "stdout",
     "output_type": "stream",
     "text": [
      "[[38589 36581]\n",
      " [26905 47920]]\n",
      "정확도:0.577\n"
     ]
    }
   ],
   "source": [
    "from sklearn.metrics import confusion_matrix, accuracy_score\n",
    "\n",
    "y_target = train_df['label']\n",
    "y_hat = senti_score['label']\n",
    "cm = confusion_matrix(y_target, y_hat)\n",
    "print(cm)\n",
    "print(f'정확도:{accuracy_score(y_target, y_hat):.3f}')"
   ]
  },
  {
   "cell_type": "markdown",
   "id": "e1a21dd5-3dd5-43a0-8545-c7ba0d6ff7b2",
   "metadata": {},
   "source": [
    "# 추가 분석 사항\n",
    "- 한글을 제외한 다른 문자는 제거 (정규 표현식 사용 'ㄱ-ㅎ') -> 제거 결과 아무런 값도 남지 않은 레코드 확인 -> 해당 레코드 삭제\n",
    "- 불용어 제거: 한글 불용어 사전은 별도로 구성 필요"
   ]
  },
  {
   "cell_type": "code",
   "execution_count": null,
   "id": "343db04c-4198-4409-9557-2707ef534bfd",
   "metadata": {},
   "outputs": [],
   "source": []
  }
 ],
 "metadata": {
  "kernelspec": {
   "display_name": "Python 3 (ipykernel)",
   "language": "python",
   "name": "python3"
  },
  "language_info": {
   "codemirror_mode": {
    "name": "ipython",
    "version": 3
   },
   "file_extension": ".py",
   "mimetype": "text/x-python",
   "name": "python",
   "nbconvert_exporter": "python",
   "pygments_lexer": "ipython3",
   "version": "3.11.7"
  }
 },
 "nbformat": 4,
 "nbformat_minor": 5
}
