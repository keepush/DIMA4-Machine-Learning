{
 "cells": [
  {
   "cell_type": "markdown",
   "id": "c7c68bf7-e29f-4192-acdd-dc85208e35ae",
   "metadata": {},
   "source": [
    "# 붓꽃 판별"
   ]
  },
  {
   "cell_type": "markdown",
   "id": "1f0eb2ec-b52d-4a54-9dd7-bec54c9afcf9",
   "metadata": {},
   "source": [
    "## 패키지 로딩"
   ]
  },
  {
   "cell_type": "code",
   "execution_count": 1,
   "id": "906b7100-74a5-46c7-989e-02c0e31e4cd0",
   "metadata": {},
   "outputs": [],
   "source": [
    "import numpy as np\n",
    "import pandas as pd\n",
    "from sklearn.linear_model import LogisticRegression\n",
    "from sklearn.datasets import load_iris\n",
    "from sklearn.model_selection import train_test_split\n",
    "from sklearn.metrics import accuracy_score, f1_score, precision_score, confusion_matrix, classification_report, roc_auc_score"
   ]
  },
  {
   "cell_type": "markdown",
   "id": "307cf655-935e-42da-8d0e-d67bfb6bdaaa",
   "metadata": {},
   "source": [
    "## 데이터 로드 및 확인"
   ]
  },
  {
   "cell_type": "code",
   "execution_count": 2,
   "id": "93c85f7f-bbce-445a-bfd9-8e3ced140868",
   "metadata": {},
   "outputs": [
    {
     "name": "stdout",
     "output_type": "stream",
     "text": [
      "(150, 4)\n"
     ]
    }
   ],
   "source": [
    "iris = load_iris()\n",
    "x = iris.data\n",
    "y = iris.target\n",
    "print(x.shape)"
   ]
  },
  {
   "cell_type": "markdown",
   "id": "4a668e01-e4cb-4eeb-b9b4-01c21dd09457",
   "metadata": {},
   "source": [
    "## 학습 데이터/평가 데이터 분석"
   ]
  },
  {
   "cell_type": "code",
   "execution_count": 3,
   "id": "cd810918-88d6-4eef-b31c-a6e59ed35d2e",
   "metadata": {},
   "outputs": [],
   "source": [
    "x_train, x_test, y_train, y_test = train_test_split(x, y, train_size=0.8,random_state=10, stratify=y)"
   ]
  },
  {
   "cell_type": "code",
   "execution_count": 4,
   "id": "0677927b-c03d-4f62-88fd-d41f3f840190",
   "metadata": {},
   "outputs": [
    {
     "name": "stdout",
     "output_type": "stream",
     "text": [
      "y의 클래스별 데이터: [50 50 50]\n",
      "y_train의 클래스별 데이터: [40 40 40]\n",
      "y_test의 클래스별 데이터: [10 10 10]\n"
     ]
    }
   ],
   "source": [
    "print('y의 클래스별 데이터:', np.bincount(y))  # bincount = value.count와 비슷, 데이터별 빈도 수 체크\n",
    "print('y_train의 클래스별 데이터:', np.bincount(y_train))\n",
    "print('y_test의 클래스별 데이터:', np.bincount(y_test))"
   ]
  },
  {
   "cell_type": "markdown",
   "id": "97d2bc11-2efd-4631-8250-1012acbf782e",
   "metadata": {},
   "source": [
    "## 모델 생성\n",
    "- multi-class: 다중분류 문제를 처리하기 위한 방식 지정\n",
    ">- solver가 liblinear로 지정된 경우에는 one-versus-rest(ovr) 방식으로 제한된다."
   ]
  },
  {
   "cell_type": "code",
   "execution_count": 5,
   "id": "b29a6383-cfc9-407f-aa83-bddf76057350",
   "metadata": {},
   "outputs": [
    {
     "data": {
      "text/html": [
       "<style>#sk-container-id-1 {color: black;background-color: white;}#sk-container-id-1 pre{padding: 0;}#sk-container-id-1 div.sk-toggleable {background-color: white;}#sk-container-id-1 label.sk-toggleable__label {cursor: pointer;display: block;width: 100%;margin-bottom: 0;padding: 0.3em;box-sizing: border-box;text-align: center;}#sk-container-id-1 label.sk-toggleable__label-arrow:before {content: \"▸\";float: left;margin-right: 0.25em;color: #696969;}#sk-container-id-1 label.sk-toggleable__label-arrow:hover:before {color: black;}#sk-container-id-1 div.sk-estimator:hover label.sk-toggleable__label-arrow:before {color: black;}#sk-container-id-1 div.sk-toggleable__content {max-height: 0;max-width: 0;overflow: hidden;text-align: left;background-color: #f0f8ff;}#sk-container-id-1 div.sk-toggleable__content pre {margin: 0.2em;color: black;border-radius: 0.25em;background-color: #f0f8ff;}#sk-container-id-1 input.sk-toggleable__control:checked~div.sk-toggleable__content {max-height: 200px;max-width: 100%;overflow: auto;}#sk-container-id-1 input.sk-toggleable__control:checked~label.sk-toggleable__label-arrow:before {content: \"▾\";}#sk-container-id-1 div.sk-estimator input.sk-toggleable__control:checked~label.sk-toggleable__label {background-color: #d4ebff;}#sk-container-id-1 div.sk-label input.sk-toggleable__control:checked~label.sk-toggleable__label {background-color: #d4ebff;}#sk-container-id-1 input.sk-hidden--visually {border: 0;clip: rect(1px 1px 1px 1px);clip: rect(1px, 1px, 1px, 1px);height: 1px;margin: -1px;overflow: hidden;padding: 0;position: absolute;width: 1px;}#sk-container-id-1 div.sk-estimator {font-family: monospace;background-color: #f0f8ff;border: 1px dotted black;border-radius: 0.25em;box-sizing: border-box;margin-bottom: 0.5em;}#sk-container-id-1 div.sk-estimator:hover {background-color: #d4ebff;}#sk-container-id-1 div.sk-parallel-item::after {content: \"\";width: 100%;border-bottom: 1px solid gray;flex-grow: 1;}#sk-container-id-1 div.sk-label:hover label.sk-toggleable__label {background-color: #d4ebff;}#sk-container-id-1 div.sk-serial::before {content: \"\";position: absolute;border-left: 1px solid gray;box-sizing: border-box;top: 0;bottom: 0;left: 50%;z-index: 0;}#sk-container-id-1 div.sk-serial {display: flex;flex-direction: column;align-items: center;background-color: white;padding-right: 0.2em;padding-left: 0.2em;position: relative;}#sk-container-id-1 div.sk-item {position: relative;z-index: 1;}#sk-container-id-1 div.sk-parallel {display: flex;align-items: stretch;justify-content: center;background-color: white;position: relative;}#sk-container-id-1 div.sk-item::before, #sk-container-id-1 div.sk-parallel-item::before {content: \"\";position: absolute;border-left: 1px solid gray;box-sizing: border-box;top: 0;bottom: 0;left: 50%;z-index: -1;}#sk-container-id-1 div.sk-parallel-item {display: flex;flex-direction: column;z-index: 1;position: relative;background-color: white;}#sk-container-id-1 div.sk-parallel-item:first-child::after {align-self: flex-end;width: 50%;}#sk-container-id-1 div.sk-parallel-item:last-child::after {align-self: flex-start;width: 50%;}#sk-container-id-1 div.sk-parallel-item:only-child::after {width: 0;}#sk-container-id-1 div.sk-dashed-wrapped {border: 1px dashed gray;margin: 0 0.4em 0.5em 0.4em;box-sizing: border-box;padding-bottom: 0.4em;background-color: white;}#sk-container-id-1 div.sk-label label {font-family: monospace;font-weight: bold;display: inline-block;line-height: 1.2em;}#sk-container-id-1 div.sk-label-container {text-align: center;}#sk-container-id-1 div.sk-container {/* jupyter's `normalize.less` sets `[hidden] { display: none; }` but bootstrap.min.css set `[hidden] { display: none !important; }` so we also need the `!important` here to be able to override the default hidden behavior on the sphinx rendered scikit-learn.org. See: https://github.com/scikit-learn/scikit-learn/issues/21755 */display: inline-block !important;position: relative;}#sk-container-id-1 div.sk-text-repr-fallback {display: none;}</style><div id=\"sk-container-id-1\" class=\"sk-top-container\"><div class=\"sk-text-repr-fallback\"><pre>LogisticRegression(max_iter=2000, multi_class=&#x27;ovr&#x27;, solver=&#x27;liblinear&#x27;)</pre><b>In a Jupyter environment, please rerun this cell to show the HTML representation or trust the notebook. <br />On GitHub, the HTML representation is unable to render, please try loading this page with nbviewer.org.</b></div><div class=\"sk-container\" hidden><div class=\"sk-item\"><div class=\"sk-estimator sk-toggleable\"><input class=\"sk-toggleable__control sk-hidden--visually\" id=\"sk-estimator-id-1\" type=\"checkbox\" checked><label for=\"sk-estimator-id-1\" class=\"sk-toggleable__label sk-toggleable__label-arrow\">LogisticRegression</label><div class=\"sk-toggleable__content\"><pre>LogisticRegression(max_iter=2000, multi_class=&#x27;ovr&#x27;, solver=&#x27;liblinear&#x27;)</pre></div></div></div></div></div>"
      ],
      "text/plain": [
       "LogisticRegression(max_iter=2000, multi_class='ovr', solver='liblinear')"
      ]
     },
     "execution_count": 5,
     "metadata": {},
     "output_type": "execute_result"
    }
   ],
   "source": [
    "model = LogisticRegression(solver='liblinear', multi_class='ovr', max_iter=2000)   # max_iter = 결과 출력 위한 반복 횟수\n",
    "model.fit(x_train, y_train)"
   ]
  },
  {
   "cell_type": "markdown",
   "id": "a5dc6aad-be7d-4902-a847-9d74f12d0ce1",
   "metadata": {},
   "source": [
    "## 모델 예측"
   ]
  },
  {
   "cell_type": "code",
   "execution_count": 6,
   "id": "0d6a7d48-f0b8-4ce7-987b-55af7b169a4e",
   "metadata": {},
   "outputs": [
    {
     "name": "stdout",
     "output_type": "stream",
     "text": [
      "['setosa' 'versicolor' 'virginica']\n"
     ]
    }
   ],
   "source": [
    "print(iris.target_names)"
   ]
  },
  {
   "cell_type": "code",
   "execution_count": 7,
   "id": "18462268-49c6-417c-a2f6-9d99ad7c9038",
   "metadata": {},
   "outputs": [
    {
     "name": "stdout",
     "output_type": "stream",
     "text": [
      "[1 0 2 2 1]\n"
     ]
    }
   ],
   "source": [
    "y_hat = model.predict(x_test)\n",
    "print(y_hat[:5])"
   ]
  },
  {
   "cell_type": "code",
   "execution_count": 9,
   "id": "56bccbf6-024c-4e87-bdaa-a8176cba1cc5",
   "metadata": {},
   "outputs": [
    {
     "name": "stdout",
     "output_type": "stream",
     "text": [
      "[[0.015 0.548 0.437]\n",
      " [0.902 0.097 0.   ]\n",
      " [0.014 0.348 0.638]\n",
      " [0.005 0.395 0.601]\n",
      " [0.129 0.723 0.149]]\n"
     ]
    }
   ],
   "source": [
    "# 예측 확률 값 찍기\n",
    "prob = model.predict_proba(x_test)\n",
    "print(np.round(prob[:5],3))"
   ]
  },
  {
   "cell_type": "code",
   "execution_count": 10,
   "id": "ff68fb91-acaf-4269-a6ba-533acb1ee6c1",
   "metadata": {},
   "outputs": [
    {
     "name": "stdout",
     "output_type": "stream",
     "text": [
      "[1. 1. 1. 1. 1.]\n"
     ]
    }
   ],
   "source": [
    "# 확률의 모든 합 = 1\n",
    "print(np.sum(prob[:5], axis=1))"
   ]
  },
  {
   "cell_type": "markdown",
   "id": "715241c5-2795-4845-9610-e08f967543d3",
   "metadata": {},
   "source": [
    "## 모델 평가\n",
    "- 다중 클래스의 분류의 경우, average 속성에 집계 방식(macro, micro, weight) 지정해야 함"
   ]
  },
  {
   "cell_type": "code",
   "execution_count": 11,
   "id": "9055159e-9270-49ec-89c9-03f235700157",
   "metadata": {},
   "outputs": [
    {
     "name": "stdout",
     "output_type": "stream",
     "text": [
      "정확도:0.967\n",
      "정밀도:0.970\n",
      "F1-Score:0.967\n"
     ]
    }
   ],
   "source": [
    "# 다른 것들은 괜찮지만 다지분류의 roc는 유의해야 함\n",
    "\n",
    "print(f'정확도:{accuracy_score(y_test, y_hat):.3f}')\n",
    "print(f'정밀도:{precision_score(y_test, y_hat, average=\"macro\"):.3f}')\n",
    "print(f'F1-Score:{f1_score(y_test, y_hat, average=\"micro\"):.3f}')"
   ]
  },
  {
   "cell_type": "markdown",
   "id": "f1e7fbc9-e7a3-4630-8c32-b0222ef38535",
   "metadata": {},
   "source": [
    "- 다중 클래스 분류의 ROC\n",
    ">- ROC 곡선은 일반적으로 TPR과 FPR을 명확하게 정의할 수 있는 이진 분류에 사용된다.\n",
    ">- 다중 클래스 분류의 경우 출력을 이진화한 후에만 TPR과 FPR의 값을 얻을 수 있다.\n",
    ">- 따라서 이 작업은 One-vs-Rest 또는 One-vs-One 두 가지 방법으로 수행할 수 있다."
   ]
  },
  {
   "cell_type": "code",
   "execution_count": 12,
   "id": "c4e6b75c-5a57-4811-812c-75a5b1489b87",
   "metadata": {},
   "outputs": [
    {
     "name": "stdout",
     "output_type": "stream",
     "text": [
      "AUC:0.988\n"
     ]
    }
   ],
   "source": [
    "auc = roc_auc_score(y_test, model.predict_proba(x_test), multi_class='ovr')  # 전체 예측 확률값 넣어 줌\n",
    "print(f'AUC:{auc:.3f}')"
   ]
  },
  {
   "cell_type": "code",
   "execution_count": 31,
   "id": "605a148a-6126-4f72-a3eb-25b78ad07167",
   "metadata": {},
   "outputs": [
    {
     "name": "stdout",
     "output_type": "stream",
     "text": [
      "              precision    recall  f1-score   support\n",
      "\n",
      "           0       1.00      1.00      1.00        10\n",
      "           1       1.00      0.90      0.95        10\n",
      "           2       0.91      1.00      0.95        10\n",
      "\n",
      "    accuracy                           0.97        30\n",
      "   macro avg       0.97      0.97      0.97        30\n",
      "weighted avg       0.97      0.97      0.97        30\n",
      "\n"
     ]
    }
   ],
   "source": [
    "report = classification_report(y_test, y_hat)\n",
    "print(report)    # support = 샘플 개수"
   ]
  },
  {
   "cell_type": "markdown",
   "id": "1624a178-5c03-4566-a1b8-fc917044515f",
   "metadata": {},
   "source": [
    "## 다중 클래스 혼동행렬 시각화"
   ]
  },
  {
   "cell_type": "code",
   "execution_count": 35,
   "id": "e9f755bf-0271-4984-b89c-938ec49a15fd",
   "metadata": {},
   "outputs": [
    {
     "name": "stdout",
     "output_type": "stream",
     "text": [
      "Requirement already satisfied: seaborn in c:\\users\\user\\anaconda3\\lib\\site-packages (0.13.2)\n",
      "Requirement already satisfied: numpy!=1.24.0,>=1.20 in c:\\users\\user\\anaconda3\\lib\\site-packages (from seaborn) (1.26.4)\n",
      "Requirement already satisfied: pandas>=1.2 in c:\\users\\user\\anaconda3\\lib\\site-packages (from seaborn) (2.1.4)\n",
      "Requirement already satisfied: matplotlib!=3.6.1,>=3.4 in c:\\users\\user\\anaconda3\\lib\\site-packages (from seaborn) (3.8.0)\n",
      "Requirement already satisfied: contourpy>=1.0.1 in c:\\users\\user\\anaconda3\\lib\\site-packages (from matplotlib!=3.6.1,>=3.4->seaborn) (1.2.0)\n",
      "Requirement already satisfied: cycler>=0.10 in c:\\users\\user\\anaconda3\\lib\\site-packages (from matplotlib!=3.6.1,>=3.4->seaborn) (0.11.0)\n",
      "Requirement already satisfied: fonttools>=4.22.0 in c:\\users\\user\\anaconda3\\lib\\site-packages (from matplotlib!=3.6.1,>=3.4->seaborn) (4.25.0)\n",
      "Requirement already satisfied: kiwisolver>=1.0.1 in c:\\users\\user\\anaconda3\\lib\\site-packages (from matplotlib!=3.6.1,>=3.4->seaborn) (1.4.4)\n",
      "Requirement already satisfied: packaging>=20.0 in c:\\users\\user\\anaconda3\\lib\\site-packages (from matplotlib!=3.6.1,>=3.4->seaborn) (23.1)\n",
      "Requirement already satisfied: pillow>=6.2.0 in c:\\users\\user\\anaconda3\\lib\\site-packages (from matplotlib!=3.6.1,>=3.4->seaborn) (10.2.0)\n",
      "Requirement already satisfied: pyparsing>=2.3.1 in c:\\users\\user\\anaconda3\\lib\\site-packages (from matplotlib!=3.6.1,>=3.4->seaborn) (3.0.9)\n",
      "Requirement already satisfied: python-dateutil>=2.7 in c:\\users\\user\\anaconda3\\lib\\site-packages (from matplotlib!=3.6.1,>=3.4->seaborn) (2.8.2)\n",
      "Requirement already satisfied: pytz>=2020.1 in c:\\users\\user\\anaconda3\\lib\\site-packages (from pandas>=1.2->seaborn) (2023.3.post1)\n",
      "Requirement already satisfied: tzdata>=2022.1 in c:\\users\\user\\anaconda3\\lib\\site-packages (from pandas>=1.2->seaborn) (2023.3)\n",
      "Requirement already satisfied: six>=1.5 in c:\\users\\user\\anaconda3\\lib\\site-packages (from python-dateutil>=2.7->matplotlib!=3.6.1,>=3.4->seaborn) (1.16.0)\n"
     ]
    }
   ],
   "source": [
    "!pip install seaborn --upgrade"
   ]
  },
  {
   "cell_type": "code",
   "execution_count": 13,
   "id": "f379ef05-3103-4883-a033-9f7d89727d70",
   "metadata": {},
   "outputs": [
    {
     "data": {
      "image/png": "[encoded data removed]",
      "text/plain": [
       "<Figure size 640x480 with 2 Axes>"
      ]
     },
     "metadata": {},
     "output_type": "display_data"
    }
   ],
   "source": [
    "import seaborn as sns\n",
    "import matplotlib.pyplot as plt\n",
    "\n",
    "sns.heatmap(confusion_matrix(y_test, y_hat), annot=True, fmt='.3f', linewidths=1)\n",
    "plt.xlabel('Actual')\n",
    "plt.ylabel('Predict')\n",
    "plt.show()"
   ]
  },
  {
   "cell_type": "markdown",
   "id": "7a679c33-ad9f-4d8f-b5e0-79f1f8b01c17",
   "metadata": {},
   "source": [
    "## 하이퍼 파라메터 튜닝"
   ]
  },
  {
   "cell_type": "code",
   "execution_count": 18,
   "id": "99482798-55b4-4e74-bef2-df7714fd282f",
   "metadata": {},
   "outputs": [
    {
     "name": "stdout",
     "output_type": "stream",
     "text": [
      "최적 파라메터: {'C': 1, 'multi_class': 'multinomial', 'solver': 'sag'}\n",
      "최적 정확도: 0.9800000000000001\n"
     ]
    },
    {
     "name": "stderr",
     "output_type": "stream",
     "text": [
      "C:\\Users\\user\\anaconda3\\Lib\\site-packages\\sklearn\\model_selection\\_validation.py:378: FitFailedWarning: \n",
      "30 fits failed out of a total of 300.\n",
      "The score on these train-test partitions for these parameters will be set to nan.\n",
      "If these failures are not expected, you can try to debug them by setting error_score='raise'.\n",
      "\n",
      "Below are more details about the failures:\n",
      "--------------------------------------------------------------------------------\n",
      "30 fits failed with the following error:\n",
      "Traceback (most recent call last):\n",
      "  File \"C:\\Users\\user\\anaconda3\\Lib\\site-packages\\sklearn\\model_selection\\_validation.py\", line 686, in _fit_and_score\n",
      "    estimator.fit(X_train, y_train, **fit_params)\n",
      "  File \"C:\\Users\\user\\anaconda3\\Lib\\site-packages\\sklearn\\linear_model\\_logistic.py\", line 1207, in fit\n",
      "    multi_class = _check_multi_class(self.multi_class, solver, len(self.classes_))\n",
      "                  ^^^^^^^^^^^^^^^^^^^^^^^^^^^^^^^^^^^^^^^^^^^^^^^^^^^^^^^^^^^^^^^^\n",
      "  File \"C:\\Users\\user\\anaconda3\\Lib\\site-packages\\sklearn\\linear_model\\_logistic.py\", line 90, in _check_multi_class\n",
      "    raise ValueError(\"Solver %s does not support a multinomial backend.\" % solver)\n",
      "ValueError: Solver liblinear does not support a multinomial backend.\n",
      "\n",
      "  warnings.warn(some_fits_failed_message, FitFailedWarning)\n",
      "C:\\Users\\user\\anaconda3\\Lib\\site-packages\\sklearn\\model_selection\\_search.py:952: UserWarning: One or more of the test scores are non-finite: [0.79333333 0.79333333 0.79333333 0.78666667 0.66666667 0.86\n",
      " 0.86       0.86       0.86              nan 0.88666667 0.88666667\n",
      " 0.86666667 0.88       0.82       0.94666667 0.94666667 0.95333333\n",
      " 0.96666667        nan 0.94       0.94       0.94666667 0.96666667\n",
      " 0.96       0.97333333 0.97333333 0.98       0.98              nan\n",
      " 0.94666667 0.94666667 0.96       0.96       0.96       0.97333333\n",
      " 0.97333333 0.98       0.98              nan 0.94666667 0.94666667\n",
      " 0.96666667 0.96       0.96666667 0.97333333 0.97333333 0.98\n",
      " 0.98              nan 0.96       0.96       0.96666667 0.96\n",
      " 0.96666667 0.97333333 0.98       0.98       0.98              nan]\n",
      "  warnings.warn(\n",
      "C:\\Users\\user\\anaconda3\\Lib\\site-packages\\sklearn\\linear_model\\_sag.py:350: ConvergenceWarning: The max_iter was reached which means the coef_ did not converge\n",
      "  warnings.warn(\n"
     ]
    }
   ],
   "source": [
    "from sklearn.model_selection import GridSearchCV\n",
    "\n",
    "model = LogisticRegression()\n",
    "params = {\n",
    "    'C':[0.01, 0.1, 1, 3, 5, 10],\n",
    "    'solver':['newton-cg','lbfgs','sag','saga','liblinear'],\n",
    "    'multi_class':['ovr','multinomial']\n",
    "}\n",
    "# n_jobs - 코어 사용 개수 지정. (default= 1)  -1 = 모두 사용\n",
    "gs = GridSearchCV(model, params, cv=5, scoring='accuracy', n_jobs=-1)  # cv = 교차 검증 폴딩 수\n",
    "gs.fit(x,y)   # 교차 검증 (전체 데이터)\n",
    "print('최적 파라메터:', gs.best_params_)\n",
    "print('최적 정확도:', gs.best_score_)"
   ]
  },
  {
   "cell_type": "markdown",
   "id": "811093d2-1b22-4756-96b8-ea4076d01b1e",
   "metadata": {},
   "source": [
    "## 최적 파라메터를 이용한 모델 평가"
   ]
  },
  {
   "cell_type": "code",
   "execution_count": 22,
   "id": "2d0a78b0-3a73-41f3-82a3-0c187aeb1e4c",
   "metadata": {},
   "outputs": [
    {
     "name": "stdout",
     "output_type": "stream",
     "text": [
      "정확도:1.000\n",
      "AUC 1.0\n"
     ]
    }
   ],
   "source": [
    "y_hat = gs.best_estimator_.predict(x_test)\n",
    "print(f'정확도:{accuracy_score(y_test, y_hat):.3f}')\n",
    "auc = roc_auc_score(y_test, gs.best_estimator_.predict_proba(x_test), multi_class='ovr')\n",
    "print('AUC', auc)"
   ]
  },
  {
   "cell_type": "code",
   "execution_count": null,
   "id": "69692a3c-2b97-430d-b579-87c2b076afda",
   "metadata": {},
   "outputs": [],
   "source": []
  }
 ],
 "metadata": {
  "kernelspec": {
   "display_name": "Python 3 (ipykernel)",
   "language": "python",
   "name": "python3"
  },
  "language_info": {
   "codemirror_mode": {
    "name": "ipython",
    "version": 3
   },
   "file_extension": ".py",
   "mimetype": "text/x-python",
   "name": "python",
   "nbconvert_exporter": "python",
   "pygments_lexer": "ipython3",
   "version": "3.11.7"
  }
 },
 "nbformat": 4,
 "nbformat_minor": 5
}
